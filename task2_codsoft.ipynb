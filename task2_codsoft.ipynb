{
 "cells": [
  {
   "cell_type": "code",
   "execution_count": 1,
   "id": "62c4e38b-9c4a-46b5-9c0d-39519ba01d01",
   "metadata": {},
   "outputs": [],
   "source": [
    "#libraries\n",
    "import pandas as pd\n",
    "import numpy as np\n",
    "import seaborn as sns\n",
    "import matplotlib.pyplot as plt"
   ]
  },
  {
   "cell_type": "code",
   "execution_count": 6,
   "id": "58c61d96-f15c-459f-9ad0-5551d2479f42",
   "metadata": {},
   "outputs": [
    {
     "data": {
      "text/html": [
       "<div>\n",
       "<style scoped>\n",
       "    .dataframe tbody tr th:only-of-type {\n",
       "        vertical-align: middle;\n",
       "    }\n",
       "\n",
       "    .dataframe tbody tr th {\n",
       "        vertical-align: top;\n",
       "    }\n",
       "\n",
       "    .dataframe thead th {\n",
       "        text-align: right;\n",
       "    }\n",
       "</style>\n",
       "<table border=\"1\" class=\"dataframe\">\n",
       "  <thead>\n",
       "    <tr style=\"text-align: right;\">\n",
       "      <th></th>\n",
       "      <th>Name</th>\n",
       "      <th>Year</th>\n",
       "      <th>Duration</th>\n",
       "      <th>Genre</th>\n",
       "      <th>Rating</th>\n",
       "      <th>Votes</th>\n",
       "      <th>Director</th>\n",
       "      <th>Actor 1</th>\n",
       "      <th>Actor 2</th>\n",
       "      <th>Actor 3</th>\n",
       "    </tr>\n",
       "  </thead>\n",
       "  <tbody>\n",
       "    <tr>\n",
       "      <th>0</th>\n",
       "      <td></td>\n",
       "      <td>NaN</td>\n",
       "      <td>NaN</td>\n",
       "      <td>Drama</td>\n",
       "      <td>NaN</td>\n",
       "      <td>NaN</td>\n",
       "      <td>J.S. Randhawa</td>\n",
       "      <td>Manmauji</td>\n",
       "      <td>Birbal</td>\n",
       "      <td>Rajendra Bhatia</td>\n",
       "    </tr>\n",
       "    <tr>\n",
       "      <th>1</th>\n",
       "      <td>#Gadhvi (He thought he was Gandhi)</td>\n",
       "      <td>(2019)</td>\n",
       "      <td>109 min</td>\n",
       "      <td>Drama</td>\n",
       "      <td>7.0</td>\n",
       "      <td>8</td>\n",
       "      <td>Gaurav Bakshi</td>\n",
       "      <td>Rasika Dugal</td>\n",
       "      <td>Vivek Ghamande</td>\n",
       "      <td>Arvind Jangid</td>\n",
       "    </tr>\n",
       "    <tr>\n",
       "      <th>2</th>\n",
       "      <td>#Homecoming</td>\n",
       "      <td>(2021)</td>\n",
       "      <td>90 min</td>\n",
       "      <td>Drama, Musical</td>\n",
       "      <td>NaN</td>\n",
       "      <td>NaN</td>\n",
       "      <td>Soumyajit Majumdar</td>\n",
       "      <td>Sayani Gupta</td>\n",
       "      <td>Plabita Borthakur</td>\n",
       "      <td>Roy Angana</td>\n",
       "    </tr>\n",
       "    <tr>\n",
       "      <th>3</th>\n",
       "      <td>#Yaaram</td>\n",
       "      <td>(2019)</td>\n",
       "      <td>110 min</td>\n",
       "      <td>Comedy, Romance</td>\n",
       "      <td>4.4</td>\n",
       "      <td>35</td>\n",
       "      <td>Ovais Khan</td>\n",
       "      <td>Prateik</td>\n",
       "      <td>Ishita Raj</td>\n",
       "      <td>Siddhant Kapoor</td>\n",
       "    </tr>\n",
       "    <tr>\n",
       "      <th>4</th>\n",
       "      <td>...And Once Again</td>\n",
       "      <td>(2010)</td>\n",
       "      <td>105 min</td>\n",
       "      <td>Drama</td>\n",
       "      <td>NaN</td>\n",
       "      <td>NaN</td>\n",
       "      <td>Amol Palekar</td>\n",
       "      <td>Rajat Kapoor</td>\n",
       "      <td>Rituparna Sengupta</td>\n",
       "      <td>Antara Mali</td>\n",
       "    </tr>\n",
       "    <tr>\n",
       "      <th>...</th>\n",
       "      <td>...</td>\n",
       "      <td>...</td>\n",
       "      <td>...</td>\n",
       "      <td>...</td>\n",
       "      <td>...</td>\n",
       "      <td>...</td>\n",
       "      <td>...</td>\n",
       "      <td>...</td>\n",
       "      <td>...</td>\n",
       "      <td>...</td>\n",
       "    </tr>\n",
       "    <tr>\n",
       "      <th>15504</th>\n",
       "      <td>Zulm Ko Jala Doonga</td>\n",
       "      <td>(1988)</td>\n",
       "      <td>NaN</td>\n",
       "      <td>Action</td>\n",
       "      <td>4.6</td>\n",
       "      <td>11</td>\n",
       "      <td>Mahendra Shah</td>\n",
       "      <td>Naseeruddin Shah</td>\n",
       "      <td>Sumeet Saigal</td>\n",
       "      <td>Suparna Anand</td>\n",
       "    </tr>\n",
       "    <tr>\n",
       "      <th>15505</th>\n",
       "      <td>Zulmi</td>\n",
       "      <td>(1999)</td>\n",
       "      <td>129 min</td>\n",
       "      <td>Action, Drama</td>\n",
       "      <td>4.5</td>\n",
       "      <td>655</td>\n",
       "      <td>Kuku Kohli</td>\n",
       "      <td>Akshay Kumar</td>\n",
       "      <td>Twinkle Khanna</td>\n",
       "      <td>Aruna Irani</td>\n",
       "    </tr>\n",
       "    <tr>\n",
       "      <th>15506</th>\n",
       "      <td>Zulmi Raj</td>\n",
       "      <td>(2005)</td>\n",
       "      <td>NaN</td>\n",
       "      <td>Action</td>\n",
       "      <td>NaN</td>\n",
       "      <td>NaN</td>\n",
       "      <td>Kiran Thej</td>\n",
       "      <td>Sangeeta Tiwari</td>\n",
       "      <td>NaN</td>\n",
       "      <td>NaN</td>\n",
       "    </tr>\n",
       "    <tr>\n",
       "      <th>15507</th>\n",
       "      <td>Zulmi Shikari</td>\n",
       "      <td>(1988)</td>\n",
       "      <td>NaN</td>\n",
       "      <td>Action</td>\n",
       "      <td>NaN</td>\n",
       "      <td>NaN</td>\n",
       "      <td>NaN</td>\n",
       "      <td>NaN</td>\n",
       "      <td>NaN</td>\n",
       "      <td>NaN</td>\n",
       "    </tr>\n",
       "    <tr>\n",
       "      <th>15508</th>\n",
       "      <td>Zulm-O-Sitam</td>\n",
       "      <td>(1998)</td>\n",
       "      <td>130 min</td>\n",
       "      <td>Action, Drama</td>\n",
       "      <td>6.2</td>\n",
       "      <td>20</td>\n",
       "      <td>K.C. Bokadia</td>\n",
       "      <td>Dharmendra</td>\n",
       "      <td>Jaya Prada</td>\n",
       "      <td>Arjun Sarja</td>\n",
       "    </tr>\n",
       "  </tbody>\n",
       "</table>\n",
       "<p>15509 rows × 10 columns</p>\n",
       "</div>"
      ],
      "text/plain": [
       "                                     Name    Year Duration            Genre  \\\n",
       "0                                             NaN      NaN            Drama   \n",
       "1      #Gadhvi (He thought he was Gandhi)  (2019)  109 min            Drama   \n",
       "2                             #Homecoming  (2021)   90 min   Drama, Musical   \n",
       "3                                 #Yaaram  (2019)  110 min  Comedy, Romance   \n",
       "4                       ...And Once Again  (2010)  105 min            Drama   \n",
       "...                                   ...     ...      ...              ...   \n",
       "15504                 Zulm Ko Jala Doonga  (1988)      NaN           Action   \n",
       "15505                               Zulmi  (1999)  129 min    Action, Drama   \n",
       "15506                           Zulmi Raj  (2005)      NaN           Action   \n",
       "15507                       Zulmi Shikari  (1988)      NaN           Action   \n",
       "15508                        Zulm-O-Sitam  (1998)  130 min    Action, Drama   \n",
       "\n",
       "       Rating Votes            Director           Actor 1             Actor 2  \\\n",
       "0         NaN   NaN       J.S. Randhawa          Manmauji              Birbal   \n",
       "1         7.0     8       Gaurav Bakshi      Rasika Dugal      Vivek Ghamande   \n",
       "2         NaN   NaN  Soumyajit Majumdar      Sayani Gupta   Plabita Borthakur   \n",
       "3         4.4    35          Ovais Khan           Prateik          Ishita Raj   \n",
       "4         NaN   NaN        Amol Palekar      Rajat Kapoor  Rituparna Sengupta   \n",
       "...       ...   ...                 ...               ...                 ...   \n",
       "15504     4.6    11       Mahendra Shah  Naseeruddin Shah       Sumeet Saigal   \n",
       "15505     4.5   655          Kuku Kohli      Akshay Kumar      Twinkle Khanna   \n",
       "15506     NaN   NaN          Kiran Thej   Sangeeta Tiwari                 NaN   \n",
       "15507     NaN   NaN                 NaN               NaN                 NaN   \n",
       "15508     6.2    20        K.C. Bokadia        Dharmendra          Jaya Prada   \n",
       "\n",
       "               Actor 3  \n",
       "0      Rajendra Bhatia  \n",
       "1        Arvind Jangid  \n",
       "2           Roy Angana  \n",
       "3      Siddhant Kapoor  \n",
       "4          Antara Mali  \n",
       "...                ...  \n",
       "15504    Suparna Anand  \n",
       "15505      Aruna Irani  \n",
       "15506              NaN  \n",
       "15507              NaN  \n",
       "15508      Arjun Sarja  \n",
       "\n",
       "[15509 rows x 10 columns]"
      ]
     },
     "execution_count": 6,
     "metadata": {},
     "output_type": "execute_result"
    }
   ],
   "source": [
    "movie_data = pd.read_csv(r\"C:\\Users\\user\\Downloads\\archive (4).zip\", encoding=\"latin1\")\n",
    "movie_data"
   ]
  },
  {
   "cell_type": "code",
   "execution_count": 8,
   "id": "9f7c2f94-49a9-4cdc-9cd6-e1ccbe8f20cd",
   "metadata": {},
   "outputs": [
    {
     "data": {
      "text/html": [
       "<div>\n",
       "<style scoped>\n",
       "    .dataframe tbody tr th:only-of-type {\n",
       "        vertical-align: middle;\n",
       "    }\n",
       "\n",
       "    .dataframe tbody tr th {\n",
       "        vertical-align: top;\n",
       "    }\n",
       "\n",
       "    .dataframe thead th {\n",
       "        text-align: right;\n",
       "    }\n",
       "</style>\n",
       "<table border=\"1\" class=\"dataframe\">\n",
       "  <thead>\n",
       "    <tr style=\"text-align: right;\">\n",
       "      <th></th>\n",
       "      <th>Name</th>\n",
       "      <th>Year</th>\n",
       "      <th>Duration</th>\n",
       "      <th>Genre</th>\n",
       "      <th>Rating</th>\n",
       "      <th>Votes</th>\n",
       "      <th>Director</th>\n",
       "      <th>Actor 1</th>\n",
       "      <th>Actor 2</th>\n",
       "      <th>Actor 3</th>\n",
       "    </tr>\n",
       "  </thead>\n",
       "  <tbody>\n",
       "    <tr>\n",
       "      <th>0</th>\n",
       "      <td></td>\n",
       "      <td>NaN</td>\n",
       "      <td>NaN</td>\n",
       "      <td>Drama</td>\n",
       "      <td>NaN</td>\n",
       "      <td>NaN</td>\n",
       "      <td>J.S. Randhawa</td>\n",
       "      <td>Manmauji</td>\n",
       "      <td>Birbal</td>\n",
       "      <td>Rajendra Bhatia</td>\n",
       "    </tr>\n",
       "    <tr>\n",
       "      <th>1</th>\n",
       "      <td>#Gadhvi (He thought he was Gandhi)</td>\n",
       "      <td>(2019)</td>\n",
       "      <td>109 min</td>\n",
       "      <td>Drama</td>\n",
       "      <td>7.0</td>\n",
       "      <td>8</td>\n",
       "      <td>Gaurav Bakshi</td>\n",
       "      <td>Rasika Dugal</td>\n",
       "      <td>Vivek Ghamande</td>\n",
       "      <td>Arvind Jangid</td>\n",
       "    </tr>\n",
       "    <tr>\n",
       "      <th>2</th>\n",
       "      <td>#Homecoming</td>\n",
       "      <td>(2021)</td>\n",
       "      <td>90 min</td>\n",
       "      <td>Drama, Musical</td>\n",
       "      <td>NaN</td>\n",
       "      <td>NaN</td>\n",
       "      <td>Soumyajit Majumdar</td>\n",
       "      <td>Sayani Gupta</td>\n",
       "      <td>Plabita Borthakur</td>\n",
       "      <td>Roy Angana</td>\n",
       "    </tr>\n",
       "    <tr>\n",
       "      <th>3</th>\n",
       "      <td>#Yaaram</td>\n",
       "      <td>(2019)</td>\n",
       "      <td>110 min</td>\n",
       "      <td>Comedy, Romance</td>\n",
       "      <td>4.4</td>\n",
       "      <td>35</td>\n",
       "      <td>Ovais Khan</td>\n",
       "      <td>Prateik</td>\n",
       "      <td>Ishita Raj</td>\n",
       "      <td>Siddhant Kapoor</td>\n",
       "    </tr>\n",
       "    <tr>\n",
       "      <th>4</th>\n",
       "      <td>...And Once Again</td>\n",
       "      <td>(2010)</td>\n",
       "      <td>105 min</td>\n",
       "      <td>Drama</td>\n",
       "      <td>NaN</td>\n",
       "      <td>NaN</td>\n",
       "      <td>Amol Palekar</td>\n",
       "      <td>Rajat Kapoor</td>\n",
       "      <td>Rituparna Sengupta</td>\n",
       "      <td>Antara Mali</td>\n",
       "    </tr>\n",
       "  </tbody>\n",
       "</table>\n",
       "</div>"
      ],
      "text/plain": [
       "                                 Name    Year Duration            Genre  \\\n",
       "0                                         NaN      NaN            Drama   \n",
       "1  #Gadhvi (He thought he was Gandhi)  (2019)  109 min            Drama   \n",
       "2                         #Homecoming  (2021)   90 min   Drama, Musical   \n",
       "3                             #Yaaram  (2019)  110 min  Comedy, Romance   \n",
       "4                   ...And Once Again  (2010)  105 min            Drama   \n",
       "\n",
       "   Rating Votes            Director       Actor 1             Actor 2  \\\n",
       "0     NaN   NaN       J.S. Randhawa      Manmauji              Birbal   \n",
       "1     7.0     8       Gaurav Bakshi  Rasika Dugal      Vivek Ghamande   \n",
       "2     NaN   NaN  Soumyajit Majumdar  Sayani Gupta   Plabita Borthakur   \n",
       "3     4.4    35          Ovais Khan       Prateik          Ishita Raj   \n",
       "4     NaN   NaN        Amol Palekar  Rajat Kapoor  Rituparna Sengupta   \n",
       "\n",
       "           Actor 3  \n",
       "0  Rajendra Bhatia  \n",
       "1    Arvind Jangid  \n",
       "2       Roy Angana  \n",
       "3  Siddhant Kapoor  \n",
       "4      Antara Mali  "
      ]
     },
     "execution_count": 8,
     "metadata": {},
     "output_type": "execute_result"
    }
   ],
   "source": [
    "movie_data.head()\n"
   ]
  },
  {
   "cell_type": "code",
   "execution_count": 9,
   "id": "6e6b2dac-04f9-4662-95e1-99390f094975",
   "metadata": {},
   "outputs": [
    {
     "name": "stdout",
     "output_type": "stream",
     "text": [
      "<class 'pandas.core.frame.DataFrame'>\n",
      "RangeIndex: 15509 entries, 0 to 15508\n",
      "Data columns (total 10 columns):\n",
      " #   Column    Non-Null Count  Dtype  \n",
      "---  ------    --------------  -----  \n",
      " 0   Name      15509 non-null  object \n",
      " 1   Year      14981 non-null  object \n",
      " 2   Duration  7240 non-null   object \n",
      " 3   Genre     13632 non-null  object \n",
      " 4   Rating    7919 non-null   float64\n",
      " 5   Votes     7920 non-null   object \n",
      " 6   Director  14984 non-null  object \n",
      " 7   Actor 1   13892 non-null  object \n",
      " 8   Actor 2   13125 non-null  object \n",
      " 9   Actor 3   12365 non-null  object \n",
      "dtypes: float64(1), object(9)\n",
      "memory usage: 1.2+ MB\n"
     ]
    }
   ],
   "source": [
    "movie_data.info()"
   ]
  },
  {
   "cell_type": "code",
   "execution_count": 10,
   "id": "eb461819-c671-4a8a-84f6-61ca586acdd9",
   "metadata": {},
   "outputs": [
    {
     "data": {
      "text/html": [
       "<div>\n",
       "<style scoped>\n",
       "    .dataframe tbody tr th:only-of-type {\n",
       "        vertical-align: middle;\n",
       "    }\n",
       "\n",
       "    .dataframe tbody tr th {\n",
       "        vertical-align: top;\n",
       "    }\n",
       "\n",
       "    .dataframe thead th {\n",
       "        text-align: right;\n",
       "    }\n",
       "</style>\n",
       "<table border=\"1\" class=\"dataframe\">\n",
       "  <thead>\n",
       "    <tr style=\"text-align: right;\">\n",
       "      <th></th>\n",
       "      <th>Rating</th>\n",
       "    </tr>\n",
       "  </thead>\n",
       "  <tbody>\n",
       "    <tr>\n",
       "      <th>count</th>\n",
       "      <td>7919.000000</td>\n",
       "    </tr>\n",
       "    <tr>\n",
       "      <th>mean</th>\n",
       "      <td>5.841621</td>\n",
       "    </tr>\n",
       "    <tr>\n",
       "      <th>std</th>\n",
       "      <td>1.381777</td>\n",
       "    </tr>\n",
       "    <tr>\n",
       "      <th>min</th>\n",
       "      <td>1.100000</td>\n",
       "    </tr>\n",
       "    <tr>\n",
       "      <th>25%</th>\n",
       "      <td>4.900000</td>\n",
       "    </tr>\n",
       "    <tr>\n",
       "      <th>50%</th>\n",
       "      <td>6.000000</td>\n",
       "    </tr>\n",
       "    <tr>\n",
       "      <th>75%</th>\n",
       "      <td>6.800000</td>\n",
       "    </tr>\n",
       "    <tr>\n",
       "      <th>max</th>\n",
       "      <td>10.000000</td>\n",
       "    </tr>\n",
       "  </tbody>\n",
       "</table>\n",
       "</div>"
      ],
      "text/plain": [
       "            Rating\n",
       "count  7919.000000\n",
       "mean      5.841621\n",
       "std       1.381777\n",
       "min       1.100000\n",
       "25%       4.900000\n",
       "50%       6.000000\n",
       "75%       6.800000\n",
       "max      10.000000"
      ]
     },
     "execution_count": 10,
     "metadata": {},
     "output_type": "execute_result"
    }
   ],
   "source": [
    "movie_data.describe()"
   ]
  },
  {
   "cell_type": "code",
   "execution_count": 11,
   "id": "56693de6-3837-4739-9708-99219672163d",
   "metadata": {},
   "outputs": [
    {
     "data": {
      "text/plain": [
       "Name           0\n",
       "Year         528\n",
       "Duration    8269\n",
       "Genre       1877\n",
       "Rating      7590\n",
       "Votes       7589\n",
       "Director     525\n",
       "Actor 1     1617\n",
       "Actor 2     2384\n",
       "Actor 3     3144\n",
       "dtype: int64"
      ]
     },
     "execution_count": 11,
     "metadata": {},
     "output_type": "execute_result"
    }
   ],
   "source": [
    "movie_data.isnull().sum()"
   ]
  },
  {
   "cell_type": "code",
   "execution_count": 14,
   "id": "56ec0a7a-bfcc-485d-8c96-f0bc6c7d4b8a",
   "metadata": {},
   "outputs": [
    {
     "data": {
      "text/plain": [
       "Name           0\n",
       "Year           0\n",
       "Duration    2068\n",
       "Genre        102\n",
       "Rating         0\n",
       "Votes          0\n",
       "Director       5\n",
       "Actor 1      125\n",
       "Actor 2      200\n",
       "Actor 3      292\n",
       "dtype: int64"
      ]
     },
     "execution_count": 14,
     "metadata": {},
     "output_type": "execute_result"
    }
   ],
   "source": [
    "movie_data.dropna(subset=[\"Rating\"], inplace=True)\n",
    "movie_data.isnull().sum()"
   ]
  },
  {
   "cell_type": "code",
   "execution_count": 18,
   "id": "4789d070-54b4-4c99-9799-94a7a5d1f31c",
   "metadata": {},
   "outputs": [
    {
     "data": {
      "text/plain": [
       "Name           0\n",
       "Year           0\n",
       "Duration    1899\n",
       "Genre          0\n",
       "Rating         0\n",
       "Votes          0\n",
       "Director       0\n",
       "Actor 1        0\n",
       "Actor 2        0\n",
       "Actor 3        0\n",
       "dtype: int64"
      ]
     },
     "execution_count": 18,
     "metadata": {},
     "output_type": "execute_result"
    }
   ],
   "source": [
    "movie_data.dropna(subset=['Actor 1', 'Actor 2', 'Actor 3', 'Director', 'Genre'], inplace=True)\n",
    "movie_data.isnull().sum()"
   ]
  },
  {
   "cell_type": "code",
   "execution_count": 19,
   "id": "39491a74-14cb-48a5-b795-bf9bcbbbaa1e",
   "metadata": {},
   "outputs": [
    {
     "data": {
      "text/html": [
       "<div>\n",
       "<style scoped>\n",
       "    .dataframe tbody tr th:only-of-type {\n",
       "        vertical-align: middle;\n",
       "    }\n",
       "\n",
       "    .dataframe tbody tr th {\n",
       "        vertical-align: top;\n",
       "    }\n",
       "\n",
       "    .dataframe thead th {\n",
       "        text-align: right;\n",
       "    }\n",
       "</style>\n",
       "<table border=\"1\" class=\"dataframe\">\n",
       "  <thead>\n",
       "    <tr style=\"text-align: right;\">\n",
       "      <th></th>\n",
       "      <th>Name</th>\n",
       "      <th>Year</th>\n",
       "      <th>Duration</th>\n",
       "      <th>Genre</th>\n",
       "      <th>Rating</th>\n",
       "      <th>Votes</th>\n",
       "      <th>Director</th>\n",
       "      <th>Actor 1</th>\n",
       "      <th>Actor 2</th>\n",
       "      <th>Actor 3</th>\n",
       "    </tr>\n",
       "  </thead>\n",
       "  <tbody>\n",
       "    <tr>\n",
       "      <th>1</th>\n",
       "      <td>#Gadhvi (He thought he was Gandhi)</td>\n",
       "      <td>(2019)</td>\n",
       "      <td>109 min</td>\n",
       "      <td>Drama</td>\n",
       "      <td>7.0</td>\n",
       "      <td>8</td>\n",
       "      <td>Gaurav Bakshi</td>\n",
       "      <td>Rasika Dugal</td>\n",
       "      <td>Vivek Ghamande</td>\n",
       "      <td>Arvind Jangid</td>\n",
       "    </tr>\n",
       "    <tr>\n",
       "      <th>3</th>\n",
       "      <td>#Yaaram</td>\n",
       "      <td>(2019)</td>\n",
       "      <td>110 min</td>\n",
       "      <td>Comedy, Romance</td>\n",
       "      <td>4.4</td>\n",
       "      <td>35</td>\n",
       "      <td>Ovais Khan</td>\n",
       "      <td>Prateik</td>\n",
       "      <td>Ishita Raj</td>\n",
       "      <td>Siddhant Kapoor</td>\n",
       "    </tr>\n",
       "    <tr>\n",
       "      <th>5</th>\n",
       "      <td>...Aur Pyaar Ho Gaya</td>\n",
       "      <td>(1997)</td>\n",
       "      <td>147 min</td>\n",
       "      <td>Comedy, Drama, Musical</td>\n",
       "      <td>4.7</td>\n",
       "      <td>827</td>\n",
       "      <td>Rahul Rawail</td>\n",
       "      <td>Bobby Deol</td>\n",
       "      <td>Aishwarya Rai Bachchan</td>\n",
       "      <td>Shammi Kapoor</td>\n",
       "    </tr>\n",
       "    <tr>\n",
       "      <th>6</th>\n",
       "      <td>...Yahaan</td>\n",
       "      <td>(2005)</td>\n",
       "      <td>142 min</td>\n",
       "      <td>Drama, Romance, War</td>\n",
       "      <td>7.4</td>\n",
       "      <td>1,086</td>\n",
       "      <td>Shoojit Sircar</td>\n",
       "      <td>Jimmy Sheirgill</td>\n",
       "      <td>Minissha Lamba</td>\n",
       "      <td>Yashpal Sharma</td>\n",
       "    </tr>\n",
       "    <tr>\n",
       "      <th>8</th>\n",
       "      <td>?: A Question Mark</td>\n",
       "      <td>(2012)</td>\n",
       "      <td>82 min</td>\n",
       "      <td>Horror, Mystery, Thriller</td>\n",
       "      <td>5.6</td>\n",
       "      <td>326</td>\n",
       "      <td>Allyson Patel</td>\n",
       "      <td>Yash Dave</td>\n",
       "      <td>Muntazir Ahmad</td>\n",
       "      <td>Kiran Bhatia</td>\n",
       "    </tr>\n",
       "  </tbody>\n",
       "</table>\n",
       "</div>"
      ],
      "text/plain": [
       "                                 Name    Year Duration  \\\n",
       "1  #Gadhvi (He thought he was Gandhi)  (2019)  109 min   \n",
       "3                             #Yaaram  (2019)  110 min   \n",
       "5                ...Aur Pyaar Ho Gaya  (1997)  147 min   \n",
       "6                           ...Yahaan  (2005)  142 min   \n",
       "8                  ?: A Question Mark  (2012)   82 min   \n",
       "\n",
       "                       Genre  Rating  Votes        Director          Actor 1  \\\n",
       "1                      Drama     7.0      8   Gaurav Bakshi     Rasika Dugal   \n",
       "3            Comedy, Romance     4.4     35      Ovais Khan          Prateik   \n",
       "5     Comedy, Drama, Musical     4.7    827    Rahul Rawail       Bobby Deol   \n",
       "6        Drama, Romance, War     7.4  1,086  Shoojit Sircar  Jimmy Sheirgill   \n",
       "8  Horror, Mystery, Thriller     5.6    326   Allyson Patel        Yash Dave   \n",
       "\n",
       "                  Actor 2          Actor 3  \n",
       "1          Vivek Ghamande    Arvind Jangid  \n",
       "3              Ishita Raj  Siddhant Kapoor  \n",
       "5  Aishwarya Rai Bachchan    Shammi Kapoor  \n",
       "6          Minissha Lamba   Yashpal Sharma  \n",
       "8          Muntazir Ahmad     Kiran Bhatia  "
      ]
     },
     "execution_count": 19,
     "metadata": {},
     "output_type": "execute_result"
    }
   ],
   "source": [
    "movie_data.head()"
   ]
  },
  {
   "cell_type": "code",
   "execution_count": 33,
   "id": "8d827126-4a9f-4529-8dce-813e404f1a7a",
   "metadata": {},
   "outputs": [],
   "source": [
    "movie_data['Votes'] = movie_data['Votes'].astype(str).str.replace(',', '').astype(int)"
   ]
  },
  {
   "cell_type": "code",
   "execution_count": 34,
   "id": "90cc530d-67d2-45a7-bdbb-96958578d333",
   "metadata": {},
   "outputs": [],
   "source": [
    "movie_data['Year'] = movie_data['Year'].astype(str).str.strip('()').astype(int)"
   ]
  },
  {
   "cell_type": "code",
   "execution_count": 35,
   "id": "32c6f844-c6fb-4bfb-abcd-75d50770bfaa",
   "metadata": {},
   "outputs": [],
   "source": [
    "movie_data['Duration'] = movie_data['Duration'].astype(str).str.strip('min')"
   ]
  },
  {
   "cell_type": "code",
   "execution_count": 38,
   "id": "614fc0dc-3616-424f-858a-04e946e03bde",
   "metadata": {},
   "outputs": [
    {
     "name": "stderr",
     "output_type": "stream",
     "text": [
      "C:\\Users\\user\\AppData\\Local\\Temp\\ipykernel_13352\\976901935.py:2: FutureWarning: A value is trying to be set on a copy of a DataFrame or Series through chained assignment using an inplace method.\n",
      "The behavior will change in pandas 3.0. This inplace method will never work because the intermediate object on which we are setting values always behaves as a copy.\n",
      "\n",
      "For example, when doing 'df[col].method(value, inplace=True)', try using 'df.method({col: value}, inplace=True)' or df[col] = df[col].method(value) instead, to perform the operation inplace on the original object.\n",
      "\n",
      "\n",
      "  movie_data['Duration'].fillna(movie_data['Duration'].median(), inplace=True)\n"
     ]
    }
   ],
   "source": [
    "movie_data['Duration'] = pd.to_numeric(movie_data['Duration'], errors='coerce')  # Convert \n",
    "movie_data['Duration'].fillna(movie_data['Duration'].median(), inplace=True)"
   ]
  },
  {
   "cell_type": "code",
   "execution_count": 39,
   "id": "04130056-14f5-4581-8c36-6df57915b27f",
   "metadata": {},
   "outputs": [
    {
     "data": {
      "text/plain": [
       "Name        0\n",
       "Year        0\n",
       "Duration    0\n",
       "Genre       0\n",
       "Rating      0\n",
       "Votes       0\n",
       "Director    0\n",
       "Actor 1     0\n",
       "Actor 2     0\n",
       "Actor 3     0\n",
       "dtype: int64"
      ]
     },
     "execution_count": 39,
     "metadata": {},
     "output_type": "execute_result"
    }
   ],
   "source": [
    "movie_data.isnull().sum()"
   ]
  },
  {
   "cell_type": "code",
   "execution_count": 40,
   "id": "598f4bd2-5f84-42ea-896d-a5e7e67a969a",
   "metadata": {},
   "outputs": [
    {
     "name": "stdout",
     "output_type": "stream",
     "text": [
      "<class 'pandas.core.frame.DataFrame'>\n",
      "Index: 7558 entries, 1 to 15508\n",
      "Data columns (total 10 columns):\n",
      " #   Column    Non-Null Count  Dtype  \n",
      "---  ------    --------------  -----  \n",
      " 0   Name      7558 non-null   object \n",
      " 1   Year      7558 non-null   int64  \n",
      " 2   Duration  7558 non-null   float64\n",
      " 3   Genre     7558 non-null   object \n",
      " 4   Rating    7558 non-null   float64\n",
      " 5   Votes     7558 non-null   int64  \n",
      " 6   Director  7558 non-null   object \n",
      " 7   Actor 1   7558 non-null   object \n",
      " 8   Actor 2   7558 non-null   object \n",
      " 9   Actor 3   7558 non-null   object \n",
      "dtypes: float64(2), int64(2), object(6)\n",
      "memory usage: 649.5+ KB\n"
     ]
    }
   ],
   "source": [
    "movie_data.info()"
   ]
  },
  {
   "cell_type": "code",
   "execution_count": 41,
   "id": "0c854db2-92e5-4c6e-baf8-1981ba84d57e",
   "metadata": {},
   "outputs": [
    {
     "data": {
      "text/html": [
       "<div>\n",
       "<style scoped>\n",
       "    .dataframe tbody tr th:only-of-type {\n",
       "        vertical-align: middle;\n",
       "    }\n",
       "\n",
       "    .dataframe tbody tr th {\n",
       "        vertical-align: top;\n",
       "    }\n",
       "\n",
       "    .dataframe thead th {\n",
       "        text-align: right;\n",
       "    }\n",
       "</style>\n",
       "<table border=\"1\" class=\"dataframe\">\n",
       "  <thead>\n",
       "    <tr style=\"text-align: right;\">\n",
       "      <th></th>\n",
       "      <th>Name</th>\n",
       "      <th>Year</th>\n",
       "      <th>Duration</th>\n",
       "      <th>Genre</th>\n",
       "      <th>Rating</th>\n",
       "      <th>Votes</th>\n",
       "      <th>Director</th>\n",
       "      <th>Actor 1</th>\n",
       "      <th>Actor 2</th>\n",
       "      <th>Actor 3</th>\n",
       "    </tr>\n",
       "  </thead>\n",
       "  <tbody>\n",
       "    <tr>\n",
       "      <th>1</th>\n",
       "      <td>#Gadhvi (He thought he was Gandhi)</td>\n",
       "      <td>2019</td>\n",
       "      <td>109.0</td>\n",
       "      <td>Drama</td>\n",
       "      <td>7.0</td>\n",
       "      <td>8</td>\n",
       "      <td>Gaurav Bakshi</td>\n",
       "      <td>Rasika Dugal</td>\n",
       "      <td>Vivek Ghamande</td>\n",
       "      <td>Arvind Jangid</td>\n",
       "    </tr>\n",
       "    <tr>\n",
       "      <th>3</th>\n",
       "      <td>#Yaaram</td>\n",
       "      <td>2019</td>\n",
       "      <td>110.0</td>\n",
       "      <td>Comedy, Romance</td>\n",
       "      <td>4.4</td>\n",
       "      <td>35</td>\n",
       "      <td>Ovais Khan</td>\n",
       "      <td>Prateik</td>\n",
       "      <td>Ishita Raj</td>\n",
       "      <td>Siddhant Kapoor</td>\n",
       "    </tr>\n",
       "    <tr>\n",
       "      <th>5</th>\n",
       "      <td>...Aur Pyaar Ho Gaya</td>\n",
       "      <td>1997</td>\n",
       "      <td>147.0</td>\n",
       "      <td>Comedy, Drama, Musical</td>\n",
       "      <td>4.7</td>\n",
       "      <td>827</td>\n",
       "      <td>Rahul Rawail</td>\n",
       "      <td>Bobby Deol</td>\n",
       "      <td>Aishwarya Rai Bachchan</td>\n",
       "      <td>Shammi Kapoor</td>\n",
       "    </tr>\n",
       "    <tr>\n",
       "      <th>6</th>\n",
       "      <td>...Yahaan</td>\n",
       "      <td>2005</td>\n",
       "      <td>142.0</td>\n",
       "      <td>Drama, Romance, War</td>\n",
       "      <td>7.4</td>\n",
       "      <td>1086</td>\n",
       "      <td>Shoojit Sircar</td>\n",
       "      <td>Jimmy Sheirgill</td>\n",
       "      <td>Minissha Lamba</td>\n",
       "      <td>Yashpal Sharma</td>\n",
       "    </tr>\n",
       "    <tr>\n",
       "      <th>8</th>\n",
       "      <td>?: A Question Mark</td>\n",
       "      <td>2012</td>\n",
       "      <td>82.0</td>\n",
       "      <td>Horror, Mystery, Thriller</td>\n",
       "      <td>5.6</td>\n",
       "      <td>326</td>\n",
       "      <td>Allyson Patel</td>\n",
       "      <td>Yash Dave</td>\n",
       "      <td>Muntazir Ahmad</td>\n",
       "      <td>Kiran Bhatia</td>\n",
       "    </tr>\n",
       "  </tbody>\n",
       "</table>\n",
       "</div>"
      ],
      "text/plain": [
       "                                 Name  Year  Duration  \\\n",
       "1  #Gadhvi (He thought he was Gandhi)  2019     109.0   \n",
       "3                             #Yaaram  2019     110.0   \n",
       "5                ...Aur Pyaar Ho Gaya  1997     147.0   \n",
       "6                           ...Yahaan  2005     142.0   \n",
       "8                  ?: A Question Mark  2012      82.0   \n",
       "\n",
       "                       Genre  Rating  Votes        Director          Actor 1  \\\n",
       "1                      Drama     7.0      8   Gaurav Bakshi     Rasika Dugal   \n",
       "3            Comedy, Romance     4.4     35      Ovais Khan          Prateik   \n",
       "5     Comedy, Drama, Musical     4.7    827    Rahul Rawail       Bobby Deol   \n",
       "6        Drama, Romance, War     7.4   1086  Shoojit Sircar  Jimmy Sheirgill   \n",
       "8  Horror, Mystery, Thriller     5.6    326   Allyson Patel        Yash Dave   \n",
       "\n",
       "                  Actor 2          Actor 3  \n",
       "1          Vivek Ghamande    Arvind Jangid  \n",
       "3              Ishita Raj  Siddhant Kapoor  \n",
       "5  Aishwarya Rai Bachchan    Shammi Kapoor  \n",
       "6          Minissha Lamba   Yashpal Sharma  \n",
       "8          Muntazir Ahmad     Kiran Bhatia  "
      ]
     },
     "execution_count": 41,
     "metadata": {},
     "output_type": "execute_result"
    }
   ],
   "source": [
    "movie_data.head()"
   ]
  },
  {
   "cell_type": "code",
   "execution_count": 43,
   "id": "d0f557a7-7607-4f05-876c-e0d1f79b0047",
   "metadata": {},
   "outputs": [
    {
     "data": {
      "text/html": [
       "<div>\n",
       "<style scoped>\n",
       "    .dataframe tbody tr th:only-of-type {\n",
       "        vertical-align: middle;\n",
       "    }\n",
       "\n",
       "    .dataframe tbody tr th {\n",
       "        vertical-align: top;\n",
       "    }\n",
       "\n",
       "    .dataframe thead th {\n",
       "        text-align: right;\n",
       "    }\n",
       "</style>\n",
       "<table border=\"1\" class=\"dataframe\">\n",
       "  <thead>\n",
       "    <tr style=\"text-align: right;\">\n",
       "      <th></th>\n",
       "      <th>Name</th>\n",
       "      <th>Year</th>\n",
       "      <th>Duration</th>\n",
       "      <th>Genre</th>\n",
       "      <th>Rating</th>\n",
       "      <th>Votes</th>\n",
       "      <th>Director</th>\n",
       "      <th>Actor 1</th>\n",
       "      <th>Actor 2</th>\n",
       "      <th>Actor 3</th>\n",
       "    </tr>\n",
       "  </thead>\n",
       "  <tbody>\n",
       "    <tr>\n",
       "      <th>8339</th>\n",
       "      <td>Love Qubool Hai</td>\n",
       "      <td>2020</td>\n",
       "      <td>94.0</td>\n",
       "      <td>Drama, Romance</td>\n",
       "      <td>10.0</td>\n",
       "      <td>5</td>\n",
       "      <td>Saif Ali Sayeed</td>\n",
       "      <td>Ahaan Jha</td>\n",
       "      <td>Mahesh Narayan</td>\n",
       "      <td>Rajasree Rajakumari</td>\n",
       "    </tr>\n",
       "    <tr>\n",
       "      <th>5410</th>\n",
       "      <td>Half Songs</td>\n",
       "      <td>2021</td>\n",
       "      <td>79.0</td>\n",
       "      <td>Music, Romance</td>\n",
       "      <td>9.7</td>\n",
       "      <td>7</td>\n",
       "      <td>Sriram Raja</td>\n",
       "      <td>Raj Banerjee</td>\n",
       "      <td>Emon Chatterjee</td>\n",
       "      <td>Purshottam Mulani</td>\n",
       "    </tr>\n",
       "    <tr>\n",
       "      <th>2563</th>\n",
       "      <td>Breed</td>\n",
       "      <td>2020</td>\n",
       "      <td>135.0</td>\n",
       "      <td>Drama</td>\n",
       "      <td>9.6</td>\n",
       "      <td>48</td>\n",
       "      <td>Bobby Kumar</td>\n",
       "      <td>Bobby Kumar</td>\n",
       "      <td>Ashfaq</td>\n",
       "      <td>Fasih Choudhry</td>\n",
       "    </tr>\n",
       "    <tr>\n",
       "      <th>5077</th>\n",
       "      <td>Gho Gho Rani</td>\n",
       "      <td>2019</td>\n",
       "      <td>105.0</td>\n",
       "      <td>History, Romance</td>\n",
       "      <td>9.4</td>\n",
       "      <td>47</td>\n",
       "      <td>Munni Pankaj</td>\n",
       "      <td>Nishi Neha Mishra</td>\n",
       "      <td>Pankaj Kamal</td>\n",
       "      <td>Akash Kumar</td>\n",
       "    </tr>\n",
       "    <tr>\n",
       "      <th>14222</th>\n",
       "      <td>The Reluctant Crime</td>\n",
       "      <td>2020</td>\n",
       "      <td>113.0</td>\n",
       "      <td>Drama</td>\n",
       "      <td>9.4</td>\n",
       "      <td>16</td>\n",
       "      <td>Arvind Pratap</td>\n",
       "      <td>Dharmendra Ahir</td>\n",
       "      <td>Awanish Kotnal</td>\n",
       "      <td>Rakhi Mansha</td>\n",
       "    </tr>\n",
       "    <tr>\n",
       "      <th>6852</th>\n",
       "      <td>June</td>\n",
       "      <td>2021</td>\n",
       "      <td>93.0</td>\n",
       "      <td>Drama</td>\n",
       "      <td>9.4</td>\n",
       "      <td>18</td>\n",
       "      <td>Suhrud Godbole</td>\n",
       "      <td>Vaibhav Khisti</td>\n",
       "      <td>Nilesh Divekar</td>\n",
       "      <td>Jitendra Joshi</td>\n",
       "    </tr>\n",
       "    <tr>\n",
       "      <th>9105</th>\n",
       "      <td>Meher</td>\n",
       "      <td>2020</td>\n",
       "      <td>135.0</td>\n",
       "      <td>Drama</td>\n",
       "      <td>9.3</td>\n",
       "      <td>27</td>\n",
       "      <td>Rajat Bhardwaj</td>\n",
       "      <td>Amrit</td>\n",
       "      <td>Dimple Chauhan</td>\n",
       "      <td>Sapna Das</td>\n",
       "    </tr>\n",
       "    <tr>\n",
       "      <th>13231</th>\n",
       "      <td>Sindhustan</td>\n",
       "      <td>2019</td>\n",
       "      <td>64.0</td>\n",
       "      <td>Documentary, Family, History</td>\n",
       "      <td>9.3</td>\n",
       "      <td>36</td>\n",
       "      <td>Sapna Bhavnani</td>\n",
       "      <td>Leila Advani</td>\n",
       "      <td>Laj Badlani</td>\n",
       "      <td>Chaho Bhara</td>\n",
       "    </tr>\n",
       "    <tr>\n",
       "      <th>1314</th>\n",
       "      <td>Ashok Vatika</td>\n",
       "      <td>2018</td>\n",
       "      <td>97.0</td>\n",
       "      <td>Drama</td>\n",
       "      <td>9.3</td>\n",
       "      <td>7</td>\n",
       "      <td>Rahul Mallick</td>\n",
       "      <td>Kunj Anand</td>\n",
       "      <td>Sanjay Bishnoi</td>\n",
       "      <td>Paras Zutshi</td>\n",
       "    </tr>\n",
       "    <tr>\n",
       "      <th>1729</th>\n",
       "      <td>Baikunth</td>\n",
       "      <td>2021</td>\n",
       "      <td>72.0</td>\n",
       "      <td>Family</td>\n",
       "      <td>9.3</td>\n",
       "      <td>29</td>\n",
       "      <td>Vishwa Bhanu</td>\n",
       "      <td>Vishwa Bhanu</td>\n",
       "      <td>Sangam Shukla</td>\n",
       "      <td>Vijay Thakur</td>\n",
       "    </tr>\n",
       "  </tbody>\n",
       "</table>\n",
       "</div>"
      ],
      "text/plain": [
       "                      Name  Year  Duration                         Genre  \\\n",
       "8339       Love Qubool Hai  2020      94.0                Drama, Romance   \n",
       "5410            Half Songs  2021      79.0                Music, Romance   \n",
       "2563                 Breed  2020     135.0                         Drama   \n",
       "5077          Gho Gho Rani  2019     105.0              History, Romance   \n",
       "14222  The Reluctant Crime  2020     113.0                         Drama   \n",
       "6852                  June  2021      93.0                         Drama   \n",
       "9105                 Meher  2020     135.0                         Drama   \n",
       "13231           Sindhustan  2019      64.0  Documentary, Family, History   \n",
       "1314          Ashok Vatika  2018      97.0                         Drama   \n",
       "1729              Baikunth  2021      72.0                        Family   \n",
       "\n",
       "       Rating  Votes         Director            Actor 1          Actor 2  \\\n",
       "8339     10.0      5  Saif Ali Sayeed          Ahaan Jha   Mahesh Narayan   \n",
       "5410      9.7      7      Sriram Raja       Raj Banerjee  Emon Chatterjee   \n",
       "2563      9.6     48      Bobby Kumar        Bobby Kumar           Ashfaq   \n",
       "5077      9.4     47     Munni Pankaj  Nishi Neha Mishra     Pankaj Kamal   \n",
       "14222     9.4     16    Arvind Pratap    Dharmendra Ahir   Awanish Kotnal   \n",
       "6852      9.4     18   Suhrud Godbole     Vaibhav Khisti   Nilesh Divekar   \n",
       "9105      9.3     27   Rajat Bhardwaj              Amrit   Dimple Chauhan   \n",
       "13231     9.3     36   Sapna Bhavnani       Leila Advani      Laj Badlani   \n",
       "1314      9.3      7    Rahul Mallick         Kunj Anand   Sanjay Bishnoi   \n",
       "1729      9.3     29     Vishwa Bhanu       Vishwa Bhanu    Sangam Shukla   \n",
       "\n",
       "                   Actor 3  \n",
       "8339   Rajasree Rajakumari  \n",
       "5410     Purshottam Mulani  \n",
       "2563        Fasih Choudhry  \n",
       "5077           Akash Kumar  \n",
       "14222         Rakhi Mansha  \n",
       "6852        Jitendra Joshi  \n",
       "9105             Sapna Das  \n",
       "13231          Chaho Bhara  \n",
       "1314          Paras Zutshi  \n",
       "1729          Vijay Thakur  "
      ]
     },
     "execution_count": 43,
     "metadata": {},
     "output_type": "execute_result"
    }
   ],
   "source": [
    "top_movie = movie_data.loc[movie_data['Rating'].sort_values(ascending=False)[:10].index]\n",
    "top_movie"
   ]
  },
  {
   "cell_type": "code",
   "execution_count": 45,
   "id": "d6b58433-a81d-4dce-b250-319d1f01f13d",
   "metadata": {},
   "outputs": [
    {
     "data": {
      "image/png": "[encoded data removed]",
      "text/plain": [
       "<Figure size 640x480 with 1 Axes>"
      ]
     },
     "metadata": {},
     "output_type": "display_data"
    }
   ],
   "source": [
    "sns.histplot(data=top_movie, x=\"Year\", hue=\"Rating\", multiple=\"stack\")\n",
    "plt.title(\"Distribution of Top movies\", fontsize=16)\n",
    "plt.xlabel(\"Year\", fontsize=14)\n",
    "plt.ylabel(\"Rating\", fontsize=14)\n",
    "plt.tight_layout()\n",
    "plt.show()"
   ]
  },
  {
   "cell_type": "code",
   "execution_count": 47,
   "id": "aafba895-aa00-481b-933e-2f3cc8307d8d",
   "metadata": {},
   "outputs": [
    {
     "name": "stdout",
     "output_type": "stream",
     "text": [
      "Requirement already satisfied: plotly in c:\\users\\user\\appdata\\local\\programs\\python\\python311\\lib\\site-packages (6.1.2)\n",
      "Requirement already satisfied: narwhals>=1.15.1 in c:\\users\\user\\appdata\\local\\programs\\python\\python311\\lib\\site-packages (from plotly) (1.38.2)\n",
      "Requirement already satisfied: packaging in c:\\users\\user\\appdata\\local\\programs\\python\\python311\\lib\\site-packages (from plotly) (24.2)\n"
     ]
    },
    {
     "name": "stderr",
     "output_type": "stream",
     "text": [
      "\n",
      "[notice] A new release of pip is available: 23.1.2 -> 25.1.1\n",
      "[notice] To update, run: python.exe -m pip install --upgrade pip\n"
     ]
    }
   ],
   "source": [
    "!pip install plotly\n"
   ]
  },
  {
   "cell_type": "code",
   "execution_count": 68,
   "id": "a29dd6f3-6a40-4886-9d44-f8d74d52177c",
   "metadata": {},
   "outputs": [
    {
     "name": "stdout",
     "output_type": "stream",
     "text": [
      "6.1.2\n"
     ]
    },
    {
     "data": {
      "application/vnd.plotly.v1+json": {
       "config": {
        "plotlyServerURL": "https://plot.ly"
       },
       "data": [
        {
         "bingroup": "x",
         "histnorm": "probability density",
         "hovertemplate": "Year=%{x}<br>probability density=%{y}<extra></extra>",
         "legendgroup": "",
         "marker": {
          "color": "#636efa",
          "pattern": {
           "shape": ""
          }
         },
         "name": "",
         "nbinsx": 30,
         "orientation": "v",
         "showlegend": false,
         "type": "histogram",
         "x": {
          "bdata": "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",
          "dtype": "i2"
         },
         "xaxis": "x",
         "yaxis": "y"
        }
       ],
       "layout": {
        "barmode": "relative",
        "legend": {
         "tracegroupgap": 0
        },
        "margin": {
         "t": 60
        },
        "template": {
         "data": {
          "bar": [
           {
            "error_x": {
             "color": "#2a3f5f"
            },
            "error_y": {
             "color": "#2a3f5f"
            },
            "marker": {
             "line": {
              "color": "#E5ECF6",
              "width": 0.5
             },
             "pattern": {
              "fillmode": "overlay",
              "size": 10,
              "solidity": 0.2
             }
            },
            "type": "bar"
           }
          ],
          "barpolar": [
           {
            "marker": {
             "line": {
              "color": "#E5ECF6",
              "width": 0.5
             },
             "pattern": {
              "fillmode": "overlay",
              "size": 10,
              "solidity": 0.2
             }
            },
            "type": "barpolar"
           }
          ],
          "carpet": [
           {
            "aaxis": {
             "endlinecolor": "#2a3f5f",
             "gridcolor": "white",
             "linecolor": "white",
             "minorgridcolor": "white",
             "startlinecolor": "#2a3f5f"
            },
            "baxis": {
             "endlinecolor": "#2a3f5f",
             "gridcolor": "white",
             "linecolor": "white",
             "minorgridcolor": "white",
             "startlinecolor": "#2a3f5f"
            },
            "type": "carpet"
           }
          ],
          "choropleth": [
           {
            "colorbar": {
             "outlinewidth": 0,
             "ticks": ""
            },
            "type": "choropleth"
           }
          ],
          "contour": [
           {
            "colorbar": {
             "outlinewidth": 0,
             "ticks": ""
            },
            "colorscale": [
             [
              0,
              "#0d0887"
             ],
             [
              0.1111111111111111,
              "#46039f"
             ],
             [
              0.2222222222222222,
              "#7201a8"
             ],
             [
              0.3333333333333333,
              "#9c179e"
             ],
             [
              0.4444444444444444,
              "#bd3786"
             ],
             [
              0.5555555555555556,
              "#d8576b"
             ],
             [
              0.6666666666666666,
              "#ed7953"
             ],
             [
              0.7777777777777778,
              "#fb9f3a"
             ],
             [
              0.8888888888888888,
              "#fdca26"
             ],
             [
              1,
              "#f0f921"
             ]
            ],
            "type": "contour"
           }
          ],
          "contourcarpet": [
           {
            "colorbar": {
             "outlinewidth": 0,
             "ticks": ""
            },
            "type": "contourcarpet"
           }
          ],
          "heatmap": [
           {
            "colorbar": {
             "outlinewidth": 0,
             "ticks": ""
            },
            "colorscale": [
             [
              0,
              "#0d0887"
             ],
             [
              0.1111111111111111,
              "#46039f"
             ],
             [
              0.2222222222222222,
              "#7201a8"
             ],
             [
              0.3333333333333333,
              "#9c179e"
             ],
             [
              0.4444444444444444,
              "#bd3786"
             ],
             [
              0.5555555555555556,
              "#d8576b"
             ],
             [
              0.6666666666666666,
              "#ed7953"
             ],
             [
              0.7777777777777778,
              "#fb9f3a"
             ],
             [
              0.8888888888888888,
              "#fdca26"
             ],
             [
              1,
              "#f0f921"
             ]
            ],
            "type": "heatmap"
           }
          ],
          "histogram": [
           {
            "marker": {
             "pattern": {
              "fillmode": "overlay",
              "size": 10,
              "solidity": 0.2
             }
            },
            "type": "histogram"
           }
          ],
          "histogram2d": [
           {
            "colorbar": {
             "outlinewidth": 0,
             "ticks": ""
            },
            "colorscale": [
             [
              0,
              "#0d0887"
             ],
             [
              0.1111111111111111,
              "#46039f"
             ],
             [
              0.2222222222222222,
              "#7201a8"
             ],
             [
              0.3333333333333333,
              "#9c179e"
             ],
             [
              0.4444444444444444,
              "#bd3786"
             ],
             [
              0.5555555555555556,
              "#d8576b"
             ],
             [
              0.6666666666666666,
              "#ed7953"
             ],
             [
              0.7777777777777778,
              "#fb9f3a"
             ],
             [
              0.8888888888888888,
              "#fdca26"
             ],
             [
              1,
              "#f0f921"
             ]
            ],
            "type": "histogram2d"
           }
          ],
          "histogram2dcontour": [
           {
            "colorbar": {
             "outlinewidth": 0,
             "ticks": ""
            },
            "colorscale": [
             [
              0,
              "#0d0887"
             ],
             [
              0.1111111111111111,
              "#46039f"
             ],
             [
              0.2222222222222222,
              "#7201a8"
             ],
             [
              0.3333333333333333,
              "#9c179e"
             ],
             [
              0.4444444444444444,
              "#bd3786"
             ],
             [
              0.5555555555555556,
              "#d8576b"
             ],
             [
              0.6666666666666666,
              "#ed7953"
             ],
             [
              0.7777777777777778,
              "#fb9f3a"
             ],
             [
              0.8888888888888888,
              "#fdca26"
             ],
             [
              1,
              "#f0f921"
             ]
            ],
            "type": "histogram2dcontour"
           }
          ],
          "mesh3d": [
           {
            "colorbar": {
             "outlinewidth": 0,
             "ticks": ""
            },
            "type": "mesh3d"
           }
          ],
          "parcoords": [
           {
            "line": {
             "colorbar": {
              "outlinewidth": 0,
              "ticks": ""
             }
            },
            "type": "parcoords"
           }
          ],
          "pie": [
           {
            "automargin": true,
            "type": "pie"
           }
          ],
          "scatter": [
           {
            "fillpattern": {
             "fillmode": "overlay",
             "size": 10,
             "solidity": 0.2
            },
            "type": "scatter"
           }
          ],
          "scatter3d": [
           {
            "line": {
             "colorbar": {
              "outlinewidth": 0,
              "ticks": ""
             }
            },
            "marker": {
             "colorbar": {
              "outlinewidth": 0,
              "ticks": ""
             }
            },
            "type": "scatter3d"
           }
          ],
          "scattercarpet": [
           {
            "marker": {
             "colorbar": {
              "outlinewidth": 0,
              "ticks": ""
             }
            },
            "type": "scattercarpet"
           }
          ],
          "scattergeo": [
           {
            "marker": {
             "colorbar": {
              "outlinewidth": 0,
              "ticks": ""
             }
            },
            "type": "scattergeo"
           }
          ],
          "scattergl": [
           {
            "marker": {
             "colorbar": {
              "outlinewidth": 0,
              "ticks": ""
             }
            },
            "type": "scattergl"
           }
          ],
          "scattermap": [
           {
            "marker": {
             "colorbar": {
              "outlinewidth": 0,
              "ticks": ""
             }
            },
            "type": "scattermap"
           }
          ],
          "scattermapbox": [
           {
            "marker": {
             "colorbar": {
              "outlinewidth": 0,
              "ticks": ""
             }
            },
            "type": "scattermapbox"
           }
          ],
          "scatterpolar": [
           {
            "marker": {
             "colorbar": {
              "outlinewidth": 0,
              "ticks": ""
             }
            },
            "type": "scatterpolar"
           }
          ],
          "scatterpolargl": [
           {
            "marker": {
             "colorbar": {
              "outlinewidth": 0,
              "ticks": ""
             }
            },
            "type": "scatterpolargl"
           }
          ],
          "scatterternary": [
           {
            "marker": {
             "colorbar": {
              "outlinewidth": 0,
              "ticks": ""
             }
            },
            "type": "scatterternary"
           }
          ],
          "surface": [
           {
            "colorbar": {
             "outlinewidth": 0,
             "ticks": ""
            },
            "colorscale": [
             [
              0,
              "#0d0887"
             ],
             [
              0.1111111111111111,
              "#46039f"
             ],
             [
              0.2222222222222222,
              "#7201a8"
             ],
             [
              0.3333333333333333,
              "#9c179e"
             ],
             [
              0.4444444444444444,
              "#bd3786"
             ],
             [
              0.5555555555555556,
              "#d8576b"
             ],
             [
              0.6666666666666666,
              "#ed7953"
             ],
             [
              0.7777777777777778,
              "#fb9f3a"
             ],
             [
              0.8888888888888888,
              "#fdca26"
             ],
             [
              1,
              "#f0f921"
             ]
            ],
            "type": "surface"
           }
          ],
          "table": [
           {
            "cells": {
             "fill": {
              "color": "#EBF0F8"
             },
             "line": {
              "color": "white"
             }
            },
            "header": {
             "fill": {
              "color": "#C8D4E3"
             },
             "line": {
              "color": "white"
             }
            },
            "type": "table"
           }
          ]
         },
         "layout": {
          "annotationdefaults": {
           "arrowcolor": "#2a3f5f",
           "arrowhead": 0,
           "arrowwidth": 1
          },
          "autotypenumbers": "strict",
          "coloraxis": {
           "colorbar": {
            "outlinewidth": 0,
            "ticks": ""
           }
          },
          "colorscale": {
           "diverging": [
            [
             0,
             "#8e0152"
            ],
            [
             0.1,
             "#c51b7d"
            ],
            [
             0.2,
             "#de77ae"
            ],
            [
             0.3,
             "#f1b6da"
            ],
            [
             0.4,
             "#fde0ef"
            ],
            [
             0.5,
             "#f7f7f7"
            ],
            [
             0.6,
             "#e6f5d0"
            ],
            [
             0.7,
             "#b8e186"
            ],
            [
             0.8,
             "#7fbc41"
            ],
            [
             0.9,
             "#4d9221"
            ],
            [
             1,
             "#276419"
            ]
           ],
           "sequential": [
            [
             0,
             "#0d0887"
            ],
            [
             0.1111111111111111,
             "#46039f"
            ],
            [
             0.2222222222222222,
             "#7201a8"
            ],
            [
             0.3333333333333333,
             "#9c179e"
            ],
            [
             0.4444444444444444,
             "#bd3786"
            ],
            [
             0.5555555555555556,
             "#d8576b"
            ],
            [
             0.6666666666666666,
             "#ed7953"
            ],
            [
             0.7777777777777778,
             "#fb9f3a"
            ],
            [
             0.8888888888888888,
             "#fdca26"
            ],
            [
             1,
             "#f0f921"
            ]
           ],
           "sequentialminus": [
            [
             0,
             "#0d0887"
            ],
            [
             0.1111111111111111,
             "#46039f"
            ],
            [
             0.2222222222222222,
             "#7201a8"
            ],
            [
             0.3333333333333333,
             "#9c179e"
            ],
            [
             0.4444444444444444,
             "#bd3786"
            ],
            [
             0.5555555555555556,
             "#d8576b"
            ],
            [
             0.6666666666666666,
             "#ed7953"
            ],
            [
             0.7777777777777778,
             "#fb9f3a"
            ],
            [
             0.8888888888888888,
             "#fdca26"
            ],
            [
             1,
             "#f0f921"
            ]
           ]
          },
          "colorway": [
           "#636efa",
           "#EF553B",
           "#00cc96",
           "#ab63fa",
           "#FFA15A",
           "#19d3f3",
           "#FF6692",
           "#B6E880",
           "#FF97FF",
           "#FECB52"
          ],
          "font": {
           "color": "#2a3f5f"
          },
          "geo": {
           "bgcolor": "white",
           "lakecolor": "white",
           "landcolor": "#E5ECF6",
           "showlakes": true,
           "showland": true,
           "subunitcolor": "white"
          },
          "hoverlabel": {
           "align": "left"
          },
          "hovermode": "closest",
          "mapbox": {
           "style": "light"
          },
          "paper_bgcolor": "white",
          "plot_bgcolor": "#E5ECF6",
          "polar": {
           "angularaxis": {
            "gridcolor": "white",
            "linecolor": "white",
            "ticks": ""
           },
           "bgcolor": "#E5ECF6",
           "radialaxis": {
            "gridcolor": "white",
            "linecolor": "white",
            "ticks": ""
           }
          },
          "scene": {
           "xaxis": {
            "backgroundcolor": "#E5ECF6",
            "gridcolor": "white",
            "gridwidth": 2,
            "linecolor": "white",
            "showbackground": true,
            "ticks": "",
            "zerolinecolor": "white"
           },
           "yaxis": {
            "backgroundcolor": "#E5ECF6",
            "gridcolor": "white",
            "gridwidth": 2,
            "linecolor": "white",
            "showbackground": true,
            "ticks": "",
            "zerolinecolor": "white"
           },
           "zaxis": {
            "backgroundcolor": "#E5ECF6",
            "gridcolor": "white",
            "gridwidth": 2,
            "linecolor": "white",
            "showbackground": true,
            "ticks": "",
            "zerolinecolor": "white"
           }
          },
          "shapedefaults": {
           "line": {
            "color": "#2a3f5f"
           }
          },
          "ternary": {
           "aaxis": {
            "gridcolor": "white",
            "linecolor": "white",
            "ticks": ""
           },
           "baxis": {
            "gridcolor": "white",
            "linecolor": "white",
            "ticks": ""
           },
           "bgcolor": "#E5ECF6",
           "caxis": {
            "gridcolor": "white",
            "linecolor": "white",
            "ticks": ""
           }
          },
          "title": {
           "x": 0.05
          },
          "xaxis": {
           "automargin": true,
           "gridcolor": "white",
           "linecolor": "white",
           "ticks": "",
           "title": {
            "standoff": 15
           },
           "zerolinecolor": "white",
           "zerolinewidth": 2
          },
          "yaxis": {
           "automargin": true,
           "gridcolor": "white",
           "linecolor": "white",
           "ticks": "",
           "title": {
            "standoff": 15
           },
           "zerolinecolor": "white",
           "zerolinewidth": 2
          }
         }
        },
        "xaxis": {
         "anchor": "y",
         "domain": [
          0,
          1
         ],
         "title": {
          "text": "Year"
         }
        },
        "yaxis": {
         "anchor": "x",
         "domain": [
          0,
          1
         ],
         "title": {
          "text": "probability density"
         }
        }
       }
      },
      "image/png": "[encoded data removed]"
     },
     "metadata": {},
     "output_type": "display_data"
    }
   ],
   "source": [
    "import plotly.express as px\n",
    "import plotly\n",
    "print(plotly.__version__)  # This should return a version number if installed properly\n",
    "year = px.histogram(movie_data, x = 'Year', histnorm = 'probability density', nbins = 30)\n",
    "year.show()"
   ]
  },
  {
   "cell_type": "code",
   "execution_count": 74,
   "id": "c28863de-5353-4e25-a9c6-4df72647a194",
   "metadata": {},
   "outputs": [],
   "source": [
    "avg_rating_by_year = movie_data.groupby(['Year','Genre'])['Rating'].mean().reset_index()\n",
    "top_genres = movie_data['Genre'].value_counts().head(10).index"
   ]
  },
  {
   "cell_type": "code",
   "execution_count": 75,
   "id": "af29e241-15c5-4b53-bdc7-f0f81999511b",
   "metadata": {},
   "outputs": [],
   "source": [
    "average_rating_by_year = avg_rating_by_year[avg_rating_by_year['Genre'].isin(top_genres)]"
   ]
  },
  {
   "cell_type": "code",
   "execution_count": 76,
   "id": "6289047a-fd0d-4162-bbee-a4bedb4e0fa0",
   "metadata": {},
   "outputs": [
    {
     "data": {
      "application/vnd.plotly.v1+json": {
       "config": {
        "plotlyServerURL": "https://plot.ly"
       },
       "data": [
        {
         "hovertemplate": "Genre=Adventure, Drama, Fantasy<br>Year=%{x}<br>Rating=%{y}<extra></extra>",
         "legendgroup": "Adventure, Drama, Fantasy",
         "line": {
          "color": "#636efa",
          "dash": "solid"
         },
         "marker": {
          "symbol": "circle"
         },
         "mode": "lines",
         "name": "Adventure, Drama, Fantasy",
         "showlegend": true,
         "type": "scattergl",
         "x": {
          "bdata": "fQebB6IHqgerB7QHuAe7B80H1gfZB9wH",
          "dtype": "i2"
         },
         "xaxis": "x",
         "y": {
          "bdata": "zczMzMzMGkAzMzMzMzMVQM3MzMzMzBpAAAAAAAAAHkBmZmZmZmYYQGZmZmZmZhZAZmZmZmZmIEBmZmZmZmYaQAAAAAAAABhAAAAAAAAAHEAzMzMzMzMRQJqZmZmZmR9A",
          "dtype": "f8"
         },
         "yaxis": "y"
        },
        {
         "hovertemplate": "Genre=Drama<br>Year=%{x}<br>Rating=%{y}<extra></extra>",
         "legendgroup": "Drama",
         "line": {
          "color": "#EF553B",
          "dash": "solid"
         },
         "marker": {
          "symbol": "circle"
         },
         "mode": "lines",
         "name": "Drama",
         "showlegend": true,
         "type": "scattergl",
         "x": {
          "bdata": "iweMB40HjgePB5AHkQeSB5QHlQeWB5cHmAeZB5oHmwecB50HngefB6AHoQeiB6MHpAelB6YHpweoB6kHqgerB6wHrQeuB68HsAexB7IHswe0B7UHtge3B7gHuQe6B7sHvAe9B74HvwfAB8EHwgfDB8QHxQfGB8cHyAfJB8oHywfMB80HzgfPB9AH0QfSB9MH1AfVB9YH1wfYB9kH2gfbB9wH3QfeB98H4AfhB+IH4wfkB+UH",
          "dtype": "i2"
         },
         "xaxis": "x",
         "y": {
          "bdata": "MzMzMzMzFUAAAAAAAAAWQGZmZmZmZgZAAAAAAAAAIUCIiIiIiIgaQGZmZmZmZhlA7+7u7u7uGkAAAAAAAAAcQHA9CtejcBtAw/UoXI/CGUAjIiIiIiIcQDMzMzMzMx1AZ2ZmZmZmGkDNzMzMzMwaQM3MzMzMTBxAzczMzMxMGEBVVVVVVVUdQERERERERBxAE+QpQZ4SHEDd3d3d3d0ZQLy7u7u7ux9Ax3Ecx3EcHUAAAAAAAIAaQIXrUbgehRlA7+7u7u7uGEAAAAAAAMAbQIM6qIM6qBlAlD7pkz7pGUBxPQrXo3AZQPmKr/iKrxhAVVVVVVVVFkAAAAAAAAAZQAAAAAAAgBlAoQ7qoA7qGEBVVVVVVVUZQLD4iq/4ihtAZmZmZmZmGkDrUbgehesZQOCw9g1r3xpAe3t7e3t7GUDptIFOG+gaQB7UQR3UQRlAeHd3d3f3GkBnZmZmZmYaQERERERERBtA6ZM+6ZM+GkB90id90icbQFyPwvUoXBlA7u3t7e3tF0CKndiJndgZQFK4HoXrURlAfuAHfuAHGkBcDOm8xZAaQM3MzMzMzBlAtGlAmwa0F0DGV3zFV3wYQIy0YwXCSBlAIiIiIiIiFkBCHdRBHdQWQPMaymsorxVAP/ADP/ADFUBnZmZmZuYXQAAAAAAAgBdAeHd3d3d3GEAAAAAAAIAXQGdmZmZm5hdAFa5H4XoUGEAlSZIkSZIaQNiCLdiCLRhAcFj7hrVvFkDC9Shcj8ITQDMzMzMz0xhAqIM6qIM6F0BbsAVbsAUXQNVBHdRBHRhAERERERERGUAehetRuB4WQKVP+qRP+hVAFDuxEzuxF0CMJb9Y8osXQCh90id90hhAVII8JchTGUDufD81XroZQFnyiyW/WBlAjCW/WPKLGUD3EdxHcB8ZQG2iZNcmShtATxvotIHOGkAPDw8PDw8eQHVQB3VQBxxA",
          "dtype": "f8"
         },
         "yaxis": "y"
        },
        {
         "hovertemplate": "Genre=Drama, Fantasy<br>Year=%{x}<br>Rating=%{y}<extra></extra>",
         "legendgroup": "Drama, Fantasy",
         "line": {
          "color": "#00cc96",
          "dash": "solid"
         },
         "marker": {
          "symbol": "circle"
         },
         "mode": "lines",
         "name": "Drama, Fantasy",
         "showlegend": true,
         "type": "scattergl",
         "x": {
          "bdata": "iwefB6UHtwfCB8gHzAfQB+EH",
          "dtype": "i2"
         },
         "xaxis": "x",
         "y": {
          "bdata": "zczMzMzMGEAzMzMzMzMXQAAAAAAAABZAAAAAAAAAHEDNzMzMzMwaQJqZmZmZmRdAzczMzMzMEEAzMzMzMzMVQM3MzMzMzBZA",
          "dtype": "f8"
         },
         "yaxis": "y"
        },
        {
         "hovertemplate": "Genre=Drama, History, Musical<br>Year=%{x}<br>Rating=%{y}<extra></extra>",
         "legendgroup": "Drama, History, Musical",
         "line": {
          "color": "#ab63fa",
          "dash": "solid"
         },
         "marker": {
          "symbol": "circle"
         },
         "mode": "lines",
         "name": "Drama, History, Musical",
         "showlegend": true,
         "type": "scattergl",
         "x": {
          "bdata": "iwe7B9UH",
          "dtype": "i2"
         },
         "xaxis": "x",
         "y": {
          "bdata": "zczMzMzMGEDNzMzMzMweQAAAAAAAABRA",
          "dtype": "f8"
         },
         "yaxis": "y"
        },
        {
         "hovertemplate": "Genre=Musical, Romance<br>Year=%{x}<br>Rating=%{y}<extra></extra>",
         "legendgroup": "Musical, Romance",
         "line": {
          "color": "#FFA15A",
          "dash": "solid"
         },
         "marker": {
          "symbol": "circle"
         },
         "mode": "lines",
         "name": "Musical, Romance",
         "showlegend": true,
         "type": "scattergl",
         "x": {
          "bdata": "jAeYB5wHnQeeB58HogejB6UHpgenB6gHqwesB60HrgexB7MHtge3B7sHvQe+B8AHyAfKB80HzgfQB9EH0gfUB98H4AfjB+UH",
          "dtype": "i2"
         },
         "xaxis": "x",
         "y": {
          "bdata": "AAAAAAAAGEDNzMzMzMwcQJqZmZmZmR1AAAAAAAAAGkAAAAAAAAAcQGZmZmZmZh5AmpmZmZmZG0A0MzMzMzMYQAAAAAAAABxAAAAAAAAAGUAREREREREbQAAAAAAAABxAmpmZmZmZG0C8u7u7u7sXQJqZmZmZGRxA3d3d3d3dGUCamZmZmZkaQJqZmZmZmRtAZmZmZmZmHEAzMzMzMzMgQGZmZmZmZhtAAAAAAAAAHECamZmZmZkdQAAAAAAAABJAzczMzMzMFkAAAAAAAAAaQAAAAAAAABBAAAAAAAAAEkAAAAAAAAAIQGZmZmZmZh5AzczMzMzMFkBmZmZmZmYTQAAAAAAAABBAmpmZmZmZDUCamZmZmZkdQM3MzMzMzPw/",
          "dtype": "f8"
         },
         "yaxis": "y"
        },
        {
         "hovertemplate": "Genre=Comedy<br>Year=%{x}<br>Rating=%{y}<extra></extra>",
         "legendgroup": "Comedy",
         "line": {
          "color": "#19d3f3",
          "dash": "solid"
         },
         "marker": {
          "symbol": "circle"
         },
         "mode": "lines",
         "name": "Comedy",
         "showlegend": true,
         "type": "scattergl",
         "x": {
          "bdata": "jQegB6EHpAelB6YHpweoB6kHqgerB64HsAexB7MHtAe1B7cHuAe5B7oHuwe9B74HvwfAB8EHwgfDB8QHxQfGB8kHygfLB8wHzQfOB88H0QfSB9MH1AfVB9YH1wfYB9kH2gfbB9wH3QfeB98H4AfhB+IH4wfkB+UH",
          "dtype": "i2"
         },
         "xaxis": "x",
         "y": {
          "bdata": "AAAAAAAAGECamZmZmZkdQJqZmZmZmRdAVVVVVVVVGUAzMzMzMzMbQJqZmZmZmRlAzczMzMzMGkAzMzMzMzMbQAAAAAAAABxAzczMzMzMF0CamZmZmZkcQJuZmZmZmRtAMzMzMzMzG0BmZmZmZmYaQDMzMzMzMxtAAAAAAAAAFkAzMzMzMzMdQGZmZmZmZhZAMzMzMzMzG0BmZmZmZmYbQAAAAAAAABxAmpmZmZmZFUAzMzMzMzMXQAAAAAAAAB9AMzMzMzMzGUBmZmZmZmYaQGZmZmZmZhtAmpmZmZmZGUAAAAAAAAAaQBERERERERdAMzMzMzMzGUAAAAAAAAAYQM3MzMzMzBpAzczMzMzMEUCJiIiIiIgSQAAAAAAAABZAXI/C9ShcE0BmZmZmZmYWQGZmZmZmZhNAMzMzMzMzF0AAAAAAAAAaQGdmZmZmZhJAZmZmZmbmF0A3ciM3ciMVQM3MzMzMzBRAERERERERFUAzMzMzMzMdQOtRuB6F6xlA3t3d3d3dE0Dd3d3d3d0TQLD4iq/4ihRAvLu7u7u7FEB+w9o3rH0VQNVBHdRBHRRApwR5SpCnFEBVVVVVVVUWQFD6pE/6pBZANDMzMzMzGUDGV3zFV3wXQGZmZmZmZhZA",
          "dtype": "f8"
         },
         "yaxis": "y"
        },
        {
         "hovertemplate": "Genre=Drama, Romance<br>Year=%{x}<br>Rating=%{y}<extra></extra>",
         "legendgroup": "Drama, Romance",
         "line": {
          "color": "#FF6692",
          "dash": "solid"
         },
         "marker": {
          "symbol": "circle"
         },
         "mode": "lines",
         "name": "Drama, Romance",
         "showlegend": true,
         "type": "scattergl",
         "x": {
          "bdata": "jQeQB5IHkweYB5sHnAedB54HnwegB6EHogelB6YHpweoB6kHqgerB6wHrQeuB68HsAexB7IHswe0B7UHtge3B7gHuQe6B7sHvAe9B74HvwfAB8EHwgfDB8QHxQfGB8cHyAfJB8oHywfMB80HzgfPB9AH0QfSB9MH1AfVB9YH1wfYB9kH2gfbB9wH3QfeB98H4AfhB+IH4wfkB+UH",
          "dtype": "i2"
         },
         "xaxis": "x",
         "y": {
          "bdata": "zczMzMzMGEDNzMzMzMwYQM3MzMzMzBRAmpmZmZmZGUCamZmZmRkYQAAAAAAAABZAeHd3d3d3HUAzMzMzMzMcQDMzMzMzMxxAMzMzMzOzG0DMzMzMzMwdQM3MzMzMzBpAMzMzMzMzGEDNzMzMzMwcQAAAAAAAABtAAAAAAAAAFkBCHdRBHdQZQGZmZmZm5hxAAAAAAAAAG0D5iq/4iq8YQHE9CtejcBlAAAAAAAAAHUDiehSuR+EaQBWuR+F6FBpAPQrXo3A9GkCIiIiIiIgbQJqZmZmZWRxA+6RP+qRPGkDNzMzMzIwYQHVQB3VQBxdA7RvWvmHtGUCrqqqqqqoaQOJ6FK5H4RlA61G4HoXrG0BwPQrXo3AbQD0K16NwPRpAAAAAAACAGEAAAAAAAAAZQFyPwvUoXBhAZmZmZmbmGUDv7u7u7u4UQLy7u7u7uxVA4noUrkfhFEAzMzMzMzMWQOJ6FK5H4RRAiIiIiIiIFkB7FK5H4XoSQLgehetRuBZAiYiIiIiIFEAWX/EVX/ETQJmZmZmZmQ9AMzMzMzMzFkBEREREREQXQIXrUbgehRFAgzqogzqoF0CF61G4HoUVQEjhehSuRxVAwvUoXI/CE0CamZmZmRkSQAAAAAAAABZAAAAAAAAAFEAK16NwPQoRQOIrvuIrvhVAAAAAAACAFEAVrkfhehQUQM3MzMzMDBZAAAAAAAAAFkCkcD0K16MUQBERERERERlAF2zBFmzBGECLr/iKr/gUQN7d3d3d3RdAPumTPumTFEBmZmZmZqYWQAQ/8AM/8BlAzczMzMzMGEDv7u7u7u4cQKNwPQrXoxxA",
          "dtype": "f8"
         },
         "yaxis": "y"
        },
        {
         "hovertemplate": "Genre=Fantasy<br>Year=%{x}<br>Rating=%{y}<extra></extra>",
         "legendgroup": "Fantasy",
         "line": {
          "color": "#B6E880",
          "dash": "solid"
         },
         "marker": {
          "symbol": "circle"
         },
         "mode": "lines",
         "name": "Fantasy",
         "showlegend": true,
         "type": "scattergl",
         "x": {
          "bdata": "jQeUB54HnwehB6IHpAepB6sHrAewB7MHtge3B7gHuge7B7wHvge/B8IHwwfHB8sH0QfTB9QH1QfWB98H4gc=",
          "dtype": "i2"
         },
         "xaxis": "x",
         "y": {
          "bdata": "zczMzMzMHECamZmZmZkfQJqZmZmZmRlAzczMzMzMHEAzMzMzMzMZQJqZmZmZmR9AZmZmZmZmGkAAAAAAAAAeQJqZmZmZmRlAmpmZmZmZG0BmZmZmZmYYQAAAAAAAABBAmpmZmZmZHECamZmZmZkdQM3MzMzMzB1AZmZmZmZmGkCamZmZmZkbQJqZmZmZmRhAzczMzMzMG0AAAAAAAAAhQDMzMzMzMxtAAAAAAAAAHECZmZmZmZkXQAAAAAAAABxAMzMzMzMzEkAAAAAAAAAKQDMzMzMzMwNAZmZmZmZmEkBmZmZmZmYaQM3MzMzMzBpAMzMzMzMzG0A=",
          "dtype": "f8"
         },
         "yaxis": "y"
        },
        {
         "hovertemplate": "Genre=Adventure, Fantasy<br>Year=%{x}<br>Rating=%{y}<extra></extra>",
         "legendgroup": "Adventure, Fantasy",
         "line": {
          "color": "#FF97FF",
          "dash": "solid"
         },
         "marker": {
          "symbol": "circle"
         },
         "mode": "lines",
         "name": "Adventure, Fantasy",
         "showlegend": true,
         "type": "scattergl",
         "x": {
          "bdata": "jgePB5oHoAeiB6QHpQemB6wHrgezB8IH0wc=",
          "dtype": "i2"
         },
         "xaxis": "x",
         "y": {
          "bdata": "mpmZmZmZBUDNzMzMzMwUQM3MzMzMzAxAzczMzMzMGEBmZmZmZmYSQDMzMzMzMxtAAAAAAAAAGkAAAAAAAAAaQGZmZmZmZhpAmpmZmZmZGUBmZmZmZmYaQDMzMzMzMxNAzczMzMzMEkA=",
          "dtype": "f8"
         },
         "yaxis": "y"
        },
        {
         "hovertemplate": "Genre=Action, Adventure<br>Year=%{x}<br>Rating=%{y}<extra></extra>",
         "legendgroup": "Action, Adventure",
         "line": {
          "color": "#FECB52",
          "dash": "solid"
         },
         "marker": {
          "symbol": "circle"
         },
         "mode": "lines",
         "name": "Action, Adventure",
         "showlegend": true,
         "type": "scattergl",
         "x": {
          "bdata": "jweTB5QHmgenB6gHqwesB60HrgewB7cHuQe9B8QHxQfHB8gH3QfeB+IH",
          "dtype": "i2"
         },
         "xaxis": "x",
         "y": {
          "bdata": "AAAAAAAAEkBmZmZmZmYaQGZmZmZmZhhAmpmZmZmZFUAzMzMzMzMXQDMzMzMzMxNAMzMzMzMzF0AAAAAAAAAYQM3MzMzMzBpAzczMzMzMGECamZmZmZkXQM3MzMzMzBZAzczMzMzMGkDNzMzMzMwXQJqZmZmZmRhAzczMzMzMFkCamZmZmZkSQDMzMzMzMxFAZmZmZmZmGkAAAAAAAAAIQGZmZmZmZhBA",
          "dtype": "f8"
         },
         "yaxis": "y"
        },
        {
         "hovertemplate": "Genre=Adventure<br>Year=%{x}<br>Rating=%{y}<extra></extra>",
         "legendgroup": "Adventure",
         "line": {
          "color": "#636efa",
          "dash": "solid"
         },
         "marker": {
          "symbol": "circle"
         },
         "mode": "lines",
         "name": "Adventure",
         "showlegend": true,
         "type": "scattergl",
         "x": {
          "bdata": "jweQB5EHkgeTB5kHpgenB6sHrAeuB7IHtwe5B7oHuwfBB8QHygfSB9MH4gfjB+UH",
          "dtype": "i2"
         },
         "xaxis": "x",
         "y": {
          "bdata": "ZmZmZmZmEEDNzMzMzMwIQDMzMzMzMwtAmpmZmZmZGUAzMzMzMzMZQGZmZmZmZhJAZmZmZmZmAkBmZmZmZmYYQAAAAAAAABpAMzMzMzMzFUBmZmZmZmYOQDMzMzMzMxtAmpmZmZmZFUBmZmZmZmYaQM3MzMzMzBJAZmZmZmZmGEAzMzMzMzMVQGZmZmZmZgpAzczMzMzMGkDNzMzMzMwYQGZmZmZmZhpAmpmZmZmZHUBmZmZmZmYaQJqZmZmZmRlA",
          "dtype": "f8"
         },
         "yaxis": "y"
        },
        {
         "hovertemplate": "Genre=Horror<br>Year=%{x}<br>Rating=%{y}<extra></extra>",
         "legendgroup": "Horror",
         "line": {
          "color": "#EF553B",
          "dash": "solid"
         },
         "marker": {
          "symbol": "circle"
         },
         "mode": "lines",
         "name": "Horror",
         "showlegend": true,
         "type": "scattergl",
         "x": {
          "bdata": "jwe0B7oHvAe9B8AHwQfCB8MHxAfFB8YHxwfIB8kHzAfNB84HzwfQB9EH0gfTB9QH1QfWB9cH2gfcB90H3gffB+AH4QfiB+MH5AflBw==",
          "dtype": "i2"
         },
         "xaxis": "x",
         "y": {
          "bdata": "ZmZmZmZmFEDMzMzMzMwWQAAAAAAAABhAZmZmZmZmGEDNzMzMzMwWQAAAAAAAABRAZmZmZmZmFkDNzMzMzMwUQAAAAAAAABZAmZmZmZmZEUDxFV/xFV8RQOtRuB6F6xFAiYiIiIiIE0CJiIiIiIgSQAAAAAAAABRAAAAAAAAADEDNzMzMzMwQQFK4HoXrUQxAOqiDOqiDDkDbtm3btm0PQJmZmZmZmQ1AMzMzMzMzEUD5iq/4iq8UQN3d3d3d3Q1AMzMzMzMzEkARERERERETQDQzMzMzMxFAmpmZmZmZE0BmZmZmZmYOQGZmZmZmZghAmZmZmZmZEUCamZmZmZkJQImIiIiIiBRAmpmZmZnZFkCamZmZmZkdQBERERERERVAxld8xVd8F0AAAAAAAAASQA==",
          "dtype": "f8"
         },
         "yaxis": "y"
        },
        {
         "hovertemplate": "Genre=Drama, Musical, Romance<br>Year=%{x}<br>Rating=%{y}<extra></extra>",
         "legendgroup": "Drama, Musical, Romance",
         "line": {
          "color": "#00cc96",
          "dash": "solid"
         },
         "marker": {
          "symbol": "circle"
         },
         "mode": "lines",
         "name": "Drama, Musical, Romance",
         "showlegend": true,
         "type": "scattergl",
         "x": {
          "bdata": "kAeXB5oHmwecB54HnwegB6EHogejB6QHpQemB6cHqAepB6oHqwesB60HrgevB7EHsgezB7QHtQe2B7cHvAe9B74HvwfBB8MHxAfFB8cHzAfNB88H0AfRB9IH0wfUB9UH1gfXB9kH3QfeB+AH",
          "dtype": "i2"
         },
         "xaxis": "x",
         "y": {
          "bdata": "AAAAAAAAGkAAAAAAAAAeQDMzMzMzMx1AZmZmZmZmHkCamZmZmZkZQJqZmZmZmR1AmpmZmZmZH0CamZmZmZkdQM3MzMzMzBxAAAAAAAAAG0DNzMzMzMwcQGZmZmZmZhxAZmZmZmZmIECamZmZmZkbQAAAAAAAABpAAAAAAACAHEAAAAAAAAAcQDMzMzMzMxxAmZmZmZmZHUCIiIiIiIgcQO/u7u7u7hxAmpmZmZmZGUAzMzMzMzMbQMzMzMzMzBxANDMzMzMzG0AAAAAAAAAbQGZmZmZmZiBAzczMzMzMGkB4d3d3d3cZQGZmZmZmZhpAMzMzMzMzFUAAAAAAAAAcQDQzMzMzMxtAzczMzMzMFkDNzMzMzMwaQJqZmZmZmSBAAAAAAAAAHkAzMzMzMzMcQFVVVVVVVRtAMzMzMzMzGUDNzMzMzMwWQM3MzMzMzBZAmpmZmZmZFUDNzMzMzMwSQBWuR+F6FBZAMzMzMzMzFEDNzMzMzMwUQKuqqqqqqhZA7+7u7u7uEkAAAAAAAAAOQDMzMzMzMwtAAAAAAAAAG0DNzMzMzMwTQJqZmZmZmR1A",
          "dtype": "f8"
         },
         "yaxis": "y"
        },
        {
         "hovertemplate": "Genre=Biography<br>Year=%{x}<br>Rating=%{y}<extra></extra>",
         "legendgroup": "Biography",
         "line": {
          "color": "#ab63fa",
          "dash": "solid"
         },
         "marker": {
          "symbol": "circle"
         },
         "mode": "lines",
         "name": "Biography",
         "showlegend": true,
         "type": "scattergl",
         "x": {
          "bdata": "kQeUB6IHowelB8YH4AfhB+IH5Qc=",
          "dtype": "i2"
         },
         "xaxis": "x",
         "y": {
          "bdata": "zczMzMzMGkAzMzMzMzMgQDMzMzMzMxtAAAAAAAAAHUAAAAAAAAAaQJqZmZmZmRVAERERERERGUAjIiIiIiIWQGZmZmZmZhhAzczMzMzMEEA=",
          "dtype": "f8"
         },
         "yaxis": "y"
        },
        {
         "hovertemplate": "Genre=Drama, Family, Romance<br>Year=%{x}<br>Rating=%{y}<extra></extra>",
         "legendgroup": "Drama, Family, Romance",
         "line": {
          "color": "#FFA15A",
          "dash": "solid"
         },
         "marker": {
          "symbol": "circle"
         },
         "mode": "lines",
         "name": "Drama, Family, Romance",
         "showlegend": true,
         "type": "scattergl",
         "x": {
          "bdata": "kQedB54HnweiB6UHpweoB6sHrAevB7AHswe0B7UHtge5B7oHuwe8B70Hvge/B8AHwQfCB8MHyQfKB8sH0AfSB9MH1QfWB9cH3AfeB+IH",
          "dtype": "i2"
         },
         "xaxis": "x",
         "y": {
          "bdata": "mpmZmZmZF0BmZmZmZmYaQDMzMzMzMxtAmpmZmZmZG0BmZmZmZmYYQMzMzMzMzBxAzczMzMzMFEAzMzMzMzMRQGZmZmZmZhJAMzMzMzMzGUAAAAAAAAAaQDMzMzMzMxlAzczMzMzMGEAzMzMzMzMbQDMzMzMzMx1A3d3d3d3dGUAAAAAAAAAcQGZmZmZmZhxAzczMzMzMGEAAAAAAAAAcQAAAAAAAABlAzMzMzMzMGEDNzMzMzMweQMzMzMzMzBhAMzMzMzMzFUDNzMzMzMwYQGZmZmZmZhZAZmZmZmZmE0AzMzMzMzMTQGZmZmZmZhBAMzMzMzMzC0AzMzMzMzMbQM3MzMzMzBRAZmZmZmZmEkCamZmZmZkVQJqZmZmZmRVAmpmZmZmZE0BmZmZmZmYUQJqZmZmZmRVA",
          "dtype": "f8"
         },
         "yaxis": "y"
        },
        {
         "hovertemplate": "Genre=Drama, Family<br>Year=%{x}<br>Rating=%{y}<extra></extra>",
         "legendgroup": "Drama, Family",
         "line": {
          "color": "#19d3f3",
          "dash": "solid"
         },
         "marker": {
          "symbol": "circle"
         },
         "mode": "lines",
         "name": "Drama, Family",
         "showlegend": true,
         "type": "scattergl",
         "x": {
          "bdata": "kgeWB5wHnQeeB58HoAehB6IHowekB6UHpgenB6gHqQeqB6sHrAetB64HrwewB7EHsgezB7QHtQe2B7cHuAe5B7oHuwe8B70Hvge/B8AHwQfCB8MHxAfFB8YHxwfJB8oHywfMB9AH0QfSB9MH1AfVB9YH1wfZB9oH2wfcB90H3gffB+AH4QfiB+QH5Qc=",
          "dtype": "i2"
         },
         "xaxis": "x",
         "y": {
          "bdata": "MzMzMzMzGUCamZmZmZkXQM3MzMzMzBZAzMzMzMzMGkBmZmZmZuYcQGZmZmZmZhtAzMzMzMzMGEAzMzMzMzMcQM3MzMzMzBhAzczMzMzMHUBnZmZmZmYcQN7d3d3d3RlAzczMzMyMGUAAAAAAAAAYQJ/0SZ/0SRdAMzMzMzMzGUCLr/iKr/gYQM3MzMzMTBhAiIiIiIiIF0C8u7u7u7sXQDQzMzMzMxtAMzMzMzMzGUAzMzMzMzMaQAAAAAAAABlAzczMzMzMGUCrqqqqqqoYQEjhehSuRxlAAAAAAADAGUBEREREREQaQHE9CtejcBlAkML1KFyPGkAzMzMzMzMYQImIiIiIiBpAJshTgjwlGEDNzMzMzMwXQClcj8L1KBZA9ihcj8L1GEAK16NwPQoZQDMzMzMzsxdAAAAAAAAAF0CamZmZmZkYQERERERERBhAAAAAAAAAGkBJkiRJkiQZQDMzMzMzMxBAREREREREEkBmZmZmZmYWQHh3d3d3dxdAAAAAAAAAFECamZmZmZkfQIiIiIiIiBpAZmZmZmZmFEAAAAAAAAAWQDMzMzMzMw9AAAAAAAAAEEBmZmZmZmYcQGZmZmZmZhpAZmZmZmZmHEDNzMzMzMwcQJmZmZmZmRdAzczMzMzMGkCamZmZmZkXQM3MzMzMzBtAmpmZmZmZFkCamZmZmZkgQDMzMzMzMxlAZmZmZmbmHUAzMzMzMzMZQM3MzMzMzBxAMzMzMzMzG0A=",
          "dtype": "f8"
         },
         "yaxis": "y"
        },
        {
         "hovertemplate": "Genre=Adventure, Drama<br>Year=%{x}<br>Rating=%{y}<extra></extra>",
         "legendgroup": "Adventure, Drama",
         "line": {
          "color": "#FF6692",
          "dash": "solid"
         },
         "marker": {
          "symbol": "circle"
         },
         "mode": "lines",
         "name": "Adventure, Drama",
         "showlegend": true,
         "type": "scattergl",
         "x": {
          "bdata": "kwekB70H0QfWB9oH3QffBw==",
          "dtype": "i2"
         },
         "xaxis": "x",
         "y": {
          "bdata": "ZmZmZmZmEkDNzMzMzMwWQAAAAAAAABhAzczMzMzMGkAAAAAAAAAYQGZmZmZmZhhAmpmZmZmZG0AzMzMzMzMRQA==",
          "dtype": "f8"
         },
         "yaxis": "y"
        },
        {
         "hovertemplate": "Genre=Mystery<br>Year=%{x}<br>Rating=%{y}<extra></extra>",
         "legendgroup": "Mystery",
         "line": {
          "color": "#B6E880",
          "dash": "solid"
         },
         "marker": {
          "symbol": "circle"
         },
         "mode": "lines",
         "name": "Mystery",
         "showlegend": true,
         "type": "scattergl",
         "x": {
          "bdata": "lQeXB5sHpQemB6cHqgeuB7AHsge3B70HwgfDB8UHzQfTB9kH2gfcB90H3gfgB+IH4wc=",
          "dtype": "i2"
         },
         "xaxis": "x",
         "y": {
          "bdata": "AAAAAAAAHEBmZmZmZmYKQGZmZmZmZiFAAAAAAAAAHkCamZmZmZkZQMzMzMzMzBlAZmZmZmZmFEDNzMzMzMwVQGZmZmZmZhxAzczMzMzMGEAAAAAAAAAaQM3MzMzMzBZAZmZmZmZmFkBmZmZmZmYUQGZmZmZmZhZAMzMzMzMzF0DNzMzMzMwMQAAAAAAAABhAmpmZmZmZGUAAAAAAAAAYQJqZmZmZmRFAMzMzMzMzB0CamZmZmZkFQGZmZmZmZhpAZmZmZmZmF0A=",
          "dtype": "f8"
         },
         "yaxis": "y"
        },
        {
         "hovertemplate": "Genre=Adventure, Drama, History<br>Year=%{x}<br>Rating=%{y}<extra></extra>",
         "legendgroup": "Adventure, Drama, History",
         "line": {
          "color": "#FF97FF",
          "dash": "solid"
         },
         "marker": {
          "symbol": "circle"
         },
         "mode": "lines",
         "name": "Adventure, Drama, History",
         "showlegend": true,
         "type": "scattergl",
         "x": {
          "bdata": "lgemB60Hswe7B+IH",
          "dtype": "i2"
         },
         "xaxis": "x",
         "y": {
          "bdata": "ZmZmZmZmGkBmZmZmZmYYQJqZmZmZmR9AAAAAAAAAHEAAAAAAAAAeQAAAAAAAAB5A",
          "dtype": "f8"
         },
         "yaxis": "y"
        },
        {
         "hovertemplate": "Genre=Drama, Musical<br>Year=%{x}<br>Rating=%{y}<extra></extra>",
         "legendgroup": "Drama, Musical",
         "line": {
          "color": "#FECB52",
          "dash": "solid"
         },
         "marker": {
          "symbol": "circle"
         },
         "mode": "lines",
         "name": "Drama, Musical",
         "showlegend": true,
         "type": "scattergl",
         "x": {
          "bdata": "lgemB6cHqAeqB6wHrQezB7UHuQe+B78HxwfIB80HzwfSB9MH2AfbB90H3gfkB+UH",
          "dtype": "i2"
         },
         "xaxis": "x",
         "y": {
          "bdata": "MzMzMzMzG0BmZmZmZmYaQGZmZmZmZhxAAAAAAAAAIUCamZmZmZkgQGZmZmZmZiBAmpmZmZmZG0AAAAAAAAAfQJqZmZmZmR9AzczMzMzMGkDNzMzMzMweQDMzMzMzMxlAZmZmZmZmFkAzMzMzMzMZQJqZmZmZmRlAMzMzMzMzGUAAAAAAAAAWQAAAAAAAAAxAAAAAAAAAEEBmZmZmZmYcQDMzMzMzMxNAZmZmZmZmFEBmZmZmZmYgQAAAAAAAABhA",
          "dtype": "f8"
         },
         "yaxis": "y"
        },
        {
         "hovertemplate": "Genre=Comedy, Drama<br>Year=%{x}<br>Rating=%{y}<extra></extra>",
         "legendgroup": "Comedy, Drama",
         "line": {
          "color": "#636efa",
          "dash": "solid"
         },
         "marker": {
          "symbol": "circle"
         },
         "mode": "lines",
         "name": "Comedy, Drama",
         "showlegend": true,
         "type": "scattergl",
         "x": {
          "bdata": "lweZB5oHowekB6UHpwepB6sHrAeuB68HsAexB7IHswe0B7YHuQe6B7sHvAe9B74HvwfBB8IHwwfEB8UHxwfIB8oHywfMB88H0QfTB9QH1QfWB9cH2AfZB9oH2wfcB90H3gffB+AH4QfiB+MH5AflBw==",
          "dtype": "i2"
         },
         "xaxis": "x",
         "y": {
          "bdata": "mpmZmZmZG0AzMzMzMzMbQAAAAAAAABpAmpmZmZmZHUAAAAAAAAAfQGZmZmZmZhhAAAAAAAAAHECamZmZmZkdQDMzMzMzMxdAzczMzMzMGkDNzMzMzMwaQJqZmZmZmR1AmpmZmZmZGEDNzMzMzMwaQN3d3d3d3RtAmpmZmZmZGkCrqqqqqqoYQM3MzMzMzBxAmpmZmZmZGUAAAAAAAAAaQM3MzMzMzBlANDMzMzMzG0AAAAAAAAAcQDMzMzMzMxVAMzMzMzOzG0BVVVVVVVUXQK5H4XoUrhdAAAAAAAAAFkC8u7u7u7sXQN3d3d3d3RdAMzMzMzMzEUAjIiIiIiIaQBERERERERdAmpmZmZmZEkDNzMzMzMwXQGZmZmZmZhdAVVVVVVVVFUAAAAAAAIAVQDQzMzMzMwtAZmZmZmZmF0CamZmZmZkZQIiIiIiIiBhATwnylCBPFUDwuSVO/Z4VQHVQB3VQBxZAb29vb29vFUBmZmZmZmYUQGZmZmZmZhhAAAAAAACAE0DGV3zFV3wVQIuv+Iqv+BhAF2zBFmzBGECPwvUoXI8YQGRjY2NjYxtAOKx9w9o3FkAAAAAAAAAeQA==",
          "dtype": "f8"
         },
         "yaxis": "y"
        },
        {
         "hovertemplate": "Genre=Drama, Family, Fantasy<br>Year=%{x}<br>Rating=%{y}<extra></extra>",
         "legendgroup": "Drama, Family, Fantasy",
         "line": {
          "color": "#EF553B",
          "dash": "solid"
         },
         "marker": {
          "symbol": "circle"
         },
         "mode": "lines",
         "name": "Drama, Family, Fantasy",
         "showlegend": true,
         "type": "scattergl",
         "x": {
          "bdata": "lwezB7cHxQfMB98H",
          "dtype": "i2"
         },
         "xaxis": "x",
         "y": {
          "bdata": "zczMzMzMHEBmZmZmZmYaQM3MzMzMzBpAzczMzMzMFEAAAAAAAAASQDMzMzMzMwtA",
          "dtype": "f8"
         },
         "yaxis": "y"
        },
        {
         "hovertemplate": "Genre=Action, Adventure, Drama<br>Year=%{x}<br>Rating=%{y}<extra></extra>",
         "legendgroup": "Action, Adventure, Drama",
         "line": {
          "color": "#00cc96",
          "dash": "solid"
         },
         "marker": {
          "symbol": "circle"
         },
         "mode": "lines",
         "name": "Action, Adventure, Drama",
         "showlegend": true,
         "type": "scattergl",
         "x": {
          "bdata": "mAeZB50HoAehB6IHpQemB6gHqwesB60HrgevB7AHsQeyB7cHuQe7B70Hvge/B8AHwgfFB8YHyAfJB84H0QfTB9QH1QfXB9gH2QfaB90H4AfhB+MH5Ac=",
          "dtype": "i2"
         },
         "xaxis": "x",
         "y": {
          "bdata": "AAAAAAAAFkAzMzMzMzMTQJqZmZmZmRNAzczMzMzMG0CamZmZmZkTQM3MzMzMzBhAAAAAAAAAGkAAAAAAAAASQGZmZmZmZhhAzczMzMzMGEDNzMzMzMwWQDMzMzMzMxlAzczMzMzMFkB4d3d3d3cXQM3MzMzMzBxAAAAAAAAAGUDNzMzMzMwaQM3MzMzMzBZANDMzMzMzF0CamZmZmZkWQM3MzMzMzBxAMzMzMzMzG0AzMzMzMzMfQJqZmZmZmRlAmpmZmZmZHUCamZmZmZkTQGZmZmZmZhJAAAAAAAAAGkCamZmZmZkbQGZmZmZmZhpAAAAAAAAAFkAzMzMzMzMVQDQzMzMzMw9AAAAAAAAAGEAzMzMzMzMRQAAAAAAAAAhAMzMzMzMzE0C8u7u7u7sRQGZmZmZmZiBAzczMzMzMF0AAAAAAAAAVQDMzMzMzMx1AmpmZmZmZHUA=",
          "dtype": "f8"
         },
         "yaxis": "y"
        },
        {
         "hovertemplate": "Genre=Comedy, Musical<br>Year=%{x}<br>Rating=%{y}<extra></extra>",
         "legendgroup": "Comedy, Musical",
         "line": {
          "color": "#ab63fa",
          "dash": "solid"
         },
         "marker": {
          "symbol": "circle"
         },
         "mode": "lines",
         "name": "Comedy, Musical",
         "showlegend": true,
         "type": "scattergl",
         "x": {
          "bdata": "mAeqB9cH3Ac=",
          "dtype": "i2"
         },
         "xaxis": "x",
         "y": {
          "bdata": "AAAAAAAABEBmZmZmZmYcQGZmZmZmZg5AmpmZmZmZFUA=",
          "dtype": "f8"
         },
         "yaxis": "y"
        },
        {
         "hovertemplate": "Genre=Romance<br>Year=%{x}<br>Rating=%{y}<extra></extra>",
         "legendgroup": "Romance",
         "line": {
          "color": "#FFA15A",
          "dash": "solid"
         },
         "marker": {
          "symbol": "circle"
         },
         "mode": "lines",
         "name": "Romance",
         "showlegend": true,
         "type": "scattergl",
         "x": {
          "bdata": "mAebB5wHnQeeB58HoAehB6IHowekB6UHpgenB6gHqQeqB6sHrAetB64HsAexB7IHtQe2B7cHuAe5B7oHvAe9B74HvwfAB8EHwgfDB8QHxgfHB8gHyQfKB8sHzAfNB84HzwfQB9EH0gfTB9QH1QfWB9cH2AfZB9oH2wfcB90H3gffB+AH4QfiB+MH5Ac=",
          "dtype": "i2"
         },
         "xaxis": "x",
         "y": {
          "bdata": "zczMzMzMGkDNzMzMzMwQQJqZmZmZmRtAZmZmZmZmHEDNzMzMzMweQCMiIiIiIhpAAAAAAAAAFEBnZmZmZmYaQAAAAAAAABJAMzMzMzMzIUCPwvUoXI8UQAAAAAAAAB1AMzMzMzMzF0BVVVVVVVUbQJqZmZmZmR1AX/EVX/EVF0CIiIiIiIgYQAAAAAAAABpAMzMzMzMzF0CamZmZmZkZQM3MzMzMzBlAmpmZmZmZG0CamZmZmZkZQN3d3d3d3RlA61G4HoXrF0A0MzMzMzMbQDMzMzMzMxdAMzMzMzMzF0CamZmZmZkYQCMiIiIiIhZAzczMzMzMGEAAAAAAAIAaQERERERERBhAKlyPwvUoFkDNzMzMzMwWQHsUrkfhehhAQh3UQR3UFUAREREREREZQAAAAAAAABhAAAAAAAAAFEDNzMzMzMwRQGZmZmZmphVA5DiO4ziOE0AzMzMzM7MSQGZmZmZmZhBAZmZmZmZmFUAzMzMzMzMVQM3MzMzMzBZAAAAAAAAAF0AAAAAAAAASQGZmZmZm5hRAZmZmZmZmGECamZmZmZkQQAAAAAAAABNAVVVVVVVVEUDNzMzMzMwVQJqZmZmZmRNA4noUrkfhEECamZmZmZkUQGZmZmZmZgRAERERERERFUDNzMzMzMwSQPYoXI/C9RRAzczMzMzMDEB9xVd8xVcYQOtRuB6F6xFAZmZmZmZmFUDv7u7u7u4WQERERERERBZAZ2ZmZmZmF0A=",
          "dtype": "f8"
         },
         "yaxis": "y"
        },
        {
         "hovertemplate": "Genre=Drama, History<br>Year=%{x}<br>Rating=%{y}<extra></extra>",
         "legendgroup": "Drama, History",
         "line": {
          "color": "#19d3f3",
          "dash": "solid"
         },
         "marker": {
          "symbol": "circle"
         },
         "mode": "lines",
         "name": "Drama, History",
         "showlegend": true,
         "type": "scattergl",
         "x": {
          "bdata": "mQeaB50HngegB6EHpAe6B7sHywfVB9cH3QfgB+EH4gfjBw==",
          "dtype": "i2"
         },
         "xaxis": "x",
         "y": {
          "bdata": "AAAAAAAAHkAAAAAAAAAUQM3MzMzMzBhAAAAAAAAAG0CamZmZmZkgQM3MzMzMzBhAZmZmZmZmGkAzMzMzMzMbQJqZmZmZmRxAzczMzMzMHEBmZmZmZmYeQAAAAAAAACBAAAAAAAAAFEAzMzMzMzMfQAAAAAAAABhAmpmZmZmZG0AAAAAAAAAaQA==",
          "dtype": "f8"
         },
         "yaxis": "y"
        },
        {
         "hovertemplate": "Genre=Drama, War<br>Year=%{x}<br>Rating=%{y}<extra></extra>",
         "legendgroup": "Drama, War",
         "line": {
          "color": "#FF6692",
          "dash": "solid"
         },
         "marker": {
          "symbol": "circle"
         },
         "mode": "lines",
         "name": "Drama, War",
         "showlegend": true,
         "type": "scattergl",
         "x": {
          "bdata": "mQfOB98H4QfkBw==",
          "dtype": "i2"
         },
         "xaxis": "x",
         "y": {
          "bdata": "mpmZmZmZFUDNzMzMzMwaQJqZmZmZmRlAZmZmZmZmDkAzMzMzMzMdQA==",
          "dtype": "f8"
         },
         "yaxis": "y"
        },
        {
         "hovertemplate": "Genre=Drama, History, Romance<br>Year=%{x}<br>Rating=%{y}<extra></extra>",
         "legendgroup": "Drama, History, Romance",
         "line": {
          "color": "#B6E880",
          "dash": "solid"
         },
         "marker": {
          "symbol": "circle"
         },
         "mode": "lines",
         "name": "Drama, History, Romance",
         "showlegend": true,
         "type": "scattergl",
         "x": {
          "bdata": "mgeiB68HtwfTB+IH5Ac=",
          "dtype": "i2"
         },
         "xaxis": "x",
         "y": {
          "bdata": "mpmZmZmZG0BmZmZmZmYaQAAAAAAAABhAMzMzMzMzGUDNzMzMzMwaQAAAAAAAABxAZmZmZmZmDkA=",
          "dtype": "f8"
         },
         "yaxis": "y"
        },
        {
         "hovertemplate": "Genre=Biography, Drama, War<br>Year=%{x}<br>Rating=%{y}<extra></extra>",
         "legendgroup": "Biography, Drama, War",
         "line": {
          "color": "#FF97FF",
          "dash": "solid"
         },
         "marker": {
          "symbol": "circle"
         },
         "mode": "lines",
         "name": "Biography, Drama, War",
         "showlegend": true,
         "type": "scattergl",
         "x": {
          "bdata": "mwfkBw==",
          "dtype": "i2"
         },
         "xaxis": "x",
         "y": {
          "bdata": "MzMzMzMzG0AzMzMzMzMDQA==",
          "dtype": "f8"
         },
         "yaxis": "y"
        },
        {
         "hovertemplate": "Genre=Comedy, Romance<br>Year=%{x}<br>Rating=%{y}<extra></extra>",
         "legendgroup": "Comedy, Romance",
         "line": {
          "color": "#FECB52",
          "dash": "solid"
         },
         "marker": {
          "symbol": "circle"
         },
         "mode": "lines",
         "name": "Comedy, Romance",
         "showlegend": true,
         "type": "scattergl",
         "x": {
          "bdata": "mwedB54HnwelB6oHqweuB68HsAeyB7MHtge4B7oHuwe9B78HyAfJB8oHzAfNB84HzwfQB9EH0gfTB9QH1QfWB9cH2gfcB90H3gffB+AH4QfiB+MH5Ac=",
          "dtype": "i2"
         },
         "xaxis": "x",
         "y": {
          "bdata": "mpmZmZmZHUCamZmZmZkZQGZmZmZmZhxAMzMzMzMzGUCIiIiIiIgaQAAAAAAAABxAMzMzMzMzGUBmZmZmZmYcQDMzMzMzMxlAMzMzMzMzG0AAAAAAAAAcQM3MzMzMzBhAzczMzMzMGECamZmZmZkgQAAAAAAAABxAAAAAAAAAIEAAAAAAAAAcQJqZmZmZmR1ANDMzMzMzFkAzMzMzMzMTQGZmZmZmZhpAZmZmZmZmF0DNzMzMzMwaQDQzMzMzMxhAZmZmZmZmEkAAAAAAAAAUQDMzMzMzMxdAmpmZmZmZEkDNzMzMzMwYQM3MzMzMTBVA3t3d3d3dEUDd3d3d3d0TQGZmZmZmZhlAeHd3d3d3FUDNzMzMzEwUQDMzMzMzMxBAAAAAAACAFkAzMzMzM3MSQDMzMzMzMxVAiIiIiIiIGkDNzMzMzIwVQERERERERBdAREREREREGEA=",
          "dtype": "f8"
         },
         "yaxis": "y"
        },
        {
         "hovertemplate": "Genre=Comedy, Sci-Fi<br>Year=%{x}<br>Rating=%{y}<extra></extra>",
         "legendgroup": "Comedy, Sci-Fi",
         "line": {
          "color": "#636efa",
          "dash": "solid"
         },
         "marker": {
          "symbol": "circle"
         },
         "mode": "lines",
         "name": "Comedy, Sci-Fi",
         "showlegend": true,
         "type": "scattergl",
         "x": {
          "bdata": "mwfTBw==",
          "dtype": "i2"
         },
         "xaxis": "x",
         "y": {
          "bdata": "ZmZmZmZmEEAAAAAAAAAcQA==",
          "dtype": "f8"
         },
         "yaxis": "y"
        },
        {
         "hovertemplate": "Genre=Drama, Family, Musical<br>Year=%{x}<br>Rating=%{y}<extra></extra>",
         "legendgroup": "Drama, Family, Musical",
         "line": {
          "color": "#EF553B",
          "dash": "solid"
         },
         "marker": {
          "symbol": "circle"
         },
         "mode": "lines",
         "name": "Drama, Family, Musical",
         "showlegend": true,
         "type": "scattergl",
         "x": {
          "bdata": "mwefB6cHqQesB60HrwewB7EHsgezB7QHyAfNB9EH1AfVB9gH3AfhBw==",
          "dtype": "i2"
         },
         "xaxis": "x",
         "y": {
          "bdata": "MzMzMzMzGUAzMzMzMzMbQDMzMzMzMxtAAAAAAAAAGkDNzMzMzMwgQDMzMzMzMxlAAAAAAAAAFkDNzMzMzMwaQFVVVVVVVRtAIyIiIiIiGECamZmZmZkbQGZmZmZmZhxAZmZmZmZmDkAAAAAAAAAeQDMzMzMzMxVAMzMzMzMzH0AzMzMzMzMTQDMzMzMzMxNAMzMzMzMzH0DNzMzMzMwWQA==",
          "dtype": "f8"
         },
         "yaxis": "y"
        },
        {
         "hovertemplate": "Genre=Drama, Music<br>Year=%{x}<br>Rating=%{y}<extra></extra>",
         "legendgroup": "Drama, Music",
         "line": {
          "color": "#00cc96",
          "dash": "solid"
         },
         "marker": {
          "symbol": "circle"
         },
         "mode": "lines",
         "name": "Drama, Music",
         "showlegend": true,
         "type": "scattergl",
         "x": {
          "bdata": "mwekB6oHwwfFB80H1AfYB9kH3QffB+AH4QfkBw==",
          "dtype": "i2"
         },
         "xaxis": "x",
         "y": {
          "bdata": "AAAAAAAAHkBmZmZmZmYaQM3MzMzMzBpAZmZmZmZmEkBmZmZmZmYaQGZmZmZmZhpAzczMzMzMGkDNzMzMzMweQDMzMzMzMxVAMzMzMzMzGUCamZmZmZkbQAAAAAAAABRAMzMzMzMzH0DNzMzMzMwMQA==",
          "dtype": "f8"
         },
         "yaxis": "y"
        },
        {
         "hovertemplate": "Genre=Action, Adventure, Fantasy<br>Year=%{x}<br>Rating=%{y}<extra></extra>",
         "legendgroup": "Action, Adventure, Fantasy",
         "line": {
          "color": "#ab63fa",
          "dash": "solid"
         },
         "marker": {
          "symbol": "circle"
         },
         "mode": "lines",
         "name": "Action, Adventure, Fantasy",
         "showlegend": true,
         "type": "scattergl",
         "x": {
          "bdata": "nAejB6QHrAetB7sHwQfHB8wH1gfYB9sH4Ac=",
          "dtype": "i2"
         },
         "xaxis": "x",
         "y": {
          "bdata": "zczMzMzMHEAzMzMzMzMTQM3MzMzMzBJAZmZmZmZmGEAzMzMzMzMdQM3MzMzMzBJAq6qqqqqqFkAzMzMzMzMTQAAAAAAAABhAZmZmZmZmCkAAAAAAAAAAQGZmZmZmZhJAzczMzMzMGkA=",
          "dtype": "f8"
         },
         "yaxis": "y"
        },
        {
         "hovertemplate": "Genre=Family, Romance, Drama<br>Year=%{x}<br>Rating=%{y}<extra></extra>",
         "legendgroup": "Family, Romance, Drama",
         "line": {
          "color": "#FFA15A",
          "dash": "solid"
         },
         "marker": {
          "symbol": "circle"
         },
         "mode": "lines",
         "name": "Family, Romance, Drama",
         "showlegend": true,
         "type": "scattergl",
         "x": {
          "bdata": "nAc=",
          "dtype": "i2"
         },
         "xaxis": "x",
         "y": {
          "bdata": "AAAAAAAAHkA=",
          "dtype": "f8"
         },
         "yaxis": "y"
        },
        {
         "hovertemplate": "Genre=Musical<br>Year=%{x}<br>Rating=%{y}<extra></extra>",
         "legendgroup": "Musical",
         "line": {
          "color": "#19d3f3",
          "dash": "solid"
         },
         "marker": {
          "symbol": "circle"
         },
         "mode": "lines",
         "name": "Musical",
         "showlegend": true,
         "type": "scattergl",
         "x": {
          "bdata": "nAejB6gHrAe6B74HwwfKB8wHzgfUB+IH",
          "dtype": "i2"
         },
         "xaxis": "x",
         "y": {
          "bdata": "NDMzMzMzHEDNzMzMzMwYQM3MzMzMzBRAMzMzMzMzHECamZmZmZkXQM3MzMzMzAxAMzMzMzMzEUDv7u7u7u4YQJqZmZmZmRVAmpmZmZmZDUBmZmZmZmYTQGZmZmZmZgZA",
          "dtype": "f8"
         },
         "yaxis": "y"
        },
        {
         "hovertemplate": "Genre=Crime, Drama, Romance<br>Year=%{x}<br>Rating=%{y}<extra></extra>",
         "legendgroup": "Crime, Drama, Romance",
         "line": {
          "color": "#FF6692",
          "dash": "solid"
         },
         "marker": {
          "symbol": "circle"
         },
         "mode": "lines",
         "name": "Crime, Drama, Romance",
         "showlegend": true,
         "type": "scattergl",
         "x": {
          "bdata": "nQelB6cHqweuB68HsAe0B7gHuQe8B70HyQfTB9cH2AfaB9wH3gfjB+QH",
          "dtype": "i2"
         },
         "xaxis": "x",
         "y": {
          "bdata": "zczMzMzMHkDNzMzMzMwcQDMzMzMzMxtAMzMzMzMzGkAAAAAAAAAaQDMzMzMzMxtAAAAAAAAAGECamZmZmZkXQDMzMzMzMxtAzczMzMzMHECamZmZmZkXQJqZmZmZmRtAzczMzMzMGEBmZmZmZmYeQAAAAAAAABJAmpmZmZmZG0BmZmZmZmYGQJqZmZmZmRlAZmZmZmZmGUAzMzMzMzMbQKuqqqqqqhpA",
          "dtype": "f8"
         },
         "yaxis": "y"
        },
        {
         "hovertemplate": "Genre=Crime, Drama, Thriller<br>Year=%{x}<br>Rating=%{y}<extra></extra>",
         "legendgroup": "Crime, Drama, Thriller",
         "line": {
          "color": "#B6E880",
          "dash": "solid"
         },
         "marker": {
          "symbol": "circle"
         },
         "mode": "lines",
         "name": "Crime, Drama, Thriller",
         "showlegend": true,
         "type": "scattergl",
         "x": {
          "bdata": "nQe1B7YHtwfBB8IHyQfOB88H0AfRB9IH0wfUB9UH1gfXB9gH2QfaB9sH3AfdB94H4AfhB+IH5AflBw==",
          "dtype": "i2"
         },
         "xaxis": "x",
         "y": {
          "bdata": "MzMzMzMzGUDNzMzMzMwSQM3MzMzMzBpAZmZmZmZmFEAAAAAAAAAcQAAAAAAAAB5AmpmZmZmZDUCamZmZmZkbQM3MzMzMzBpAmpmZmZmZEkDNzMzMzMwYQM3MzMzMzBdAMzMzMzMzIEDNzMzMzMwVQDMzMzMzMxtAmpmZmZmZEUBmZmZmZmYMQGZmZmZmZhtAo3A9CtejGkBEREREREQUQKuqqqqqqhhANDMzMzMzGUCamZmZmZkbQN3d3d3d3RtA9ihcj8L1GkAREREREREbQMzMzMzMzBNAZmZmZmZmFkBmZmZmZmYGQA==",
          "dtype": "f8"
         },
         "yaxis": "y"
        },
        {
         "hovertemplate": "Genre=Drama, Horror, Mystery<br>Year=%{x}<br>Rating=%{y}<extra></extra>",
         "legendgroup": "Drama, Horror, Mystery",
         "line": {
          "color": "#FF97FF",
          "dash": "solid"
         },
         "marker": {
          "symbol": "circle"
         },
         "mode": "lines",
         "name": "Drama, Horror, Mystery",
         "showlegend": true,
         "type": "scattergl",
         "x": {
          "bdata": "nQezB9IH1QfXB9gH2QfaB9sH3gfkBw==",
          "dtype": "i2"
         },
         "xaxis": "x",
         "y": {
          "bdata": "ZmZmZmZmHEAzMzMzMzMbQDMzMzMzMxlAzMzMzMzMEEAzMzMzMzMdQDMzMzMzMw9AZmZmZmZmFEARERERERENQJqZmZmZmRNAmpmZmZmZBUAAAAAAAAAUQA==",
          "dtype": "f8"
         },
         "yaxis": "y"
        },
        {
         "hovertemplate": "Genre=Drama, Romance, Musical<br>Year=%{x}<br>Rating=%{y}<extra></extra>",
         "legendgroup": "Drama, Romance, Musical",
         "line": {
          "color": "#FECB52",
          "dash": "solid"
         },
         "marker": {
          "symbol": "circle"
         },
         "mode": "lines",
         "name": "Drama, Romance, Musical",
         "showlegend": true,
         "type": "scattergl",
         "x": {
          "bdata": "nQelB8cH0wc=",
          "dtype": "i2"
         },
         "xaxis": "x",
         "y": {
          "bdata": "zczMzMzMHkBmZmZmZmYaQJqZmZmZmRlAZmZmZmZmEEA=",
          "dtype": "f8"
         },
         "yaxis": "y"
        },
        {
         "hovertemplate": "Genre=Musical, Drama, Crime<br>Year=%{x}<br>Rating=%{y}<extra></extra>",
         "legendgroup": "Musical, Drama, Crime",
         "line": {
          "color": "#636efa",
          "dash": "solid"
         },
         "marker": {
          "symbol": "circle"
         },
         "mode": "lines",
         "name": "Musical, Drama, Crime",
         "showlegend": true,
         "type": "scattergl",
         "x": {
          "bdata": "nQc=",
          "dtype": "i2"
         },
         "xaxis": "x",
         "y": {
          "bdata": "zczMzMzMHEA=",
          "dtype": "f8"
         },
         "yaxis": "y"
        },
        {
         "hovertemplate": "Genre=Crime, Drama, Mystery<br>Year=%{x}<br>Rating=%{y}<extra></extra>",
         "legendgroup": "Crime, Drama, Mystery",
         "line": {
          "color": "#EF553B",
          "dash": "solid"
         },
         "marker": {
          "symbol": "circle"
         },
         "mode": "lines",
         "name": "Crime, Drama, Mystery",
         "showlegend": true,
         "type": "scattergl",
         "x": {
          "bdata": "ngelB6YHqgetB68HsAe2B7cHwQfEB8oHzQfSB9QH1QfXB9gH2QfaB9sH3AfdB98H4QfjB+QH5Qc=",
          "dtype": "i2"
         },
         "xaxis": "x",
         "y": {
          "bdata": "ZmZmZmZmHEAAAAAAAAAWQM3MzMzMzBxAzczMzMzMFECamZmZmZkZQDMzMzMzMx1AMzMzMzMzHUBmZmZmZmYYQM3MzMzMzBhAzczMzMzMFEAAAAAAAAAYQGZmZmZmZhRAMzMzMzMzGUBmZmZmZmYaQAAAAAAAAB5AFa5H4XoUFkBmZmZmZuYYQFVVVVVVVRlAAAAAAAAAFkCamZmZmRkYQMzMzMzMzBdAzczMzMzMHEAAAAAAAAAgQFVVVVVVVR1AZmZmZmZmFECZmZmZmZkcQAAAAAAAgBxAmpmZmZmZEUA=",
          "dtype": "f8"
         },
         "yaxis": "y"
        },
        {
         "hovertemplate": "Genre=Drama, Romance, Thriller<br>Year=%{x}<br>Rating=%{y}<extra></extra>",
         "legendgroup": "Drama, Romance, Thriller",
         "line": {
          "color": "#00cc96",
          "dash": "solid"
         },
         "marker": {
          "symbol": "circle"
         },
         "mode": "lines",
         "name": "Drama, Romance, Thriller",
         "showlegend": true,
         "type": "scattergl",
         "x": {
          "bdata": "ngegB60HrgexB7IHtQe2B7cHzwfRB9MH1AfVB9YH1wfYB9oH2wfcB90H4AfhB+IH4wfkBw==",
          "dtype": "i2"
         },
         "xaxis": "x",
         "y": {
          "bdata": "ZmZmZmZmGkDNzMzMzMwcQJqZmZmZmR1AzczMzMzMFEA0MzMzMzMaQGZmZmZmZhxAZmZmZmZmHEAzMzMzMzMbQM3MzMzMzBZAmpmZmZmZEUAzMzMzMzMVQM3MzMzMzBRAmpmZmZkZEUBmZmZmZmYOQM3MzMzMTBJAZmZmZmbmEEDNzMzMzMwRQJqZmZmZmQlAAAAAAAAAGkBmZmZmZmYQQJqZmZmZmRhAZmZmZmZmBkBmZmZmZmYCQAAAAAAAABZAAAAAAAAAIEAzMzMzMzMVQA==",
          "dtype": "f8"
         },
         "yaxis": "y"
        },
        {
         "hovertemplate": "Genre=Action, Drama<br>Year=%{x}<br>Rating=%{y}<extra></extra>",
         "legendgroup": "Action, Drama",
         "line": {
          "color": "#ab63fa",
          "dash": "solid"
         },
         "marker": {
          "symbol": "circle"
         },
         "mode": "lines",
         "name": "Action, Drama",
         "showlegend": true,
         "type": "scattergl",
         "x": {
          "bdata": "nweiB64HrwexB7MHtAe1B7YHtwe5B7oHuwe8B70Hvge/B8AHwQfCB8MHxAfFB8YHxwfIB8kHygfLB8wHzQfOB88H0AfRB9IH0wfUB9UH1gfYB9sH3QfeB+IH4wfkBw==",
          "dtype": "i2"
         },
         "xaxis": "x",
         "y": {
          "bdata": "mpmZmZmZGUBmZmZmZmYYQJqZmZmZmRlAzczMzMzMGECamZmZmZkTQBERERERERtAAAAAAAAAFkAzMzMzMzMaQLgehetRuBhAzczMzMzMGEAzMzMzM7MVQIXrUbgehRdAAAAAAACAF0BmZmZmZuYYQD4K16NwPRhAzczMzMxMF0D2KFyPwvUWQGdmZmZm5hZAMzMzMzMzF0CWWqmVWqkXQFK4HoXrURZAOY7jOI7jFEDd3d3d3d0VQLrooosuuhRAS63USq3UEkCLr/iKr/gYQF/ohV7ohRRAV2qlVmqlEkAe1EEd1EETQM3MzMzMzBNAMzMzMzPzFECJiIiIiIgUQJQ+6ZM+6RVAexSuR+F6EkCamZmZmZkUQLZgC7ZgCxZAMzMzMzMzEUBmZmZmZmYSQAAAAAAAABZAAAAAAAAAFEAiIiIiIiISQDMzMzMzMxlAZmZmZmZmFUAjIiIiIiIWQM3MzMzMzBpAdVAHdVAHG0AjIiIiIiIWQA==",
          "dtype": "f8"
         },
         "yaxis": "y"
        },
        {
         "hovertemplate": "Genre=Action, Romance<br>Year=%{x}<br>Rating=%{y}<extra></extra>",
         "legendgroup": "Action, Romance",
         "line": {
          "color": "#FFA15A",
          "dash": "solid"
         },
         "marker": {
          "symbol": "circle"
         },
         "mode": "lines",
         "name": "Action, Romance",
         "showlegend": true,
         "type": "scattergl",
         "x": {
          "bdata": "nwexB7cHuAe9B74HvwfEB8YHxwfIB8sHzAfOB9AH0QfSB9MH1AfVB94H4gc=",
          "dtype": "i2"
         },
         "xaxis": "x",
         "y": {
          "bdata": "zczMzMzMGkCamZmZmZkNQGZmZmZmZhxAmpmZmZmZD0Dv7u7u7u4YQJqZmZmZmRZAzczMzMzMGkAAAAAAAAAQQGZmZmZmZhhAzczMzMzMBECamZmZmZkTQFVVVVVVVRFAzczMzMzMFkAAAAAAAAAEQM3MzMzMzBJAZmZmZmZmEkBVVVVVVVURQAAAAAAAABJAmpmZmZmZEUA0MzMzMzMLQAAAAAAAABBAMzMzMzMzE0A=",
          "dtype": "f8"
         },
         "yaxis": "y"
        },
        {
         "hovertemplate": "Genre=Comedy, Drama, Musical<br>Year=%{x}<br>Rating=%{y}<extra></extra>",
         "legendgroup": "Comedy, Drama, Musical",
         "line": {
          "color": "#19d3f3",
          "dash": "solid"
         },
         "marker": {
          "symbol": "circle"
         },
         "mode": "lines",
         "name": "Comedy, Drama, Musical",
         "showlegend": true,
         "type": "scattergl",
         "x": {
          "bdata": "nwejB6QHpgenB6kHqgerB64HrwewB8EHwwfGB8oHywfNB84HzwfQB9EH0gfTB9QH1QfWB9cH2AfaB90H3gfhBw==",
          "dtype": "i2"
         },
         "xaxis": "x",
         "y": {
          "bdata": "AAAAAAAAHEBmZmZmZmYcQJqZmZmZmR1AZmZmZmZmGUCamZmZmZkfQCMiIiIiIhxAAAAAAAAAHEAAAAAAAAAcQGZmZmZmZhpAAAAAAAAAGkCamZmZmZkbQDMzMzMzMxtAmpmZmZmZHUAAAAAAAAAcQAAAAAAAABtAAAAAAAAAHkAzMzMzM7MYQDMzMzMzMxlAzczMzMzMF0AREREREREVQJqZmZmZmRVAAAAAAAAAE0DNzMzMzMwXQM3MzMzMzBhAZmZmZmZmGUBmZmZmZmYYQBERERERERVAZmZmZmZmEEAzMzMzMzMXQGZmZmZmZhJAMzMzMzMzIEAzMzMzMzMLQA==",
          "dtype": "f8"
         },
         "yaxis": "y"
        },
        {
         "hovertemplate": "Genre=Comedy, Drama, Romance<br>Year=%{x}<br>Rating=%{y}<extra></extra>",
         "legendgroup": "Comedy, Drama, Romance",
         "line": {
          "color": "#FF6692",
          "dash": "solid"
         },
         "marker": {
          "symbol": "circle"
         },
         "mode": "lines",
         "name": "Comedy, Drama, Romance",
         "showlegend": true,
         "type": "scattergl",
         "x": {
          "bdata": "nweiB6MHpAeoB6kHqgerB60HrgevB7EHsgezB7QHtwe4B7oHuwe8B70HvwfAB8EHwgfGB8gHyQfKB8wHzQfOB88H0AfRB9IH0wfUB9UH1gfXB9gH2QfaB9sH3AfdB94H3wfgB+EH4gfjB+QH5Qc=",
          "dtype": "i2"
         },
         "xaxis": "x",
         "y": {
          "bdata": "zczMzMzMGkDNzMzMzMwaQGZmZmZmZh1AREREREREFkDv7u7u7u4aQGdmZmZmZhhAmpmZmZmZF0AAAAAAAIAaQM3MzMzMzBhAZmZmZmbmGkAAAAAAAAAaQM3MzMzMTBVAmpmZmZmZF0AzMzMzMzMaQJqZmZmZmRVAmpmZmZmZIEA0MzMzMzMbQGZmZmZmZhhAZmZmZmZmGUDNzMzMzMwdQM3MzMzMzBhAMzMzMzMzE0A0MzMzMzMbQERERERERBpA7+7u7u7uHEDNzMzMzMwaQJqZmZmZGRZAmpmZmZmZFUAzMzMzMzMSQDMzMzMzMxtAzczMzMxMF0AAAAAAAAAYQArXo3A9ChNAZmZmZmZmFEBSuB6F61EYQI/C9ShcjxJAmZmZmZmZFUAzMzMzM7MRQOIrvuIrvhZAqIM6qIM6FkBI4XoUrkcXQPYoXI/C9RRA1UEd1EEdFkBh7RvWvmEXQML1KFyPwhRAmZmZmZlZGEDjK77iK74WQJQ+6ZM+6RVAcT0K16NwF0DMzMzMzMwOQI/C9ShcjxZAVVVVVVVVE0AzMzMzMzMWQDMzMzMzsxVAzczMzMzMGkA=",
          "dtype": "f8"
         },
         "yaxis": "y"
        },
        {
         "hovertemplate": "Genre=Crime, Drama, Musical<br>Year=%{x}<br>Rating=%{y}<extra></extra>",
         "legendgroup": "Crime, Drama, Musical",
         "line": {
          "color": "#B6E880",
          "dash": "solid"
         },
         "marker": {
          "symbol": "circle"
         },
         "mode": "lines",
         "name": "Crime, Drama, Musical",
         "showlegend": true,
         "type": "scattergl",
         "x": {
          "bdata": "nweoB68HtwfHB8kHywfWB9kH",
          "dtype": "i2"
         },
         "xaxis": "x",
         "y": {
          "bdata": "MzMzMzMzHUCamZmZmZkdQAAAAAAAACBAzczMzMzMGEAAAAAAAAAcQM3MzMzMzB5AzczMzMzMEEAAAAAAAAAWQM3MzMzMzBZA",
          "dtype": "f8"
         },
         "yaxis": "y"
        },
        {
         "hovertemplate": "Genre=Family, Drama<br>Year=%{x}<br>Rating=%{y}<extra></extra>",
         "legendgroup": "Family, Drama",
         "line": {
          "color": "#FF97FF",
          "dash": "solid"
         },
         "marker": {
          "symbol": "circle"
         },
         "mode": "lines",
         "name": "Family, Drama",
         "showlegend": true,
         "type": "scattergl",
         "x": {
          "bdata": "nwepB7YHtwe8B70HvgfAB8EHxQc=",
          "dtype": "i2"
         },
         "xaxis": "x",
         "y": {
          "bdata": "mpmZmZmZE0AzMzMzMzMbQJqZmZmZmR1AAAAAAAAAGEDNzMzMzMwWQM3MzMzMzBZAzMzMzMzMGEAAAAAAAAAWQGZmZmZmZhZAZmZmZmZmEkA=",
          "dtype": "f8"
         },
         "yaxis": "y"
        },
        {
         "hovertemplate": "Genre=Mystery, Romance, Thriller<br>Year=%{x}<br>Rating=%{y}<extra></extra>",
         "legendgroup": "Mystery, Romance, Thriller",
         "line": {
          "color": "#FECB52",
          "dash": "solid"
         },
         "marker": {
          "symbol": "circle"
         },
         "mode": "lines",
         "name": "Mystery, Romance, Thriller",
         "showlegend": true,
         "type": "scattergl",
         "x": {
          "bdata": "nweqB8QHyQfVB98H",
          "dtype": "i2"
         },
         "xaxis": "x",
         "y": {
          "bdata": "zczMzMzMGEAzMzMzMzMbQM3MzMzMzBZAmpmZmZmZE0DNzMzMzMwUQM3MzMzMzBRA",
          "dtype": "f8"
         },
         "yaxis": "y"
        },
        {
         "hovertemplate": "Genre=Biography, Drama, History<br>Year=%{x}<br>Rating=%{y}<extra></extra>",
         "legendgroup": "Biography, Drama, History",
         "line": {
          "color": "#636efa",
          "dash": "solid"
         },
         "marker": {
          "symbol": "circle"
         },
         "mode": "lines",
         "name": "Biography, Drama, History",
         "showlegend": true,
         "type": "scattergl",
         "x": {
          "bdata": "oAehB60Hrge5B74HyQfRB9IH1QfXB9oH3wfhBw==",
          "dtype": "i2"
         },
         "xaxis": "x",
         "y": {
          "bdata": "ZmZmZmZmHkCamZmZmZkbQJqZmZmZmR9AZmZmZmZmIEAzMzMzMzMVQAAAAAAAACBAmpmZmZmZH0DNzMzMzMwYQKuqqqqqqhhAZmZmZmZmHEAzMzMzMzMdQGZmZmZmZhpAzczMzMzMFEDNzMzMzMwaQA==",
          "dtype": "f8"
         },
         "yaxis": "y"
        },
        {
         "hovertemplate": "Genre=Comedy, Thriller<br>Year=%{x}<br>Rating=%{y}<extra></extra>",
         "legendgroup": "Comedy, Thriller",
         "line": {
          "color": "#EF553B",
          "dash": "solid"
         },
         "marker": {
          "symbol": "circle"
         },
         "mode": "lines",
         "name": "Comedy, Thriller",
         "showlegend": true,
         "type": "scattergl",
         "x": {
          "bdata": "oAewB74HwgfKB9AH1AfWB9cH2AfcB90H3gfgB+IH",
          "dtype": "i2"
         },
         "xaxis": "x",
         "y": {
          "bdata": "ZmZmZmZmEEBmZmZmZmYaQJqZmZmZmRdAmpmZmZmZGUDNzMzMzMwUQM3MzMzMzBJAmpmZmZmZEUCamZmZmZkVQAAAAAAAABpAMzMzMzMzF0AzMzMzMzMVQAAAAAAAABBAzczMzMzMFECamZmZmZkZQMzMzMzMzBpA",
          "dtype": "f8"
         },
         "yaxis": "y"
        },
        {
         "hovertemplate": "Genre=Crime, Thriller<br>Year=%{x}<br>Rating=%{y}<extra></extra>",
         "legendgroup": "Crime, Thriller",
         "line": {
          "color": "#00cc96",
          "dash": "solid"
         },
         "marker": {
          "symbol": "circle"
         },
         "mode": "lines",
         "name": "Crime, Thriller",
         "showlegend": true,
         "type": "scattergl",
         "x": {
          "bdata": "oAeoB7AHvAfAB8YHygfMB9AH0gfTB9UH1gfcB90H3gfgB+IH4wfkB+UH",
          "dtype": "i2"
         },
         "xaxis": "x",
         "y": {
          "bdata": "zczMzMzMHEAAAAAAAAAaQDMzMzMzMyBAzczMzMzMFEAAAAAAAAAaQGZmZmZmZhpAAAAAAAAAEECamZmZmZkWQM3MzMzMzBRAMzMzMzMzB0AAAAAAAAAUQDMzMzMzMwtAMzMzMzMzGUCamZmZmZkNQJqZmZmZmRdAZmZmZmZmGEAzMzMzMzMXQGZmZmZmZhxAAAAAAAAAHkCamZmZmZkUQGZmZmZmZhpA",
          "dtype": "f8"
         },
         "yaxis": "y"
        },
        {
         "hovertemplate": "Genre=Drama, Mystery, Romance<br>Year=%{x}<br>Rating=%{y}<extra></extra>",
         "legendgroup": "Drama, Mystery, Romance",
         "line": {
          "color": "#ab63fa",
          "dash": "solid"
         },
         "marker": {
          "symbol": "circle"
         },
         "mode": "lines",
         "name": "Drama, Mystery, Romance",
         "showlegend": true,
         "type": "scattergl",
         "x": {
          "bdata": "oAesB64HvQfJB9QH2AfaB9sH3QffB+AH",
          "dtype": "i2"
         },
         "xaxis": "x",
         "y": {
          "bdata": "MzMzMzMzHUBmZmZmZmYeQMzMzMzMzBdAmpmZmZmZG0CamZmZmZkVQDQzMzMzMw1AzczMzMzMDkBmZmZmZmYcQAAAAAAAABRAZmZmZmZm/j/NzMzMzMwUQJqZmZmZmRFA",
          "dtype": "f8"
         },
         "yaxis": "y"
        },
        {
         "hovertemplate": "Genre=Fantasy, Romance<br>Year=%{x}<br>Rating=%{y}<extra></extra>",
         "legendgroup": "Fantasy, Romance",
         "line": {
          "color": "#FFA15A",
          "dash": "solid"
         },
         "marker": {
          "symbol": "circle"
         },
         "mode": "lines",
         "name": "Fantasy, Romance",
         "showlegend": true,
         "type": "scattergl",
         "x": {
          "bdata": "oAfCBw==",
          "dtype": "i2"
         },
         "xaxis": "x",
         "y": {
          "bdata": "zczMzMzMGkAAAAAAAAAaQA==",
          "dtype": "f8"
         },
         "yaxis": "y"
        },
        {
         "hovertemplate": "Genre=History<br>Year=%{x}<br>Rating=%{y}<extra></extra>",
         "legendgroup": "History",
         "line": {
          "color": "#19d3f3",
          "dash": "solid"
         },
         "marker": {
          "symbol": "circle"
         },
         "mode": "lines",
         "name": "History",
         "showlegend": true,
         "type": "scattergl",
         "x": {
          "bdata": "oAewB7kHvQfDB9IH1gfcB+AH",
          "dtype": "i2"
         },
         "xaxis": "x",
         "y": {
          "bdata": "AAAAAAAAGEBmZmZmZmYcQAAAAAAAABxAZmZmZmZmEkDNzMzMzMwYQM3MzMzMzBBAZmZmZmZmGkBnZmZmZmYcQGZmZmZmZhpA",
          "dtype": "f8"
         },
         "yaxis": "y"
        },
        {
         "hovertemplate": "Genre=Action<br>Year=%{x}<br>Rating=%{y}<extra></extra>",
         "legendgroup": "Action",
         "line": {
          "color": "#FF6692",
          "dash": "solid"
         },
         "marker": {
          "symbol": "circle"
         },
         "mode": "lines",
         "name": "Action",
         "showlegend": true,
         "type": "scattergl",
         "x": {
          "bdata": "oQekB6UHpgenB6kHrAeuB7AHsQeyB7MHtAe1B7gHuQe6B7sHvAe9B74HvwfAB8EHwgfDB8QHxQfGB8cHyAfJB8oHywfMB80HzgfPB9AH0QfSB9MH1AfVB9YH1wfYB9kH2gfbB9wH3QfeB98H4AfhB+IH4wfkBw==",
          "dtype": "i2"
         },
         "xaxis": "x",
         "y": {
          "bdata": "ZmZmZmZmEkAAAAAAAAAYQGZmZmZmZhZAZmZmZmZmGEDMzMzMzMwVQM3MzMzMzBhAZmZmZmZmBkAAAAAAAAAWQGZmZmZmZhhAq6qqqqqqGEBVVVVVVVUTQM3MzMzMzBZAAAAAAACAFUCamZmZmZkaQKuqqqqqqhhA27Zt27ZtFUD2KFyPwvUWQLgehetRuBZA9ihcj8L1FkAzMzMzM7MVQJqZmZmZ2RBAAAAAAAAAE0CJiIiIiIgUQM3MzMzMrBVAexSuR+F6FkDylCBPCfISQDMzMzMzMxNAmZmZmZmZE0CF61G4HoUSQLlfl1Q+jBNAi6/4iq/4E0AlSZIkSZITQI7jOI7jOBBAfcVXfMVXEkBh7RvWvmEVQL7iK77iKxRAzczMzMyMEkB3d3d3d/cTQCVJkiRJkhFABgYGBgYGFEAbGxsbGxsRQKcEeUqQpxJAAAAAAAAAFUAP6qAO6qAWQClcj8L1KBZA3d3d3d3dFECamZmZmZkVQAAAAAAAABpAMzMzMzMzE0CamZmZmZkXQJqZmZmZmRVAZmZmZmZmDkBI4XoUrkcTQM3MzMzMzBNAAAAAAAAAGkD2KFyPwvUWQOJ6FK5H4RZAAAAAAAAAGEAzMzMzMzMbQA==",
          "dtype": "f8"
         },
         "yaxis": "y"
        },
        {
         "hovertemplate": "Genre=Action, Adventure, Musical<br>Year=%{x}<br>Rating=%{y}<extra></extra>",
         "legendgroup": "Action, Adventure, Musical",
         "line": {
          "color": "#B6E880",
          "dash": "solid"
         },
         "marker": {
          "symbol": "circle"
         },
         "mode": "lines",
         "name": "Action, Adventure, Musical",
         "showlegend": true,
         "type": "scattergl",
         "x": {
          "bdata": "oQeuB7wH0gc=",
          "dtype": "i2"
         },
         "xaxis": "x",
         "y": {
          "bdata": "MzMzMzMzHUAAAAAAAAAcQDMzMzMzMw9AAAAAAAAAEkA=",
          "dtype": "f8"
         },
         "yaxis": "y"
        },
        {
         "hovertemplate": "Genre=Comedy, Crime, Drama<br>Year=%{x}<br>Rating=%{y}<extra></extra>",
         "legendgroup": "Comedy, Crime, Drama",
         "line": {
          "color": "#FF97FF",
          "dash": "solid"
         },
         "marker": {
          "symbol": "circle"
         },
         "mode": "lines",
         "name": "Comedy, Crime, Drama",
         "showlegend": true,
         "type": "scattergl",
         "x": {
          "bdata": "oQeiB6MHpQeoB6kHqgewB7sHvAe/B8oHzgfQB9MH1QfWB9cH2AfZB9oH2wfeB98H4AfhB+IH4wfkB+UH",
          "dtype": "i2"
         },
         "xaxis": "x",
         "y": {
          "bdata": "AAAAAAAAHkDNzMzMzMwYQDMzMzMzMxhAREREREREHkCamZmZmZkZQGZmZmZmZhlAAAAAAAAAFEAAAAAAAAAWQAAAAAAAABpAZmZmZmZmFkDNzMzMzMwgQGZmZmZmZhJAAAAAAAAAGkCamZmZmZkTQDMzMzMzMx1AmpmZmZmZGUDw7u7u7u4cQAAAAAAAABxASOF6FK5HDUAP6qAO6qAUQN3d3d3d3RdAMzMzMzMzEkAzMzMzMzMHQM3MzMzMzBZAmpmZmZmZFUAzMzMzMzMbQGZmZmZmZg5AAAAAAAAAEkAzMzMzMzMdQDMzMzMzMxlA",
          "dtype": "f8"
         },
         "yaxis": "y"
        },
        {
         "hovertemplate": "Genre=Crime, Drama<br>Year=%{x}<br>Rating=%{y}<extra></extra>",
         "legendgroup": "Crime, Drama",
         "line": {
          "color": "#FECB52",
          "dash": "solid"
         },
         "marker": {
          "symbol": "circle"
         },
         "mode": "lines",
         "name": "Crime, Drama",
         "showlegend": true,
         "type": "scattergl",
         "x": {
          "bdata": "oQejB6YHqQeuB7AHsQezB7UHtge3B7kHvAe9B78HwQfDB8QHxQfGB8cHyAfJB8sHzAfPB9EH0gfTB9UH1wfYB9kH2gfcB+AH4gfjB+UH",
          "dtype": "i2"
         },
         "xaxis": "x",
         "y": {
          "bdata": "ZmZmZmZmHkCamZmZmZkbQN3d3d3d3RlAmpmZmZmZG0AzMzMzMzMXQGZmZmZmZhxAmpmZmZmZGUCamZmZmZkXQJqZmZmZmRlAeHd3d3d3GUBmZmZmZmYeQDMzMzMzMxVAmpmZmZmZGUBnZmZmZmYYQGZmZmZmZiBAZmZmZmZmEkBmZmZmZmYTQAAAAAAAACBAmpmZmZmZF0AzMzMzMzMHQAAAAAAAABJAAAAAAAAAHEAzMzMzMzMfQAAAAAAAABhAmpmZmZmZE0AAAAAAAAAaQDMzMzMzMxVAZmZmZmZmGEAREREREREbQDMzMzMzMxNAMzMzMzMzF0Dd3d3d3d0ZQJqZmZmZmR9AAAAAAAAAHECamZmZmZkdQGZmZmZm5hhAzczMzMzMHEAAAAAAAAAYQGZmZmZmZhxA",
          "dtype": "f8"
         },
         "yaxis": "y"
        },
        {
         "hovertemplate": "Genre=History, Musical, Romance<br>Year=%{x}<br>Rating=%{y}<extra></extra>",
         "legendgroup": "History, Musical, Romance",
         "line": {
          "color": "#636efa",
          "dash": "solid"
         },
         "marker": {
          "symbol": "circle"
         },
         "mode": "lines",
         "name": "History, Musical, Romance",
         "showlegend": true,
         "type": "scattergl",
         "x": {
          "bdata": "oQc=",
          "dtype": "i2"
         },
         "xaxis": "x",
         "y": {
          "bdata": "zczMzMzMHEA=",
          "dtype": "f8"
         },
         "yaxis": "y"
        },
        {
         "hovertemplate": "Genre=Action, Drama, Adventure<br>Year=%{x}<br>Rating=%{y}<extra></extra>",
         "legendgroup": "Action, Drama, Adventure",
         "line": {
          "color": "#EF553B",
          "dash": "solid"
         },
         "marker": {
          "symbol": "circle"
         },
         "mode": "lines",
         "name": "Action, Drama, Adventure",
         "showlegend": true,
         "type": "scattergl",
         "x": {
          "bdata": "ogc=",
          "dtype": "i2"
         },
         "xaxis": "x",
         "y": {
          "bdata": "mpmZmZmZGUA=",
          "dtype": "f8"
         },
         "yaxis": "y"
        },
        {
         "hovertemplate": "Genre=Adventure, Drama, Musical<br>Year=%{x}<br>Rating=%{y}<extra></extra>",
         "legendgroup": "Adventure, Drama, Musical",
         "line": {
          "color": "#00cc96",
          "dash": "solid"
         },
         "marker": {
          "symbol": "circle"
         },
         "mode": "lines",
         "name": "Adventure, Drama, Musical",
         "showlegend": true,
         "type": "scattergl",
         "x": {
          "bdata": "ogekB7UH0Ac=",
          "dtype": "i2"
         },
         "xaxis": "x",
         "y": {
          "bdata": "mpmZmZmZF0AzMzMzMzMbQGZmZmZmZhhAAAAAAAAAFEA=",
          "dtype": "f8"
         },
         "yaxis": "y"
        },
        {
         "hovertemplate": "Genre=Adventure, Romance<br>Year=%{x}<br>Rating=%{y}<extra></extra>",
         "legendgroup": "Adventure, Romance",
         "line": {
          "color": "#ab63fa",
          "dash": "solid"
         },
         "marker": {
          "symbol": "circle"
         },
         "mode": "lines",
         "name": "Adventure, Romance",
         "showlegend": true,
         "type": "scattergl",
         "x": {
          "bdata": "oge0Bw==",
          "dtype": "i2"
         },
         "xaxis": "x",
         "y": {
          "bdata": "mpmZmZmZHUDNzMzMzMwaQA==",
          "dtype": "f8"
         },
         "yaxis": "y"
        },
        {
         "hovertemplate": "Genre=Biography, Drama, Musical<br>Year=%{x}<br>Rating=%{y}<extra></extra>",
         "legendgroup": "Biography, Drama, Musical",
         "line": {
          "color": "#FFA15A",
          "dash": "solid"
         },
         "marker": {
          "symbol": "circle"
         },
         "mode": "lines",
         "name": "Biography, Drama, Musical",
         "showlegend": true,
         "type": "scattergl",
         "x": {
          "bdata": "oge8Bw==",
          "dtype": "i2"
         },
         "xaxis": "x",
         "y": {
          "bdata": "AAAAAAAAHEBmZmZmZmYcQA==",
          "dtype": "f8"
         },
         "yaxis": "y"
        },
        {
         "hovertemplate": "Genre=Comedy, Drama, Family<br>Year=%{x}<br>Rating=%{y}<extra></extra>",
         "legendgroup": "Comedy, Drama, Family",
         "line": {
          "color": "#19d3f3",
          "dash": "solid"
         },
         "marker": {
          "symbol": "circle"
         },
         "mode": "lines",
         "name": "Comedy, Drama, Family",
         "showlegend": true,
         "type": "scattergl",
         "x": {
          "bdata": "ogejB6QHqAepB6wHrgevB7EHsge0B7UHtge3B7gHuQe6B7wHvgfFB8cHyAfJB80HzgfQB9EH0gfVB9cH2AfZB9oH2wfcB94H3wfgB+EH4gc=",
          "dtype": "i2"
         },
         "xaxis": "x",
         "y": {
          "bdata": "AAAAAAAAIEBmZmZmZmYaQJqZmZmZmR1AMzMzMzMzHUBmZmZmZmYcQMzMzMzMzBtAzczMzMzMGECamZmZmZkdQM3MzMzMzBhAAAAAAAAAGkDNzMzMzMwYQAAAAAAAABpAZmZmZmZmHECamZmZmZkbQDMzMzMzMx1AzczMzMzMGkAAAAAAAAAWQMzMzMzMzBlAmpmZmZmZGUAzMzMzMzMZQGZmZmZmZhBAZmZmZmZmFkBmZmZmZmYUQJqZmZmZmR1AMzMzMzMzEEBmZmZmZmYUQDMzMzMzMxNAAAAAAAAAE0BmZmZmZmYZQGZmZmZmZhdAzczMzMzMEUBmZmZmZmYYQIiIiIiIiBpAZmZmZmZmGkAzMzMzMzMaQGZmZmZmZhJAZmZmZmZmGEDNzMzMzMweQM3MzMzMzBZAq6qqqqqqGEA=",
          "dtype": "f8"
         },
         "yaxis": "y"
        },
        {
         "hovertemplate": "Genre=Comedy, Mystery<br>Year=%{x}<br>Rating=%{y}<extra></extra>",
         "legendgroup": "Comedy, Mystery",
         "line": {
          "color": "#FF6692",
          "dash": "solid"
         },
         "marker": {
          "symbol": "circle"
         },
         "mode": "lines",
         "name": "Comedy, Mystery",
         "showlegend": true,
         "type": "scattergl",
         "x": {
          "bdata": "oge3B9UH",
          "dtype": "i2"
         },
         "xaxis": "x",
         "y": {
          "bdata": "ZmZmZmZmGEBmZmZmZmYYQGZmZmZmZhhA",
          "dtype": "f8"
         },
         "yaxis": "y"
        },
        {
         "hovertemplate": "Genre=Musical, Romance, Thriller<br>Year=%{x}<br>Rating=%{y}<extra></extra>",
         "legendgroup": "Musical, Romance, Thriller",
         "line": {
          "color": "#B6E880",
          "dash": "solid"
         },
         "marker": {
          "symbol": "circle"
         },
         "mode": "lines",
         "name": "Musical, Romance, Thriller",
         "showlegend": true,
         "type": "scattergl",
         "x": {
          "bdata": "ogevB7AH0gfcBw==",
          "dtype": "i2"
         },
         "xaxis": "x",
         "y": {
          "bdata": "ZmZmZmZmGkCamZmZmZkbQJqZmZmZmRtAAAAAAAAADEDNzMzMzMwQQA==",
          "dtype": "f8"
         },
         "yaxis": "y"
        },
        {
         "hovertemplate": "Genre=Action, Adventure, Comedy<br>Year=%{x}<br>Rating=%{y}<extra></extra>",
         "legendgroup": "Action, Adventure, Comedy",
         "line": {
          "color": "#FF97FF",
          "dash": "solid"
         },
         "marker": {
          "symbol": "circle"
         },
         "mode": "lines",
         "name": "Action, Adventure, Comedy",
         "showlegend": true,
         "type": "scattergl",
         "x": {
          "bdata": "owekB6gHqgesB60HsAe0B7cHuQe6B74HwAfBB8QHxwfKB80HzgfQB9MH1QfXB9gH2QfbB90H3gffB+AH4QfjBw==",
          "dtype": "i2"
         },
         "xaxis": "x",
         "y": {
          "bdata": "zczMzMzMHECamZmZmZkVQDMzMzMzMxtAZmZmZmZmGECamZmZmZkVQDMzMzMzMxtAmpmZmZmZEUAzMzMzMzMbQJmZmZmZmRtAzczMzMzMGkCamZmZmZkaQDMzMzMzMxdAAAAAAAAAHkBmZmZmZmYSQAAAAAAAABRAMzMzMzMzFUAzMzMzMzMfQJqZmZmZmRdAZmZmZmZmEEBmZmZmZmYOQDMzMzMzMxdAmpmZmZmZFUAiIiIiIiISQAAAAAAAABZAZmZmZmZmEUAzMzMzMzP7P2ZmZmZmZhlAZmZmZmZmFkAAAAAAAAAgQDMzMzMzMxBAAAAAAAAAGkDNzMzMzMwQQA==",
          "dtype": "f8"
         },
         "yaxis": "y"
        },
        {
         "hovertemplate": "Genre=Action, Comedy, Crime<br>Year=%{x}<br>Rating=%{y}<extra></extra>",
         "legendgroup": "Action, Comedy, Crime",
         "line": {
          "color": "#FECB52",
          "dash": "solid"
         },
         "marker": {
          "symbol": "circle"
         },
         "mode": "lines",
         "name": "Action, Comedy, Crime",
         "showlegend": true,
         "type": "scattergl",
         "x": {
          "bdata": "owekB6UHpgepB7EHsge0B7UHtwe4B7kHugfAB8EHwgfFB8YHxwfIB8kHygfLB80HzgfPB9AH0QfSB9QH1QfWB9cH2AfZB9oH2wfcB90H3gffB+AH4QfiB+MH5Ac=",
          "dtype": "i2"
         },
         "xaxis": "x",
         "y": {
          "bdata": "mpmZmZmZGUAAAAAAAAAYQJqZmZmZmRdAMzMzMzMzG0AzMzMzMzMPQDMzMzMzMxdAzMzMzMzMFUBmZmZmZmYcQAAAAAAAABhAmpmZmZmZE0CamZmZmZkbQGZmZmZmZhZANDMzMzMzGEBmZmZmZmYXQJqZmZmZmRNAAAAAAAAAGEBmZmZmZmYaQJqZmZmZmRZAAAAAAAAAFEAAAAAAAAAaQGdmZmZmZhZAZmZmZmZmEUAAAAAAAAAUQAAAAAAAABJAzMzMzMzMGUCamZmZmZkbQGZmZmZmZiBAmpmZmZmZFUAzMzMzMzMUQO/u7u7u7hBAzczMzMzMEkCamZmZmZkJQJmZmZmZmQ1AMzMzMzMzFEAAAAAAAAASQDMzMzMzMxVAERERERERE0Dv7u7u7u4YQGZmZmZmZhJAvLu7u7u7E0CamZmZmZkWQM3MzMzMzBJAmpmZmZmZF0AAAAAAAAAYQGZmZmZmZg5AAAAAAAAAHUA=",
          "dtype": "f8"
         },
         "yaxis": "y"
        },
        {
         "hovertemplate": "Genre=Action, Crime, Drama<br>Year=%{x}<br>Rating=%{y}<extra></extra>",
         "legendgroup": "Action, Crime, Drama",
         "line": {
          "color": "#636efa",
          "dash": "solid"
         },
         "marker": {
          "symbol": "circle"
         },
         "mode": "lines",
         "name": "Action, Crime, Drama",
         "showlegend": true,
         "type": "scattergl",
         "x": {
          "bdata": "owekB6cHqAepB6oHqwetB68HsAexB7MHtAe1B7YHtwe4B7kHuge7B7wHvQe+B78HwAfBB8IHwwfEB8UHxgfHB8gHyQfKB8sHzAfNB84HzwfQB9EH0gfTB9QH1QfWB9cH2AfZB9oH2wfcB90H3gffB+AH4QfiB+MH5AflBw==",
          "dtype": "i2"
         },
         "xaxis": "x",
         "y": {
          "bdata": "AAAAAAAAGEDMzMzMzMwaQJqZmZmZmRtAmpmZmZmZHEAAAAAAAAAWQGZmZmZmZhVAAAAAAAAAHEAzMzMzMzMZQDMzMzMzMxdAiIiIiIiIGEB4d3d3d3cZQJqZmZmZmRVAzMzMzMzMEkAVrkfhehQYQAAAAAAAABhA61G4HoXrF0CLr/iKr/gWQJqZmZmZ2RdAAAAAAAAAF0BVVVVVVVUXQJIkSZIkSRhA4noUrkfhGEAP6qAO6qAYQAAAAAAAgBhAq6qqqqqqFkCamZmZmZkXQGZmZmZmZhdAexSuR+F6FkBCHdRBHdQXQAAAAAAAABZAB3VQB3VQFUCZmZmZmRkTQJqZmZmZmRRAq6qqqqqqFUChDuqgDuoSQKiDOqiDOhJAqIM6qIM6FEAHdVAHdVAVQGELtmALthZAZmZmZmZmF0BEREREREQUQM3MzMzMDBRAZmZmZmZmFUDxFV/xFV8VQAAAAAAAABdAvLu7u7u7FkDE2jesfcMSQJqZmZmZGRVAZmZmZmYmFkAMtmALtmAVQCFPCfKUIBVAP/ADP/ADF0B3d3d3d3cTQHd3d3d3dxRAZmZmZmZmGkDNzMzMzEwZQF2PwvUoXBtAPgrXo3A9GEDd3d3d3d0ZQAAAAAAAABxAzczMzMzMGEDNzMzMzMwaQA==",
          "dtype": "f8"
         },
         "yaxis": "y"
        },
        {
         "hovertemplate": "Genre=Action, Drama, Romance<br>Year=%{x}<br>Rating=%{y}<extra></extra>",
         "legendgroup": "Action, Drama, Romance",
         "line": {
          "color": "#EF553B",
          "dash": "solid"
         },
         "marker": {
          "symbol": "circle"
         },
         "mode": "lines",
         "name": "Action, Drama, Romance",
         "showlegend": true,
         "type": "scattergl",
         "x": {
          "bdata": "owemB6kHrgeyB7MHtAe1B7YHuAe6B7wHvQe+B78HwAfBB8IHxAfFB8YHxwfIB8kHygfLB8wHzQfOB88H0AfRB9IH0wfUB9YH1wfYB9kH2gfcB90H3wfgB+EH4wc=",
          "dtype": "i2"
         },
         "xaxis": "x",
         "y": {
          "bdata": "ZmZmZmZmGkDNzMzMzMwcQAAAAAAAABJAMzMzMzMzGUDNzMzMzMwUQM3MzMzMzBJAMzMzMzOzF0DNzMzMzMwcQGZmZmZmZhpAAAAAAAAAGkAAAAAAAAASQJqZmZmZmRlAzczMzMzMBEDNzMzMzMwYQERERERERBpANDMzMzMzFkCamZmZmZkYQGZmZmZmZhZAq6qqqqqqFEAzMzMzMzMPQIiIiIiIiBZAgzqogzqoF0C8u7u7u7sRQM3MzMzMzBNAfcVXfMVXFEDNzMzMzAwSQPYoXI/C9RJAmpmZmZkZEkBmZmZmZuYSQJmZmZmZmRVAzMzMzMzMGEDNzMzMzEwUQGZmZmZmZhFAAAAAAAAAFEDNzMzMzMwYQDMzMzMzMxZAq6qqqqqqFkCamZmZmZkUQDMzMzMzMxNAmpmZmZmZFkAAAAAAAAAaQM3MzMzMzBZAAAAAAAAAEEAzMzMzMzMSQDMzMzMzMx1A9ihcj8L1FEA=",
          "dtype": "f8"
         },
         "yaxis": "y"
        },
        {
         "hovertemplate": "Genre=Comedy, Fantasy, Musical<br>Year=%{x}<br>Rating=%{y}<extra></extra>",
         "legendgroup": "Comedy, Fantasy, Musical",
         "line": {
          "color": "#00cc96",
          "dash": "solid"
         },
         "marker": {
          "symbol": "circle"
         },
         "mode": "lines",
         "name": "Comedy, Fantasy, Musical",
         "showlegend": true,
         "type": "scattergl",
         "x": {
          "bdata": "owc=",
          "dtype": "i2"
         },
         "xaxis": "x",
         "y": {
          "bdata": "mpmZmZmZHUA=",
          "dtype": "f8"
         },
         "yaxis": "y"
        },
        {
         "hovertemplate": "Genre=Comedy, Musical, Romance<br>Year=%{x}<br>Rating=%{y}<extra></extra>",
         "legendgroup": "Comedy, Musical, Romance",
         "line": {
          "color": "#ab63fa",
          "dash": "solid"
         },
         "marker": {
          "symbol": "circle"
         },
         "mode": "lines",
         "name": "Comedy, Musical, Romance",
         "showlegend": true,
         "type": "scattergl",
         "x": {
          "bdata": "owekB6YHrAevB7AHtQe2B7cHuQfAB88H0AfTB9UH1gfcB+UH",
          "dtype": "i2"
         },
         "xaxis": "x",
         "y": {
          "bdata": "NDMzMzMzHUDNzMzMzMweQAAAAAAAACBAZmZmZmZmHEAAAAAAAAAcQDMzMzMzMyBAZmZmZmZmHEAzMzMzMzMbQAAAAAAAABxAAAAAAAAAHEAzMzMzMzMbQJqZmZmZmRVAMzMzMzMzC0AAAAAAAAAWQJqZmZmZmQlAzMzMzMzMEkAAAAAAAAAMQAAAAAAAABJA",
          "dtype": "f8"
         },
         "yaxis": "y"
        },
        {
         "hovertemplate": "Genre=Action, Crime, Musical<br>Year=%{x}<br>Rating=%{y}<extra></extra>",
         "legendgroup": "Action, Crime, Musical",
         "line": {
          "color": "#FFA15A",
          "dash": "solid"
         },
         "marker": {
          "symbol": "circle"
         },
         "mode": "lines",
         "name": "Action, Crime, Musical",
         "showlegend": true,
         "type": "scattergl",
         "x": {
          "bdata": "pAeyB9EH",
          "dtype": "i2"
         },
         "xaxis": "x",
         "y": {
          "bdata": "MzMzMzMzHUAAAAAAAAAXQM3MzMzMzAxA",
          "dtype": "f8"
         },
         "yaxis": "y"
        },
        {
         "hovertemplate": "Genre=Adventure, Drama, Romance<br>Year=%{x}<br>Rating=%{y}<extra></extra>",
         "legendgroup": "Adventure, Drama, Romance",
         "line": {
          "color": "#19d3f3",
          "dash": "solid"
         },
         "marker": {
          "symbol": "circle"
         },
         "mode": "lines",
         "name": "Adventure, Drama, Romance",
         "showlegend": true,
         "type": "scattergl",
         "x": {
          "bdata": "pAeuB68HuwfdBw==",
          "dtype": "i2"
         },
         "xaxis": "x",
         "y": {
          "bdata": "zczMzMzMGkDNzMzMzMwaQAAAAAAAABpAZmZmZmZmGkDNzMzMzMweQA==",
          "dtype": "f8"
         },
         "yaxis": "y"
        },
        {
         "hovertemplate": "Genre=Fantasy, Musical, Drama<br>Year=%{x}<br>Rating=%{y}<extra></extra>",
         "legendgroup": "Fantasy, Musical, Drama",
         "line": {
          "color": "#FF6692",
          "dash": "solid"
         },
         "marker": {
          "symbol": "circle"
         },
         "mode": "lines",
         "name": "Fantasy, Musical, Drama",
         "showlegend": true,
         "type": "scattergl",
         "x": {
          "bdata": "pAc=",
          "dtype": "i2"
         },
         "xaxis": "x",
         "y": {
          "bdata": "AAAAAAAAGkA=",
          "dtype": "f8"
         },
         "yaxis": "y"
        },
        {
         "hovertemplate": "Genre=Action, Adventure, History<br>Year=%{x}<br>Rating=%{y}<extra></extra>",
         "legendgroup": "Action, Adventure, History",
         "line": {
          "color": "#B6E880",
          "dash": "solid"
         },
         "marker": {
          "symbol": "circle"
         },
         "mode": "lines",
         "name": "Action, Adventure, History",
         "showlegend": true,
         "type": "scattergl",
         "x": {
          "bdata": "pQc=",
          "dtype": "i2"
         },
         "xaxis": "x",
         "y": {
          "bdata": "ZmZmZmZmHEA=",
          "dtype": "f8"
         },
         "yaxis": "y"
        },
        {
         "hovertemplate": "Genre=Adventure, Biography, History<br>Year=%{x}<br>Rating=%{y}<extra></extra>",
         "legendgroup": "Adventure, Biography, History",
         "line": {
          "color": "#FF97FF",
          "dash": "solid"
         },
         "marker": {
          "symbol": "circle"
         },
         "mode": "lines",
         "name": "Adventure, Biography, History",
         "showlegend": true,
         "type": "scattergl",
         "x": {
          "bdata": "pQc=",
          "dtype": "i2"
         },
         "xaxis": "x",
         "y": {
          "bdata": "AAAAAAAAHEA=",
          "dtype": "f8"
         },
         "yaxis": "y"
        },
        {
         "hovertemplate": "Genre=Comedy, Romance, Thriller<br>Year=%{x}<br>Rating=%{y}<extra></extra>",
         "legendgroup": "Comedy, Romance, Thriller",
         "line": {
          "color": "#FECB52",
          "dash": "solid"
         },
         "marker": {
          "symbol": "circle"
         },
         "mode": "lines",
         "name": "Comedy, Romance, Thriller",
         "showlegend": true,
         "type": "scattergl",
         "x": {
          "bdata": "pQemB6wHwAfMBw==",
          "dtype": "i2"
         },
         "xaxis": "x",
         "y": {
          "bdata": "MzMzMzMzF0AAAAAAAAAcQMzMzMzMzBpAzczMzMzMFkDNzMzMzMwSQA==",
          "dtype": "f8"
         },
         "yaxis": "y"
        },
        {
         "hovertemplate": "Genre=Drama, Musical, Family<br>Year=%{x}<br>Rating=%{y}<extra></extra>",
         "legendgroup": "Drama, Musical, Family",
         "line": {
          "color": "#636efa",
          "dash": "solid"
         },
         "marker": {
          "symbol": "circle"
         },
         "mode": "lines",
         "name": "Drama, Musical, Family",
         "showlegend": true,
         "type": "scattergl",
         "x": {
          "bdata": "pQe2B8UH",
          "dtype": "i2"
         },
         "xaxis": "x",
         "y": {
          "bdata": "AAAAAAAAIECamZmZmZkdQM3MzMzMzBxA",
          "dtype": "f8"
         },
         "yaxis": "y"
        },
        {
         "hovertemplate": "Genre=Drama, Thriller<br>Year=%{x}<br>Rating=%{y}<extra></extra>",
         "legendgroup": "Drama, Thriller",
         "line": {
          "color": "#EF553B",
          "dash": "solid"
         },
         "marker": {
          "symbol": "circle"
         },
         "mode": "lines",
         "name": "Drama, Thriller",
         "showlegend": true,
         "type": "scattergl",
         "x": {
          "bdata": "pQemB7EHswe1B7gHwAfBB8IHwwfEB8YHygfSB9QH1QfXB9kH2wfcB90H3gffB+AH4QfiB+MH5AflBw==",
          "dtype": "i2"
         },
         "xaxis": "x",
         "y": {
          "bdata": "mpmZmZmZG0BmZmZmZmYaQDMzMzMzMxtAmpmZmZmZGUCIiIiIiIgWQAAAAAAAABpAAAAAAAAAFkAzMzMzMzMVQAAAAAAAABhAMzMzMzMzHUDNzMzMzMwYQDMzMzMzMwtAAAAAAAAAHUAzMzMzMzMHQM3MzMzMzBxAMzMzMzMzE0AzMzMzMzMXQJqZmZmZmR1AKVyPwvUoFkCIiIiIiIgYQD4K16NwPRhAZ2ZmZmZmFkDNzMzMzMwXQBERERERER1AZmZmZmbmGkBEREREREQUQAAAAAAAABhAmpmZmZmZFUBmZmZmZmYcQA==",
          "dtype": "f8"
         },
         "yaxis": "y"
        },
        {
         "hovertemplate": "Genre=Musical, Drama, Fantasy<br>Year=%{x}<br>Rating=%{y}<extra></extra>",
         "legendgroup": "Musical, Drama, Fantasy",
         "line": {
          "color": "#00cc96",
          "dash": "solid"
         },
         "marker": {
          "symbol": "circle"
         },
         "mode": "lines",
         "name": "Musical, Drama, Fantasy",
         "showlegend": true,
         "type": "scattergl",
         "x": {
          "bdata": "pQc=",
          "dtype": "i2"
         },
         "xaxis": "x",
         "y": {
          "bdata": "ZmZmZmZmHEA=",
          "dtype": "f8"
         },
         "yaxis": "y"
        },
        {
         "hovertemplate": "Genre=Action, Mystery<br>Year=%{x}<br>Rating=%{y}<extra></extra>",
         "legendgroup": "Action, Mystery",
         "line": {
          "color": "#ab63fa",
          "dash": "solid"
         },
         "marker": {
          "symbol": "circle"
         },
         "mode": "lines",
         "name": "Action, Mystery",
         "showlegend": true,
         "type": "scattergl",
         "x": {
          "bdata": "pgewB7wH0AfbBw==",
          "dtype": "i2"
         },
         "xaxis": "x",
         "y": {
          "bdata": "mpmZmZmZGUAAAAAAAAAgQAAAAAAAABVAzczMzMzMDEAAAAAAAAAQQA==",
          "dtype": "f8"
         },
         "yaxis": "y"
        },
        {
         "hovertemplate": "Genre=Adventure, Drama, Thriller<br>Year=%{x}<br>Rating=%{y}<extra></extra>",
         "legendgroup": "Adventure, Drama, Thriller",
         "line": {
          "color": "#FFA15A",
          "dash": "solid"
         },
         "marker": {
          "symbol": "circle"
         },
         "mode": "lines",
         "name": "Adventure, Drama, Thriller",
         "showlegend": true,
         "type": "scattergl",
         "x": {
          "bdata": "pge7B9MH3QfeB+AH",
          "dtype": "i2"
         },
         "xaxis": "x",
         "y": {
          "bdata": "MzMzMzMzE0DNzMzMzMwYQDMzMzMzMxFAzczMzMzMHEAzMzMzMzMZQJqZmZmZmRxA",
          "dtype": "f8"
         },
         "yaxis": "y"
        },
        {
         "hovertemplate": "Genre=Crime, Drama, Family<br>Year=%{x}<br>Rating=%{y}<extra></extra>",
         "legendgroup": "Crime, Drama, Family",
         "line": {
          "color": "#19d3f3",
          "dash": "solid"
         },
         "marker": {
          "symbol": "circle"
         },
         "mode": "lines",
         "name": "Crime, Drama, Family",
         "showlegend": true,
         "type": "scattergl",
         "x": {
          "bdata": "pgenB68Huge9B8AH2QfcBw==",
          "dtype": "i2"
         },
         "xaxis": "x",
         "y": {
          "bdata": "mpmZmZmZHUBmZmZmZmYYQDMzMzMzMxlAmpmZmZmZGUAzMzMzMzMdQAAAAAAAABhAzczMzMzMGEBmZmZmZmYSQA==",
          "dtype": "f8"
         },
         "yaxis": "y"
        },
        {
         "hovertemplate": "Genre=Crime, Musical, Romance<br>Year=%{x}<br>Rating=%{y}<extra></extra>",
         "legendgroup": "Crime, Musical, Romance",
         "line": {
          "color": "#FF6692",
          "dash": "solid"
         },
         "marker": {
          "symbol": "circle"
         },
         "mode": "lines",
         "name": "Crime, Musical, Romance",
         "showlegend": true,
         "type": "scattergl",
         "x": {
          "bdata": "pgc=",
          "dtype": "i2"
         },
         "xaxis": "x",
         "y": {
          "bdata": "ZmZmZmZmHEA=",
          "dtype": "f8"
         },
         "yaxis": "y"
        },
        {
         "hovertemplate": "Genre=Fantasy, Musical, Mystery<br>Year=%{x}<br>Rating=%{y}<extra></extra>",
         "legendgroup": "Fantasy, Musical, Mystery",
         "line": {
          "color": "#B6E880",
          "dash": "solid"
         },
         "marker": {
          "symbol": "circle"
         },
         "mode": "lines",
         "name": "Fantasy, Musical, Mystery",
         "showlegend": true,
         "type": "scattergl",
         "x": {
          "bdata": "pgc=",
          "dtype": "i2"
         },
         "xaxis": "x",
         "y": {
          "bdata": "AAAAAAAAIEA=",
          "dtype": "f8"
         },
         "yaxis": "y"
        },
        {
         "hovertemplate": "Genre=Musical, Thriller<br>Year=%{x}<br>Rating=%{y}<extra></extra>",
         "legendgroup": "Musical, Thriller",
         "line": {
          "color": "#FF97FF",
          "dash": "solid"
         },
         "marker": {
          "symbol": "circle"
         },
         "mode": "lines",
         "name": "Musical, Thriller",
         "showlegend": true,
         "type": "scattergl",
         "x": {
          "bdata": "pgc=",
          "dtype": "i2"
         },
         "xaxis": "x",
         "y": {
          "bdata": "mpmZmZmZG0A=",
          "dtype": "f8"
         },
         "yaxis": "y"
        },
        {
         "hovertemplate": "Genre=Action, Fantasy<br>Year=%{x}<br>Rating=%{y}<extra></extra>",
         "legendgroup": "Action, Fantasy",
         "line": {
          "color": "#FECB52",
          "dash": "solid"
         },
         "marker": {
          "symbol": "circle"
         },
         "mode": "lines",
         "name": "Action, Fantasy",
         "showlegend": true,
         "type": "scattergl",
         "x": {
          "bdata": "pwe1B9QH",
          "dtype": "i2"
         },
         "xaxis": "x",
         "y": {
          "bdata": "MzMzMzMzFUDNzMzMzMwWQGZmZmZmZhJA",
          "dtype": "f8"
         },
         "yaxis": "y"
        },
        {
         "hovertemplate": "Genre=Action, Thriller, Mystery<br>Year=%{x}<br>Rating=%{y}<extra></extra>",
         "legendgroup": "Action, Thriller, Mystery",
         "line": {
          "color": "#636efa",
          "dash": "solid"
         },
         "marker": {
          "symbol": "circle"
         },
         "mode": "lines",
         "name": "Action, Thriller, Mystery",
         "showlegend": true,
         "type": "scattergl",
         "x": {
          "bdata": "pwc=",
          "dtype": "i2"
         },
         "xaxis": "x",
         "y": {
          "bdata": "zczMzMzMGkA=",
          "dtype": "f8"
         },
         "yaxis": "y"
        },
        {
         "hovertemplate": "Genre=Adventure, History, Thriller<br>Year=%{x}<br>Rating=%{y}<extra></extra>",
         "legendgroup": "Adventure, History, Thriller",
         "line": {
          "color": "#EF553B",
          "dash": "solid"
         },
         "marker": {
          "symbol": "circle"
         },
         "mode": "lines",
         "name": "Adventure, History, Thriller",
         "showlegend": true,
         "type": "scattergl",
         "x": {
          "bdata": "pwc=",
          "dtype": "i2"
         },
         "xaxis": "x",
         "y": {
          "bdata": "zczMzMzMGkA=",
          "dtype": "f8"
         },
         "yaxis": "y"
        },
        {
         "hovertemplate": "Genre=Drama, Family, Comedy<br>Year=%{x}<br>Rating=%{y}<extra></extra>",
         "legendgroup": "Drama, Family, Comedy",
         "line": {
          "color": "#00cc96",
          "dash": "solid"
         },
         "marker": {
          "symbol": "circle"
         },
         "mode": "lines",
         "name": "Drama, Family, Comedy",
         "showlegend": true,
         "type": "scattergl",
         "x": {
          "bdata": "pwe8Bw==",
          "dtype": "i2"
         },
         "xaxis": "x",
         "y": {
          "bdata": "zczMzMzMGkAzMzMzMzMbQA==",
          "dtype": "f8"
         },
         "yaxis": "y"
        },
        {
         "hovertemplate": "Genre=Family, Romance<br>Year=%{x}<br>Rating=%{y}<extra></extra>",
         "legendgroup": "Family, Romance",
         "line": {
          "color": "#ab63fa",
          "dash": "solid"
         },
         "marker": {
          "symbol": "circle"
         },
         "mode": "lines",
         "name": "Family, Romance",
         "showlegend": true,
         "type": "scattergl",
         "x": {
          "bdata": "pweoB60HrgevB7MHtQe9B78HwQfSB98H",
          "dtype": "i2"
         },
         "xaxis": "x",
         "y": {
          "bdata": "ZmZmZmZmGEBmZmZmZmYaQAAAAAAAABpAMzMzMzMzHUAAAAAAAAAaQGZmZmZmZhxAzczMzMzMGkCamZmZmZkdQLy7u7u7uxlAMzMzMzMzGUAAAAAAAAAIQDMzMzMzMxVA",
          "dtype": "f8"
         },
         "yaxis": "y"
        },
        {
         "hovertemplate": "Genre=Music, Romance<br>Year=%{x}<br>Rating=%{y}<extra></extra>",
         "legendgroup": "Music, Romance",
         "line": {
          "color": "#FFA15A",
          "dash": "solid"
         },
         "marker": {
          "symbol": "circle"
         },
         "mode": "lines",
         "name": "Music, Romance",
         "showlegend": true,
         "type": "scattergl",
         "x": {
          "bdata": "pwffB+UH",
          "dtype": "i2"
         },
         "xaxis": "x",
         "y": {
          "bdata": "ZmZmZmZmGkAzMzMzMzMbQGZmZmZmZiNA",
          "dtype": "f8"
         },
         "yaxis": "y"
        },
        {
         "hovertemplate": "Genre=Romance, Drama, Family<br>Year=%{x}<br>Rating=%{y}<extra></extra>",
         "legendgroup": "Romance, Drama, Family",
         "line": {
          "color": "#19d3f3",
          "dash": "solid"
         },
         "marker": {
          "symbol": "circle"
         },
         "mode": "lines",
         "name": "Romance, Drama, Family",
         "showlegend": true,
         "type": "scattergl",
         "x": {
          "bdata": "pwe8B8cH",
          "dtype": "i2"
         },
         "xaxis": "x",
         "y": {
          "bdata": "zczMzMzMGkBmZmZmZmYWQM3MzMzMzBxA",
          "dtype": "f8"
         },
         "yaxis": "y"
        },
        {
         "hovertemplate": "Genre=Action, Adventure, Crime<br>Year=%{x}<br>Rating=%{y}<extra></extra>",
         "legendgroup": "Action, Adventure, Crime",
         "line": {
          "color": "#FF6692",
          "dash": "solid"
         },
         "marker": {
          "symbol": "circle"
         },
         "mode": "lines",
         "name": "Action, Adventure, Crime",
         "showlegend": true,
         "type": "scattergl",
         "x": {
          "bdata": "qAexB7gHuge7B7wHvQe+B8EHwgfFB8kH0AfZBw==",
          "dtype": "i2"
         },
         "xaxis": "x",
         "y": {
          "bdata": "MzMzMzMzD0CamZmZmZkXQGZmZmZmZhpAMzMzMzMzGUAzMzMzMzMdQGZmZmZmZhxAmpmZmZmZE0AzMzMzMzMXQJqZmZmZmRNAmpmZmZmZG0AAAAAAAAAQQM3MzMzMzBxAMzMzMzMzD0DNzMzMzMwMQA==",
          "dtype": "f8"
         },
         "yaxis": "y"
        },
        {
         "hovertemplate": "Genre=Action, Drama, Mystery<br>Year=%{x}<br>Rating=%{y}<extra></extra>",
         "legendgroup": "Action, Drama, Mystery",
         "line": {
          "color": "#B6E880",
          "dash": "solid"
         },
         "marker": {
          "symbol": "circle"
         },
         "mode": "lines",
         "name": "Action, Drama, Mystery",
         "showlegend": true,
         "type": "scattergl",
         "x": {
          "bdata": "qAetB68HsAfFB8gH0wfWB9cH2AfaB98H",
          "dtype": "i2"
         },
         "xaxis": "x",
         "y": {
          "bdata": "AAAAAAAAGEBmZmZmZmYaQAAAAAAAABhAmpmZmZmZGUDNzMzMzMwaQGZmZmZmZhhAzczMzMzMEkCamZmZmZkTQGZmZmZmZhhAMzMzMzMzHUAAAAAAAAAIQGZmZmZmZgpA",
          "dtype": "f8"
         },
         "yaxis": "y"
        },
        {
         "hovertemplate": "Genre=Drama, Crime, Mystery<br>Year=%{x}<br>Rating=%{y}<extra></extra>",
         "legendgroup": "Drama, Crime, Mystery",
         "line": {
          "color": "#FF97FF",
          "dash": "solid"
         },
         "marker": {
          "symbol": "circle"
         },
         "mode": "lines",
         "name": "Drama, Crime, Mystery",
         "showlegend": true,
         "type": "scattergl",
         "x": {
          "bdata": "qAc=",
          "dtype": "i2"
         },
         "xaxis": "x",
         "y": {
          "bdata": "mpmZmZmZH0A=",
          "dtype": "f8"
         },
         "yaxis": "y"
        },
        {
         "hovertemplate": "Genre=Drama, Romance, War<br>Year=%{x}<br>Rating=%{y}<extra></extra>",
         "legendgroup": "Drama, Romance, War",
         "line": {
          "color": "#FECB52",
          "dash": "solid"
         },
         "marker": {
          "symbol": "circle"
         },
         "mode": "lines",
         "name": "Drama, Romance, War",
         "showlegend": true,
         "type": "scattergl",
         "x": {
          "bdata": "qAevB84H1QfbBw==",
          "dtype": "i2"
         },
         "xaxis": "x",
         "y": {
          "bdata": "MzMzMzMzG0AAAAAAAAAeQM3MzMzMzB5AmpmZmZmZHUDNzMzMzMwSQA==",
          "dtype": "f8"
         },
         "yaxis": "y"
        },
        {
         "hovertemplate": "Genre=Thriller<br>Year=%{x}<br>Rating=%{y}<extra></extra>",
         "legendgroup": "Thriller",
         "line": {
          "color": "#636efa",
          "dash": "solid"
         },
         "marker": {
          "symbol": "circle"
         },
         "mode": "lines",
         "name": "Thriller",
         "showlegend": true,
         "type": "scattergl",
         "x": {
          "bdata": "qAezB7YHtwe6B7wHvQe+B8AHwQfDB8QHxgfHB8gHzQfPB9AH0QfSB9MH1AfVB9YH1wfZB9wH3QfeB98H4AfhB+IH4wfkB+UH",
          "dtype": "i2"
         },
         "xaxis": "x",
         "y": {
          "bdata": "MzMzMzMzGUAAAAAAAAAZQJqZmZmZmRpAmpmZmZmZGUDNzMzMzMwYQDMzMzMzMxdAmpmZmZmZE0AzMzMzMzMVQM3MzMzMzBhAMzMzMzMzGUCamZmZmZkUQMzMzMzMzAxAMzMzMzMzGUBmZmZmZmYGQM3MzMzMzBZAZmZmZmZmGECamZmZmZkZQAAAAAAAgBZA7+7u7u7uEEBmZmZmZmYWQFyPwvUoXBFAAAAAAAAAEUArvuIrvuILQAAAAAAAgBNAAAAAAAAAFkAAAAAAAAAXQC2+4iu+4g9AAAAAAAAAEkBCHdRBHdQVQK5H4XoUrhVAvLu7u7u7FEDXo3A9CtcXQJqZmZmZmRhA7+7u7u7uFEAK16NwPQoXQO/u7u7u7hZA",
          "dtype": "f8"
         },
         "yaxis": "y"
        },
        {
         "hovertemplate": "Genre=Action, Comedy, Drama<br>Year=%{x}<br>Rating=%{y}<extra></extra>",
         "legendgroup": "Action, Comedy, Drama",
         "line": {
          "color": "#EF553B",
          "dash": "solid"
         },
         "marker": {
          "symbol": "circle"
         },
         "mode": "lines",
         "name": "Action, Comedy, Drama",
         "showlegend": true,
         "type": "scattergl",
         "x": {
          "bdata": "qQeqB64HsgezB7QHtge3B7gHuQe6B7sHvAe9B74HvwfAB8EHwgfDB8QHxQfGB8cHyAfKB8sHzAfNB84HzwfQB9EH0gfTB9QH1QfWB9cH2AfZB9oH2wfdB94H3wfgB+IH4wc=",
          "dtype": "i2"
         },
         "xaxis": "x",
         "y": {
          "bdata": "mpmZmZmZGUDNzMzMzMwcQM3MzMzMzBhAZmZmZmZmFUAAAAAAAAAYQKuqqqqqqhZAmpmZmZmZGUDNzMzMzMwcQAAAAAAAABdACtejcD0KGUDNzMzMzMwcQDMzMzMzMxVAmpmZmZmZGkAAAAAAAAAbQIiIiIiIiBpAAAAAAAAAF0Dw7u7u7u4WQDMzMzMzMxlAAAAAAAAAE0B4d3d3d3cXQM3MzMzMzBhAcD0K16NwFUDe3d3d3d0TQDMzMzMzMxdAMzMzMzOzFkDe3d3d3d0TQGZmZmZmZhZAMzMzMzOzF0CamZmZmZkWQM3MzMzMTBZAZmZmZmZmE0BnZmZmZmYSQJmZmZmZmRNAmpmZmZmZEUCamZmZmZkSQBERERERERlAZmZmZmZmE0CamZmZmZkdQJqZmZmZmRlAZmZmZmZmGkDNzMzMzEwVQLy7u7u7uw9AIiIiIiIiFEDNzMzMzMwKQDMzMzMzMxNASOF6FK5HFUBmZmZmZmYRQM3MzMzMzBRAAAAAAAAADkA=",
          "dtype": "f8"
         },
         "yaxis": "y"
        },
        {
         "hovertemplate": "Genre=Action, Drama, Musical<br>Year=%{x}<br>Rating=%{y}<extra></extra>",
         "legendgroup": "Action, Drama, Musical",
         "line": {
          "color": "#00cc96",
          "dash": "solid"
         },
         "marker": {
          "symbol": "circle"
         },
         "mode": "lines",
         "name": "Action, Drama, Musical",
         "showlegend": true,
         "type": "scattergl",
         "x": {
          "bdata": "qQetB68HsAeyB7MHtQe2B7oHuwe/B8MHxQfHB8kHywfMB80HzgfQB9QH2AfZB94H3wfgBw==",
          "dtype": "i2"
         },
         "xaxis": "x",
         "y": {
          "bdata": "ZmZmZmZmHkBmZmZmZmYaQGZmZmZmZhpAzczMzMzMGkBmZmZmZmYcQAAAAAAAABhAmpmZmZmZHUDNzMzMzMwZQM3MzMzMzBpAzczMzMzMGkBmZmZmZmYYQGZmZmZmZhhAMzMzMzMzF0AzMzMzMzMPQJqZmZmZmRNAzczMzMzMEkDNzMzMzMwWQJmZmZmZmRFAzczMzMzMGEDNzMzMzMwYQGZmZmZmZhJAzczMzMzMAEBmZmZmZmYWQDMzMzMzMwNAmpmZmZmZD0AzMzMzMzMPQA==",
          "dtype": "f8"
         },
         "yaxis": "y"
        },
        {
         "hovertemplate": "Genre=Action, History<br>Year=%{x}<br>Rating=%{y}<extra></extra>",
         "legendgroup": "Action, History",
         "line": {
          "color": "#ab63fa",
          "dash": "solid"
         },
         "marker": {
          "symbol": "circle"
         },
         "mode": "lines",
         "name": "Action, History",
         "showlegend": true,
         "type": "scattergl",
         "x": {
          "bdata": "qQevB9cH",
          "dtype": "i2"
         },
         "xaxis": "x",
         "y": {
          "bdata": "AAAAAAAAHEAzMzMzMzMdQAAAAAAAABpA",
          "dtype": "f8"
         },
         "yaxis": "y"
        },
        {
         "hovertemplate": "Genre=Drama, Adventure, Action<br>Year=%{x}<br>Rating=%{y}<extra></extra>",
         "legendgroup": "Drama, Adventure, Action",
         "line": {
          "color": "#FFA15A",
          "dash": "solid"
         },
         "marker": {
          "symbol": "circle"
         },
         "mode": "lines",
         "name": "Drama, Adventure, Action",
         "showlegend": true,
         "type": "scattergl",
         "x": {
          "bdata": "qQe0B78HyQc=",
          "dtype": "i2"
         },
         "xaxis": "x",
         "y": {
          "bdata": "mpmZmZmZHUCamZmZmZkbQGZmZmZmZhZAzczMzMzMEkA=",
          "dtype": "f8"
         },
         "yaxis": "y"
        },
        {
         "hovertemplate": "Genre=Action, Comedy, Mystery<br>Year=%{x}<br>Rating=%{y}<extra></extra>",
         "legendgroup": "Action, Comedy, Mystery",
         "line": {
          "color": "#19d3f3",
          "dash": "solid"
         },
         "marker": {
          "symbol": "circle"
         },
         "mode": "lines",
         "name": "Action, Comedy, Mystery",
         "showlegend": true,
         "type": "scattergl",
         "x": {
          "bdata": "qgfYB94H",
          "dtype": "i2"
         },
         "xaxis": "x",
         "y": {
          "bdata": "zczMzMzMGkAzMzMzMzMVQM3MzMzMzAxA",
          "dtype": "f8"
         },
         "yaxis": "y"
        },
        {
         "hovertemplate": "Genre=Biography, Drama, Music<br>Year=%{x}<br>Rating=%{y}<extra></extra>",
         "legendgroup": "Biography, Drama, Music",
         "line": {
          "color": "#FF6692",
          "dash": "solid"
         },
         "marker": {
          "symbol": "circle"
         },
         "mode": "lines",
         "name": "Biography, Drama, Music",
         "showlegend": true,
         "type": "scattergl",
         "x": {
          "bdata": "qgffBw==",
          "dtype": "i2"
         },
         "xaxis": "x",
         "y": {
          "bdata": "zczMzMzMGkCamZmZmZkVQA==",
          "dtype": "f8"
         },
         "yaxis": "y"
        },
        {
         "hovertemplate": "Genre=Comedy, Crime, Romance<br>Year=%{x}<br>Rating=%{y}<extra></extra>",
         "legendgroup": "Comedy, Crime, Romance",
         "line": {
          "color": "#B6E880",
          "dash": "solid"
         },
         "marker": {
          "symbol": "circle"
         },
         "mode": "lines",
         "name": "Comedy, Crime, Romance",
         "showlegend": true,
         "type": "scattergl",
         "x": {
          "bdata": "qgfRB9gH",
          "dtype": "i2"
         },
         "xaxis": "x",
         "y": {
          "bdata": "ZmZmZmZmHEAAAAAAAAAYQGZmZmZmZhJA",
          "dtype": "f8"
         },
         "yaxis": "y"
        },
        {
         "hovertemplate": "Genre=Crime, Mystery<br>Year=%{x}<br>Rating=%{y}<extra></extra>",
         "legendgroup": "Crime, Mystery",
         "line": {
          "color": "#FF97FF",
          "dash": "solid"
         },
         "marker": {
          "symbol": "circle"
         },
         "mode": "lines",
         "name": "Crime, Mystery",
         "showlegend": true,
         "type": "scattergl",
         "x": {
          "bdata": "qgfJB94H3wfgB+MH",
          "dtype": "i2"
         },
         "xaxis": "x",
         "y": {
          "bdata": "AAAAAAAAHEAzMzMzMzMVQDMzMzMzMxlAmpmZmZmZF0DNzMzMzMwSQAAAAAAAABxA",
          "dtype": "f8"
         },
         "yaxis": "y"
        },
        {
         "hovertemplate": "Genre=Drama, Horror, Thriller<br>Year=%{x}<br>Rating=%{y}<extra></extra>",
         "legendgroup": "Drama, Horror, Thriller",
         "line": {
          "color": "#FECB52",
          "dash": "solid"
         },
         "marker": {
          "symbol": "circle"
         },
         "mode": "lines",
         "name": "Drama, Horror, Thriller",
         "showlegend": true,
         "type": "scattergl",
         "x": {
          "bdata": "qge0B9MH1wfZB9oH2wfdBw==",
          "dtype": "i2"
         },
         "xaxis": "x",
         "y": {
          "bdata": "zczMzMzMFEAAAAAAAAAYQGZmZmZmZgpAAAAAAAAADEAAAAAAAAAUQM3MzMzMzBBAzczMzMzMDEAzMzMzMzMNQA==",
          "dtype": "f8"
         },
         "yaxis": "y"
        },
        {
         "hovertemplate": "Genre=Family, Musical, Romance<br>Year=%{x}<br>Rating=%{y}<extra></extra>",
         "legendgroup": "Family, Musical, Romance",
         "line": {
          "color": "#636efa",
          "dash": "solid"
         },
         "marker": {
          "symbol": "circle"
         },
         "mode": "lines",
         "name": "Family, Musical, Romance",
         "showlegend": true,
         "type": "scattergl",
         "x": {
          "bdata": "qgezB7cHwQfTBw==",
          "dtype": "i2"
         },
         "xaxis": "x",
         "y": {
          "bdata": "ZmZmZmZmGkCamZmZmZkbQGZmZmZmZhhAmpmZmZmZGUAAAAAAAAAUQA==",
          "dtype": "f8"
         },
         "yaxis": "y"
        },
        {
         "hovertemplate": "Genre=Musical, Comedy, Romance<br>Year=%{x}<br>Rating=%{y}<extra></extra>",
         "legendgroup": "Musical, Comedy, Romance",
         "line": {
          "color": "#EF553B",
          "dash": "solid"
         },
         "marker": {
          "symbol": "circle"
         },
         "mode": "lines",
         "name": "Musical, Comedy, Romance",
         "showlegend": true,
         "type": "scattergl",
         "x": {
          "bdata": "qgfIBw==",
          "dtype": "i2"
         },
         "xaxis": "x",
         "y": {
          "bdata": "mpmZmZmZHUAzMzMzMzMbQA==",
          "dtype": "f8"
         },
         "yaxis": "y"
        },
        {
         "hovertemplate": "Genre=Musical, Drama, Family<br>Year=%{x}<br>Rating=%{y}<extra></extra>",
         "legendgroup": "Musical, Drama, Family",
         "line": {
          "color": "#00cc96",
          "dash": "solid"
         },
         "marker": {
          "symbol": "circle"
         },
         "mode": "lines",
         "name": "Musical, Drama, Family",
         "showlegend": true,
         "type": "scattergl",
         "x": {
          "bdata": "qgesB7kHvAfCB9QH",
          "dtype": "i2"
         },
         "xaxis": "x",
         "y": {
          "bdata": "AAAAAAAAGkAAAAAAAAAbQJqZmZmZmR9AzczMzMzMGkAzMzMzMzMdQGZmZmZmZhRA",
          "dtype": "f8"
         },
         "yaxis": "y"
        },
        {
         "hovertemplate": "Genre=Musical, Drama, Romance<br>Year=%{x}<br>Rating=%{y}<extra></extra>",
         "legendgroup": "Musical, Drama, Romance",
         "line": {
          "color": "#ab63fa",
          "dash": "solid"
         },
         "marker": {
          "symbol": "circle"
         },
         "mode": "lines",
         "name": "Musical, Drama, Romance",
         "showlegend": true,
         "type": "scattergl",
         "x": {
          "bdata": "qge7B8QHxgfQB9EH0gfVBw==",
          "dtype": "i2"
         },
         "xaxis": "x",
         "y": {
          "bdata": "mpmZmZmZG0BmZmZmZmYeQM3MzMzMzB5AMzMzMzMzGUBmZmZmZmYcQJqZmZmZmRFAZmZmZmZmDkDNzMzMzMwSQA==",
          "dtype": "f8"
         },
         "yaxis": "y"
        },
        {
         "hovertemplate": "Genre=Thriller, Musical, Mystery<br>Year=%{x}<br>Rating=%{y}<extra></extra>",
         "legendgroup": "Thriller, Musical, Mystery",
         "line": {
          "color": "#FFA15A",
          "dash": "solid"
         },
         "marker": {
          "symbol": "circle"
         },
         "mode": "lines",
         "name": "Thriller, Musical, Mystery",
         "showlegend": true,
         "type": "scattergl",
         "x": {
          "bdata": "qgc=",
          "dtype": "i2"
         },
         "xaxis": "x",
         "y": {
          "bdata": "ZmZmZmZmHEA=",
          "dtype": "f8"
         },
         "yaxis": "y"
        },
        {
         "hovertemplate": "Genre=Action, Adventure, Horror<br>Year=%{x}<br>Rating=%{y}<extra></extra>",
         "legendgroup": "Action, Adventure, Horror",
         "line": {
          "color": "#19d3f3",
          "dash": "solid"
         },
         "marker": {
          "symbol": "circle"
         },
         "mode": "lines",
         "name": "Action, Adventure, Horror",
         "showlegend": true,
         "type": "scattergl",
         "x": {
          "bdata": "qwc=",
          "dtype": "i2"
         },
         "xaxis": "x",
         "y": {
          "bdata": "zczMzMzMFkA=",
          "dtype": "f8"
         },
         "yaxis": "y"
        },
        {
         "hovertemplate": "Genre=Action, Drama, Fantasy<br>Year=%{x}<br>Rating=%{y}<extra></extra>",
         "legendgroup": "Action, Drama, Fantasy",
         "line": {
          "color": "#FF6692",
          "dash": "solid"
         },
         "marker": {
          "symbol": "circle"
         },
         "mode": "lines",
         "name": "Action, Drama, Fantasy",
         "showlegend": true,
         "type": "scattergl",
         "x": {
          "bdata": "qwe2B8YHygfLB9QH1gfZB+AH4QflBw==",
          "dtype": "i2"
         },
         "xaxis": "x",
         "y": {
          "bdata": "mpmZmZmZFUCamZmZmZkZQGZmZmZmZhJAzczMzMzMFEAzMzMzMzMbQDMzMzMzMxdAZmZmZmZmDkBmZmZmZmYOQGZmZmZmZhJAZmZmZmZmFEAzMzMzMzMiQA==",
          "dtype": "f8"
         },
         "yaxis": "y"
        },
        {
         "hovertemplate": "Genre=Action, Musical<br>Year=%{x}<br>Rating=%{y}<extra></extra>",
         "legendgroup": "Action, Musical",
         "line": {
          "color": "#B6E880",
          "dash": "solid"
         },
         "marker": {
          "symbol": "circle"
         },
         "mode": "lines",
         "name": "Action, Musical",
         "showlegend": true,
         "type": "scattergl",
         "x": {
          "bdata": "qwe0Bw==",
          "dtype": "i2"
         },
         "xaxis": "x",
         "y": {
          "bdata": "MzMzMzMzE0AzMzMzMzMZQA==",
          "dtype": "f8"
         },
         "yaxis": "y"
        },
        {
         "hovertemplate": "Genre=Biography, History<br>Year=%{x}<br>Rating=%{y}<extra></extra>",
         "legendgroup": "Biography, History",
         "line": {
          "color": "#FF97FF",
          "dash": "solid"
         },
         "marker": {
          "symbol": "circle"
         },
         "mode": "lines",
         "name": "Biography, History",
         "showlegend": true,
         "type": "scattergl",
         "x": {
          "bdata": "qwe4B7sHvgfdBw==",
          "dtype": "i2"
         },
         "xaxis": "x",
         "y": {
          "bdata": "MzMzMzMzG0DNzMzMzMwaQAAAAAAAACJAAAAAAAAAGkDMzMzMzMwbQA==",
          "dtype": "f8"
         },
         "yaxis": "y"
        },
        {
         "hovertemplate": "Genre=Drama, Musical, Mystery<br>Year=%{x}<br>Rating=%{y}<extra></extra>",
         "legendgroup": "Drama, Musical, Mystery",
         "line": {
          "color": "#FECB52",
          "dash": "solid"
         },
         "marker": {
          "symbol": "circle"
         },
         "mode": "lines",
         "name": "Drama, Musical, Mystery",
         "showlegend": true,
         "type": "scattergl",
         "x": {
          "bdata": "qwesB64H0Ac=",
          "dtype": "i2"
         },
         "xaxis": "x",
         "y": {
          "bdata": "zczMzMzMFkDNzMzMzMwaQGZmZmZmZh5AAAAAAAAAGkA=",
          "dtype": "f8"
         },
         "yaxis": "y"
        },
        {
         "hovertemplate": "Genre=Romance, Musical, Comedy<br>Year=%{x}<br>Rating=%{y}<extra></extra>",
         "legendgroup": "Romance, Musical, Comedy",
         "line": {
          "color": "#636efa",
          "dash": "solid"
         },
         "marker": {
          "symbol": "circle"
         },
         "mode": "lines",
         "name": "Romance, Musical, Comedy",
         "showlegend": true,
         "type": "scattergl",
         "x": {
          "bdata": "qwc=",
          "dtype": "i2"
         },
         "xaxis": "x",
         "y": {
          "bdata": "mpmZmZmZHUA=",
          "dtype": "f8"
         },
         "yaxis": "y"
        },
        {
         "hovertemplate": "Genre=Action, Adventure, Romance<br>Year=%{x}<br>Rating=%{y}<extra></extra>",
         "legendgroup": "Action, Adventure, Romance",
         "line": {
          "color": "#EF553B",
          "dash": "solid"
         },
         "marker": {
          "symbol": "circle"
         },
         "mode": "lines",
         "name": "Action, Adventure, Romance",
         "showlegend": true,
         "type": "scattergl",
         "x": {
          "bdata": "rAetB8IHyAfPB9AH3wc=",
          "dtype": "i2"
         },
         "xaxis": "x",
         "y": {
          "bdata": "AAAAAAAAGEBmZmZmZmYWQGZmZmZmZhRAzczMzMzMFkAAAAAAAAASQGZmZmZmZhhAZmZmZmZmEkA=",
          "dtype": "f8"
         },
         "yaxis": "y"
        },
        {
         "hovertemplate": "Genre=Action, Musical, War<br>Year=%{x}<br>Rating=%{y}<extra></extra>",
         "legendgroup": "Action, Musical, War",
         "line": {
          "color": "#00cc96",
          "dash": "solid"
         },
         "marker": {
          "symbol": "circle"
         },
         "mode": "lines",
         "name": "Action, Musical, War",
         "showlegend": true,
         "type": "scattergl",
         "x": {
          "bdata": "rAc=",
          "dtype": "i2"
         },
         "xaxis": "x",
         "y": {
          "bdata": "MzMzMzMzH0A=",
          "dtype": "f8"
         },
         "yaxis": "y"
        },
        {
         "hovertemplate": "Genre=Adventure, Comedy, Drama<br>Year=%{x}<br>Rating=%{y}<extra></extra>",
         "legendgroup": "Adventure, Comedy, Drama",
         "line": {
          "color": "#ab63fa",
          "dash": "solid"
         },
         "marker": {
          "symbol": "circle"
         },
         "mode": "lines",
         "name": "Adventure, Comedy, Drama",
         "showlegend": true,
         "type": "scattergl",
         "x": {
          "bdata": "rAevB7MHtAe5B8cH1gfXB9sH3QfeB+EH4gc=",
          "dtype": "i2"
         },
         "xaxis": "x",
         "y": {
          "bdata": "MzMzMzMzF0AAAAAAAAAUQDMzMzMzMx1AzMzMzMzMGkCamZmZmZkZQDMzMzMzMx1AMzMzMzMzG0DNzMzMzMwcQGZmZmZmZhRAeHd3d3d3GUCamZmZmZkWQM3MzMzMzBJAZmZmZmZmHkA=",
          "dtype": "f8"
         },
         "yaxis": "y"
        },
        {
         "hovertemplate": "Genre=Drama, Mystery<br>Year=%{x}<br>Rating=%{y}<extra></extra>",
         "legendgroup": "Drama, Mystery",
         "line": {
          "color": "#FFA15A",
          "dash": "solid"
         },
         "marker": {
          "symbol": "circle"
         },
         "mode": "lines",
         "name": "Drama, Mystery",
         "showlegend": true,
         "type": "scattergl",
         "x": {
          "bdata": "rAe1B7cHvgfAB8IHwwfEB8UHxwfMB9EH4QfiB+QH",
          "dtype": "i2"
         },
         "xaxis": "x",
         "y": {
          "bdata": "ZmZmZmZmHkDNzMzMzMwWQJqZmZmZmRNAMzMzMzMzHUAzMzMzMzMTQM3MzMzMzB5AMzMzMzMzFUBmZmZmZmYaQJqZmZmZmRNAMzMzMzMzE0AAAAAAAAAUQDMzMzMzMxNAmpmZmZmZGUAAAAAAAAAcQAAAAAAAABpA",
          "dtype": "f8"
         },
         "yaxis": "y"
        },
        {
         "hovertemplate": "Genre=Musical, Drama, Comedy<br>Year=%{x}<br>Rating=%{y}<extra></extra>",
         "legendgroup": "Musical, Drama, Comedy",
         "line": {
          "color": "#19d3f3",
          "dash": "solid"
         },
         "marker": {
          "symbol": "circle"
         },
         "mode": "lines",
         "name": "Musical, Drama, Comedy",
         "showlegend": true,
         "type": "scattergl",
         "x": {
          "bdata": "rAc=",
          "dtype": "i2"
         },
         "xaxis": "x",
         "y": {
          "bdata": "AAAAAAAAHEA=",
          "dtype": "f8"
         },
         "yaxis": "y"
        },
        {
         "hovertemplate": "Genre=Romance, Sci-Fi, Thriller<br>Year=%{x}<br>Rating=%{y}<extra></extra>",
         "legendgroup": "Romance, Sci-Fi, Thriller",
         "line": {
          "color": "#FF6692",
          "dash": "solid"
         },
         "marker": {
          "symbol": "circle"
         },
         "mode": "lines",
         "name": "Romance, Sci-Fi, Thriller",
         "showlegend": true,
         "type": "scattergl",
         "x": {
          "bdata": "rAc=",
          "dtype": "i2"
         },
         "xaxis": "x",
         "y": {
          "bdata": "MzMzMzMzGUA=",
          "dtype": "f8"
         },
         "yaxis": "y"
        },
        {
         "hovertemplate": "Genre=Action, Comedy<br>Year=%{x}<br>Rating=%{y}<extra></extra>",
         "legendgroup": "Action, Comedy",
         "line": {
          "color": "#B6E880",
          "dash": "solid"
         },
         "marker": {
          "symbol": "circle"
         },
         "mode": "lines",
         "name": "Action, Comedy",
         "showlegend": true,
         "type": "scattergl",
         "x": {
          "bdata": "rQe2B7oHvQfEB8UHygfOB9IH2QfaB9wH3QffB+AH4QfiB+MH",
          "dtype": "i2"
         },
         "xaxis": "x",
         "y": {
          "bdata": "zczMzMzMGkAAAAAAAAAaQM3MzMzMzBpAAAAAAAAAGEBmZmZmZmYcQDMzMzMzMxFAMzMzMzMzFEBmZmZmZmYKQJqZmZmZmRNAAAAAAAAAEkAAAAAAAAAWQJqZmZmZGRNAZmZmZmZmEEAzMzMzMzMYQJqZmZmZmRFAmpmZmZmZE0AAAAAAAAAVQAAAAAAAAA5A",
          "dtype": "f8"
         },
         "yaxis": "y"
        },
        {
         "hovertemplate": "Genre=Action, Comedy, Musical<br>Year=%{x}<br>Rating=%{y}<extra></extra>",
         "legendgroup": "Action, Comedy, Musical",
         "line": {
          "color": "#FF97FF",
          "dash": "solid"
         },
         "marker": {
          "symbol": "circle"
         },
         "mode": "lines",
         "name": "Action, Comedy, Musical",
         "showlegend": true,
         "type": "scattergl",
         "x": {
          "bdata": "rQezB70HzgfUB9wH5Ac=",
          "dtype": "i2"
         },
         "xaxis": "x",
         "y": {
          "bdata": "mpmZmZmZE0AzMzMzMzMbQGZmZmZmZhhAMzMzMzMzF0AAAAAAAAAEQDMzMzMzMxVAzczMzMzMAEA=",
          "dtype": "f8"
         },
         "yaxis": "y"
        },
        {
         "hovertemplate": "Genre=Adventure, Drama, Family<br>Year=%{x}<br>Rating=%{y}<extra></extra>",
         "legendgroup": "Adventure, Drama, Family",
         "line": {
          "color": "#FECB52",
          "dash": "solid"
         },
         "marker": {
          "symbol": "circle"
         },
         "mode": "lines",
         "name": "Adventure, Drama, Family",
         "showlegend": true,
         "type": "scattergl",
         "x": {
          "bdata": "rQe5B7oHuwfdB98H4AfhBw==",
          "dtype": "i2"
         },
         "xaxis": "x",
         "y": {
          "bdata": "MzMzMzMzG0AzMzMzMzMdQM3MzMzMzBJAAAAAAAAAHkAzMzMzMzMbQAAAAAAAABhAzczMzMzMIEDNzMzMzMwcQA==",
          "dtype": "f8"
         },
         "yaxis": "y"
        },
        {
         "hovertemplate": "Genre=Adventure, Family<br>Year=%{x}<br>Rating=%{y}<extra></extra>",
         "legendgroup": "Adventure, Family",
         "line": {
          "color": "#636efa",
          "dash": "solid"
         },
         "marker": {
          "symbol": "circle"
         },
         "mode": "lines",
         "name": "Adventure, Family",
         "showlegend": true,
         "type": "scattergl",
         "x": {
          "bdata": "rQc=",
          "dtype": "i2"
         },
         "xaxis": "x",
         "y": {
          "bdata": "ZmZmZmZmHkA=",
          "dtype": "f8"
         },
         "yaxis": "y"
        },
        {
         "hovertemplate": "Genre=Adventure, Fantasy, Musical<br>Year=%{x}<br>Rating=%{y}<extra></extra>",
         "legendgroup": "Adventure, Fantasy, Musical",
         "line": {
          "color": "#EF553B",
          "dash": "solid"
         },
         "marker": {
          "symbol": "circle"
         },
         "mode": "lines",
         "name": "Adventure, Fantasy, Musical",
         "showlegend": true,
         "type": "scattergl",
         "x": {
          "bdata": "rQc=",
          "dtype": "i2"
         },
         "xaxis": "x",
         "y": {
          "bdata": "mpmZmZmZDUA=",
          "dtype": "f8"
         },
         "yaxis": "y"
        },
        {
         "hovertemplate": "Genre=Comedy, Drama, Fantasy<br>Year=%{x}<br>Rating=%{y}<extra></extra>",
         "legendgroup": "Comedy, Drama, Fantasy",
         "line": {
          "color": "#00cc96",
          "dash": "solid"
         },
         "marker": {
          "symbol": "circle"
         },
         "mode": "lines",
         "name": "Comedy, Drama, Fantasy",
         "showlegend": true,
         "type": "scattergl",
         "x": {
          "bdata": "rQeuB68HyAfLB9UH1gfYB9oH3AfeB+AH4QfjBw==",
          "dtype": "i2"
         },
         "xaxis": "x",
         "y": {
          "bdata": "AAAAAAAAGEAzMzMzMzMdQJqZmZmZmRlAZmZmZmZmGkAAAAAAAAAcQAAAAAAAABpAZmZmZmZmEEDNzMzMzMwMQAAAAAAAABRAMzMzMzMzIEBmZmZmZmYaQM3MzMzMzAxAZmZmZmZmGEDNzMzMzMwEQA==",
          "dtype": "f8"
         },
         "yaxis": "y"
        },
        {
         "hovertemplate": "Genre=Comedy, Horror, Mystery<br>Year=%{x}<br>Rating=%{y}<extra></extra>",
         "legendgroup": "Comedy, Horror, Mystery",
         "line": {
          "color": "#ab63fa",
          "dash": "solid"
         },
         "marker": {
          "symbol": "circle"
         },
         "mode": "lines",
         "name": "Comedy, Horror, Mystery",
         "showlegend": true,
         "type": "scattergl",
         "x": {
          "bdata": "rQfXBw==",
          "dtype": "i2"
         },
         "xaxis": "x",
         "y": {
          "bdata": "AAAAAAAAGkAzMzMzMzMdQA==",
          "dtype": "f8"
         },
         "yaxis": "y"
        },
        {
         "hovertemplate": "Genre=Drama, Mystery, Thriller<br>Year=%{x}<br>Rating=%{y}<extra></extra>",
         "legendgroup": "Drama, Mystery, Thriller",
         "line": {
          "color": "#FFA15A",
          "dash": "solid"
         },
         "marker": {
          "symbol": "circle"
         },
         "mode": "lines",
         "name": "Drama, Mystery, Thriller",
         "showlegend": true,
         "type": "scattergl",
         "x": {
          "bdata": "rQe1B7YHwgfEB80H0QfSB9UH1wfYB9kH2gfbB90H4AfhB+IH4wc=",
          "dtype": "i2"
         },
         "xaxis": "x",
         "y": {
          "bdata": "AAAAAAAAHEDNzMzMzMwcQMzMzMzMzBtAmpmZmZmZGUAzMzMzMzMXQAAAAAAAABZAAAAAAAAAGEAzMzMzMzMRQMzMzMzMzBhAzczMzMzMEEBmZmZmZmYRQDMzMzMzMxdAVVVVVVVVFUAzMzMzMzMVQM3MzMzMzBBA3d3d3d3dG0BEREREREQaQGZmZmZmZhNAZmZmZmZmGkA=",
          "dtype": "f8"
         },
         "yaxis": "y"
        },
        {
         "hovertemplate": "Genre=Mystery, Thriller<br>Year=%{x}<br>Rating=%{y}<extra></extra>",
         "legendgroup": "Mystery, Thriller",
         "line": {
          "color": "#19d3f3",
          "dash": "solid"
         },
         "marker": {
          "symbol": "circle"
         },
         "mode": "lines",
         "name": "Mystery, Thriller",
         "showlegend": true,
         "type": "scattergl",
         "x": {
          "bdata": "rQevB7AHsQe5B7wHvQfCB8UHxwfJB88H0AfSB9MH1QfWB9wH3gffB+AH4gfjB+QH",
          "dtype": "i2"
         },
         "xaxis": "x",
         "y": {
          "bdata": "ZmZmZmZmGEBmZmZmZmYeQGZmZmZmZhpAzczMzMzMGkBmZmZmZmYXQAAAAAAAABpAMzMzMzMzGUAAAAAAAAAdQGZmZmZmZhxAAAAAAAAAEEAAAAAAAAASQDMzMzMzMx9AAAAAAAAAFEBmZmZmZmYYQHh3d3d3dw9AZmZmZmZmEkBmZmZmZmYTQDMzMzMzMyBAAAAAAAAAE0BmZmZmZmYeQGZmZmZmZhpAZmZmZmZmFkBmZmZmZmYZQM3MzMzMzBhA",
          "dtype": "f8"
         },
         "yaxis": "y"
        },
        {
         "hovertemplate": "Genre=Romance, Thriller, Mystery<br>Year=%{x}<br>Rating=%{y}<extra></extra>",
         "legendgroup": "Romance, Thriller, Mystery",
         "line": {
          "color": "#FF6692",
          "dash": "solid"
         },
         "marker": {
          "symbol": "circle"
         },
         "mode": "lines",
         "name": "Romance, Thriller, Mystery",
         "showlegend": true,
         "type": "scattergl",
         "x": {
          "bdata": "rQe8Bw==",
          "dtype": "i2"
         },
         "xaxis": "x",
         "y": {
          "bdata": "MzMzMzMzG0AzMzMzMzMXQA==",
          "dtype": "f8"
         },
         "yaxis": "y"
        },
        {
         "hovertemplate": "Genre=Action, Crime<br>Year=%{x}<br>Rating=%{y}<extra></extra>",
         "legendgroup": "Action, Crime",
         "line": {
          "color": "#B6E880",
          "dash": "solid"
         },
         "marker": {
          "symbol": "circle"
         },
         "mode": "lines",
         "name": "Action, Crime",
         "showlegend": true,
         "type": "scattergl",
         "x": {
          "bdata": "rgezB7YHtwe5B7sHvAe9B78HwAfBB8MHxQfGB8gHyQfMB9AH0QfWB9gH5Qc=",
          "dtype": "i2"
         },
         "xaxis": "x",
         "y": {
          "bdata": "zczMzMzMGkDNzMzMzMwUQDMzMzMzMxpAMzMzMzMzE0BmZmZmZmYYQDMzMzMzMyFAMzMzMzMzFUDNzMzMzMwUQDMzMzMzMxdAmpmZmZmZF0AzMzMzMzMZQAAAAAAAABZAjuM4juM4FECamZmZmZkQQM3MzMzMzBRAMzMzMzMzEkAzMzMzMzMRQDMzMzMzMxFAMzMzMzMzFUBmZmZmZmYKQJqZmZmZmQ1AZmZmZmZmGEA=",
          "dtype": "f8"
         },
         "yaxis": "y"
        },
        {
         "hovertemplate": "Genre=Action, Drama, Sport<br>Year=%{x}<br>Rating=%{y}<extra></extra>",
         "legendgroup": "Action, Drama, Sport",
         "line": {
          "color": "#FF97FF",
          "dash": "solid"
         },
         "marker": {
          "symbol": "circle"
         },
         "mode": "lines",
         "name": "Action, Drama, Sport",
         "showlegend": true,
         "type": "scattergl",
         "x": {
          "bdata": "rgfAB8YH1gfaB98H4AfhB+MH5Ac=",
          "dtype": "i2"
         },
         "xaxis": "x",
         "y": {
          "bdata": "ZmZmZmZmFkDNzMzMzMwYQDMzMzMzMxVAmpmZmZmZEUAzMzMzMzMZQAAAAAAAABpAMzMzMzMzHUAAAAAAAAAgQJqZmZmZmRlAMzMzMzMzG0A=",
          "dtype": "f8"
         },
         "yaxis": "y"
        },
        {
         "hovertemplate": "Genre=Action, Drama, Thriller<br>Year=%{x}<br>Rating=%{y}<extra></extra>",
         "legendgroup": "Action, Drama, Thriller",
         "line": {
          "color": "#FECB52",
          "dash": "solid"
         },
         "marker": {
          "symbol": "circle"
         },
         "mode": "lines",
         "name": "Action, Drama, Thriller",
         "showlegend": true,
         "type": "scattergl",
         "x": {
          "bdata": "rgevB7IHtQe2B7gHuQfAB8IHwwfEB8YHxwfIB8kHygfLB8wHzgfPB9AH0QfSB9MH1AfVB9YH1wfZB9oH2wfcB90H3wfgB+IH4wfkBw==",
          "dtype": "i2"
         },
         "xaxis": "x",
         "y": {
          "bdata": "MzMzMzMzG0BmZmZmZmYaQJqZmZmZmRlAAAAAAAAAGkCamZmZmZkbQAAAAAAAABpAZmZmZmZmEkAzMzMzMzMXQAAAAAAAABFAZmZmZmZmF0CamZmZmZkTQDMzMzMzMxBAZmZmZmZmFkAREREREREZQO/u7u7u7hRAAAAAAACAFkBmZmZmZmYSQAAAAAAAABJAMzMzMzMzEUCamZmZmZkVQM3MzMzMzBpAMzMzMzMzH0DNzMzMzMwYQGZmZmZmZhRA3d3d3d3dGUBmZmZmZmYQQJqZmZmZmRFAAAAAAAAAHkA0MzMzMzMWQDMzMzMzMxRAMzMzMzMzD0AzMzMzMzMbQM3MzMzMzBZANDMzMzMzG0AAAAAAAAAcQDMzMzMzMxpAZmZmZmZmG0DNzMzMzMwSQA==",
          "dtype": "f8"
         },
         "yaxis": "y"
        },
        {
         "hovertemplate": "Genre=Adventure, Fantasy, Romance<br>Year=%{x}<br>Rating=%{y}<extra></extra>",
         "legendgroup": "Adventure, Fantasy, Romance",
         "line": {
          "color": "#636efa",
          "dash": "solid"
         },
         "marker": {
          "symbol": "circle"
         },
         "mode": "lines",
         "name": "Adventure, Fantasy, Romance",
         "showlegend": true,
         "type": "scattergl",
         "x": {
          "bdata": "rgfkBw==",
          "dtype": "i2"
         },
         "xaxis": "x",
         "y": {
          "bdata": "mpmZmZmZGUDNzMzMzMwWQA==",
          "dtype": "f8"
         },
         "yaxis": "y"
        },
        {
         "hovertemplate": "Genre=Biography, Drama<br>Year=%{x}<br>Rating=%{y}<extra></extra>",
         "legendgroup": "Biography, Drama",
         "line": {
          "color": "#EF553B",
          "dash": "solid"
         },
         "marker": {
          "symbol": "circle"
         },
         "mode": "lines",
         "name": "Biography, Drama",
         "showlegend": true,
         "type": "scattergl",
         "x": {
          "bdata": "rgezB7kHvwfGB84H0QfYB9oH3AfdB94H3wfgB+IH4wfkBw==",
          "dtype": "i2"
         },
         "xaxis": "x",
         "y": {
          "bdata": "zczMzMzMHkAAAAAAAAAeQAAAAAAAABxAMzMzMzMzHUCamZmZmZkgQGZmZmZmZhpAMzMzMzMzG0BmZmZmZmYZQJqZmZmZmRxAZmZmZmZmIEAzMzMzMzMTQM3MzMzMzBxAmZmZmZmZG0B4d3d3d3cdQJqZmZmZmR1AvLu7u7u7F0AzMzMzMzMTQA==",
          "dtype": "f8"
         },
         "yaxis": "y"
        },
        {
         "hovertemplate": "Genre=Comedy, Musical, Mystery<br>Year=%{x}<br>Rating=%{y}<extra></extra>",
         "legendgroup": "Comedy, Musical, Mystery",
         "line": {
          "color": "#00cc96",
          "dash": "solid"
         },
         "marker": {
          "symbol": "circle"
         },
         "mode": "lines",
         "name": "Comedy, Musical, Mystery",
         "showlegend": true,
         "type": "scattergl",
         "x": {
          "bdata": "rgfRBw==",
          "dtype": "i2"
         },
         "xaxis": "x",
         "y": {
          "bdata": "zczMzMzMHkDNzMzMzMwaQA==",
          "dtype": "f8"
         },
         "yaxis": "y"
        },
        {
         "hovertemplate": "Genre=Drama, Action, Family<br>Year=%{x}<br>Rating=%{y}<extra></extra>",
         "legendgroup": "Drama, Action, Family",
         "line": {
          "color": "#ab63fa",
          "dash": "solid"
         },
         "marker": {
          "symbol": "circle"
         },
         "mode": "lines",
         "name": "Drama, Action, Family",
         "showlegend": true,
         "type": "scattergl",
         "x": {
          "bdata": "rgc=",
          "dtype": "i2"
         },
         "xaxis": "x",
         "y": {
          "bdata": "MzMzMzMzFUA=",
          "dtype": "f8"
         },
         "yaxis": "y"
        },
        {
         "hovertemplate": "Genre=Family<br>Year=%{x}<br>Rating=%{y}<extra></extra>",
         "legendgroup": "Family",
         "line": {
          "color": "#FFA15A",
          "dash": "solid"
         },
         "marker": {
          "symbol": "circle"
         },
         "mode": "lines",
         "name": "Family",
         "showlegend": true,
         "type": "scattergl",
         "x": {
          "bdata": "rgewB7MHtAe3B7kHuwe+B78HwAfEB8UHxgfIB8sHzAfQB9EH1wfcB98H4AfhB+MH5AflBw==",
          "dtype": "i2"
         },
         "xaxis": "x",
         "y": {
          "bdata": "mpmZmZmZGUAAAAAAAAAYQM3MzMzMzBxAAAAAAAAAGEAAAAAAAAAeQJqZmZmZmRdAvLu7u7u7GUB4d3d3d3cVQDMzMzMzMxNAmpmZmZmZF0AiIiIiIiIUQGZmZmZmZhRAZ2ZmZmZmEkCamZmZmZkfQM3MzMzMzBZAzczMzMzMCEDNzMzMzMwYQDMzMzMzMxZAAAAAAAAAIEAzMzMzMzMbQJqZmZmZmRhANDMzMzMzG0CamZmZmZkFQDMzMzMzMx5AMzMzMzMzHUCamZmZmZkiQA==",
          "dtype": "f8"
         },
         "yaxis": "y"
        },
        {
         "hovertemplate": "Genre=Musical, Drama<br>Year=%{x}<br>Rating=%{y}<extra></extra>",
         "legendgroup": "Musical, Drama",
         "line": {
          "color": "#19d3f3",
          "dash": "solid"
         },
         "marker": {
          "symbol": "circle"
         },
         "mode": "lines",
         "name": "Musical, Drama",
         "showlegend": true,
         "type": "scattergl",
         "x": {
          "bdata": "rgfBB8kH1AfWBw==",
          "dtype": "i2"
         },
         "xaxis": "x",
         "y": {
          "bdata": "AAAAAAAAFEBmZmZmZmYgQDMzMzMzMxFAmpmZmZmZCUBmZmZmZmYYQA==",
          "dtype": "f8"
         },
         "yaxis": "y"
        },
        {
         "hovertemplate": "Genre=Musical, Fantasy<br>Year=%{x}<br>Rating=%{y}<extra></extra>",
         "legendgroup": "Musical, Fantasy",
         "line": {
          "color": "#FF6692",
          "dash": "solid"
         },
         "marker": {
          "symbol": "circle"
         },
         "mode": "lines",
         "name": "Musical, Fantasy",
         "showlegend": true,
         "type": "scattergl",
         "x": {
          "bdata": "rgc=",
          "dtype": "i2"
         },
         "xaxis": "x",
         "y": {
          "bdata": "ZmZmZmZmGkA=",
          "dtype": "f8"
         },
         "yaxis": "y"
        },
        {
         "hovertemplate": "Genre=Romance, Comedy, Drama<br>Year=%{x}<br>Rating=%{y}<extra></extra>",
         "legendgroup": "Romance, Comedy, Drama",
         "line": {
          "color": "#B6E880",
          "dash": "solid"
         },
         "marker": {
          "symbol": "circle"
         },
         "mode": "lines",
         "name": "Romance, Comedy, Drama",
         "showlegend": true,
         "type": "scattergl",
         "x": {
          "bdata": "rgfGB8wH",
          "dtype": "i2"
         },
         "xaxis": "x",
         "y": {
          "bdata": "MzMzMzMzG0DNzMzMzMwWQAAAAAAAAB5A",
          "dtype": "f8"
         },
         "yaxis": "y"
        },
        {
         "hovertemplate": "Genre=Romance, Musical, Action<br>Year=%{x}<br>Rating=%{y}<extra></extra>",
         "legendgroup": "Romance, Musical, Action",
         "line": {
          "color": "#FF97FF",
          "dash": "solid"
         },
         "marker": {
          "symbol": "circle"
         },
         "mode": "lines",
         "name": "Romance, Musical, Action",
         "showlegend": true,
         "type": "scattergl",
         "x": {
          "bdata": "rgc=",
          "dtype": "i2"
         },
         "xaxis": "x",
         "y": {
          "bdata": "zczMzMzMGkA=",
          "dtype": "f8"
         },
         "yaxis": "y"
        },
        {
         "hovertemplate": "Genre=Sci-Fi<br>Year=%{x}<br>Rating=%{y}<extra></extra>",
         "legendgroup": "Sci-Fi",
         "line": {
          "color": "#FECB52",
          "dash": "solid"
         },
         "marker": {
          "symbol": "circle"
         },
         "mode": "lines",
         "name": "Sci-Fi",
         "showlegend": true,
         "type": "scattergl",
         "x": {
          "bdata": "rgfcB94H5Qc=",
          "dtype": "i2"
         },
         "xaxis": "x",
         "y": {
          "bdata": "AAAAAAAAHECamZmZmZkVQDMzMzMzMxFAmpmZmZmZIkA=",
          "dtype": "f8"
         },
         "yaxis": "y"
        },
        {
         "hovertemplate": "Genre=Action, Crime, Thriller<br>Year=%{x}<br>Rating=%{y}<extra></extra>",
         "legendgroup": "Action, Crime, Thriller",
         "line": {
          "color": "#636efa",
          "dash": "solid"
         },
         "marker": {
          "symbol": "circle"
         },
         "mode": "lines",
         "name": "Action, Crime, Thriller",
         "showlegend": true,
         "type": "scattergl",
         "x": {
          "bdata": "rwewB7UHtwe4B7kHuge7B7wHvQfBB8QHxQfKB8sHzQfQB9MH1AfWB9cH2AfZB9oH2wfcB90H3gffB+AH4QfiB+MH5AflBw==",
          "dtype": "i2"
         },
         "xaxis": "x",
         "y": {
          "bdata": "zczMzMzMGEBmZmZmZmYWQGZmZmZmZhhAzczMzMzMFkCamZmZmZkbQJqZmZmZmRVAMzMzMzMzH0BmZmZmZmYSQMzMzMzMzBZAMzMzMzMzGkAzMzMzMzMXQGZmZmZmZhNAAAAAAAAAGkAzMzMzMzMVQM3MzMzMzBdAAAAAAAAAEEAzMzMzMzMXQAAAAAAAABRAMzMzMzMzFUC8u7u7u7sVQDMzMzMzMwlAAAAAAAAAEEBmZmZmZmYaQCMiIiIiIhZAZmZmZmZmHEDMzMzMzMwMQMP1KFyPwhNAMzMzMzMzDUAzMzMzMzMXQDMzMzMzMxtAmpmZmZmZG0BmZmZmZmb+PwAAAAAAABFAzczMzMzMHEDNzMzMzMwIQA==",
          "dtype": "f8"
         },
         "yaxis": "y"
        },
        {
         "hovertemplate": "Genre=Crime, Drama, Music<br>Year=%{x}<br>Rating=%{y}<extra></extra>",
         "legendgroup": "Crime, Drama, Music",
         "line": {
          "color": "#EF553B",
          "dash": "solid"
         },
         "marker": {
          "symbol": "circle"
         },
         "mode": "lines",
         "name": "Crime, Drama, Music",
         "showlegend": true,
         "type": "scattergl",
         "x": {
          "bdata": "rwe8B+IH",
          "dtype": "i2"
         },
         "xaxis": "x",
         "y": {
          "bdata": "zczMzMzMGkCamZmZmZkfQGZmZmZmZiBA",
          "dtype": "f8"
         },
         "yaxis": "y"
        },
        {
         "hovertemplate": "Genre=Crime, Mystery, Romance<br>Year=%{x}<br>Rating=%{y}<extra></extra>",
         "legendgroup": "Crime, Mystery, Romance",
         "line": {
          "color": "#00cc96",
          "dash": "solid"
         },
         "marker": {
          "symbol": "circle"
         },
         "mode": "lines",
         "name": "Crime, Mystery, Romance",
         "showlegend": true,
         "type": "scattergl",
         "x": {
          "bdata": "rweyBw==",
          "dtype": "i2"
         },
         "xaxis": "x",
         "y": {
          "bdata": "AAAAAAAAGkBmZmZmZmYaQA==",
          "dtype": "f8"
         },
         "yaxis": "y"
        },
        {
         "hovertemplate": "Genre=Musical, Mystery, Thriller<br>Year=%{x}<br>Rating=%{y}<extra></extra>",
         "legendgroup": "Musical, Mystery, Thriller",
         "line": {
          "color": "#ab63fa",
          "dash": "solid"
         },
         "marker": {
          "symbol": "circle"
         },
         "mode": "lines",
         "name": "Musical, Mystery, Thriller",
         "showlegend": true,
         "type": "scattergl",
         "x": {
          "bdata": "rwe5Bw==",
          "dtype": "i2"
         },
         "xaxis": "x",
         "y": {
          "bdata": "ZmZmZmZmHEBmZmZmZmYYQA==",
          "dtype": "f8"
         },
         "yaxis": "y"
        },
        {
         "hovertemplate": "Genre=Musical, Thriller, Mystery<br>Year=%{x}<br>Rating=%{y}<extra></extra>",
         "legendgroup": "Musical, Thriller, Mystery",
         "line": {
          "color": "#FFA15A",
          "dash": "solid"
         },
         "marker": {
          "symbol": "circle"
         },
         "mode": "lines",
         "name": "Musical, Thriller, Mystery",
         "showlegend": true,
         "type": "scattergl",
         "x": {
          "bdata": "rwc=",
          "dtype": "i2"
         },
         "xaxis": "x",
         "y": {
          "bdata": "mpmZmZmZGUA=",
          "dtype": "f8"
         },
         "yaxis": "y"
        },
        {
         "hovertemplate": "Genre=Thriller, Mystery<br>Year=%{x}<br>Rating=%{y}<extra></extra>",
         "legendgroup": "Thriller, Mystery",
         "line": {
          "color": "#19d3f3",
          "dash": "solid"
         },
         "marker": {
          "symbol": "circle"
         },
         "mode": "lines",
         "name": "Thriller, Mystery",
         "showlegend": true,
         "type": "scattergl",
         "x": {
          "bdata": "rwexB74H",
          "dtype": "i2"
         },
         "xaxis": "x",
         "y": {
          "bdata": "zczMzMzMGEBmZmZmZmYYQDMzMzMzMx1A",
          "dtype": "f8"
         },
         "yaxis": "y"
        },
        {
         "hovertemplate": "Genre=Action, Comedy, Romance<br>Year=%{x}<br>Rating=%{y}<extra></extra>",
         "legendgroup": "Action, Comedy, Romance",
         "line": {
          "color": "#FF6692",
          "dash": "solid"
         },
         "marker": {
          "symbol": "circle"
         },
         "mode": "lines",
         "name": "Action, Comedy, Romance",
         "showlegend": true,
         "type": "scattergl",
         "x": {
          "bdata": "sAe7B74HwQfJB8oHywfMB88H0AfSB9QH1gfZB9sH3QfeB+AH5Ac=",
          "dtype": "i2"
         },
         "xaxis": "x",
         "y": {
          "bdata": "mpmZmZmZE0BmZmZmZmYaQGZmZmZmZhpAAAAAAAAAGEAAAAAAAAAYQDMzMzMzMyBAZmZmZmZmGkAzMzMzMzMVQDMzMzMzMxVAmpmZmZmZBUCamZmZmZkRQDMzMzMzMw9AmpmZmZmZCUCamZmZmZkUQDMzMzMzMxNAzczMzMzMEkBmZmZmZmYUQAAAAAAAABJAzMzMzMzMBEA=",
          "dtype": "f8"
         },
         "yaxis": "y"
        },
        {
         "hovertemplate": "Genre=Action, Crime, Mystery<br>Year=%{x}<br>Rating=%{y}<extra></extra>",
         "legendgroup": "Action, Crime, Mystery",
         "line": {
          "color": "#B6E880",
          "dash": "solid"
         },
         "marker": {
          "symbol": "circle"
         },
         "mode": "lines",
         "name": "Action, Crime, Mystery",
         "showlegend": true,
         "type": "scattergl",
         "x": {
          "bdata": "sAexB7IHxAfNB9kH",
          "dtype": "i2"
         },
         "xaxis": "x",
         "y": {
          "bdata": "MzMzMzMzGUAAAAAAAAAYQJqZmZmZmRlAMzMzMzMzF0AzMzMzMzMdQGZmZmZmZhJA",
          "dtype": "f8"
         },
         "yaxis": "y"
        },
        {
         "hovertemplate": "Genre=Action, Sci-Fi<br>Year=%{x}<br>Rating=%{y}<extra></extra>",
         "legendgroup": "Action, Sci-Fi",
         "line": {
          "color": "#FF97FF",
          "dash": "solid"
         },
         "marker": {
          "symbol": "circle"
         },
         "mode": "lines",
         "name": "Action, Sci-Fi",
         "showlegend": true,
         "type": "scattergl",
         "x": {
          "bdata": "sAfiBw==",
          "dtype": "i2"
         },
         "xaxis": "x",
         "y": {
          "bdata": "MzMzMzMzG0DNzMzMzMwYQA==",
          "dtype": "f8"
         },
         "yaxis": "y"
        },
        {
         "hovertemplate": "Genre=Crime, Musical, Mystery<br>Year=%{x}<br>Rating=%{y}<extra></extra>",
         "legendgroup": "Crime, Musical, Mystery",
         "line": {
          "color": "#FECB52",
          "dash": "solid"
         },
         "marker": {
          "symbol": "circle"
         },
         "mode": "lines",
         "name": "Crime, Musical, Mystery",
         "showlegend": true,
         "type": "scattergl",
         "x": {
          "bdata": "sAc=",
          "dtype": "i2"
         },
         "xaxis": "x",
         "y": {
          "bdata": "mpmZmZmZGUA=",
          "dtype": "f8"
         },
         "yaxis": "y"
        },
        {
         "hovertemplate": "Genre=Drama, Fantasy, Musical<br>Year=%{x}<br>Rating=%{y}<extra></extra>",
         "legendgroup": "Drama, Fantasy, Musical",
         "line": {
          "color": "#636efa",
          "dash": "solid"
         },
         "marker": {
          "symbol": "circle"
         },
         "mode": "lines",
         "name": "Drama, Fantasy, Musical",
         "showlegend": true,
         "type": "scattergl",
         "x": {
          "bdata": "sAfGB9kH",
          "dtype": "i2"
         },
         "xaxis": "x",
         "y": {
          "bdata": "MzMzMzMzG0AAAAAAAAAeQGZmZmZmZhZA",
          "dtype": "f8"
         },
         "yaxis": "y"
        },
        {
         "hovertemplate": "Genre=Action, Crime, Romance<br>Year=%{x}<br>Rating=%{y}<extra></extra>",
         "legendgroup": "Action, Crime, Romance",
         "line": {
          "color": "#EF553B",
          "dash": "solid"
         },
         "marker": {
          "symbol": "circle"
         },
         "mode": "lines",
         "name": "Action, Crime, Romance",
         "showlegend": true,
         "type": "scattergl",
         "x": {
          "bdata": "sQe5B7sHxgfIB8sHzwfZB9oH3gc=",
          "dtype": "i2"
         },
         "xaxis": "x",
         "y": {
          "bdata": "AAAAAAAAHEAzMzMzMzMbQAAAAAAAABpAZmZmZmZmFkCamZmZmZkXQGZmZmZmZhRAzczMzMzMEkDNzMzMzMwMQJqZmZmZmRVAZmZmZmZmHEA=",
          "dtype": "f8"
         },
         "yaxis": "y"
        },
        {
         "hovertemplate": "Genre=Action, Thriller<br>Year=%{x}<br>Rating=%{y}<extra></extra>",
         "legendgroup": "Action, Thriller",
         "line": {
          "color": "#00cc96",
          "dash": "solid"
         },
         "marker": {
          "symbol": "circle"
         },
         "mode": "lines",
         "name": "Action, Thriller",
         "showlegend": true,
         "type": "scattergl",
         "x": {
          "bdata": "sQe0B7UHtge3B7kHuge7B7wHvQe+B78HwAfBB8IHwwfEB8UHxwfIB8kHygfMB80HzwfRB9IH1AfVB9gH2QfbB9wH3QfeB98H4AfhB+IH4wfkB+UH",
          "dtype": "i2"
         },
         "xaxis": "x",
         "y": {
          "bdata": "zczMzMzMFkDNzMzMzMwTQJqZmZmZmRlAZmZmZmZmGUBmZmZmZmYYQM3MzMzMTBdAMzMzMzMzGUBnZmZmZmYaQAAAAAAAABhAMzMzMzMzGkDNzMzMzMwWQAAAAAAAABNAwvUoXI/CE0BmZmZmZmYWQERERERERBZAVVVVVVVVGUDNzMzMzEwSQCMiIiIiIhJAAAAAAAAAHEDNzMzMzMwSQPYoXI/C9RJAiIiIiIiIFECrqqqqqqoRQGZmZmZmZg5AMzMzMzMzE0DNzMzMzMwVQJqZmZmZmRtAAAAAAAAAFECamZmZmZkLQGZmZmZmZgRAmpmZmZmZDUCamZmZmZkNQGZmZmZmZhpAmpmZmZmZHkAzMzMzMzMVQJqZmZmZmRtAj8L1KFyPFEDMzMzMzMwZQLy7u7u7uxRAzczMzMzMGEAzMzMzMzMbQAAAAAAAABlA",
          "dtype": "f8"
         },
         "yaxis": "y"
        },
        {
         "hovertemplate": "Genre=Comedy, Mystery, Romance<br>Year=%{x}<br>Rating=%{y}<extra></extra>",
         "legendgroup": "Comedy, Mystery, Romance",
         "line": {
          "color": "#ab63fa",
          "dash": "solid"
         },
         "marker": {
          "symbol": "circle"
         },
         "mode": "lines",
         "name": "Comedy, Mystery, Romance",
         "showlegend": true,
         "type": "scattergl",
         "x": {
          "bdata": "sQe3Bw==",
          "dtype": "i2"
         },
         "xaxis": "x",
         "y": {
          "bdata": "ZmZmZmZmHEAAAAAAAAAeQA==",
          "dtype": "f8"
         },
         "yaxis": "y"
        },
        {
         "hovertemplate": "Genre=Crime, Mystery, Thriller<br>Year=%{x}<br>Rating=%{y}<extra></extra>",
         "legendgroup": "Crime, Mystery, Thriller",
         "line": {
          "color": "#FFA15A",
          "dash": "solid"
         },
         "marker": {
          "symbol": "circle"
         },
         "mode": "lines",
         "name": "Crime, Mystery, Thriller",
         "showlegend": true,
         "type": "scattergl",
         "x": {
          "bdata": "sQe1B70HwQfFB80HzgfTB+EH4gfjBw==",
          "dtype": "i2"
         },
         "xaxis": "x",
         "y": {
          "bdata": "mpmZmZmZHUDNzMzMzMwUQM3MzMzMzBRAMzMzMzMzG0AAAAAAAAAWQDMzMzMzMxFAAAAAAAAADECamZmZmZkbQDMzMzMzMxlAAAAAAAAAGEBmZmZmZmYhQA==",
          "dtype": "f8"
         },
         "yaxis": "y"
        },
        {
         "hovertemplate": "Genre=Drama, Comedy, Action<br>Year=%{x}<br>Rating=%{y}<extra></extra>",
         "legendgroup": "Drama, Comedy, Action",
         "line": {
          "color": "#19d3f3",
          "dash": "solid"
         },
         "marker": {
          "symbol": "circle"
         },
         "mode": "lines",
         "name": "Drama, Comedy, Action",
         "showlegend": true,
         "type": "scattergl",
         "x": {
          "bdata": "sQc=",
          "dtype": "i2"
         },
         "xaxis": "x",
         "y": {
          "bdata": "MzMzMzMzHUA=",
          "dtype": "f8"
         },
         "yaxis": "y"
        },
        {
         "hovertemplate": "Genre=Romance, Thriller<br>Year=%{x}<br>Rating=%{y}<extra></extra>",
         "legendgroup": "Romance, Thriller",
         "line": {
          "color": "#FF6692",
          "dash": "solid"
         },
         "marker": {
          "symbol": "circle"
         },
         "mode": "lines",
         "name": "Romance, Thriller",
         "showlegend": true,
         "type": "scattergl",
         "x": {
          "bdata": "sQezB7QHtQe4B7kHvQe/B8EHzAfUB9cH3AffB+EH4gc=",
          "dtype": "i2"
         },
         "xaxis": "x",
         "y": {
          "bdata": "ZmZmZmZmGkAzMzMzMzMbQJqZmZmZmRlAAAAAAAAAGkDNzMzMzMwWQJqZmZmZmRdAMzMzMzMzGkDNzMzMzMwQQDQzMzMzMxtAMzMzMzMzEUCamZmZmZkRQAAAAAAAABBAZmZmZmZmAkAzMzMzMzMUQM3MzMzMzPw/ZmZmZmZmEEA=",
          "dtype": "f8"
         },
         "yaxis": "y"
        },
        {
         "hovertemplate": "Genre=Action, Biography, Drama<br>Year=%{x}<br>Rating=%{y}<extra></extra>",
         "legendgroup": "Action, Biography, Drama",
         "line": {
          "color": "#B6E880",
          "dash": "solid"
         },
         "marker": {
          "symbol": "circle"
         },
         "mode": "lines",
         "name": "Action, Biography, Drama",
         "showlegend": true,
         "type": "scattergl",
         "x": {
          "bdata": "sgfRB9IH1QfeB+AH4gfjB+QH",
          "dtype": "i2"
         },
         "xaxis": "x",
         "y": {
          "bdata": "AAAAAAAAHEAAAAAAAAAaQDMzMzMzMyBAzczMzMzMGEAzMzMzMzMbQM3MzMzMzCBAzczMzMzMFkDd3d3d3d0ZQMzMzMzMzBlA",
          "dtype": "f8"
         },
         "yaxis": "y"
        },
        {
         "hovertemplate": "Genre=Action, Comedy, Thriller<br>Year=%{x}<br>Rating=%{y}<extra></extra>",
         "legendgroup": "Action, Comedy, Thriller",
         "line": {
          "color": "#FF97FF",
          "dash": "solid"
         },
         "marker": {
          "symbol": "circle"
         },
         "mode": "lines",
         "name": "Action, Comedy, Thriller",
         "showlegend": true,
         "type": "scattergl",
         "x": {
          "bdata": "sge8B8sHzAfVB9oH2wc=",
          "dtype": "i2"
         },
         "xaxis": "x",
         "y": {
          "bdata": "zczMzMzMGkBmZmZmZmYKQDMzMzMzMxlAMzMzMzMzF0DNzMzMzMwMQDMzMzMzMxtAzczMzMzMHEA=",
          "dtype": "f8"
         },
         "yaxis": "y"
        },
        {
         "hovertemplate": "Genre=Action, Drama, Family<br>Year=%{x}<br>Rating=%{y}<extra></extra>",
         "legendgroup": "Action, Drama, Family",
         "line": {
          "color": "#FECB52",
          "dash": "solid"
         },
         "marker": {
          "symbol": "circle"
         },
         "mode": "lines",
         "name": "Action, Drama, Family",
         "showlegend": true,
         "type": "scattergl",
         "x": {
          "bdata": "sge0B7UHtge4B7sHvAe+B78HwAfEB8UHzAfNB9IH4Ac=",
          "dtype": "i2"
         },
         "xaxis": "x",
         "y": {
          "bdata": "zczMzMzMFkBmZmZmZmYaQDMzMzMzMxVAZmZmZmZmFkCamZmZmZkZQAAAAAAAABRAmpmZmZmZGUCamZmZmZkVQDMzMzMzMxlAMzMzMzMzHUBmZmZmZmYWQO/u7u7u7hBAZmZmZmZmEEBmZmZmZmYUQJqZmZmZmRtAZmZmZmZmFEA=",
          "dtype": "f8"
         },
         "yaxis": "y"
        },
        {
         "hovertemplate": "Genre=Action, Mystery, Romance<br>Year=%{x}<br>Rating=%{y}<extra></extra>",
         "legendgroup": "Action, Mystery, Romance",
         "line": {
          "color": "#636efa",
          "dash": "solid"
         },
         "marker": {
          "symbol": "circle"
         },
         "mode": "lines",
         "name": "Action, Mystery, Romance",
         "showlegend": true,
         "type": "scattergl",
         "x": {
          "bdata": "sgfIB+EH",
          "dtype": "i2"
         },
         "xaxis": "x",
         "y": {
          "bdata": "MzMzMzMzG0DNzMzMzMwcQJqZmZmZmQVA",
          "dtype": "f8"
         },
         "yaxis": "y"
        },
        {
         "hovertemplate": "Genre=Action, Romance, Thriller<br>Year=%{x}<br>Rating=%{y}<extra></extra>",
         "legendgroup": "Action, Romance, Thriller",
         "line": {
          "color": "#EF553B",
          "dash": "solid"
         },
         "marker": {
          "symbol": "circle"
         },
         "mode": "lines",
         "name": "Action, Romance, Thriller",
         "showlegend": true,
         "type": "scattergl",
         "x": {
          "bdata": "sge3B8kHygfLB80HzgfQB9IH3AfgBw==",
          "dtype": "i2"
         },
         "xaxis": "x",
         "y": {
          "bdata": "AAAAAAAAGkDNzMzMzMwaQGZmZmZmZhRAzczMzMzMFkDMzMzMzMwRQAAAAAAAABhAMzMzMzMzEUDNzMzMzMwUQMzMzMzMzBFAAAAAAAAAFkDNzMzMzMwUQA==",
          "dtype": "f8"
         },
         "yaxis": "y"
        },
        {
         "hovertemplate": "Genre=Crime<br>Year=%{x}<br>Rating=%{y}<extra></extra>",
         "legendgroup": "Crime",
         "line": {
          "color": "#00cc96",
          "dash": "solid"
         },
         "marker": {
          "symbol": "circle"
         },
         "mode": "lines",
         "name": "Crime",
         "showlegend": true,
         "type": "scattergl",
         "x": {
          "bdata": "sge1B7cHvwfAB8EHxAfFB8YHywfMB84H0AfRB9IH0wfUB9YH2AfdB94H3wfgB+EH4gfjB+UH",
          "dtype": "i2"
         },
         "xaxis": "x",
         "y": {
          "bdata": "ZmZmZmZmFkBmZmZmZmYeQJqZmZmZmRdAmpmZmZmZGUBmZmZmZmYXQGZmZmZmZhJAmpmZmZmZFUAiIiIiIiISQJqZmZmZmRFAmpmZmZmZC0BmZmZmZmYWQM3MzMzMzBJAzczMzMzMBkCamZmZmZkJQAAAAAAAAAxAMzMzMzMzC0AzMzMzMzMPQM3MzMzMzBJAzczMzMzMEkBmZmZmZmYSQJqZmZmZmRhAMzMzMzMzF0BmZmZmZmYgQJqZmZmZmRNAAAAAAAAAGkBmZmZmZmYVQDMzMzMzsyBA",
          "dtype": "f8"
         },
         "yaxis": "y"
        },
        {
         "hovertemplate": "Genre=Drama, Comedy, Family<br>Year=%{x}<br>Rating=%{y}<extra></extra>",
         "legendgroup": "Drama, Comedy, Family",
         "line": {
          "color": "#ab63fa",
          "dash": "solid"
         },
         "marker": {
          "symbol": "circle"
         },
         "mode": "lines",
         "name": "Drama, Comedy, Family",
         "showlegend": true,
         "type": "scattergl",
         "x": {
          "bdata": "sgezB7sHwwc=",
          "dtype": "i2"
         },
         "xaxis": "x",
         "y": {
          "bdata": "zMzMzMzMGUDNzMzMzMwcQAAAAAAAABZAzczMzMzMGkA=",
          "dtype": "f8"
         },
         "yaxis": "y"
        },
        {
         "hovertemplate": "Genre=Musical, Adventure, Drama<br>Year=%{x}<br>Rating=%{y}<extra></extra>",
         "legendgroup": "Musical, Adventure, Drama",
         "line": {
          "color": "#FFA15A",
          "dash": "solid"
         },
         "marker": {
          "symbol": "circle"
         },
         "mode": "lines",
         "name": "Musical, Adventure, Drama",
         "showlegend": true,
         "type": "scattergl",
         "x": {
          "bdata": "sgc=",
          "dtype": "i2"
         },
         "xaxis": "x",
         "y": {
          "bdata": "MzMzMzMzGUA=",
          "dtype": "f8"
         },
         "yaxis": "y"
        },
        {
         "hovertemplate": "Genre=Musical, Romance, Drama<br>Year=%{x}<br>Rating=%{y}<extra></extra>",
         "legendgroup": "Musical, Romance, Drama",
         "line": {
          "color": "#19d3f3",
          "dash": "solid"
         },
         "marker": {
          "symbol": "circle"
         },
         "mode": "lines",
         "name": "Musical, Romance, Drama",
         "showlegend": true,
         "type": "scattergl",
         "x": {
          "bdata": "sgfPBw==",
          "dtype": "i2"
         },
         "xaxis": "x",
         "y": {
          "bdata": "AAAAAAAAHEAAAAAAAAAWQA==",
          "dtype": "f8"
         },
         "yaxis": "y"
        },
        {
         "hovertemplate": "Genre=Action, Musical, Thriller<br>Year=%{x}<br>Rating=%{y}<extra></extra>",
         "legendgroup": "Action, Musical, Thriller",
         "line": {
          "color": "#FF6692",
          "dash": "solid"
         },
         "marker": {
          "symbol": "circle"
         },
         "mode": "lines",
         "name": "Action, Musical, Thriller",
         "showlegend": true,
         "type": "scattergl",
         "x": {
          "bdata": "swfUB9sH4Ac=",
          "dtype": "i2"
         },
         "xaxis": "x",
         "y": {
          "bdata": "mpmZmZmZF0CamZmZmZkTQJqZmZmZmRFAmpmZmZmZG0A=",
          "dtype": "f8"
         },
         "yaxis": "y"
        },
        {
         "hovertemplate": "Genre=Adventure, Comedy, Crime<br>Year=%{x}<br>Rating=%{y}<extra></extra>",
         "legendgroup": "Adventure, Comedy, Crime",
         "line": {
          "color": "#B6E880",
          "dash": "solid"
         },
         "marker": {
          "symbol": "circle"
         },
         "mode": "lines",
         "name": "Adventure, Comedy, Crime",
         "showlegend": true,
         "type": "scattergl",
         "x": {
          "bdata": "swe0B9cH2QfcBw==",
          "dtype": "i2"
         },
         "xaxis": "x",
         "y": {
          "bdata": "ZmZmZmZmHEAAAAAAAAAeQDMzMzMzMx1AMzMzMzMzG0DNzMzMzMwQQA==",
          "dtype": "f8"
         },
         "yaxis": "y"
        },
        {
         "hovertemplate": "Genre=Crime, Romance, Thriller<br>Year=%{x}<br>Rating=%{y}<extra></extra>",
         "legendgroup": "Crime, Romance, Thriller",
         "line": {
          "color": "#FF97FF",
          "dash": "solid"
         },
         "marker": {
          "symbol": "circle"
         },
         "mode": "lines",
         "name": "Crime, Romance, Thriller",
         "showlegend": true,
         "type": "scattergl",
         "x": {
          "bdata": "swe8B8gH3gc=",
          "dtype": "i2"
         },
         "xaxis": "x",
         "y": {
          "bdata": "AAAAAAAAGkAzMzMzMzMZQGZmZmZmZhxAmpmZmZmZEUA=",
          "dtype": "f8"
         },
         "yaxis": "y"
        },
        {
         "hovertemplate": "Genre=Musical, Mystery, Drama<br>Year=%{x}<br>Rating=%{y}<extra></extra>",
         "legendgroup": "Musical, Mystery, Drama",
         "line": {
          "color": "#FECB52",
          "dash": "solid"
         },
         "marker": {
          "symbol": "circle"
         },
         "mode": "lines",
         "name": "Musical, Mystery, Drama",
         "showlegend": true,
         "type": "scattergl",
         "x": {
          "bdata": "swfUBw==",
          "dtype": "i2"
         },
         "xaxis": "x",
         "y": {
          "bdata": "AAAAAAAAHEBmZmZmZmYSQA==",
          "dtype": "f8"
         },
         "yaxis": "y"
        },
        {
         "hovertemplate": "Genre=Mystery, Musical, Romance<br>Year=%{x}<br>Rating=%{y}<extra></extra>",
         "legendgroup": "Mystery, Musical, Romance",
         "line": {
          "color": "#636efa",
          "dash": "solid"
         },
         "marker": {
          "symbol": "circle"
         },
         "mode": "lines",
         "name": "Mystery, Musical, Romance",
         "showlegend": true,
         "type": "scattergl",
         "x": {
          "bdata": "swc=",
          "dtype": "i2"
         },
         "xaxis": "x",
         "y": {
          "bdata": "AAAAAAAAHEA=",
          "dtype": "f8"
         },
         "yaxis": "y"
        },
        {
         "hovertemplate": "Genre=Action, Adventure, Thriller<br>Year=%{x}<br>Rating=%{y}<extra></extra>",
         "legendgroup": "Action, Adventure, Thriller",
         "line": {
          "color": "#EF553B",
          "dash": "solid"
         },
         "marker": {
          "symbol": "circle"
         },
         "mode": "lines",
         "name": "Action, Adventure, Thriller",
         "showlegend": true,
         "type": "scattergl",
         "x": {
          "bdata": "tAfIB9IH0wfcB90H4AfhB+MH",
          "dtype": "i2"
         },
         "xaxis": "x",
         "y": {
          "bdata": "MzMzMzMzGUAAAAAAAAAUQM3MzMzMzBZAMzMzMzMzFUDNzMzMzMwUQM3MzMzMzBhAzczMzMzMGEAAAAAAAAAWQIiIiIiIiBVA",
          "dtype": "f8"
         },
         "yaxis": "y"
        },
        {
         "hovertemplate": "Genre=Action, Family, Thriller<br>Year=%{x}<br>Rating=%{y}<extra></extra>",
         "legendgroup": "Action, Family, Thriller",
         "line": {
          "color": "#00cc96",
          "dash": "solid"
         },
         "marker": {
          "symbol": "circle"
         },
         "mode": "lines",
         "name": "Action, Family, Thriller",
         "showlegend": true,
         "type": "scattergl",
         "x": {
          "bdata": "tAc=",
          "dtype": "i2"
         },
         "xaxis": "x",
         "y": {
          "bdata": "zczMzMzMGkA=",
          "dtype": "f8"
         },
         "yaxis": "y"
        },
        {
         "hovertemplate": "Genre=Action, Thriller, Romance<br>Year=%{x}<br>Rating=%{y}<extra></extra>",
         "legendgroup": "Action, Thriller, Romance",
         "line": {
          "color": "#ab63fa",
          "dash": "solid"
         },
         "marker": {
          "symbol": "circle"
         },
         "mode": "lines",
         "name": "Action, Thriller, Romance",
         "showlegend": true,
         "type": "scattergl",
         "x": {
          "bdata": "tAc=",
          "dtype": "i2"
         },
         "xaxis": "x",
         "y": {
          "bdata": "MzMzMzMzG0A=",
          "dtype": "f8"
         },
         "yaxis": "y"
        },
        {
         "hovertemplate": "Genre=Comedy, Drama, Thriller<br>Year=%{x}<br>Rating=%{y}<extra></extra>",
         "legendgroup": "Comedy, Drama, Thriller",
         "line": {
          "color": "#FFA15A",
          "dash": "solid"
         },
         "marker": {
          "symbol": "circle"
         },
         "mode": "lines",
         "name": "Comedy, Drama, Thriller",
         "showlegend": true,
         "type": "scattergl",
         "x": {
          "bdata": "tAfWB9gH3QfeB+EH4wc=",
          "dtype": "i2"
         },
         "xaxis": "x",
         "y": {
          "bdata": "mpmZmZmZG0CamZmZmZkbQJqZmZmZmRVAmpmZmZmZFUAAAAAAAAAWQDMzMzMzMxVAAAAAAAAAHEA=",
          "dtype": "f8"
         },
         "yaxis": "y"
        },
        {
         "hovertemplate": "Genre=Comedy, Family<br>Year=%{x}<br>Rating=%{y}<extra></extra>",
         "legendgroup": "Comedy, Family",
         "line": {
          "color": "#19d3f3",
          "dash": "solid"
         },
         "marker": {
          "symbol": "circle"
         },
         "mode": "lines",
         "name": "Comedy, Family",
         "showlegend": true,
         "type": "scattergl",
         "x": {
          "bdata": "tAe9B8AHyAfPB9oH2wfcB90H4gc=",
          "dtype": "i2"
         },
         "xaxis": "x",
         "y": {
          "bdata": "mpmZmZmZG0CamZmZmZkbQGZmZmZmZhRAMzMzMzMzF0DNzMzMzMwYQM3MzMzMzBxAmpmZmZmZGUAzMzMzMzMgQGZmZmZmZhZAAAAAAAAAHkA=",
          "dtype": "f8"
         },
         "yaxis": "y"
        },
        {
         "hovertemplate": "Genre=Comedy, Family, Musical<br>Year=%{x}<br>Rating=%{y}<extra></extra>",
         "legendgroup": "Comedy, Family, Musical",
         "line": {
          "color": "#FF6692",
          "dash": "solid"
         },
         "marker": {
          "symbol": "circle"
         },
         "mode": "lines",
         "name": "Comedy, Family, Musical",
         "showlegend": true,
         "type": "scattergl",
         "x": {
          "bdata": "tAfBBw==",
          "dtype": "i2"
         },
         "xaxis": "x",
         "y": {
          "bdata": "mpmZmZmZEUBmZmZmZmYaQA==",
          "dtype": "f8"
         },
         "yaxis": "y"
        },
        {
         "hovertemplate": "Genre=Comedy, Musical, Action<br>Year=%{x}<br>Rating=%{y}<extra></extra>",
         "legendgroup": "Comedy, Musical, Action",
         "line": {
          "color": "#B6E880",
          "dash": "solid"
         },
         "marker": {
          "symbol": "circle"
         },
         "mode": "lines",
         "name": "Comedy, Musical, Action",
         "showlegend": true,
         "type": "scattergl",
         "x": {
          "bdata": "tAc=",
          "dtype": "i2"
         },
         "xaxis": "x",
         "y": {
          "bdata": "MzMzMzMzF0A=",
          "dtype": "f8"
         },
         "yaxis": "y"
        },
        {
         "hovertemplate": "Genre=Comedy, Musical, Drama<br>Year=%{x}<br>Rating=%{y}<extra></extra>",
         "legendgroup": "Comedy, Musical, Drama",
         "line": {
          "color": "#FF97FF",
          "dash": "solid"
         },
         "marker": {
          "symbol": "circle"
         },
         "mode": "lines",
         "name": "Comedy, Musical, Drama",
         "showlegend": true,
         "type": "scattergl",
         "x": {
          "bdata": "tAc=",
          "dtype": "i2"
         },
         "xaxis": "x",
         "y": {
          "bdata": "AAAAAAAAIEA=",
          "dtype": "f8"
         },
         "yaxis": "y"
        },
        {
         "hovertemplate": "Genre=Drama, Action, Crime<br>Year=%{x}<br>Rating=%{y}<extra></extra>",
         "legendgroup": "Drama, Action, Crime",
         "line": {
          "color": "#FECB52",
          "dash": "solid"
         },
         "marker": {
          "symbol": "circle"
         },
         "mode": "lines",
         "name": "Drama, Action, Crime",
         "showlegend": true,
         "type": "scattergl",
         "x": {
          "bdata": "tAe4B78HxQc=",
          "dtype": "i2"
         },
         "xaxis": "x",
         "y": {
          "bdata": "AAAAAAAAGEAAAAAAAAASQDMzMzMzMxlAmpmZmZmZE0A=",
          "dtype": "f8"
         },
         "yaxis": "y"
        },
        {
         "hovertemplate": "Genre=Musical, Family, Romance<br>Year=%{x}<br>Rating=%{y}<extra></extra>",
         "legendgroup": "Musical, Family, Romance",
         "line": {
          "color": "#636efa",
          "dash": "solid"
         },
         "marker": {
          "symbol": "circle"
         },
         "mode": "lines",
         "name": "Musical, Family, Romance",
         "showlegend": true,
         "type": "scattergl",
         "x": {
          "bdata": "tAc=",
          "dtype": "i2"
         },
         "xaxis": "x",
         "y": {
          "bdata": "mpmZmZmZG0A=",
          "dtype": "f8"
         },
         "yaxis": "y"
        },
        {
         "hovertemplate": "Genre=Romance, Drama, Action<br>Year=%{x}<br>Rating=%{y}<extra></extra>",
         "legendgroup": "Romance, Drama, Action",
         "line": {
          "color": "#EF553B",
          "dash": "solid"
         },
         "marker": {
          "symbol": "circle"
         },
         "mode": "lines",
         "name": "Romance, Drama, Action",
         "showlegend": true,
         "type": "scattergl",
         "x": {
          "bdata": "tAc=",
          "dtype": "i2"
         },
         "xaxis": "x",
         "y": {
          "bdata": "zczMzMzMEkA=",
          "dtype": "f8"
         },
         "yaxis": "y"
        },
        {
         "hovertemplate": "Genre=Action, Drama, War<br>Year=%{x}<br>Rating=%{y}<extra></extra>",
         "legendgroup": "Action, Drama, War",
         "line": {
          "color": "#00cc96",
          "dash": "solid"
         },
         "marker": {
          "symbol": "circle"
         },
         "mode": "lines",
         "name": "Action, Drama, War",
         "showlegend": true,
         "type": "scattergl",
         "x": {
          "bdata": "tQfJB9QH1wfcB+IH",
          "dtype": "i2"
         },
         "xaxis": "x",
         "y": {
          "bdata": "zczMzMzMGECamZmZmZkXQGZmZmZmZhJAMzMzMzMzIEAzMzMzMzMdQGZmZmZmZiBA",
          "dtype": "f8"
         },
         "yaxis": "y"
        },
        {
         "hovertemplate": "Genre=Action, Family, Mystery<br>Year=%{x}<br>Rating=%{y}<extra></extra>",
         "legendgroup": "Action, Family, Mystery",
         "line": {
          "color": "#ab63fa",
          "dash": "solid"
         },
         "marker": {
          "symbol": "circle"
         },
         "mode": "lines",
         "name": "Action, Family, Mystery",
         "showlegend": true,
         "type": "scattergl",
         "x": {
          "bdata": "tQc=",
          "dtype": "i2"
         },
         "xaxis": "x",
         "y": {
          "bdata": "mpmZmZmZFUA=",
          "dtype": "f8"
         },
         "yaxis": "y"
        },
        {
         "hovertemplate": "Genre=Comedy, Romance, Musical<br>Year=%{x}<br>Rating=%{y}<extra></extra>",
         "legendgroup": "Comedy, Romance, Musical",
         "line": {
          "color": "#FFA15A",
          "dash": "solid"
         },
         "marker": {
          "symbol": "circle"
         },
         "mode": "lines",
         "name": "Comedy, Romance, Musical",
         "showlegend": true,
         "type": "scattergl",
         "x": {
          "bdata": "tQfTBw==",
          "dtype": "i2"
         },
         "xaxis": "x",
         "y": {
          "bdata": "AAAAAAAAGkAzMzMzMzMTQA==",
          "dtype": "f8"
         },
         "yaxis": "y"
        },
        {
         "hovertemplate": "Genre=Drama, Fantasy, Romance<br>Year=%{x}<br>Rating=%{y}<extra></extra>",
         "legendgroup": "Drama, Fantasy, Romance",
         "line": {
          "color": "#19d3f3",
          "dash": "solid"
         },
         "marker": {
          "symbol": "circle"
         },
         "mode": "lines",
         "name": "Drama, Fantasy, Romance",
         "showlegend": true,
         "type": "scattergl",
         "x": {
          "bdata": "tQfGB9EH0gfWBw==",
          "dtype": "i2"
         },
         "xaxis": "x",
         "y": {
          "bdata": "AAAAAAAAHEAzMzMzMzMXQJqZmZmZmRdAZmZmZmZmEkBmZmZmZmYGQA==",
          "dtype": "f8"
         },
         "yaxis": "y"
        },
        {
         "hovertemplate": "Genre=Drama, Music, Romance<br>Year=%{x}<br>Rating=%{y}<extra></extra>",
         "legendgroup": "Drama, Music, Romance",
         "line": {
          "color": "#FF6692",
          "dash": "solid"
         },
         "marker": {
          "symbol": "circle"
         },
         "mode": "lines",
         "name": "Drama, Music, Romance",
         "showlegend": true,
         "type": "scattergl",
         "x": {
          "bdata": "tQfAB8wH1gfbB+MH",
          "dtype": "i2"
         },
         "xaxis": "x",
         "y": {
          "bdata": "AAAAAAAAHECamZmZmZkbQM3MzMzMzBxAAAAAAAAADEDNzMzMzMweQAAAAAAAACBA",
          "dtype": "f8"
         },
         "yaxis": "y"
        },
        {
         "hovertemplate": "Genre=Musical, Mystery, Romance<br>Year=%{x}<br>Rating=%{y}<extra></extra>",
         "legendgroup": "Musical, Mystery, Romance",
         "line": {
          "color": "#B6E880",
          "dash": "solid"
         },
         "marker": {
          "symbol": "circle"
         },
         "mode": "lines",
         "name": "Musical, Mystery, Romance",
         "showlegend": true,
         "type": "scattergl",
         "x": {
          "bdata": "tQc=",
          "dtype": "i2"
         },
         "xaxis": "x",
         "y": {
          "bdata": "ZmZmZmZmEEA=",
          "dtype": "f8"
         },
         "yaxis": "y"
        },
        {
         "hovertemplate": "Genre=Mystery, Romance, Musical<br>Year=%{x}<br>Rating=%{y}<extra></extra>",
         "legendgroup": "Mystery, Romance, Musical",
         "line": {
          "color": "#FF97FF",
          "dash": "solid"
         },
         "marker": {
          "symbol": "circle"
         },
         "mode": "lines",
         "name": "Mystery, Romance, Musical",
         "showlegend": true,
         "type": "scattergl",
         "x": {
          "bdata": "tQc=",
          "dtype": "i2"
         },
         "xaxis": "x",
         "y": {
          "bdata": "ZmZmZmZmHEA=",
          "dtype": "f8"
         },
         "yaxis": "y"
        },
        {
         "hovertemplate": "Genre=Action, Musical, Romance<br>Year=%{x}<br>Rating=%{y}<extra></extra>",
         "legendgroup": "Action, Musical, Romance",
         "line": {
          "color": "#FECB52",
          "dash": "solid"
         },
         "marker": {
          "symbol": "circle"
         },
         "mode": "lines",
         "name": "Action, Musical, Romance",
         "showlegend": true,
         "type": "scattergl",
         "x": {
          "bdata": "tge8B70HxwfIB9AH0gfkBw==",
          "dtype": "i2"
         },
         "xaxis": "x",
         "y": {
          "bdata": "AAAAAAAAGkAAAAAAAAAeQGZmZmZmZhxAAAAAAAAAGEDNzMzMzMwUQJqZmZmZmRtAmpmZmZmZGUBmZmZmZmYeQA==",
          "dtype": "f8"
         },
         "yaxis": "y"
        },
        {
         "hovertemplate": "Genre=Adventure, Family, Fantasy<br>Year=%{x}<br>Rating=%{y}<extra></extra>",
         "legendgroup": "Adventure, Family, Fantasy",
         "line": {
          "color": "#636efa",
          "dash": "solid"
         },
         "marker": {
          "symbol": "circle"
         },
         "mode": "lines",
         "name": "Adventure, Family, Fantasy",
         "showlegend": true,
         "type": "scattergl",
         "x": {
          "bdata": "tge9B+AH",
          "dtype": "i2"
         },
         "xaxis": "x",
         "y": {
          "bdata": "ZmZmZmZmHkCamZmZmZkbQJqZmZmZmRlA",
          "dtype": "f8"
         },
         "yaxis": "y"
        },
        {
         "hovertemplate": "Genre=Comedy, Family, Romance<br>Year=%{x}<br>Rating=%{y}<extra></extra>",
         "legendgroup": "Comedy, Family, Romance",
         "line": {
          "color": "#EF553B",
          "dash": "solid"
         },
         "marker": {
          "symbol": "circle"
         },
         "mode": "lines",
         "name": "Comedy, Family, Romance",
         "showlegend": true,
         "type": "scattergl",
         "x": {
          "bdata": "tge9B8IH1Qc=",
          "dtype": "i2"
         },
         "xaxis": "x",
         "y": {
          "bdata": "MzMzMzMzG0AAAAAAAAAgQGZmZmZmZh5AAAAAAAAAFEA=",
          "dtype": "f8"
         },
         "yaxis": "y"
        },
        {
         "hovertemplate": "Genre=Drama, Comedy<br>Year=%{x}<br>Rating=%{y}<extra></extra>",
         "legendgroup": "Drama, Comedy",
         "line": {
          "color": "#00cc96",
          "dash": "solid"
         },
         "marker": {
          "symbol": "circle"
         },
         "mode": "lines",
         "name": "Drama, Comedy",
         "showlegend": true,
         "type": "scattergl",
         "x": {
          "bdata": "tgfTB9QH",
          "dtype": "i2"
         },
         "xaxis": "x",
         "y": {
          "bdata": "AAAAAAAAGkAAAAAAAAAYQGZmZmZmZhhA",
          "dtype": "f8"
         },
         "yaxis": "y"
        },
        {
         "hovertemplate": "Genre=Romance, Drama<br>Year=%{x}<br>Rating=%{y}<extra></extra>",
         "legendgroup": "Romance, Drama",
         "line": {
          "color": "#ab63fa",
          "dash": "solid"
         },
         "marker": {
          "symbol": "circle"
         },
         "mode": "lines",
         "name": "Romance, Drama",
         "showlegend": true,
         "type": "scattergl",
         "x": {
          "bdata": "tgfAB8kHzgfPB9MH",
          "dtype": "i2"
         },
         "xaxis": "x",
         "y": {
          "bdata": "AAAAAAAAHEDNzMzMzMwWQAAAAAAAABdAZmZmZmZmGkBmZmZmZmYYQDMzMzMzMxNA",
          "dtype": "f8"
         },
         "yaxis": "y"
        },
        {
         "hovertemplate": "Genre=Thriller, Mystery, Family<br>Year=%{x}<br>Rating=%{y}<extra></extra>",
         "legendgroup": "Thriller, Mystery, Family",
         "line": {
          "color": "#FFA15A",
          "dash": "solid"
         },
         "marker": {
          "symbol": "circle"
         },
         "mode": "lines",
         "name": "Thriller, Mystery, Family",
         "showlegend": true,
         "type": "scattergl",
         "x": {
          "bdata": "tgc=",
          "dtype": "i2"
         },
         "xaxis": "x",
         "y": {
          "bdata": "ZmZmZmZmGEA=",
          "dtype": "f8"
         },
         "yaxis": "y"
        },
        {
         "hovertemplate": "Genre=Action, Family<br>Year=%{x}<br>Rating=%{y}<extra></extra>",
         "legendgroup": "Action, Family",
         "line": {
          "color": "#19d3f3",
          "dash": "solid"
         },
         "marker": {
          "symbol": "circle"
         },
         "mode": "lines",
         "name": "Action, Family",
         "showlegend": true,
         "type": "scattergl",
         "x": {
          "bdata": "twfEB+MH",
          "dtype": "i2"
         },
         "xaxis": "x",
         "y": {
          "bdata": "zczMzMzMFEAzMzMzMzMTQJqZmZmZmRVA",
          "dtype": "f8"
         },
         "yaxis": "y"
        },
        {
         "hovertemplate": "Genre=Drama, Family, Action<br>Year=%{x}<br>Rating=%{y}<extra></extra>",
         "legendgroup": "Drama, Family, Action",
         "line": {
          "color": "#FF6692",
          "dash": "solid"
         },
         "marker": {
          "symbol": "circle"
         },
         "mode": "lines",
         "name": "Drama, Family, Action",
         "showlegend": true,
         "type": "scattergl",
         "x": {
          "bdata": "twe8B8QHzgc=",
          "dtype": "i2"
         },
         "xaxis": "x",
         "y": {
          "bdata": "AAAAAAAAGkAAAAAAAAAUQM3MzMzMzBJAZmZmZmZmEEA=",
          "dtype": "f8"
         },
         "yaxis": "y"
        },
        {
         "hovertemplate": "Genre=Drama, Family, Music<br>Year=%{x}<br>Rating=%{y}<extra></extra>",
         "legendgroup": "Drama, Family, Music",
         "line": {
          "color": "#B6E880",
          "dash": "solid"
         },
         "marker": {
          "symbol": "circle"
         },
         "mode": "lines",
         "name": "Drama, Family, Music",
         "showlegend": true,
         "type": "scattergl",
         "x": {
          "bdata": "twfOB9cH2gffBw==",
          "dtype": "i2"
         },
         "xaxis": "x",
         "y": {
          "bdata": "mpmZmZmZEUBmZmZmZmYUQM3MzMzMzBhAMzMzMzMzFUCamZmZmZkXQA==",
          "dtype": "f8"
         },
         "yaxis": "y"
        },
        {
         "hovertemplate": "Genre=Drama, Romance, Family<br>Year=%{x}<br>Rating=%{y}<extra></extra>",
         "legendgroup": "Drama, Romance, Family",
         "line": {
          "color": "#FF97FF",
          "dash": "solid"
         },
         "marker": {
          "symbol": "circle"
         },
         "mode": "lines",
         "name": "Drama, Romance, Family",
         "showlegend": true,
         "type": "scattergl",
         "x": {
          "bdata": "twe7Bw==",
          "dtype": "i2"
         },
         "xaxis": "x",
         "y": {
          "bdata": "AAAAAAAAHkCamZmZmZkbQA==",
          "dtype": "f8"
         },
         "yaxis": "y"
        },
        {
         "hovertemplate": "Genre=Fantasy, Drama<br>Year=%{x}<br>Rating=%{y}<extra></extra>",
         "legendgroup": "Fantasy, Drama",
         "line": {
          "color": "#FECB52",
          "dash": "solid"
         },
         "marker": {
          "symbol": "circle"
         },
         "mode": "lines",
         "name": "Fantasy, Drama",
         "showlegend": true,
         "type": "scattergl",
         "x": {
          "bdata": "twfBBw==",
          "dtype": "i2"
         },
         "xaxis": "x",
         "y": {
          "bdata": "mpmZmZmZHUDNzMzMzMwWQA==",
          "dtype": "f8"
         },
         "yaxis": "y"
        },
        {
         "hovertemplate": "Genre=Comedy, Fantasy, Romance<br>Year=%{x}<br>Rating=%{y}<extra></extra>",
         "legendgroup": "Comedy, Fantasy, Romance",
         "line": {
          "color": "#636efa",
          "dash": "solid"
         },
         "marker": {
          "symbol": "circle"
         },
         "mode": "lines",
         "name": "Comedy, Fantasy, Romance",
         "showlegend": true,
         "type": "scattergl",
         "x": {
          "bdata": "uAfJB8oH3Ac=",
          "dtype": "i2"
         },
         "xaxis": "x",
         "y": {
          "bdata": "ZmZmZmZmGkAAAAAAAAAQQAAAAAAAABhAzczMzMzMFkA=",
          "dtype": "f8"
         },
         "yaxis": "y"
        },
        {
         "hovertemplate": "Genre=Fantasy, Thriller, Action<br>Year=%{x}<br>Rating=%{y}<extra></extra>",
         "legendgroup": "Fantasy, Thriller, Action",
         "line": {
          "color": "#EF553B",
          "dash": "solid"
         },
         "marker": {
          "symbol": "circle"
         },
         "mode": "lines",
         "name": "Fantasy, Thriller, Action",
         "showlegend": true,
         "type": "scattergl",
         "x": {
          "bdata": "uAc=",
          "dtype": "i2"
         },
         "xaxis": "x",
         "y": {
          "bdata": "MzMzMzMzGUA=",
          "dtype": "f8"
         },
         "yaxis": "y"
        },
        {
         "hovertemplate": "Genre=Action, Drama, History<br>Year=%{x}<br>Rating=%{y}<extra></extra>",
         "legendgroup": "Action, Drama, History",
         "line": {
          "color": "#00cc96",
          "dash": "solid"
         },
         "marker": {
          "symbol": "circle"
         },
         "mode": "lines",
         "name": "Action, Drama, History",
         "showlegend": true,
         "type": "scattergl",
         "x": {
          "bdata": "uQe7B8oHzQfVB9gH2QfaB98H4QfiB+MH",
          "dtype": "i2"
         },
         "xaxis": "x",
         "y": {
          "bdata": "MzMzMzMzH0DNzMzMzMweQM3MzMzMzBxAmpmZmZmZH0DNzMzMzMwIQGZmZmZmZh5AZmZmZmZmGEAzMzMzMzMXQAAAAAAAABpAMzMzMzOzGUBVVVVVVVUbQFVVVVVVVRtA",
          "dtype": "f8"
         },
         "yaxis": "y"
        },
        {
         "hovertemplate": "Genre=Comedy, Drama, History<br>Year=%{x}<br>Rating=%{y}<extra></extra>",
         "legendgroup": "Comedy, Drama, History",
         "line": {
          "color": "#ab63fa",
          "dash": "solid"
         },
         "marker": {
          "symbol": "circle"
         },
         "mode": "lines",
         "name": "Comedy, Drama, History",
         "showlegend": true,
         "type": "scattergl",
         "x": {
          "bdata": "uQc=",
          "dtype": "i2"
         },
         "xaxis": "x",
         "y": {
          "bdata": "ZmZmZmZmHkA=",
          "dtype": "f8"
         },
         "yaxis": "y"
        },
        {
         "hovertemplate": "Genre=Horror, Romance<br>Year=%{x}<br>Rating=%{y}<extra></extra>",
         "legendgroup": "Horror, Romance",
         "line": {
          "color": "#FFA15A",
          "dash": "solid"
         },
         "marker": {
          "symbol": "circle"
         },
         "mode": "lines",
         "name": "Horror, Romance",
         "showlegend": true,
         "type": "scattergl",
         "x": {
          "bdata": "uQfeB+AH",
          "dtype": "i2"
         },
         "xaxis": "x",
         "y": {
          "bdata": "ZmZmZmZmGEAAAAAAAAAUQM3MzMzMzAhA",
          "dtype": "f8"
         },
         "yaxis": "y"
        },
        {
         "hovertemplate": "Genre=Action, Mystery, Thriller<br>Year=%{x}<br>Rating=%{y}<extra></extra>",
         "legendgroup": "Action, Mystery, Thriller",
         "line": {
          "color": "#19d3f3",
          "dash": "solid"
         },
         "marker": {
          "symbol": "circle"
         },
         "mode": "lines",
         "name": "Action, Mystery, Thriller",
         "showlegend": true,
         "type": "scattergl",
         "x": {
          "bdata": "ugfIB80HzgfQB98H",
          "dtype": "i2"
         },
         "xaxis": "x",
         "y": {
          "bdata": "ZmZmZmZmGUDNzMzMzMwWQJqZmZmZmRFAAAAAAAAAEECamZmZmZkRQGZmZmZmZhJA",
          "dtype": "f8"
         },
         "yaxis": "y"
        },
        {
         "hovertemplate": "Genre=Biography, Drama, Family<br>Year=%{x}<br>Rating=%{y}<extra></extra>",
         "legendgroup": "Biography, Drama, Family",
         "line": {
          "color": "#FF6692",
          "dash": "solid"
         },
         "marker": {
          "symbol": "circle"
         },
         "mode": "lines",
         "name": "Biography, Drama, Family",
         "showlegend": true,
         "type": "scattergl",
         "x": {
          "bdata": "ugc=",
          "dtype": "i2"
         },
         "xaxis": "x",
         "y": {
          "bdata": "zczMzMzMHkA=",
          "dtype": "f8"
         },
         "yaxis": "y"
        },
        {
         "hovertemplate": "Genre=Comedy, Fantasy<br>Year=%{x}<br>Rating=%{y}<extra></extra>",
         "legendgroup": "Comedy, Fantasy",
         "line": {
          "color": "#B6E880",
          "dash": "solid"
         },
         "marker": {
          "symbol": "circle"
         },
         "mode": "lines",
         "name": "Comedy, Fantasy",
         "showlegend": true,
         "type": "scattergl",
         "x": {
          "bdata": "uge/B8UH1Qc=",
          "dtype": "i2"
         },
         "xaxis": "x",
         "y": {
          "bdata": "mpmZmZmZG0DNzMzMzMwaQGZmZmZmZhBAzczMzMzMDEA=",
          "dtype": "f8"
         },
         "yaxis": "y"
        },
        {
         "hovertemplate": "Genre=Action, Horror, Mystery<br>Year=%{x}<br>Rating=%{y}<extra></extra>",
         "legendgroup": "Action, Horror, Mystery",
         "line": {
          "color": "#FF97FF",
          "dash": "solid"
         },
         "marker": {
          "symbol": "circle"
         },
         "mode": "lines",
         "name": "Action, Horror, Mystery",
         "showlegend": true,
         "type": "scattergl",
         "x": {
          "bdata": "uwfHBw==",
          "dtype": "i2"
         },
         "xaxis": "x",
         "y": {
          "bdata": "ZmZmZmZmGEAAAAAAAAAMQA==",
          "dtype": "f8"
         },
         "yaxis": "y"
        },
        {
         "hovertemplate": "Genre=Adventure, Crime, Horror<br>Year=%{x}<br>Rating=%{y}<extra></extra>",
         "legendgroup": "Adventure, Crime, Horror",
         "line": {
          "color": "#FECB52",
          "dash": "solid"
         },
         "marker": {
          "symbol": "circle"
         },
         "mode": "lines",
         "name": "Adventure, Crime, Horror",
         "showlegend": true,
         "type": "scattergl",
         "x": {
          "bdata": "uwc=",
          "dtype": "i2"
         },
         "xaxis": "x",
         "y": {
          "bdata": "zczMzMzMGEA=",
          "dtype": "f8"
         },
         "yaxis": "y"
        },
        {
         "hovertemplate": "Genre=Comedy, Crime<br>Year=%{x}<br>Rating=%{y}<extra></extra>",
         "legendgroup": "Comedy, Crime",
         "line": {
          "color": "#636efa",
          "dash": "solid"
         },
         "marker": {
          "symbol": "circle"
         },
         "mode": "lines",
         "name": "Comedy, Crime",
         "showlegend": true,
         "type": "scattergl",
         "x": {
          "bdata": "uwfGB9EH0wfWB9gH2gfcB98H5Ac=",
          "dtype": "i2"
         },
         "xaxis": "x",
         "y": {
          "bdata": "AAAAAAAAGEAAAAAAAAASQM3MzMzMzARAmpmZmZmZG0AAAAAAAAAcQDMzMzMzMxVAzczMzMzMBEBmZmZmZmYYQM3MzMzMzBxAmpmZmZkZIEA=",
          "dtype": "f8"
         },
         "yaxis": "y"
        },
        {
         "hovertemplate": "Genre=Documentary<br>Year=%{x}<br>Rating=%{y}<extra></extra>",
         "legendgroup": "Documentary",
         "line": {
          "color": "#EF553B",
          "dash": "solid"
         },
         "marker": {
          "symbol": "circle"
         },
         "mode": "lines",
         "name": "Documentary",
         "showlegend": true,
         "type": "scattergl",
         "x": {
          "bdata": "uwfBB8YH0QfTB9UH1gfYB9sH3AffB+AH4QfiB+MH5Qc=",
          "dtype": "i2"
         },
         "xaxis": "x",
         "y": {
          "bdata": "ZmZmZmZmGkAzMzMzMzMfQAAAAAAAAB5AZmZmZmZmHkAzMzMzMzMhQDMzMzMzMyFAzczMzMzMGECamZmZmZkgQGZmZmZmZhhAeHd3d3d3HUBcj8L1KFwgQM3MzMzMzBBAAAAAAADAIECamZmZmZkbQJqZmZmZmSJAMzMzMzMzIEA=",
          "dtype": "f8"
         },
         "yaxis": "y"
        },
        {
         "hovertemplate": "Genre=Horror, Mystery, Thriller<br>Year=%{x}<br>Rating=%{y}<extra></extra>",
         "legendgroup": "Horror, Mystery, Thriller",
         "line": {
          "color": "#00cc96",
          "dash": "solid"
         },
         "marker": {
          "symbol": "circle"
         },
         "mode": "lines",
         "name": "Horror, Mystery, Thriller",
         "showlegend": true,
         "type": "scattergl",
         "x": {
          "bdata": "uwfEB9MH2gfcB90H4gfjB+QH",
          "dtype": "i2"
         },
         "xaxis": "x",
         "y": {
          "bdata": "AAAAAAAAGEDNzMzMzMwYQAAAAAAAABpAZmZmZmZmEkAzMzMzMzMQQDMzMzMzMxFAMzMzMzMzGUAAAAAAAAAgQDQzMzMzMxRA",
          "dtype": "f8"
         },
         "yaxis": "y"
        },
        {
         "hovertemplate": "Genre=Musical, Mystery<br>Year=%{x}<br>Rating=%{y}<extra></extra>",
         "legendgroup": "Musical, Mystery",
         "line": {
          "color": "#ab63fa",
          "dash": "solid"
         },
         "marker": {
          "symbol": "circle"
         },
         "mode": "lines",
         "name": "Musical, Mystery",
         "showlegend": true,
         "type": "scattergl",
         "x": {
          "bdata": "uwc=",
          "dtype": "i2"
         },
         "xaxis": "x",
         "y": {
          "bdata": "MzMzMzMzE0A=",
          "dtype": "f8"
         },
         "yaxis": "y"
        },
        {
         "hovertemplate": "Genre=Action, Adventure, Family<br>Year=%{x}<br>Rating=%{y}<extra></extra>",
         "legendgroup": "Action, Adventure, Family",
         "line": {
          "color": "#FFA15A",
          "dash": "solid"
         },
         "marker": {
          "symbol": "circle"
         },
         "mode": "lines",
         "name": "Action, Adventure, Family",
         "showlegend": true,
         "type": "scattergl",
         "x": {
          "bdata": "vAfbBw==",
          "dtype": "i2"
         },
         "xaxis": "x",
         "y": {
          "bdata": "zczMzMzMGEAAAAAAAAAQQA==",
          "dtype": "f8"
         },
         "yaxis": "y"
        },
        {
         "hovertemplate": "Genre=Action, Family, Musical<br>Year=%{x}<br>Rating=%{y}<extra></extra>",
         "legendgroup": "Action, Family, Musical",
         "line": {
          "color": "#19d3f3",
          "dash": "solid"
         },
         "marker": {
          "symbol": "circle"
         },
         "mode": "lines",
         "name": "Action, Family, Musical",
         "showlegend": true,
         "type": "scattergl",
         "x": {
          "bdata": "vAc=",
          "dtype": "i2"
         },
         "xaxis": "x",
         "y": {
          "bdata": "mpmZmZmZE0A=",
          "dtype": "f8"
         },
         "yaxis": "y"
        },
        {
         "hovertemplate": "Genre=Action, Romance, Drama<br>Year=%{x}<br>Rating=%{y}<extra></extra>",
         "legendgroup": "Action, Romance, Drama",
         "line": {
          "color": "#FF6692",
          "dash": "solid"
         },
         "marker": {
          "symbol": "circle"
         },
         "mode": "lines",
         "name": "Action, Romance, Drama",
         "showlegend": true,
         "type": "scattergl",
         "x": {
          "bdata": "vAfMBw==",
          "dtype": "i2"
         },
         "xaxis": "x",
         "y": {
          "bdata": "MzMzMzMzF0AAAAAAAAASQA==",
          "dtype": "f8"
         },
         "yaxis": "y"
        },
        {
         "hovertemplate": "Genre=Comedy, Action<br>Year=%{x}<br>Rating=%{y}<extra></extra>",
         "legendgroup": "Comedy, Action",
         "line": {
          "color": "#B6E880",
          "dash": "solid"
         },
         "marker": {
          "symbol": "circle"
         },
         "mode": "lines",
         "name": "Comedy, Action",
         "showlegend": true,
         "type": "scattergl",
         "x": {
          "bdata": "vAc=",
          "dtype": "i2"
         },
         "xaxis": "x",
         "y": {
          "bdata": "mpmZmZmZG0A=",
          "dtype": "f8"
         },
         "yaxis": "y"
        },
        {
         "hovertemplate": "Genre=Crime, Horror, Mystery<br>Year=%{x}<br>Rating=%{y}<extra></extra>",
         "legendgroup": "Crime, Horror, Mystery",
         "line": {
          "color": "#FF97FF",
          "dash": "solid"
         },
         "marker": {
          "symbol": "circle"
         },
         "mode": "lines",
         "name": "Crime, Horror, Mystery",
         "showlegend": true,
         "type": "scattergl",
         "x": {
          "bdata": "vAc=",
          "dtype": "i2"
         },
         "xaxis": "x",
         "y": {
          "bdata": "ZmZmZmZmGkA=",
          "dtype": "f8"
         },
         "yaxis": "y"
        },
        {
         "hovertemplate": "Genre=Drama, Horror<br>Year=%{x}<br>Rating=%{y}<extra></extra>",
         "legendgroup": "Drama, Horror",
         "line": {
          "color": "#FECB52",
          "dash": "solid"
         },
         "marker": {
          "symbol": "circle"
         },
         "mode": "lines",
         "name": "Drama, Horror",
         "showlegend": true,
         "type": "scattergl",
         "x": {
          "bdata": "vAfTB+IH",
          "dtype": "i2"
         },
         "xaxis": "x",
         "y": {
          "bdata": "MzMzMzMzG0AzMzMzMzMDQAAAAAAAAAxA",
          "dtype": "f8"
         },
         "yaxis": "y"
        },
        {
         "hovertemplate": "Genre=Musical, Comedy, Drama<br>Year=%{x}<br>Rating=%{y}<extra></extra>",
         "legendgroup": "Musical, Comedy, Drama",
         "line": {
          "color": "#636efa",
          "dash": "solid"
         },
         "marker": {
          "symbol": "circle"
         },
         "mode": "lines",
         "name": "Musical, Comedy, Drama",
         "showlegend": true,
         "type": "scattergl",
         "x": {
          "bdata": "vAc=",
          "dtype": "i2"
         },
         "xaxis": "x",
         "y": {
          "bdata": "zczMzMzMGEA=",
          "dtype": "f8"
         },
         "yaxis": "y"
        },
        {
         "hovertemplate": "Genre=Action, Drama, Crime<br>Year=%{x}<br>Rating=%{y}<extra></extra>",
         "legendgroup": "Action, Drama, Crime",
         "line": {
          "color": "#EF553B",
          "dash": "solid"
         },
         "marker": {
          "symbol": "circle"
         },
         "mode": "lines",
         "name": "Action, Drama, Crime",
         "showlegend": true,
         "type": "scattergl",
         "x": {
          "bdata": "vQfABw==",
          "dtype": "i2"
         },
         "xaxis": "x",
         "y": {
          "bdata": "ZmZmZmZmHkBmZmZmZmYWQA==",
          "dtype": "f8"
         },
         "yaxis": "y"
        },
        {
         "hovertemplate": "Genre=Adventure, Crime, Drama<br>Year=%{x}<br>Rating=%{y}<extra></extra>",
         "legendgroup": "Adventure, Crime, Drama",
         "line": {
          "color": "#00cc96",
          "dash": "solid"
         },
         "marker": {
          "symbol": "circle"
         },
         "mode": "lines",
         "name": "Adventure, Crime, Drama",
         "showlegend": true,
         "type": "scattergl",
         "x": {
          "bdata": "vQfEBw==",
          "dtype": "i2"
         },
         "xaxis": "x",
         "y": {
          "bdata": "MzMzMzMzGUBmZmZmZmYYQA==",
          "dtype": "f8"
         },
         "yaxis": "y"
        },
        {
         "hovertemplate": "Genre=Adventure, Crime, Mystery<br>Year=%{x}<br>Rating=%{y}<extra></extra>",
         "legendgroup": "Adventure, Crime, Mystery",
         "line": {
          "color": "#ab63fa",
          "dash": "solid"
         },
         "marker": {
          "symbol": "circle"
         },
         "mode": "lines",
         "name": "Adventure, Crime, Mystery",
         "showlegend": true,
         "type": "scattergl",
         "x": {
          "bdata": "vQc=",
          "dtype": "i2"
         },
         "xaxis": "x",
         "y": {
          "bdata": "ZmZmZmZmHEA=",
          "dtype": "f8"
         },
         "yaxis": "y"
        },
        {
         "hovertemplate": "Genre=Adventure, Mystery<br>Year=%{x}<br>Rating=%{y}<extra></extra>",
         "legendgroup": "Adventure, Mystery",
         "line": {
          "color": "#FFA15A",
          "dash": "solid"
         },
         "marker": {
          "symbol": "circle"
         },
         "mode": "lines",
         "name": "Adventure, Mystery",
         "showlegend": true,
         "type": "scattergl",
         "x": {
          "bdata": "vQc=",
          "dtype": "i2"
         },
         "xaxis": "x",
         "y": {
          "bdata": "AAAAAAAAGEA=",
          "dtype": "f8"
         },
         "yaxis": "y"
        },
        {
         "hovertemplate": "Genre=Drama, Action, Musical<br>Year=%{x}<br>Rating=%{y}<extra></extra>",
         "legendgroup": "Drama, Action, Musical",
         "line": {
          "color": "#19d3f3",
          "dash": "solid"
         },
         "marker": {
          "symbol": "circle"
         },
         "mode": "lines",
         "name": "Drama, Action, Musical",
         "showlegend": true,
         "type": "scattergl",
         "x": {
          "bdata": "vQc=",
          "dtype": "i2"
         },
         "xaxis": "x",
         "y": {
          "bdata": "ZmZmZmZmHEA=",
          "dtype": "f8"
         },
         "yaxis": "y"
        },
        {
         "hovertemplate": "Genre=Drama, Crime, Family<br>Year=%{x}<br>Rating=%{y}<extra></extra>",
         "legendgroup": "Drama, Crime, Family",
         "line": {
          "color": "#FF6692",
          "dash": "solid"
         },
         "marker": {
          "symbol": "circle"
         },
         "mode": "lines",
         "name": "Drama, Crime, Family",
         "showlegend": true,
         "type": "scattergl",
         "x": {
          "bdata": "vQc=",
          "dtype": "i2"
         },
         "xaxis": "x",
         "y": {
          "bdata": "zczMzMzMHEA=",
          "dtype": "f8"
         },
         "yaxis": "y"
        },
        {
         "hovertemplate": "Genre=Drama, Horror, Romance<br>Year=%{x}<br>Rating=%{y}<extra></extra>",
         "legendgroup": "Drama, Horror, Romance",
         "line": {
          "color": "#B6E880",
          "dash": "solid"
         },
         "marker": {
          "symbol": "circle"
         },
         "mode": "lines",
         "name": "Drama, Horror, Romance",
         "showlegend": true,
         "type": "scattergl",
         "x": {
          "bdata": "vQfKB9cH2gfcB98H",
          "dtype": "i2"
         },
         "xaxis": "x",
         "y": {
          "bdata": "ZmZmZmZmGEAAAAAAAAAQQGZmZmZmZg5AAAAAAAAAEkAzMzMzMzMTQAAAAAAAABBA",
          "dtype": "f8"
         },
         "yaxis": "y"
        },
        {
         "hovertemplate": "Genre=Horror, Mystery<br>Year=%{x}<br>Rating=%{y}<extra></extra>",
         "legendgroup": "Horror, Mystery",
         "line": {
          "color": "#FF97FF",
          "dash": "solid"
         },
         "marker": {
          "symbol": "circle"
         },
         "mode": "lines",
         "name": "Horror, Mystery",
         "showlegend": true,
         "type": "scattergl",
         "x": {
          "bdata": "vQfDB8UH0wfUB9UH4AfhB+IH",
          "dtype": "i2"
         },
         "xaxis": "x",
         "y": {
          "bdata": "mpmZmZmZGUAzMzMzMzMRQGZmZmZmZhRANDMzMzMzEUBmZmZmZmYUQDMzMzMzMxtAZmZmZmZmEEDNzMzMzMwSQDMzMzMzMw9A",
          "dtype": "f8"
         },
         "yaxis": "y"
        },
        {
         "hovertemplate": "Genre=Horror, Thriller<br>Year=%{x}<br>Rating=%{y}<extra></extra>",
         "legendgroup": "Horror, Thriller",
         "line": {
          "color": "#FECB52",
          "dash": "solid"
         },
         "marker": {
          "symbol": "circle"
         },
         "mode": "lines",
         "name": "Horror, Thriller",
         "showlegend": true,
         "type": "scattergl",
         "x": {
          "bdata": "vQfHB8wH1AfXB9oH2wfeB+AH4gfjB+QH5Qc=",
          "dtype": "i2"
         },
         "xaxis": "x",
         "y": {
          "bdata": "AAAAAAAAGkBmZmZmZmYGQJqZmZmZmQFAmpmZmZmZDUBmZmZmZmYSQDMzMzMzMxFAMzMzMzMzD0A0MzMzMzMNQDMzMzMzMwNAZmZmZmZmFkDiehSuR+EQQDMzMzMzMxBAZmZmZmZmGEA=",
          "dtype": "f8"
         },
         "yaxis": "y"
        },
        {
         "hovertemplate": "Genre=Action, Crime, Family<br>Year=%{x}<br>Rating=%{y}<extra></extra>",
         "legendgroup": "Action, Crime, Family",
         "line": {
          "color": "#636efa",
          "dash": "solid"
         },
         "marker": {
          "symbol": "circle"
         },
         "mode": "lines",
         "name": "Action, Crime, Family",
         "showlegend": true,
         "type": "scattergl",
         "x": {
          "bdata": "vgc=",
          "dtype": "i2"
         },
         "xaxis": "x",
         "y": {
          "bdata": "AAAAAAAAHkA=",
          "dtype": "f8"
         },
         "yaxis": "y"
        },
        {
         "hovertemplate": "Genre=Documentary, Biography<br>Year=%{x}<br>Rating=%{y}<extra></extra>",
         "legendgroup": "Documentary, Biography",
         "line": {
          "color": "#EF553B",
          "dash": "solid"
         },
         "marker": {
          "symbol": "circle"
         },
         "mode": "lines",
         "name": "Documentary, Biography",
         "showlegend": true,
         "type": "scattergl",
         "x": {
          "bdata": "vgc=",
          "dtype": "i2"
         },
         "xaxis": "x",
         "y": {
          "bdata": "zczMzMzMHEA=",
          "dtype": "f8"
         },
         "yaxis": "y"
        },
        {
         "hovertemplate": "Genre=Family, Drama, Thriller<br>Year=%{x}<br>Rating=%{y}<extra></extra>",
         "legendgroup": "Family, Drama, Thriller",
         "line": {
          "color": "#00cc96",
          "dash": "solid"
         },
         "marker": {
          "symbol": "circle"
         },
         "mode": "lines",
         "name": "Family, Drama, Thriller",
         "showlegend": true,
         "type": "scattergl",
         "x": {
          "bdata": "vgc=",
          "dtype": "i2"
         },
         "xaxis": "x",
         "y": {
          "bdata": "mpmZmZmZFUA=",
          "dtype": "f8"
         },
         "yaxis": "y"
        },
        {
         "hovertemplate": "Genre=Romance, Musical, Drama<br>Year=%{x}<br>Rating=%{y}<extra></extra>",
         "legendgroup": "Romance, Musical, Drama",
         "line": {
          "color": "#ab63fa",
          "dash": "solid"
         },
         "marker": {
          "symbol": "circle"
         },
         "mode": "lines",
         "name": "Romance, Musical, Drama",
         "showlegend": true,
         "type": "scattergl",
         "x": {
          "bdata": "vgc=",
          "dtype": "i2"
         },
         "xaxis": "x",
         "y": {
          "bdata": "zczMzMzMHEA=",
          "dtype": "f8"
         },
         "yaxis": "y"
        },
        {
         "hovertemplate": "Genre=Action, Drama, Comedy<br>Year=%{x}<br>Rating=%{y}<extra></extra>",
         "legendgroup": "Action, Drama, Comedy",
         "line": {
          "color": "#FFA15A",
          "dash": "solid"
         },
         "marker": {
          "symbol": "circle"
         },
         "mode": "lines",
         "name": "Action, Drama, Comedy",
         "showlegend": true,
         "type": "scattergl",
         "x": {
          "bdata": "vwc=",
          "dtype": "i2"
         },
         "xaxis": "x",
         "y": {
          "bdata": "MzMzMzMzGUA=",
          "dtype": "f8"
         },
         "yaxis": "y"
        },
        {
         "hovertemplate": "Genre=Action, Family, Drama<br>Year=%{x}<br>Rating=%{y}<extra></extra>",
         "legendgroup": "Action, Family, Drama",
         "line": {
          "color": "#19d3f3",
          "dash": "solid"
         },
         "marker": {
          "symbol": "circle"
         },
         "mode": "lines",
         "name": "Action, Family, Drama",
         "showlegend": true,
         "type": "scattergl",
         "x": {
          "bdata": "vwc=",
          "dtype": "i2"
         },
         "xaxis": "x",
         "y": {
          "bdata": "MzMzMzMzGUA=",
          "dtype": "f8"
         },
         "yaxis": "y"
        },
        {
         "hovertemplate": "Genre=Comedy, Drama, Music<br>Year=%{x}<br>Rating=%{y}<extra></extra>",
         "legendgroup": "Comedy, Drama, Music",
         "line": {
          "color": "#FF6692",
          "dash": "solid"
         },
         "marker": {
          "symbol": "circle"
         },
         "mode": "lines",
         "name": "Comedy, Drama, Music",
         "showlegend": true,
         "type": "scattergl",
         "x": {
          "bdata": "vwfKB9gH2gfcB+IH5Ac=",
          "dtype": "i2"
         },
         "xaxis": "x",
         "y": {
          "bdata": "MzMzMzMzF0AzMzMzMzMfQM3MzMzMzBxAzczMzMzMEkAzMzMzMzMVQAAAAAAAAAhAAAAAAAAAGEA=",
          "dtype": "f8"
         },
         "yaxis": "y"
        },
        {
         "hovertemplate": "Genre=Crime, Action, Drama<br>Year=%{x}<br>Rating=%{y}<extra></extra>",
         "legendgroup": "Crime, Action, Drama",
         "line": {
          "color": "#B6E880",
          "dash": "solid"
         },
         "marker": {
          "symbol": "circle"
         },
         "mode": "lines",
         "name": "Crime, Action, Drama",
         "showlegend": true,
         "type": "scattergl",
         "x": {
          "bdata": "vwc=",
          "dtype": "i2"
         },
         "xaxis": "x",
         "y": {
          "bdata": "ZmZmZmZmFkA=",
          "dtype": "f8"
         },
         "yaxis": "y"
        },
        {
         "hovertemplate": "Genre=Drama, Action, Comedy<br>Year=%{x}<br>Rating=%{y}<extra></extra>",
         "legendgroup": "Drama, Action, Comedy",
         "line": {
          "color": "#FF97FF",
          "dash": "solid"
         },
         "marker": {
          "symbol": "circle"
         },
         "mode": "lines",
         "name": "Drama, Action, Comedy",
         "showlegend": true,
         "type": "scattergl",
         "x": {
          "bdata": "vwfNB88H",
          "dtype": "i2"
         },
         "xaxis": "x",
         "y": {
          "bdata": "ZmZmZmZmFkBmZmZmZmYSQM3MzMzMzBFA",
          "dtype": "f8"
         },
         "yaxis": "y"
        },
        {
         "hovertemplate": "Genre=Adventure, Crime, Thriller<br>Year=%{x}<br>Rating=%{y}<extra></extra>",
         "legendgroup": "Adventure, Crime, Thriller",
         "line": {
          "color": "#FECB52",
          "dash": "solid"
         },
         "marker": {
          "symbol": "circle"
         },
         "mode": "lines",
         "name": "Adventure, Crime, Thriller",
         "showlegend": true,
         "type": "scattergl",
         "x": {
          "bdata": "wAc=",
          "dtype": "i2"
         },
         "xaxis": "x",
         "y": {
          "bdata": "zczMzMzMGkA=",
          "dtype": "f8"
         },
         "yaxis": "y"
        },
        {
         "hovertemplate": "Genre=Comedy, Drama, Horror<br>Year=%{x}<br>Rating=%{y}<extra></extra>",
         "legendgroup": "Comedy, Drama, Horror",
         "line": {
          "color": "#636efa",
          "dash": "solid"
         },
         "marker": {
          "symbol": "circle"
         },
         "mode": "lines",
         "name": "Comedy, Drama, Horror",
         "showlegend": true,
         "type": "scattergl",
         "x": {
          "bdata": "wAfJB9oH3AfiBw==",
          "dtype": "i2"
         },
         "xaxis": "x",
         "y": {
          "bdata": "mpmZmZmZGUBmZmZmZmYeQDMzMzMzMwdAMzMzMzMzC0CamZmZmZkXQA==",
          "dtype": "f8"
         },
         "yaxis": "y"
        },
        {
         "hovertemplate": "Genre=Drama, Sport<br>Year=%{x}<br>Rating=%{y}<extra></extra>",
         "legendgroup": "Drama, Sport",
         "line": {
          "color": "#EF553B",
          "dash": "solid"
         },
         "marker": {
          "symbol": "circle"
         },
         "mode": "lines",
         "name": "Drama, Sport",
         "showlegend": true,
         "type": "scattergl",
         "x": {
          "bdata": "wAfVB9cH2QfbB90H4gfjB+QH",
          "dtype": "i2"
         },
         "xaxis": "x",
         "y": {
          "bdata": "ZmZmZmZmHECamZmZmZkeQBERERERERdAzMzMzMzMDkBmZmZmZmYXQDMzMzMzMx9AAAAAAAAAIkAAAAAAAAAeQDMzMzMzMxtA",
          "dtype": "f8"
         },
         "yaxis": "y"
        },
        {
         "hovertemplate": "Genre=Family, Drama, Romance<br>Year=%{x}<br>Rating=%{y}<extra></extra>",
         "legendgroup": "Family, Drama, Romance",
         "line": {
          "color": "#00cc96",
          "dash": "solid"
         },
         "marker": {
          "symbol": "circle"
         },
         "mode": "lines",
         "name": "Family, Drama, Romance",
         "showlegend": true,
         "type": "scattergl",
         "x": {
          "bdata": "wAc=",
          "dtype": "i2"
         },
         "xaxis": "x",
         "y": {
          "bdata": "ZmZmZmZmGEA=",
          "dtype": "f8"
         },
         "yaxis": "y"
        },
        {
         "hovertemplate": "Genre=Family, Thriller<br>Year=%{x}<br>Rating=%{y}<extra></extra>",
         "legendgroup": "Family, Thriller",
         "line": {
          "color": "#ab63fa",
          "dash": "solid"
         },
         "marker": {
          "symbol": "circle"
         },
         "mode": "lines",
         "name": "Family, Thriller",
         "showlegend": true,
         "type": "scattergl",
         "x": {
          "bdata": "wAc=",
          "dtype": "i2"
         },
         "xaxis": "x",
         "y": {
          "bdata": "zczMzMzMGEA=",
          "dtype": "f8"
         },
         "yaxis": "y"
        },
        {
         "hovertemplate": "Genre=Romance, Action, Drama<br>Year=%{x}<br>Rating=%{y}<extra></extra>",
         "legendgroup": "Romance, Action, Drama",
         "line": {
          "color": "#FFA15A",
          "dash": "solid"
         },
         "marker": {
          "symbol": "circle"
         },
         "mode": "lines",
         "name": "Romance, Action, Drama",
         "showlegend": true,
         "type": "scattergl",
         "x": {
          "bdata": "wAc=",
          "dtype": "i2"
         },
         "xaxis": "x",
         "y": {
          "bdata": "ZmZmZmZmFkA=",
          "dtype": "f8"
         },
         "yaxis": "y"
        },
        {
         "hovertemplate": "Genre=Adventure, Comedy, Musical<br>Year=%{x}<br>Rating=%{y}<extra></extra>",
         "legendgroup": "Adventure, Comedy, Musical",
         "line": {
          "color": "#19d3f3",
          "dash": "solid"
         },
         "marker": {
          "symbol": "circle"
         },
         "mode": "lines",
         "name": "Adventure, Comedy, Musical",
         "showlegend": true,
         "type": "scattergl",
         "x": {
          "bdata": "wQc=",
          "dtype": "i2"
         },
         "xaxis": "x",
         "y": {
          "bdata": "AAAAAAAAHEA=",
          "dtype": "f8"
         },
         "yaxis": "y"
        },
        {
         "hovertemplate": "Genre=Comedy, Horror, Thriller<br>Year=%{x}<br>Rating=%{y}<extra></extra>",
         "legendgroup": "Comedy, Horror, Thriller",
         "line": {
          "color": "#FF6692",
          "dash": "solid"
         },
         "marker": {
          "symbol": "circle"
         },
         "mode": "lines",
         "name": "Comedy, Horror, Thriller",
         "showlegend": true,
         "type": "scattergl",
         "x": {
          "bdata": "wQc=",
          "dtype": "i2"
         },
         "xaxis": "x",
         "y": {
          "bdata": "mpmZmZmZF0A=",
          "dtype": "f8"
         },
         "yaxis": "y"
        },
        {
         "hovertemplate": "Genre=Documentary, Drama<br>Year=%{x}<br>Rating=%{y}<extra></extra>",
         "legendgroup": "Documentary, Drama",
         "line": {
          "color": "#B6E880",
          "dash": "solid"
         },
         "marker": {
          "symbol": "circle"
         },
         "mode": "lines",
         "name": "Documentary, Drama",
         "showlegend": true,
         "type": "scattergl",
         "x": {
          "bdata": "wQfZB90H3wfhBw==",
          "dtype": "i2"
         },
         "xaxis": "x",
         "y": {
          "bdata": "zczMzMzMHkAAAAAAAAAaQDMzMzMzMx9AAAAAAAAAHEAAAAAAAAAaQA==",
          "dtype": "f8"
         },
         "yaxis": "y"
        },
        {
         "hovertemplate": "Genre=Drama, Crime<br>Year=%{x}<br>Rating=%{y}<extra></extra>",
         "legendgroup": "Drama, Crime",
         "line": {
          "color": "#FF97FF",
          "dash": "solid"
         },
         "marker": {
          "symbol": "circle"
         },
         "mode": "lines",
         "name": "Drama, Crime",
         "showlegend": true,
         "type": "scattergl",
         "x": {
          "bdata": "wQfSBw==",
          "dtype": "i2"
         },
         "xaxis": "x",
         "y": {
          "bdata": "ZmZmZmZmHEDNzMzMzMwYQA==",
          "dtype": "f8"
         },
         "yaxis": "y"
        },
        {
         "hovertemplate": "Genre=Drama, Sci-Fi<br>Year=%{x}<br>Rating=%{y}<extra></extra>",
         "legendgroup": "Drama, Sci-Fi",
         "line": {
          "color": "#FECB52",
          "dash": "solid"
         },
         "marker": {
          "symbol": "circle"
         },
         "mode": "lines",
         "name": "Drama, Sci-Fi",
         "showlegend": true,
         "type": "scattergl",
         "x": {
          "bdata": "wQfXBw==",
          "dtype": "i2"
         },
         "xaxis": "x",
         "y": {
          "bdata": "mpmZmZmZF0DNzMzMzMwYQA==",
          "dtype": "f8"
         },
         "yaxis": "y"
        },
        {
         "hovertemplate": "Genre=Horror, Crime, Thriller<br>Year=%{x}<br>Rating=%{y}<extra></extra>",
         "legendgroup": "Horror, Crime, Thriller",
         "line": {
          "color": "#636efa",
          "dash": "solid"
         },
         "marker": {
          "symbol": "circle"
         },
         "mode": "lines",
         "name": "Horror, Crime, Thriller",
         "showlegend": true,
         "type": "scattergl",
         "x": {
          "bdata": "wQc=",
          "dtype": "i2"
         },
         "xaxis": "x",
         "y": {
          "bdata": "MzMzMzMzF0A=",
          "dtype": "f8"
         },
         "yaxis": "y"
        },
        {
         "hovertemplate": "Genre=Romance, Sport<br>Year=%{x}<br>Rating=%{y}<extra></extra>",
         "legendgroup": "Romance, Sport",
         "line": {
          "color": "#EF553B",
          "dash": "solid"
         },
         "marker": {
          "symbol": "circle"
         },
         "mode": "lines",
         "name": "Romance, Sport",
         "showlegend": true,
         "type": "scattergl",
         "x": {
          "bdata": "wQc=",
          "dtype": "i2"
         },
         "xaxis": "x",
         "y": {
          "bdata": "AAAAAAAAFEA=",
          "dtype": "f8"
         },
         "yaxis": "y"
        },
        {
         "hovertemplate": "Genre=Action, Adventure, Sci-Fi<br>Year=%{x}<br>Rating=%{y}<extra></extra>",
         "legendgroup": "Action, Adventure, Sci-Fi",
         "line": {
          "color": "#00cc96",
          "dash": "solid"
         },
         "marker": {
          "symbol": "circle"
         },
         "mode": "lines",
         "name": "Action, Adventure, Sci-Fi",
         "showlegend": true,
         "type": "scattergl",
         "x": {
          "bdata": "wgfDB9YH2wfdB94H",
          "dtype": "i2"
         },
         "xaxis": "x",
         "y": {
          "bdata": "MzMzMzMzHUAAAAAAAAASQJqZmZmZmRlAzczMzMzMEkDNzMzMzMwUQGZmZmZmZhZA",
          "dtype": "f8"
         },
         "yaxis": "y"
        },
        {
         "hovertemplate": "Genre=Action, Drama, Horror<br>Year=%{x}<br>Rating=%{y}<extra></extra>",
         "legendgroup": "Action, Drama, Horror",
         "line": {
          "color": "#ab63fa",
          "dash": "solid"
         },
         "marker": {
          "symbol": "circle"
         },
         "mode": "lines",
         "name": "Action, Drama, Horror",
         "showlegend": true,
         "type": "scattergl",
         "x": {
          "bdata": "wgfEB8YH2gc=",
          "dtype": "i2"
         },
         "xaxis": "x",
         "y": {
          "bdata": "mpmZmZmZFUBmZmZmZmYaQGZmZmZmZhRAZmZmZmZmCkA=",
          "dtype": "f8"
         },
         "yaxis": "y"
        },
        {
         "hovertemplate": "Genre=Action, Drama, Music<br>Year=%{x}<br>Rating=%{y}<extra></extra>",
         "legendgroup": "Action, Drama, Music",
         "line": {
          "color": "#FFA15A",
          "dash": "solid"
         },
         "marker": {
          "symbol": "circle"
         },
         "mode": "lines",
         "name": "Action, Drama, Music",
         "showlegend": true,
         "type": "scattergl",
         "x": {
          "bdata": "wgfWB9cH4AfhBw==",
          "dtype": "i2"
         },
         "xaxis": "x",
         "y": {
          "bdata": "ZmZmZmZmEEDNzMzMzMwSQM3MzMzMzAxAmpmZmZmZE0BmZmZmZmYKQA==",
          "dtype": "f8"
         },
         "yaxis": "y"
        },
        {
         "hovertemplate": "Genre=Adventure, Crime, Romance<br>Year=%{x}<br>Rating=%{y}<extra></extra>",
         "legendgroup": "Adventure, Crime, Romance",
         "line": {
          "color": "#19d3f3",
          "dash": "solid"
         },
         "marker": {
          "symbol": "circle"
         },
         "mode": "lines",
         "name": "Adventure, Crime, Romance",
         "showlegend": true,
         "type": "scattergl",
         "x": {
          "bdata": "wgc=",
          "dtype": "i2"
         },
         "xaxis": "x",
         "y": {
          "bdata": "MzMzMzMzF0A=",
          "dtype": "f8"
         },
         "yaxis": "y"
        },
        {
         "hovertemplate": "Genre=Adventure, Thriller<br>Year=%{x}<br>Rating=%{y}<extra></extra>",
         "legendgroup": "Adventure, Thriller",
         "line": {
          "color": "#FF6692",
          "dash": "solid"
         },
         "marker": {
          "symbol": "circle"
         },
         "mode": "lines",
         "name": "Adventure, Thriller",
         "showlegend": true,
         "type": "scattergl",
         "x": {
          "bdata": "wgfdB94H",
          "dtype": "i2"
         },
         "xaxis": "x",
         "y": {
          "bdata": "ZmZmZmZmGkBmZmZmZmYSQGZmZmZmZhpA",
          "dtype": "f8"
         },
         "yaxis": "y"
        },
        {
         "hovertemplate": "Genre=Adventure, Mystery, Thriller<br>Year=%{x}<br>Rating=%{y}<extra></extra>",
         "legendgroup": "Adventure, Mystery, Thriller",
         "line": {
          "color": "#B6E880",
          "dash": "solid"
         },
         "marker": {
          "symbol": "circle"
         },
         "mode": "lines",
         "name": "Adventure, Mystery, Thriller",
         "showlegend": true,
         "type": "scattergl",
         "x": {
          "bdata": "wwfPBw==",
          "dtype": "i2"
         },
         "xaxis": "x",
         "y": {
          "bdata": "zczMzMzMFkAAAAAAAAAcQA==",
          "dtype": "f8"
         },
         "yaxis": "y"
        },
        {
         "hovertemplate": "Genre=Drama, Horror, Musical<br>Year=%{x}<br>Rating=%{y}<extra></extra>",
         "legendgroup": "Drama, Horror, Musical",
         "line": {
          "color": "#FF97FF",
          "dash": "solid"
         },
         "marker": {
          "symbol": "circle"
         },
         "mode": "lines",
         "name": "Drama, Horror, Musical",
         "showlegend": true,
         "type": "scattergl",
         "x": {
          "bdata": "wwfIB9IH",
          "dtype": "i2"
         },
         "xaxis": "x",
         "y": {
          "bdata": "ZmZmZmZmEEBmZmZmZmYWQAAAAAAAABpA",
          "dtype": "f8"
         },
         "yaxis": "y"
        },
        {
         "hovertemplate": "Genre=Thriller, Action<br>Year=%{x}<br>Rating=%{y}<extra></extra>",
         "legendgroup": "Thriller, Action",
         "line": {
          "color": "#FECB52",
          "dash": "solid"
         },
         "marker": {
          "symbol": "circle"
         },
         "mode": "lines",
         "name": "Thriller, Action",
         "showlegend": true,
         "type": "scattergl",
         "x": {
          "bdata": "wwc=",
          "dtype": "i2"
         },
         "xaxis": "x",
         "y": {
          "bdata": "MzMzMzMzEUA=",
          "dtype": "f8"
         },
         "yaxis": "y"
        },
        {
         "hovertemplate": "Genre=Documentary, Biography, Musical<br>Year=%{x}<br>Rating=%{y}<extra></extra>",
         "legendgroup": "Documentary, Biography, Musical",
         "line": {
          "color": "#636efa",
          "dash": "solid"
         },
         "marker": {
          "symbol": "circle"
         },
         "mode": "lines",
         "name": "Documentary, Biography, Musical",
         "showlegend": true,
         "type": "scattergl",
         "x": {
          "bdata": "xAc=",
          "dtype": "i2"
         },
         "xaxis": "x",
         "y": {
          "bdata": "ZmZmZmZmIEA=",
          "dtype": "f8"
         },
         "yaxis": "y"
        },
        {
         "hovertemplate": "Genre=Drama, Thriller, Action<br>Year=%{x}<br>Rating=%{y}<extra></extra>",
         "legendgroup": "Drama, Thriller, Action",
         "line": {
          "color": "#EF553B",
          "dash": "solid"
         },
         "marker": {
          "symbol": "circle"
         },
         "mode": "lines",
         "name": "Drama, Thriller, Action",
         "showlegend": true,
         "type": "scattergl",
         "x": {
          "bdata": "xAfHBw==",
          "dtype": "i2"
         },
         "xaxis": "x",
         "y": {
          "bdata": "ZmZmZmZmGkAAAAAAAAAgQA==",
          "dtype": "f8"
         },
         "yaxis": "y"
        },
        {
         "hovertemplate": "Genre=Action, Drama, Western<br>Year=%{x}<br>Rating=%{y}<extra></extra>",
         "legendgroup": "Action, Drama, Western",
         "line": {
          "color": "#00cc96",
          "dash": "solid"
         },
         "marker": {
          "symbol": "circle"
         },
         "mode": "lines",
         "name": "Action, Drama, Western",
         "showlegend": true,
         "type": "scattergl",
         "x": {
          "bdata": "xQc=",
          "dtype": "i2"
         },
         "xaxis": "x",
         "y": {
          "bdata": "zczMzMzMFkA=",
          "dtype": "f8"
         },
         "yaxis": "y"
        },
        {
         "hovertemplate": "Genre=Comedy, Crime, Musical<br>Year=%{x}<br>Rating=%{y}<extra></extra>",
         "legendgroup": "Comedy, Crime, Musical",
         "line": {
          "color": "#ab63fa",
          "dash": "solid"
         },
         "marker": {
          "symbol": "circle"
         },
         "mode": "lines",
         "name": "Comedy, Crime, Musical",
         "showlegend": true,
         "type": "scattergl",
         "x": {
          "bdata": "xQc=",
          "dtype": "i2"
         },
         "xaxis": "x",
         "y": {
          "bdata": "mpmZmZmZE0A=",
          "dtype": "f8"
         },
         "yaxis": "y"
        },
        {
         "hovertemplate": "Genre=Action, Comedy, Fantasy<br>Year=%{x}<br>Rating=%{y}<extra></extra>",
         "legendgroup": "Action, Comedy, Fantasy",
         "line": {
          "color": "#FFA15A",
          "dash": "solid"
         },
         "marker": {
          "symbol": "circle"
         },
         "mode": "lines",
         "name": "Action, Comedy, Fantasy",
         "showlegend": true,
         "type": "scattergl",
         "x": {
          "bdata": "xgfLB88H4Qc=",
          "dtype": "i2"
         },
         "xaxis": "x",
         "y": {
          "bdata": "mpmZmZmZG0AAAAAAAAAaQM3MzMzMzBJAAAAAAAAAFEA=",
          "dtype": "f8"
         },
         "yaxis": "y"
        },
        {
         "hovertemplate": "Genre=Action, Fantasy, Thriller<br>Year=%{x}<br>Rating=%{y}<extra></extra>",
         "legendgroup": "Action, Fantasy, Thriller",
         "line": {
          "color": "#19d3f3",
          "dash": "solid"
         },
         "marker": {
          "symbol": "circle"
         },
         "mode": "lines",
         "name": "Action, Fantasy, Thriller",
         "showlegend": true,
         "type": "scattergl",
         "x": {
          "bdata": "xgfSB9QH3wc=",
          "dtype": "i2"
         },
         "xaxis": "x",
         "y": {
          "bdata": "AAAAAAAAEkBmZmZmZmYGQAAAAAAAABJAzczMzMzMFEA=",
          "dtype": "f8"
         },
         "yaxis": "y"
        },
        {
         "hovertemplate": "Genre=Crime, Drama, Horror<br>Year=%{x}<br>Rating=%{y}<extra></extra>",
         "legendgroup": "Crime, Drama, Horror",
         "line": {
          "color": "#FF6692",
          "dash": "solid"
         },
         "marker": {
          "symbol": "circle"
         },
         "mode": "lines",
         "name": "Crime, Drama, Horror",
         "showlegend": true,
         "type": "scattergl",
         "x": {
          "bdata": "xgfWB+QH",
          "dtype": "i2"
         },
         "xaxis": "x",
         "y": {
          "bdata": "AAAAAAAACEDNzMzMzMwQQAAAAAAAAB5A",
          "dtype": "f8"
         },
         "yaxis": "y"
        },
        {
         "hovertemplate": "Genre=Fantasy, Horror, Romance<br>Year=%{x}<br>Rating=%{y}<extra></extra>",
         "legendgroup": "Fantasy, Horror, Romance",
         "line": {
          "color": "#B6E880",
          "dash": "solid"
         },
         "marker": {
          "symbol": "circle"
         },
         "mode": "lines",
         "name": "Fantasy, Horror, Romance",
         "showlegend": true,
         "type": "scattergl",
         "x": {
          "bdata": "xgc=",
          "dtype": "i2"
         },
         "xaxis": "x",
         "y": {
          "bdata": "zczMzMzMEkA=",
          "dtype": "f8"
         },
         "yaxis": "y"
        },
        {
         "hovertemplate": "Genre=Musical, Action, Drama<br>Year=%{x}<br>Rating=%{y}<extra></extra>",
         "legendgroup": "Musical, Action, Drama",
         "line": {
          "color": "#FF97FF",
          "dash": "solid"
         },
         "marker": {
          "symbol": "circle"
         },
         "mode": "lines",
         "name": "Musical, Action, Drama",
         "showlegend": true,
         "type": "scattergl",
         "x": {
          "bdata": "xgfSB9MH1Ac=",
          "dtype": "i2"
         },
         "xaxis": "x",
         "y": {
          "bdata": "ZmZmZmZmFEDNzMzMzMwaQDMzMzMzMwdAAAAAAAAAGEA=",
          "dtype": "f8"
         },
         "yaxis": "y"
        },
        {
         "hovertemplate": "Genre=Horror, Romance, Thriller<br>Year=%{x}<br>Rating=%{y}<extra></extra>",
         "legendgroup": "Horror, Romance, Thriller",
         "line": {
          "color": "#FECB52",
          "dash": "solid"
         },
         "marker": {
          "symbol": "circle"
         },
         "mode": "lines",
         "name": "Horror, Romance, Thriller",
         "showlegend": true,
         "type": "scattergl",
         "x": {
          "bdata": "xwfcB90H",
          "dtype": "i2"
         },
         "xaxis": "x",
         "y": {
          "bdata": "AAAAAAAAGkAAAAAAAAAQQM3MzMzMzBZA",
          "dtype": "f8"
         },
         "yaxis": "y"
        },
        {
         "hovertemplate": "Genre=Adventure, Comedy, Romance<br>Year=%{x}<br>Rating=%{y}<extra></extra>",
         "legendgroup": "Adventure, Comedy, Romance",
         "line": {
          "color": "#636efa",
          "dash": "solid"
         },
         "marker": {
          "symbol": "circle"
         },
         "mode": "lines",
         "name": "Adventure, Comedy, Romance",
         "showlegend": true,
         "type": "scattergl",
         "x": {
          "bdata": "yAc=",
          "dtype": "i2"
         },
         "xaxis": "x",
         "y": {
          "bdata": "MzMzMzMzG0A=",
          "dtype": "f8"
         },
         "yaxis": "y"
        },
        {
         "hovertemplate": "Genre=Fantasy, Horror<br>Year=%{x}<br>Rating=%{y}<extra></extra>",
         "legendgroup": "Fantasy, Horror",
         "line": {
          "color": "#EF553B",
          "dash": "solid"
         },
         "marker": {
          "symbol": "circle"
         },
         "mode": "lines",
         "name": "Fantasy, Horror",
         "showlegend": true,
         "type": "scattergl",
         "x": {
          "bdata": "yAfZBw==",
          "dtype": "i2"
         },
         "xaxis": "x",
         "y": {
          "bdata": "AAAAAAAAEkAAAAAAAAAWQA==",
          "dtype": "f8"
         },
         "yaxis": "y"
        },
        {
         "hovertemplate": "Genre=Comedy, Family, Fantasy<br>Year=%{x}<br>Rating=%{y}<extra></extra>",
         "legendgroup": "Comedy, Family, Fantasy",
         "line": {
          "color": "#00cc96",
          "dash": "solid"
         },
         "marker": {
          "symbol": "circle"
         },
         "mode": "lines",
         "name": "Comedy, Family, Fantasy",
         "showlegend": true,
         "type": "scattergl",
         "x": {
          "bdata": "yQfSB9kH",
          "dtype": "i2"
         },
         "xaxis": "x",
         "y": {
          "bdata": "ZmZmZmZmHECamZmZmZkdQGZmZmZmZhRA",
          "dtype": "f8"
         },
         "yaxis": "y"
        },
        {
         "hovertemplate": "Genre=Biography, Crime, Drama<br>Year=%{x}<br>Rating=%{y}<extra></extra>",
         "legendgroup": "Biography, Crime, Drama",
         "line": {
          "color": "#ab63fa",
          "dash": "solid"
         },
         "marker": {
          "symbol": "circle"
         },
         "mode": "lines",
         "name": "Biography, Crime, Drama",
         "showlegend": true,
         "type": "scattergl",
         "x": {
          "bdata": "ygfbB+MH5Qc=",
          "dtype": "i2"
         },
         "xaxis": "x",
         "y": {
          "bdata": "ZmZmZmZmHkDNzMzMzMwcQM3MzMzMzCFAZmZmZmZmGEA=",
          "dtype": "f8"
         },
         "yaxis": "y"
        },
        {
         "hovertemplate": "Genre=Comedy, Horror<br>Year=%{x}<br>Rating=%{y}<extra></extra>",
         "legendgroup": "Comedy, Horror",
         "line": {
          "color": "#FFA15A",
          "dash": "solid"
         },
         "marker": {
          "symbol": "circle"
         },
         "mode": "lines",
         "name": "Comedy, Horror",
         "showlegend": true,
         "type": "scattergl",
         "x": {
          "bdata": "ygfLB94H4AfhB+IH4wflBw==",
          "dtype": "i2"
         },
         "xaxis": "x",
         "y": {
          "bdata": "mpmZmZmZEUDNzMzMzMwaQM3MzMzMzAxAAAAAAAAAFkBmZmZmZmYaQGZmZmZmZh5AzczMzMzMFEAzMzMzMzMRQA==",
          "dtype": "f8"
         },
         "yaxis": "y"
        },
        {
         "hovertemplate": "Genre=Mystery, Romance<br>Year=%{x}<br>Rating=%{y}<extra></extra>",
         "legendgroup": "Mystery, Romance",
         "line": {
          "color": "#19d3f3",
          "dash": "solid"
         },
         "marker": {
          "symbol": "circle"
         },
         "mode": "lines",
         "name": "Mystery, Romance",
         "showlegend": true,
         "type": "scattergl",
         "x": {
          "bdata": "ygfUBw==",
          "dtype": "i2"
         },
         "xaxis": "x",
         "y": {
          "bdata": "mpmZmZmZEUCamZmZmZkRQA==",
          "dtype": "f8"
         },
         "yaxis": "y"
        },
        {
         "hovertemplate": "Genre=Action, Romance, Comedy<br>Year=%{x}<br>Rating=%{y}<extra></extra>",
         "legendgroup": "Action, Romance, Comedy",
         "line": {
          "color": "#FF6692",
          "dash": "solid"
         },
         "marker": {
          "symbol": "circle"
         },
         "mode": "lines",
         "name": "Action, Romance, Comedy",
         "showlegend": true,
         "type": "scattergl",
         "x": {
          "bdata": "ywc=",
          "dtype": "i2"
         },
         "xaxis": "x",
         "y": {
          "bdata": "ZmZmZmZmEkA=",
          "dtype": "f8"
         },
         "yaxis": "y"
        },
        {
         "hovertemplate": "Genre=Action, Thriller, Crime<br>Year=%{x}<br>Rating=%{y}<extra></extra>",
         "legendgroup": "Action, Thriller, Crime",
         "line": {
          "color": "#B6E880",
          "dash": "solid"
         },
         "marker": {
          "symbol": "circle"
         },
         "mode": "lines",
         "name": "Action, Thriller, Crime",
         "showlegend": true,
         "type": "scattergl",
         "x": {
          "bdata": "ywc=",
          "dtype": "i2"
         },
         "xaxis": "x",
         "y": {
          "bdata": "AAAAAAAAGkA=",
          "dtype": "f8"
         },
         "yaxis": "y"
        },
        {
         "hovertemplate": "Genre=Crime, Romance<br>Year=%{x}<br>Rating=%{y}<extra></extra>",
         "legendgroup": "Crime, Romance",
         "line": {
          "color": "#FF97FF",
          "dash": "solid"
         },
         "marker": {
          "symbol": "circle"
         },
         "mode": "lines",
         "name": "Crime, Romance",
         "showlegend": true,
         "type": "scattergl",
         "x": {
          "bdata": "ywfTB94H",
          "dtype": "i2"
         },
         "xaxis": "x",
         "y": {
          "bdata": "MzMzMzMzE0BmZmZmZmYKQJqZmZmZmRFA",
          "dtype": "f8"
         },
         "yaxis": "y"
        },
        {
         "hovertemplate": "Genre=Family, Music, Romance<br>Year=%{x}<br>Rating=%{y}<extra></extra>",
         "legendgroup": "Family, Music, Romance",
         "line": {
          "color": "#FECB52",
          "dash": "solid"
         },
         "marker": {
          "symbol": "circle"
         },
         "mode": "lines",
         "name": "Family, Music, Romance",
         "showlegend": true,
         "type": "scattergl",
         "x": {
          "bdata": "ywc=",
          "dtype": "i2"
         },
         "xaxis": "x",
         "y": {
          "bdata": "zczMzMzMBEA=",
          "dtype": "f8"
         },
         "yaxis": "y"
        },
        {
         "hovertemplate": "Genre=Musical, Family, Drama<br>Year=%{x}<br>Rating=%{y}<extra></extra>",
         "legendgroup": "Musical, Family, Drama",
         "line": {
          "color": "#636efa",
          "dash": "solid"
         },
         "marker": {
          "symbol": "circle"
         },
         "mode": "lines",
         "name": "Musical, Family, Drama",
         "showlegend": true,
         "type": "scattergl",
         "x": {
          "bdata": "ywc=",
          "dtype": "i2"
         },
         "xaxis": "x",
         "y": {
          "bdata": "ZmZmZmZmFEA=",
          "dtype": "f8"
         },
         "yaxis": "y"
        },
        {
         "hovertemplate": "Genre=War<br>Year=%{x}<br>Rating=%{y}<extra></extra>",
         "legendgroup": "War",
         "line": {
          "color": "#EF553B",
          "dash": "solid"
         },
         "marker": {
          "symbol": "circle"
         },
         "mode": "lines",
         "name": "War",
         "showlegend": true,
         "type": "scattergl",
         "x": {
          "bdata": "ywfjB+QH",
          "dtype": "i2"
         },
         "xaxis": "x",
         "y": {
          "bdata": "zczMzMzMGkBmZmZmZmYGQAAAAAAAAAxA",
          "dtype": "f8"
         },
         "yaxis": "y"
        },
        {
         "hovertemplate": "Genre=Family, Comedy, Drama<br>Year=%{x}<br>Rating=%{y}<extra></extra>",
         "legendgroup": "Family, Comedy, Drama",
         "line": {
          "color": "#00cc96",
          "dash": "solid"
         },
         "marker": {
          "symbol": "circle"
         },
         "mode": "lines",
         "name": "Family, Comedy, Drama",
         "showlegend": true,
         "type": "scattergl",
         "x": {
          "bdata": "zQc=",
          "dtype": "i2"
         },
         "xaxis": "x",
         "y": {
          "bdata": "zczMzMzMEkA=",
          "dtype": "f8"
         },
         "yaxis": "y"
        },
        {
         "hovertemplate": "Genre=Adventure, Comedy, Family<br>Year=%{x}<br>Rating=%{y}<extra></extra>",
         "legendgroup": "Adventure, Comedy, Family",
         "line": {
          "color": "#ab63fa",
          "dash": "solid"
         },
         "marker": {
          "symbol": "circle"
         },
         "mode": "lines",
         "name": "Adventure, Comedy, Family",
         "showlegend": true,
         "type": "scattergl",
         "x": {
          "bdata": "zgc=",
          "dtype": "i2"
         },
         "xaxis": "x",
         "y": {
          "bdata": "zczMzMzMFkA=",
          "dtype": "f8"
         },
         "yaxis": "y"
        },
        {
         "hovertemplate": "Genre=Drama, Action, Horror<br>Year=%{x}<br>Rating=%{y}<extra></extra>",
         "legendgroup": "Drama, Action, Horror",
         "line": {
          "color": "#FFA15A",
          "dash": "solid"
         },
         "marker": {
          "symbol": "circle"
         },
         "mode": "lines",
         "name": "Drama, Action, Horror",
         "showlegend": true,
         "type": "scattergl",
         "x": {
          "bdata": "zwc=",
          "dtype": "i2"
         },
         "xaxis": "x",
         "y": {
          "bdata": "mpmZmZmZEUA=",
          "dtype": "f8"
         },
         "yaxis": "y"
        },
        {
         "hovertemplate": "Genre=Romance, Action, Crime<br>Year=%{x}<br>Rating=%{y}<extra></extra>",
         "legendgroup": "Romance, Action, Crime",
         "line": {
          "color": "#19d3f3",
          "dash": "solid"
         },
         "marker": {
          "symbol": "circle"
         },
         "mode": "lines",
         "name": "Romance, Action, Crime",
         "showlegend": true,
         "type": "scattergl",
         "x": {
          "bdata": "zwc=",
          "dtype": "i2"
         },
         "xaxis": "x",
         "y": {
          "bdata": "AAAAAAAAFEA=",
          "dtype": "f8"
         },
         "yaxis": "y"
        },
        {
         "hovertemplate": "Genre=Animation, Drama, Adventure<br>Year=%{x}<br>Rating=%{y}<extra></extra>",
         "legendgroup": "Animation, Drama, Adventure",
         "line": {
          "color": "#FF6692",
          "dash": "solid"
         },
         "marker": {
          "symbol": "circle"
         },
         "mode": "lines",
         "name": "Animation, Drama, Adventure",
         "showlegend": true,
         "type": "scattergl",
         "x": {
          "bdata": "0Ac=",
          "dtype": "i2"
         },
         "xaxis": "x",
         "y": {
          "bdata": "MzMzMzMzG0A=",
          "dtype": "f8"
         },
         "yaxis": "y"
        },
        {
         "hovertemplate": "Genre=Crime, Drama, History<br>Year=%{x}<br>Rating=%{y}<extra></extra>",
         "legendgroup": "Crime, Drama, History",
         "line": {
          "color": "#B6E880",
          "dash": "solid"
         },
         "marker": {
          "symbol": "circle"
         },
         "mode": "lines",
         "name": "Crime, Drama, History",
         "showlegend": true,
         "type": "scattergl",
         "x": {
          "bdata": "0AflBw==",
          "dtype": "i2"
         },
         "xaxis": "x",
         "y": {
          "bdata": "mpmZmZmZH0BmZmZmZmYgQA==",
          "dtype": "f8"
         },
         "yaxis": "y"
        },
        {
         "hovertemplate": "Genre=Drama, Fantasy, Thriller<br>Year=%{x}<br>Rating=%{y}<extra></extra>",
         "legendgroup": "Drama, Fantasy, Thriller",
         "line": {
          "color": "#FF97FF",
          "dash": "solid"
         },
         "marker": {
          "symbol": "circle"
         },
         "mode": "lines",
         "name": "Drama, Fantasy, Thriller",
         "showlegend": true,
         "type": "scattergl",
         "x": {
          "bdata": "0AfRB9QH2gc=",
          "dtype": "i2"
         },
         "xaxis": "x",
         "y": {
          "bdata": "AAAAAAAAEEBmZmZmZmYWQM3MzMzMzBBAMzMzMzMzD0A=",
          "dtype": "f8"
         },
         "yaxis": "y"
        },
        {
         "hovertemplate": "Genre=Action, Crime, Horror<br>Year=%{x}<br>Rating=%{y}<extra></extra>",
         "legendgroup": "Action, Crime, Horror",
         "line": {
          "color": "#FECB52",
          "dash": "solid"
         },
         "marker": {
          "symbol": "circle"
         },
         "mode": "lines",
         "name": "Action, Crime, Horror",
         "showlegend": true,
         "type": "scattergl",
         "x": {
          "bdata": "0Qc=",
          "dtype": "i2"
         },
         "xaxis": "x",
         "y": {
          "bdata": "MzMzMzMzF0A=",
          "dtype": "f8"
         },
         "yaxis": "y"
        },
        {
         "hovertemplate": "Genre=Action, Fantasy, Musical<br>Year=%{x}<br>Rating=%{y}<extra></extra>",
         "legendgroup": "Action, Fantasy, Musical",
         "line": {
          "color": "#636efa",
          "dash": "solid"
         },
         "marker": {
          "symbol": "circle"
         },
         "mode": "lines",
         "name": "Action, Fantasy, Musical",
         "showlegend": true,
         "type": "scattergl",
         "x": {
          "bdata": "0Qc=",
          "dtype": "i2"
         },
         "xaxis": "x",
         "y": {
          "bdata": "ZmZmZmZmFEA=",
          "dtype": "f8"
         },
         "yaxis": "y"
        },
        {
         "hovertemplate": "Genre=Comedy, Musical, Family<br>Year=%{x}<br>Rating=%{y}<extra></extra>",
         "legendgroup": "Comedy, Musical, Family",
         "line": {
          "color": "#EF553B",
          "dash": "solid"
         },
         "marker": {
          "symbol": "circle"
         },
         "mode": "lines",
         "name": "Comedy, Musical, Family",
         "showlegend": true,
         "type": "scattergl",
         "x": {
          "bdata": "0Qc=",
          "dtype": "i2"
         },
         "xaxis": "x",
         "y": {
          "bdata": "zczMzMzMEEA=",
          "dtype": "f8"
         },
         "yaxis": "y"
        },
        {
         "hovertemplate": "Genre=Drama, Musical, Sport<br>Year=%{x}<br>Rating=%{y}<extra></extra>",
         "legendgroup": "Drama, Musical, Sport",
         "line": {
          "color": "#00cc96",
          "dash": "solid"
         },
         "marker": {
          "symbol": "circle"
         },
         "mode": "lines",
         "name": "Drama, Musical, Sport",
         "showlegend": true,
         "type": "scattergl",
         "x": {
          "bdata": "0Qc=",
          "dtype": "i2"
         },
         "xaxis": "x",
         "y": {
          "bdata": "MzMzMzMzIEA=",
          "dtype": "f8"
         },
         "yaxis": "y"
        },
        {
         "hovertemplate": "Genre=Family, Comedy<br>Year=%{x}<br>Rating=%{y}<extra></extra>",
         "legendgroup": "Family, Comedy",
         "line": {
          "color": "#ab63fa",
          "dash": "solid"
         },
         "marker": {
          "symbol": "circle"
         },
         "mode": "lines",
         "name": "Family, Comedy",
         "showlegend": true,
         "type": "scattergl",
         "x": {
          "bdata": "0Qc=",
          "dtype": "i2"
         },
         "xaxis": "x",
         "y": {
          "bdata": "ZmZmZmZmEkA=",
          "dtype": "f8"
         },
         "yaxis": "y"
        },
        {
         "hovertemplate": "Genre=Musical, Action<br>Year=%{x}<br>Rating=%{y}<extra></extra>",
         "legendgroup": "Musical, Action",
         "line": {
          "color": "#FFA15A",
          "dash": "solid"
         },
         "marker": {
          "symbol": "circle"
         },
         "mode": "lines",
         "name": "Musical, Action",
         "showlegend": true,
         "type": "scattergl",
         "x": {
          "bdata": "0gc=",
          "dtype": "i2"
         },
         "xaxis": "x",
         "y": {
          "bdata": "AAAAAAAACEA=",
          "dtype": "f8"
         },
         "yaxis": "y"
        },
        {
         "hovertemplate": "Genre=Adventure, Horror, Mystery<br>Year=%{x}<br>Rating=%{y}<extra></extra>",
         "legendgroup": "Adventure, Horror, Mystery",
         "line": {
          "color": "#19d3f3",
          "dash": "solid"
         },
         "marker": {
          "symbol": "circle"
         },
         "mode": "lines",
         "name": "Adventure, Horror, Mystery",
         "showlegend": true,
         "type": "scattergl",
         "x": {
          "bdata": "0wfVB9wH",
          "dtype": "i2"
         },
         "xaxis": "x",
         "y": {
          "bdata": "MzMzMzMzA0BmZmZmZmYSQDMzMzMzMxtA",
          "dtype": "f8"
         },
         "yaxis": "y"
        },
        {
         "hovertemplate": "Genre=Comedy, Drama, Sport<br>Year=%{x}<br>Rating=%{y}<extra></extra>",
         "legendgroup": "Comedy, Drama, Sport",
         "line": {
          "color": "#FF6692",
          "dash": "solid"
         },
         "marker": {
          "symbol": "circle"
         },
         "mode": "lines",
         "name": "Comedy, Drama, Sport",
         "showlegend": true,
         "type": "scattergl",
         "x": {
          "bdata": "0wfbBw==",
          "dtype": "i2"
         },
         "xaxis": "x",
         "y": {
          "bdata": "zczMzMzMBEDNzMzMzMwWQA==",
          "dtype": "f8"
         },
         "yaxis": "y"
        },
        {
         "hovertemplate": "Genre=Comedy, Music, Romance<br>Year=%{x}<br>Rating=%{y}<extra></extra>",
         "legendgroup": "Comedy, Music, Romance",
         "line": {
          "color": "#B6E880",
          "dash": "solid"
         },
         "marker": {
          "symbol": "circle"
         },
         "mode": "lines",
         "name": "Comedy, Music, Romance",
         "showlegend": true,
         "type": "scattergl",
         "x": {
          "bdata": "0wfXBw==",
          "dtype": "i2"
         },
         "xaxis": "x",
         "y": {
          "bdata": "zczMzMzMHEAzMzMzMzMTQA==",
          "dtype": "f8"
         },
         "yaxis": "y"
        },
        {
         "hovertemplate": "Genre=Drama, Fantasy, Mystery<br>Year=%{x}<br>Rating=%{y}<extra></extra>",
         "legendgroup": "Drama, Fantasy, Mystery",
         "line": {
          "color": "#FF97FF",
          "dash": "solid"
         },
         "marker": {
          "symbol": "circle"
         },
         "mode": "lines",
         "name": "Drama, Fantasy, Mystery",
         "showlegend": true,
         "type": "scattergl",
         "x": {
          "bdata": "0wfeB+AH",
          "dtype": "i2"
         },
         "xaxis": "x",
         "y": {
          "bdata": "MzMzMzMzF0AAAAAAAAAcQDMzMzMzMxtA",
          "dtype": "f8"
         },
         "yaxis": "y"
        },
        {
         "hovertemplate": "Genre=Drama, History, War<br>Year=%{x}<br>Rating=%{y}<extra></extra>",
         "legendgroup": "Drama, History, War",
         "line": {
          "color": "#FECB52",
          "dash": "solid"
         },
         "marker": {
          "symbol": "circle"
         },
         "mode": "lines",
         "name": "Drama, History, War",
         "showlegend": true,
         "type": "scattergl",
         "x": {
          "bdata": "0wfbB94H",
          "dtype": "i2"
         },
         "xaxis": "x",
         "y": {
          "bdata": "zczMzMzMFEAAAAAAAAAEQDQzMzMzMxxA",
          "dtype": "f8"
         },
         "yaxis": "y"
        },
        {
         "hovertemplate": "Genre=Romance, Comedy<br>Year=%{x}<br>Rating=%{y}<extra></extra>",
         "legendgroup": "Romance, Comedy",
         "line": {
          "color": "#636efa",
          "dash": "solid"
         },
         "marker": {
          "symbol": "circle"
         },
         "mode": "lines",
         "name": "Romance, Comedy",
         "showlegend": true,
         "type": "scattergl",
         "x": {
          "bdata": "0wfUBw==",
          "dtype": "i2"
         },
         "xaxis": "x",
         "y": {
          "bdata": "zczMzMzMFEDNzMzMzMwYQA==",
          "dtype": "f8"
         },
         "yaxis": "y"
        },
        {
         "hovertemplate": "Genre=Action, Fantasy, Sci-Fi<br>Year=%{x}<br>Rating=%{y}<extra></extra>",
         "legendgroup": "Action, Fantasy, Sci-Fi",
         "line": {
          "color": "#EF553B",
          "dash": "solid"
         },
         "marker": {
          "symbol": "circle"
         },
         "mode": "lines",
         "name": "Action, Fantasy, Sci-Fi",
         "showlegend": true,
         "type": "scattergl",
         "x": {
          "bdata": "1Ac=",
          "dtype": "i2"
         },
         "xaxis": "x",
         "y": {
          "bdata": "mpmZmZmZBUA=",
          "dtype": "f8"
         },
         "yaxis": "y"
        },
        {
         "hovertemplate": "Genre=Adventure, Musical, Romance<br>Year=%{x}<br>Rating=%{y}<extra></extra>",
         "legendgroup": "Adventure, Musical, Romance",
         "line": {
          "color": "#00cc96",
          "dash": "solid"
         },
         "marker": {
          "symbol": "circle"
         },
         "mode": "lines",
         "name": "Adventure, Musical, Romance",
         "showlegend": true,
         "type": "scattergl",
         "x": {
          "bdata": "1Ac=",
          "dtype": "i2"
         },
         "xaxis": "x",
         "y": {
          "bdata": "MzMzMzMzEUA=",
          "dtype": "f8"
         },
         "yaxis": "y"
        },
        {
         "hovertemplate": "Genre=Comedy, Crime, Mystery<br>Year=%{x}<br>Rating=%{y}<extra></extra>",
         "legendgroup": "Comedy, Crime, Mystery",
         "line": {
          "color": "#ab63fa",
          "dash": "solid"
         },
         "marker": {
          "symbol": "circle"
         },
         "mode": "lines",
         "name": "Comedy, Crime, Mystery",
         "showlegend": true,
         "type": "scattergl",
         "x": {
          "bdata": "1AfXB9gH",
          "dtype": "i2"
         },
         "xaxis": "x",
         "y": {
          "bdata": "zczMzMzMGECamZmZmZkTQGZmZmZmZhRA",
          "dtype": "f8"
         },
         "yaxis": "y"
        },
        {
         "hovertemplate": "Genre=Crime, Horror, Thriller<br>Year=%{x}<br>Rating=%{y}<extra></extra>",
         "legendgroup": "Crime, Horror, Thriller",
         "line": {
          "color": "#FFA15A",
          "dash": "solid"
         },
         "marker": {
          "symbol": "circle"
         },
         "mode": "lines",
         "name": "Crime, Horror, Thriller",
         "showlegend": true,
         "type": "scattergl",
         "x": {
          "bdata": "1Ac=",
          "dtype": "i2"
         },
         "xaxis": "x",
         "y": {
          "bdata": "ZmZmZmZmGEA=",
          "dtype": "f8"
         },
         "yaxis": "y"
        },
        {
         "hovertemplate": "Genre=Horror, Drama, Mystery<br>Year=%{x}<br>Rating=%{y}<extra></extra>",
         "legendgroup": "Horror, Drama, Mystery",
         "line": {
          "color": "#19d3f3",
          "dash": "solid"
         },
         "marker": {
          "symbol": "circle"
         },
         "mode": "lines",
         "name": "Horror, Drama, Mystery",
         "showlegend": true,
         "type": "scattergl",
         "x": {
          "bdata": "1Ac=",
          "dtype": "i2"
         },
         "xaxis": "x",
         "y": {
          "bdata": "zczMzMzMDEA=",
          "dtype": "f8"
         },
         "yaxis": "y"
        },
        {
         "hovertemplate": "Genre=Musical, Action, Crime<br>Year=%{x}<br>Rating=%{y}<extra></extra>",
         "legendgroup": "Musical, Action, Crime",
         "line": {
          "color": "#FF6692",
          "dash": "solid"
         },
         "marker": {
          "symbol": "circle"
         },
         "mode": "lines",
         "name": "Musical, Action, Crime",
         "showlegend": true,
         "type": "scattergl",
         "x": {
          "bdata": "1Ac=",
          "dtype": "i2"
         },
         "xaxis": "x",
         "y": {
          "bdata": "AAAAAAAAFEA=",
          "dtype": "f8"
         },
         "yaxis": "y"
        },
        {
         "hovertemplate": "Genre=Animation<br>Year=%{x}<br>Rating=%{y}<extra></extra>",
         "legendgroup": "Animation",
         "line": {
          "color": "#B6E880",
          "dash": "solid"
         },
         "marker": {
          "symbol": "circle"
         },
         "mode": "lines",
         "name": "Animation",
         "showlegend": true,
         "type": "scattergl",
         "x": {
          "bdata": "1QfXB9oH3QffB+AH4QfkBw==",
          "dtype": "i2"
         },
         "xaxis": "x",
         "y": {
          "bdata": "ZmZmZmZmHkBmZmZmZmYSQGZmZmZmZhpAzczMzMzMGEDNzMzMzMwQQBERERERER1AMzMzMzMzFEAAAAAAAAAaQA==",
          "dtype": "f8"
         },
         "yaxis": "y"
        },
        {
         "hovertemplate": "Genre=Animation, Drama, History<br>Year=%{x}<br>Rating=%{y}<extra></extra>",
         "legendgroup": "Animation, Drama, History",
         "line": {
          "color": "#FF97FF",
          "dash": "solid"
         },
         "marker": {
          "symbol": "circle"
         },
         "mode": "lines",
         "name": "Animation, Drama, History",
         "showlegend": true,
         "type": "scattergl",
         "x": {
          "bdata": "1Qc=",
          "dtype": "i2"
         },
         "xaxis": "x",
         "y": {
          "bdata": "ZmZmZmZmGEA=",
          "dtype": "f8"
         },
         "yaxis": "y"
        },
        {
         "hovertemplate": "Genre=Comedy, Crime, Thriller<br>Year=%{x}<br>Rating=%{y}<extra></extra>",
         "legendgroup": "Comedy, Crime, Thriller",
         "line": {
          "color": "#FECB52",
          "dash": "solid"
         },
         "marker": {
          "symbol": "circle"
         },
         "mode": "lines",
         "name": "Comedy, Crime, Thriller",
         "showlegend": true,
         "type": "scattergl",
         "x": {
          "bdata": "1QfYB9sH3Qc=",
          "dtype": "i2"
         },
         "xaxis": "x",
         "y": {
          "bdata": "zczMzMzMFkBmZmZmZmYcQM3MzMzMzBRAMzMzMzMzF0A=",
          "dtype": "f8"
         },
         "yaxis": "y"
        },
        {
         "hovertemplate": "Genre=Action, Crime, Sci-Fi<br>Year=%{x}<br>Rating=%{y}<extra></extra>",
         "legendgroup": "Action, Crime, Sci-Fi",
         "line": {
          "color": "#636efa",
          "dash": "solid"
         },
         "marker": {
          "symbol": "circle"
         },
         "mode": "lines",
         "name": "Action, Crime, Sci-Fi",
         "showlegend": true,
         "type": "scattergl",
         "x": {
          "bdata": "1gc=",
          "dtype": "i2"
         },
         "xaxis": "x",
         "y": {
          "bdata": "mpmZmZmZBUA=",
          "dtype": "f8"
         },
         "yaxis": "y"
        },
        {
         "hovertemplate": "Genre=Adventure, Drama, Music<br>Year=%{x}<br>Rating=%{y}<extra></extra>",
         "legendgroup": "Adventure, Drama, Music",
         "line": {
          "color": "#EF553B",
          "dash": "solid"
         },
         "marker": {
          "symbol": "circle"
         },
         "mode": "lines",
         "name": "Adventure, Drama, Music",
         "showlegend": true,
         "type": "scattergl",
         "x": {
          "bdata": "1gfaBw==",
          "dtype": "i2"
         },
         "xaxis": "x",
         "y": {
          "bdata": "zczMzMzMGkBmZmZmZmYQQA==",
          "dtype": "f8"
         },
         "yaxis": "y"
        },
        {
         "hovertemplate": "Genre=Animation, Adventure, Family<br>Year=%{x}<br>Rating=%{y}<extra></extra>",
         "legendgroup": "Animation, Adventure, Family",
         "line": {
          "color": "#00cc96",
          "dash": "solid"
         },
         "marker": {
          "symbol": "circle"
         },
         "mode": "lines",
         "name": "Animation, Adventure, Family",
         "showlegend": true,
         "type": "scattergl",
         "x": {
          "bdata": "1gfaB94H",
          "dtype": "i2"
         },
         "xaxis": "x",
         "y": {
          "bdata": "mpmZmZmZF0CamZmZmZkXQGZmZmZmZhBA",
          "dtype": "f8"
         },
         "yaxis": "y"
        },
        {
         "hovertemplate": "Genre=Biography, Drama, Romance<br>Year=%{x}<br>Rating=%{y}<extra></extra>",
         "legendgroup": "Biography, Drama, Romance",
         "line": {
          "color": "#ab63fa",
          "dash": "solid"
         },
         "marker": {
          "symbol": "circle"
         },
         "mode": "lines",
         "name": "Biography, Drama, Romance",
         "showlegend": true,
         "type": "scattergl",
         "x": {
          "bdata": "1gfYBw==",
          "dtype": "i2"
         },
         "xaxis": "x",
         "y": {
          "bdata": "AAAAAAAAFUAAAAAAAAAcQA==",
          "dtype": "f8"
         },
         "yaxis": "y"
        },
        {
         "hovertemplate": "Genre=Comedy, Mystery, Thriller<br>Year=%{x}<br>Rating=%{y}<extra></extra>",
         "legendgroup": "Comedy, Mystery, Thriller",
         "line": {
          "color": "#FFA15A",
          "dash": "solid"
         },
         "marker": {
          "symbol": "circle"
         },
         "mode": "lines",
         "name": "Comedy, Mystery, Thriller",
         "showlegend": true,
         "type": "scattergl",
         "x": {
          "bdata": "1gc=",
          "dtype": "i2"
         },
         "xaxis": "x",
         "y": {
          "bdata": "zczMzMzMFkA=",
          "dtype": "f8"
         },
         "yaxis": "y"
        },
        {
         "hovertemplate": "Genre=Action, Crime, History<br>Year=%{x}<br>Rating=%{y}<extra></extra>",
         "legendgroup": "Action, Crime, History",
         "line": {
          "color": "#19d3f3",
          "dash": "solid"
         },
         "marker": {
          "symbol": "circle"
         },
         "mode": "lines",
         "name": "Action, Crime, History",
         "showlegend": true,
         "type": "scattergl",
         "x": {
          "bdata": "1wc=",
          "dtype": "i2"
         },
         "xaxis": "x",
         "y": {
          "bdata": "ZmZmZmZmHEA=",
          "dtype": "f8"
         },
         "yaxis": "y"
        },
        {
         "hovertemplate": "Genre=Animation, Comedy, Drama<br>Year=%{x}<br>Rating=%{y}<extra></extra>",
         "legendgroup": "Animation, Comedy, Drama",
         "line": {
          "color": "#FF6692",
          "dash": "solid"
         },
         "marker": {
          "symbol": "circle"
         },
         "mode": "lines",
         "name": "Animation, Comedy, Drama",
         "showlegend": true,
         "type": "scattergl",
         "x": {
          "bdata": "1wfdBw==",
          "dtype": "i2"
         },
         "xaxis": "x",
         "y": {
          "bdata": "MzMzMzMzE0AAAAAAAAAcQA==",
          "dtype": "f8"
         },
         "yaxis": "y"
        },
        {
         "hovertemplate": "Genre=Comedy, Music<br>Year=%{x}<br>Rating=%{y}<extra></extra>",
         "legendgroup": "Comedy, Music",
         "line": {
          "color": "#B6E880",
          "dash": "solid"
         },
         "marker": {
          "symbol": "circle"
         },
         "mode": "lines",
         "name": "Comedy, Music",
         "showlegend": true,
         "type": "scattergl",
         "x": {
          "bdata": "1wc=",
          "dtype": "i2"
         },
         "xaxis": "x",
         "y": {
          "bdata": "AAAAAAAAHEA=",
          "dtype": "f8"
         },
         "yaxis": "y"
        },
        {
         "hovertemplate": "Genre=Drama, Family, History<br>Year=%{x}<br>Rating=%{y}<extra></extra>",
         "legendgroup": "Drama, Family, History",
         "line": {
          "color": "#FF97FF",
          "dash": "solid"
         },
         "marker": {
          "symbol": "circle"
         },
         "mode": "lines",
         "name": "Drama, Family, History",
         "showlegend": true,
         "type": "scattergl",
         "x": {
          "bdata": "1wfcBw==",
          "dtype": "i2"
         },
         "xaxis": "x",
         "y": {
          "bdata": "MzMzMzMzEUCamZmZmZkfQA==",
          "dtype": "f8"
         },
         "yaxis": "y"
        },
        {
         "hovertemplate": "Genre=Drama, Family, Sport<br>Year=%{x}<br>Rating=%{y}<extra></extra>",
         "legendgroup": "Drama, Family, Sport",
         "line": {
          "color": "#FECB52",
          "dash": "solid"
         },
         "marker": {
          "symbol": "circle"
         },
         "mode": "lines",
         "name": "Drama, Family, Sport",
         "showlegend": true,
         "type": "scattergl",
         "x": {
          "bdata": "1wfeB+UH",
          "dtype": "i2"
         },
         "xaxis": "x",
         "y": {
          "bdata": "ZmZmZmZmIECamZmZmZkdQGZmZmZmZhpA",
          "dtype": "f8"
         },
         "yaxis": "y"
        },
        {
         "hovertemplate": "Genre=Drama, Fantasy, History<br>Year=%{x}<br>Rating=%{y}<extra></extra>",
         "legendgroup": "Drama, Fantasy, History",
         "line": {
          "color": "#636efa",
          "dash": "solid"
         },
         "marker": {
          "symbol": "circle"
         },
         "mode": "lines",
         "name": "Drama, Fantasy, History",
         "showlegend": true,
         "type": "scattergl",
         "x": {
          "bdata": "1wc=",
          "dtype": "i2"
         },
         "xaxis": "x",
         "y": {
          "bdata": "mpmZmZmZH0A=",
          "dtype": "f8"
         },
         "yaxis": "y"
        },
        {
         "hovertemplate": "Genre=Action, Horror, Thriller<br>Year=%{x}<br>Rating=%{y}<extra></extra>",
         "legendgroup": "Action, Horror, Thriller",
         "line": {
          "color": "#EF553B",
          "dash": "solid"
         },
         "marker": {
          "symbol": "circle"
         },
         "mode": "lines",
         "name": "Action, Horror, Thriller",
         "showlegend": true,
         "type": "scattergl",
         "x": {
          "bdata": "2Ac=",
          "dtype": "i2"
         },
         "xaxis": "x",
         "y": {
          "bdata": "MzMzMzMzEUA=",
          "dtype": "f8"
         },
         "yaxis": "y"
        },
        {
         "hovertemplate": "Genre=Animation, Action, Drama<br>Year=%{x}<br>Rating=%{y}<extra></extra>",
         "legendgroup": "Animation, Action, Drama",
         "line": {
          "color": "#00cc96",
          "dash": "solid"
         },
         "marker": {
          "symbol": "circle"
         },
         "mode": "lines",
         "name": "Animation, Action, Drama",
         "showlegend": true,
         "type": "scattergl",
         "x": {
          "bdata": "2Ac=",
          "dtype": "i2"
         },
         "xaxis": "x",
         "y": {
          "bdata": "zczMzMzMHEA=",
          "dtype": "f8"
         },
         "yaxis": "y"
        },
        {
         "hovertemplate": "Genre=Animation, Adventure, Comedy<br>Year=%{x}<br>Rating=%{y}<extra></extra>",
         "legendgroup": "Animation, Adventure, Comedy",
         "line": {
          "color": "#ab63fa",
          "dash": "solid"
         },
         "marker": {
          "symbol": "circle"
         },
         "mode": "lines",
         "name": "Animation, Adventure, Comedy",
         "showlegend": true,
         "type": "scattergl",
         "x": {
          "bdata": "2AfcBw==",
          "dtype": "i2"
         },
         "xaxis": "x",
         "y": {
          "bdata": "zczMzMzMFEBmZmZmZmYWQA==",
          "dtype": "f8"
         },
         "yaxis": "y"
        },
        {
         "hovertemplate": "Genre=Animation, Adventure, Fantasy<br>Year=%{x}<br>Rating=%{y}<extra></extra>",
         "legendgroup": "Animation, Adventure, Fantasy",
         "line": {
          "color": "#FFA15A",
          "dash": "solid"
         },
         "marker": {
          "symbol": "circle"
         },
         "mode": "lines",
         "name": "Animation, Adventure, Fantasy",
         "showlegend": true,
         "type": "scattergl",
         "x": {
          "bdata": "2AfcB90H",
          "dtype": "i2"
         },
         "xaxis": "x",
         "y": {
          "bdata": "ZmZmZmZmDkDNzMzMzMwWQAAAAAAAABpA",
          "dtype": "f8"
         },
         "yaxis": "y"
        },
        {
         "hovertemplate": "Genre=Animation, Family<br>Year=%{x}<br>Rating=%{y}<extra></extra>",
         "legendgroup": "Animation, Family",
         "line": {
          "color": "#19d3f3",
          "dash": "solid"
         },
         "marker": {
          "symbol": "circle"
         },
         "mode": "lines",
         "name": "Animation, Family",
         "showlegend": true,
         "type": "scattergl",
         "x": {
          "bdata": "2AfhBw==",
          "dtype": "i2"
         },
         "xaxis": "x",
         "y": {
          "bdata": "mpmZmZkZFkCamZmZmZkVQA==",
          "dtype": "f8"
         },
         "yaxis": "y"
        },
        {
         "hovertemplate": "Genre=Comedy, Horror, Musical<br>Year=%{x}<br>Rating=%{y}<extra></extra>",
         "legendgroup": "Comedy, Horror, Musical",
         "line": {
          "color": "#FF6692",
          "dash": "solid"
         },
         "marker": {
          "symbol": "circle"
         },
         "mode": "lines",
         "name": "Comedy, Horror, Musical",
         "showlegend": true,
         "type": "scattergl",
         "x": {
          "bdata": "2Ac=",
          "dtype": "i2"
         },
         "xaxis": "x",
         "y": {
          "bdata": "mpmZmZmZBUA=",
          "dtype": "f8"
         },
         "yaxis": "y"
        },
        {
         "hovertemplate": "Genre=Documentary, Music<br>Year=%{x}<br>Rating=%{y}<extra></extra>",
         "legendgroup": "Documentary, Music",
         "line": {
          "color": "#B6E880",
          "dash": "solid"
         },
         "marker": {
          "symbol": "circle"
         },
         "mode": "lines",
         "name": "Documentary, Music",
         "showlegend": true,
         "type": "scattergl",
         "x": {
          "bdata": "2Ac=",
          "dtype": "i2"
         },
         "xaxis": "x",
         "y": {
          "bdata": "zczMzMzMIUA=",
          "dtype": "f8"
         },
         "yaxis": "y"
        },
        {
         "hovertemplate": "Genre=Drama, History, Thriller<br>Year=%{x}<br>Rating=%{y}<extra></extra>",
         "legendgroup": "Drama, History, Thriller",
         "line": {
          "color": "#FF97FF",
          "dash": "solid"
         },
         "marker": {
          "symbol": "circle"
         },
         "mode": "lines",
         "name": "Drama, History, Thriller",
         "showlegend": true,
         "type": "scattergl",
         "x": {
          "bdata": "2Ac=",
          "dtype": "i2"
         },
         "xaxis": "x",
         "y": {
          "bdata": "mpmZmZmZHUA=",
          "dtype": "f8"
         },
         "yaxis": "y"
        },
        {
         "hovertemplate": "Genre=Horror, Mystery, Romance<br>Year=%{x}<br>Rating=%{y}<extra></extra>",
         "legendgroup": "Horror, Mystery, Romance",
         "line": {
          "color": "#FECB52",
          "dash": "solid"
         },
         "marker": {
          "symbol": "circle"
         },
         "mode": "lines",
         "name": "Horror, Mystery, Romance",
         "showlegend": true,
         "type": "scattergl",
         "x": {
          "bdata": "2AfZB90H4AfiBw==",
          "dtype": "i2"
         },
         "xaxis": "x",
         "y": {
          "bdata": "mpmZmZmZGUBmZmZmZmYWQGZmZmZmZhZAmpmZmZmZEUAAAAAAAAASQA==",
          "dtype": "f8"
         },
         "yaxis": "y"
        },
        {
         "hovertemplate": "Genre=Action, Adventure, Mystery<br>Year=%{x}<br>Rating=%{y}<extra></extra>",
         "legendgroup": "Action, Adventure, Mystery",
         "line": {
          "color": "#636efa",
          "dash": "solid"
         },
         "marker": {
          "symbol": "circle"
         },
         "mode": "lines",
         "name": "Action, Adventure, Mystery",
         "showlegend": true,
         "type": "scattergl",
         "x": {
          "bdata": "2Qc=",
          "dtype": "i2"
         },
         "xaxis": "x",
         "y": {
          "bdata": "mpmZmZmZDUA=",
          "dtype": "f8"
         },
         "yaxis": "y"
        },
        {
         "hovertemplate": "Genre=Action, Crime, Fantasy<br>Year=%{x}<br>Rating=%{y}<extra></extra>",
         "legendgroup": "Action, Crime, Fantasy",
         "line": {
          "color": "#EF553B",
          "dash": "solid"
         },
         "marker": {
          "symbol": "circle"
         },
         "mode": "lines",
         "name": "Action, Crime, Fantasy",
         "showlegend": true,
         "type": "scattergl",
         "x": {
          "bdata": "2Qc=",
          "dtype": "i2"
         },
         "xaxis": "x",
         "y": {
          "bdata": "mpmZmZmZDUA=",
          "dtype": "f8"
         },
         "yaxis": "y"
        },
        {
         "hovertemplate": "Genre=Action, Fantasy, Mystery<br>Year=%{x}<br>Rating=%{y}<extra></extra>",
         "legendgroup": "Action, Fantasy, Mystery",
         "line": {
          "color": "#00cc96",
          "dash": "solid"
         },
         "marker": {
          "symbol": "circle"
         },
         "mode": "lines",
         "name": "Action, Fantasy, Mystery",
         "showlegend": true,
         "type": "scattergl",
         "x": {
          "bdata": "2Qc=",
          "dtype": "i2"
         },
         "xaxis": "x",
         "y": {
          "bdata": "mpmZmZmZFUA=",
          "dtype": "f8"
         },
         "yaxis": "y"
        },
        {
         "hovertemplate": "Genre=Action, Sci-Fi, Thriller<br>Year=%{x}<br>Rating=%{y}<extra></extra>",
         "legendgroup": "Action, Sci-Fi, Thriller",
         "line": {
          "color": "#ab63fa",
          "dash": "solid"
         },
         "marker": {
          "symbol": "circle"
         },
         "mode": "lines",
         "name": "Action, Sci-Fi, Thriller",
         "showlegend": true,
         "type": "scattergl",
         "x": {
          "bdata": "2QfaBw==",
          "dtype": "i2"
         },
         "xaxis": "x",
         "y": {
          "bdata": "AAAAAAAAFEDNzMzMzMwQQA==",
          "dtype": "f8"
         },
         "yaxis": "y"
        },
        {
         "hovertemplate": "Genre=Animation, Adventure, Drama<br>Year=%{x}<br>Rating=%{y}<extra></extra>",
         "legendgroup": "Animation, Adventure, Drama",
         "line": {
          "color": "#FFA15A",
          "dash": "solid"
         },
         "marker": {
          "symbol": "circle"
         },
         "mode": "lines",
         "name": "Animation, Adventure, Drama",
         "showlegend": true,
         "type": "scattergl",
         "x": {
          "bdata": "2Qc=",
          "dtype": "i2"
         },
         "xaxis": "x",
         "y": {
          "bdata": "mpmZmZmZH0A=",
          "dtype": "f8"
         },
         "yaxis": "y"
        },
        {
         "hovertemplate": "Genre=Animation, Family, History<br>Year=%{x}<br>Rating=%{y}<extra></extra>",
         "legendgroup": "Animation, Family, History",
         "line": {
          "color": "#19d3f3",
          "dash": "solid"
         },
         "marker": {
          "symbol": "circle"
         },
         "mode": "lines",
         "name": "Animation, Family, History",
         "showlegend": true,
         "type": "scattergl",
         "x": {
          "bdata": "2Qc=",
          "dtype": "i2"
         },
         "xaxis": "x",
         "y": {
          "bdata": "AAAAAAAAFkA=",
          "dtype": "f8"
         },
         "yaxis": "y"
        },
        {
         "hovertemplate": "Genre=Crime, Drama, Sport<br>Year=%{x}<br>Rating=%{y}<extra></extra>",
         "legendgroup": "Crime, Drama, Sport",
         "line": {
          "color": "#FF6692",
          "dash": "solid"
         },
         "marker": {
          "symbol": "circle"
         },
         "mode": "lines",
         "name": "Crime, Drama, Sport",
         "showlegend": true,
         "type": "scattergl",
         "x": {
          "bdata": "2Qc=",
          "dtype": "i2"
         },
         "xaxis": "x",
         "y": {
          "bdata": "AAAAAAAADEA=",
          "dtype": "f8"
         },
         "yaxis": "y"
        },
        {
         "hovertemplate": "Genre=Drama, Music, Musical<br>Year=%{x}<br>Rating=%{y}<extra></extra>",
         "legendgroup": "Drama, Music, Musical",
         "line": {
          "color": "#B6E880",
          "dash": "solid"
         },
         "marker": {
          "symbol": "circle"
         },
         "mode": "lines",
         "name": "Drama, Music, Musical",
         "showlegend": true,
         "type": "scattergl",
         "x": {
          "bdata": "2QfdB+AH",
          "dtype": "i2"
         },
         "xaxis": "x",
         "y": {
          "bdata": "ZmZmZmZmGkAAAAAAAAAcQDMzMzMzMxdA",
          "dtype": "f8"
         },
         "yaxis": "y"
        },
        {
         "hovertemplate": "Genre=Action, Biography, Crime<br>Year=%{x}<br>Rating=%{y}<extra></extra>",
         "legendgroup": "Action, Biography, Crime",
         "line": {
          "color": "#FF97FF",
          "dash": "solid"
         },
         "marker": {
          "symbol": "circle"
         },
         "mode": "lines",
         "name": "Action, Biography, Crime",
         "showlegend": true,
         "type": "scattergl",
         "x": {
          "bdata": "2gfcB90H3wfgB+EH",
          "dtype": "i2"
         },
         "xaxis": "x",
         "y": {
          "bdata": "MzMzMzMzHEBmZmZmZmYgQJqZmZmZmRdAMzMzMzMzGUAzMzMzMzMVQDQzMzMzMxtA",
          "dtype": "f8"
         },
         "yaxis": "y"
        },
        {
         "hovertemplate": "Genre=Adventure, Horror, Romance<br>Year=%{x}<br>Rating=%{y}<extra></extra>",
         "legendgroup": "Adventure, Horror, Romance",
         "line": {
          "color": "#FECB52",
          "dash": "solid"
         },
         "marker": {
          "symbol": "circle"
         },
         "mode": "lines",
         "name": "Adventure, Horror, Romance",
         "showlegend": true,
         "type": "scattergl",
         "x": {
          "bdata": "2gc=",
          "dtype": "i2"
         },
         "xaxis": "x",
         "y": {
          "bdata": "mpmZmZmZFUA=",
          "dtype": "f8"
         },
         "yaxis": "y"
        },
        {
         "hovertemplate": "Genre=Animation, Action, Adventure<br>Year=%{x}<br>Rating=%{y}<extra></extra>",
         "legendgroup": "Animation, Action, Adventure",
         "line": {
          "color": "#636efa",
          "dash": "solid"
         },
         "marker": {
          "symbol": "circle"
         },
         "mode": "lines",
         "name": "Animation, Action, Adventure",
         "showlegend": true,
         "type": "scattergl",
         "x": {
          "bdata": "2gfcB90H4wc=",
          "dtype": "i2"
         },
         "xaxis": "x",
         "y": {
          "bdata": "AAAAAAAAFECamZmZmZkaQDMzMzMzMxVAAAAAAAAAGEA=",
          "dtype": "f8"
         },
         "yaxis": "y"
        },
        {
         "hovertemplate": "Genre=Animation, Action, Comedy<br>Year=%{x}<br>Rating=%{y}<extra></extra>",
         "legendgroup": "Animation, Action, Comedy",
         "line": {
          "color": "#EF553B",
          "dash": "solid"
         },
         "marker": {
          "symbol": "circle"
         },
         "mode": "lines",
         "name": "Animation, Action, Comedy",
         "showlegend": true,
         "type": "scattergl",
         "x": {
          "bdata": "2gfkBw==",
          "dtype": "i2"
         },
         "xaxis": "x",
         "y": {
          "bdata": "mpmZmZmZEUDNzMzMzMweQA==",
          "dtype": "f8"
         },
         "yaxis": "y"
        },
        {
         "hovertemplate": "Genre=Comedy, Horror, Romance<br>Year=%{x}<br>Rating=%{y}<extra></extra>",
         "legendgroup": "Comedy, Horror, Romance",
         "line": {
          "color": "#00cc96",
          "dash": "solid"
         },
         "marker": {
          "symbol": "circle"
         },
         "mode": "lines",
         "name": "Comedy, Horror, Romance",
         "showlegend": true,
         "type": "scattergl",
         "x": {
          "bdata": "2gc=",
          "dtype": "i2"
         },
         "xaxis": "x",
         "y": {
          "bdata": "zczMzMzMEEA=",
          "dtype": "f8"
         },
         "yaxis": "y"
        },
        {
         "hovertemplate": "Genre=Comedy, Romance, Sci-Fi<br>Year=%{x}<br>Rating=%{y}<extra></extra>",
         "legendgroup": "Comedy, Romance, Sci-Fi",
         "line": {
          "color": "#ab63fa",
          "dash": "solid"
         },
         "marker": {
          "symbol": "circle"
         },
         "mode": "lines",
         "name": "Comedy, Romance, Sci-Fi",
         "showlegend": true,
         "type": "scattergl",
         "x": {
          "bdata": "2gc=",
          "dtype": "i2"
         },
         "xaxis": "x",
         "y": {
          "bdata": "zczMzMzMEEA=",
          "dtype": "f8"
         },
         "yaxis": "y"
        },
        {
         "hovertemplate": "Genre=Drama, Family, Thriller<br>Year=%{x}<br>Rating=%{y}<extra></extra>",
         "legendgroup": "Drama, Family, Thriller",
         "line": {
          "color": "#FFA15A",
          "dash": "solid"
         },
         "marker": {
          "symbol": "circle"
         },
         "mode": "lines",
         "name": "Drama, Family, Thriller",
         "showlegend": true,
         "type": "scattergl",
         "x": {
          "bdata": "2gfgBw==",
          "dtype": "i2"
         },
         "xaxis": "x",
         "y": {
          "bdata": "ZmZmZmZmGEDNzMzMzMwaQA==",
          "dtype": "f8"
         },
         "yaxis": "y"
        },
        {
         "hovertemplate": "Genre=Drama, Fantasy, Horror<br>Year=%{x}<br>Rating=%{y}<extra></extra>",
         "legendgroup": "Drama, Fantasy, Horror",
         "line": {
          "color": "#19d3f3",
          "dash": "solid"
         },
         "marker": {
          "symbol": "circle"
         },
         "mode": "lines",
         "name": "Drama, Fantasy, Horror",
         "showlegend": true,
         "type": "scattergl",
         "x": {
          "bdata": "2gfiB+QH",
          "dtype": "i2"
         },
         "xaxis": "x",
         "y": {
          "bdata": "mpmZmZmZDUCamZmZmZkgQAAAAAAAABpA",
          "dtype": "f8"
         },
         "yaxis": "y"
        },
        {
         "hovertemplate": "Genre=Drama, Mystery, Sci-Fi<br>Year=%{x}<br>Rating=%{y}<extra></extra>",
         "legendgroup": "Drama, Mystery, Sci-Fi",
         "line": {
          "color": "#FF6692",
          "dash": "solid"
         },
         "marker": {
          "symbol": "circle"
         },
         "mode": "lines",
         "name": "Drama, Mystery, Sci-Fi",
         "showlegend": true,
         "type": "scattergl",
         "x": {
          "bdata": "2gc=",
          "dtype": "i2"
         },
         "xaxis": "x",
         "y": {
          "bdata": "zczMzMzMFkA=",
          "dtype": "f8"
         },
         "yaxis": "y"
        },
        {
         "hovertemplate": "Genre=Action, Fantasy, Horror<br>Year=%{x}<br>Rating=%{y}<extra></extra>",
         "legendgroup": "Action, Fantasy, Horror",
         "line": {
          "color": "#B6E880",
          "dash": "solid"
         },
         "marker": {
          "symbol": "circle"
         },
         "mode": "lines",
         "name": "Action, Fantasy, Horror",
         "showlegend": true,
         "type": "scattergl",
         "x": {
          "bdata": "2wc=",
          "dtype": "i2"
         },
         "xaxis": "x",
         "y": {
          "bdata": "MzMzMzMzGUA=",
          "dtype": "f8"
         },
         "yaxis": "y"
        },
        {
         "hovertemplate": "Genre=Adventure, Drama, Sci-Fi<br>Year=%{x}<br>Rating=%{y}<extra></extra>",
         "legendgroup": "Adventure, Drama, Sci-Fi",
         "line": {
          "color": "#FF97FF",
          "dash": "solid"
         },
         "marker": {
          "symbol": "circle"
         },
         "mode": "lines",
         "name": "Adventure, Drama, Sci-Fi",
         "showlegend": true,
         "type": "scattergl",
         "x": {
          "bdata": "2wc=",
          "dtype": "i2"
         },
         "xaxis": "x",
         "y": {
          "bdata": "ZmZmZmZmCkA=",
          "dtype": "f8"
         },
         "yaxis": "y"
        },
        {
         "hovertemplate": "Genre=Biography, Comedy, Drama<br>Year=%{x}<br>Rating=%{y}<extra></extra>",
         "legendgroup": "Biography, Comedy, Drama",
         "line": {
          "color": "#FECB52",
          "dash": "solid"
         },
         "marker": {
          "symbol": "circle"
         },
         "mode": "lines",
         "name": "Biography, Comedy, Drama",
         "showlegend": true,
         "type": "scattergl",
         "x": {
          "bdata": "2wfeB+IH4wflBw==",
          "dtype": "i2"
         },
         "xaxis": "x",
         "y": {
          "bdata": "ZmZmZmZmGkAzMzMzMzMdQM3MzMzMzB5AAAAAAAAAHEBmZmZmZmYeQA==",
          "dtype": "f8"
         },
         "yaxis": "y"
        },
        {
         "hovertemplate": "Genre=Biography, Drama, Thriller<br>Year=%{x}<br>Rating=%{y}<extra></extra>",
         "legendgroup": "Biography, Drama, Thriller",
         "line": {
          "color": "#636efa",
          "dash": "solid"
         },
         "marker": {
          "symbol": "circle"
         },
         "mode": "lines",
         "name": "Biography, Drama, Thriller",
         "showlegend": true,
         "type": "scattergl",
         "x": {
          "bdata": "2wfgBw==",
          "dtype": "i2"
         },
         "xaxis": "x",
         "y": {
          "bdata": "AAAAAAAAFkBmZmZmZmYeQA==",
          "dtype": "f8"
         },
         "yaxis": "y"
        },
        {
         "hovertemplate": "Genre=Documentary, History, News<br>Year=%{x}<br>Rating=%{y}<extra></extra>",
         "legendgroup": "Documentary, History, News",
         "line": {
          "color": "#EF553B",
          "dash": "solid"
         },
         "marker": {
          "symbol": "circle"
         },
         "mode": "lines",
         "name": "Documentary, History, News",
         "showlegend": true,
         "type": "scattergl",
         "x": {
          "bdata": "2wc=",
          "dtype": "i2"
         },
         "xaxis": "x",
         "y": {
          "bdata": "AAAAAAAAIEA=",
          "dtype": "f8"
         },
         "yaxis": "y"
        },
        {
         "hovertemplate": "Genre=Drama, Sport, Thriller<br>Year=%{x}<br>Rating=%{y}<extra></extra>",
         "legendgroup": "Drama, Sport, Thriller",
         "line": {
          "color": "#00cc96",
          "dash": "solid"
         },
         "marker": {
          "symbol": "circle"
         },
         "mode": "lines",
         "name": "Drama, Sport, Thriller",
         "showlegend": true,
         "type": "scattergl",
         "x": {
          "bdata": "2wc=",
          "dtype": "i2"
         },
         "xaxis": "x",
         "y": {
          "bdata": "MzMzMzMzGUA=",
          "dtype": "f8"
         },
         "yaxis": "y"
        },
        {
         "hovertemplate": "Genre=Action, War<br>Year=%{x}<br>Rating=%{y}<extra></extra>",
         "legendgroup": "Action, War",
         "line": {
          "color": "#ab63fa",
          "dash": "solid"
         },
         "marker": {
          "symbol": "circle"
         },
         "mode": "lines",
         "name": "Action, War",
         "showlegend": true,
         "type": "scattergl",
         "x": {
          "bdata": "3Ac=",
          "dtype": "i2"
         },
         "xaxis": "x",
         "y": {
          "bdata": "AAAAAAAAFEA=",
          "dtype": "f8"
         },
         "yaxis": "y"
        },
        {
         "hovertemplate": "Genre=Adventure, Horror<br>Year=%{x}<br>Rating=%{y}<extra></extra>",
         "legendgroup": "Adventure, Horror",
         "line": {
          "color": "#FFA15A",
          "dash": "solid"
         },
         "marker": {
          "symbol": "circle"
         },
         "mode": "lines",
         "name": "Adventure, Horror",
         "showlegend": true,
         "type": "scattergl",
         "x": {
          "bdata": "3Ac=",
          "dtype": "i2"
         },
         "xaxis": "x",
         "y": {
          "bdata": "mpmZmZmZE0A=",
          "dtype": "f8"
         },
         "yaxis": "y"
        },
        {
         "hovertemplate": "Genre=Animation, Drama, Musical<br>Year=%{x}<br>Rating=%{y}<extra></extra>",
         "legendgroup": "Animation, Drama, Musical",
         "line": {
          "color": "#19d3f3",
          "dash": "solid"
         },
         "marker": {
          "symbol": "circle"
         },
         "mode": "lines",
         "name": "Animation, Drama, Musical",
         "showlegend": true,
         "type": "scattergl",
         "x": {
          "bdata": "3Ac=",
          "dtype": "i2"
         },
         "xaxis": "x",
         "y": {
          "bdata": "zczMzMzMGkA=",
          "dtype": "f8"
         },
         "yaxis": "y"
        },
        {
         "hovertemplate": "Genre=Comedy, Family, Sci-Fi<br>Year=%{x}<br>Rating=%{y}<extra></extra>",
         "legendgroup": "Comedy, Family, Sci-Fi",
         "line": {
          "color": "#FF6692",
          "dash": "solid"
         },
         "marker": {
          "symbol": "circle"
         },
         "mode": "lines",
         "name": "Comedy, Family, Sci-Fi",
         "showlegend": true,
         "type": "scattergl",
         "x": {
          "bdata": "3Ac=",
          "dtype": "i2"
         },
         "xaxis": "x",
         "y": {
          "bdata": "MzMzMzMzA0A=",
          "dtype": "f8"
         },
         "yaxis": "y"
        },
        {
         "hovertemplate": "Genre=Documentary, History<br>Year=%{x}<br>Rating=%{y}<extra></extra>",
         "legendgroup": "Documentary, History",
         "line": {
          "color": "#B6E880",
          "dash": "solid"
         },
         "marker": {
          "symbol": "circle"
         },
         "mode": "lines",
         "name": "Documentary, History",
         "showlegend": true,
         "type": "scattergl",
         "x": {
          "bdata": "3AfdB94H5Qc=",
          "dtype": "i2"
         },
         "xaxis": "x",
         "y": {
          "bdata": "zczMzMzMGkDNzMzMzMweQDMzMzMzMyBAmpmZmZmZIkA=",
          "dtype": "f8"
         },
         "yaxis": "y"
        },
        {
         "hovertemplate": "Genre=Drama, Family, Mystery<br>Year=%{x}<br>Rating=%{y}<extra></extra>",
         "legendgroup": "Drama, Family, Mystery",
         "line": {
          "color": "#FF97FF",
          "dash": "solid"
         },
         "marker": {
          "symbol": "circle"
         },
         "mode": "lines",
         "name": "Drama, Family, Mystery",
         "showlegend": true,
         "type": "scattergl",
         "x": {
          "bdata": "3Ac=",
          "dtype": "i2"
         },
         "xaxis": "x",
         "y": {
          "bdata": "ZmZmZmZmHEA=",
          "dtype": "f8"
         },
         "yaxis": "y"
        },
        {
         "hovertemplate": "Genre=Fantasy, Mystery, Romance<br>Year=%{x}<br>Rating=%{y}<extra></extra>",
         "legendgroup": "Fantasy, Mystery, Romance",
         "line": {
          "color": "#FECB52",
          "dash": "solid"
         },
         "marker": {
          "symbol": "circle"
         },
         "mode": "lines",
         "name": "Fantasy, Mystery, Romance",
         "showlegend": true,
         "type": "scattergl",
         "x": {
          "bdata": "3Ac=",
          "dtype": "i2"
         },
         "xaxis": "x",
         "y": {
          "bdata": "MzMzMzMzD0A=",
          "dtype": "f8"
         },
         "yaxis": "y"
        },
        {
         "hovertemplate": "Genre=Horror, Romance, Sci-Fi<br>Year=%{x}<br>Rating=%{y}<extra></extra>",
         "legendgroup": "Horror, Romance, Sci-Fi",
         "line": {
          "color": "#636efa",
          "dash": "solid"
         },
         "marker": {
          "symbol": "circle"
         },
         "mode": "lines",
         "name": "Horror, Romance, Sci-Fi",
         "showlegend": true,
         "type": "scattergl",
         "x": {
          "bdata": "3Ac=",
          "dtype": "i2"
         },
         "xaxis": "x",
         "y": {
          "bdata": "ZmZmZmZmCkA=",
          "dtype": "f8"
         },
         "yaxis": "y"
        },
        {
         "hovertemplate": "Genre=Music<br>Year=%{x}<br>Rating=%{y}<extra></extra>",
         "legendgroup": "Music",
         "line": {
          "color": "#EF553B",
          "dash": "solid"
         },
         "marker": {
          "symbol": "circle"
         },
         "mode": "lines",
         "name": "Music",
         "showlegend": true,
         "type": "scattergl",
         "x": {
          "bdata": "3Ac=",
          "dtype": "i2"
         },
         "xaxis": "x",
         "y": {
          "bdata": "mpmZmZmZF0A=",
          "dtype": "f8"
         },
         "yaxis": "y"
        },
        {
         "hovertemplate": "Genre=Action, Romance, Western<br>Year=%{x}<br>Rating=%{y}<extra></extra>",
         "legendgroup": "Action, Romance, Western",
         "line": {
          "color": "#00cc96",
          "dash": "solid"
         },
         "marker": {
          "symbol": "circle"
         },
         "mode": "lines",
         "name": "Action, Romance, Western",
         "showlegend": true,
         "type": "scattergl",
         "x": {
          "bdata": "3Qc=",
          "dtype": "i2"
         },
         "xaxis": "x",
         "y": {
          "bdata": "MzMzMzMzE0A=",
          "dtype": "f8"
         },
         "yaxis": "y"
        },
        {
         "hovertemplate": "Genre=Animation, Family, Musical<br>Year=%{x}<br>Rating=%{y}<extra></extra>",
         "legendgroup": "Animation, Family, Musical",
         "line": {
          "color": "#ab63fa",
          "dash": "solid"
         },
         "marker": {
          "symbol": "circle"
         },
         "mode": "lines",
         "name": "Animation, Family, Musical",
         "showlegend": true,
         "type": "scattergl",
         "x": {
          "bdata": "3Qc=",
          "dtype": "i2"
         },
         "xaxis": "x",
         "y": {
          "bdata": "MzMzMzMzFUA=",
          "dtype": "f8"
         },
         "yaxis": "y"
        },
        {
         "hovertemplate": "Genre=Biography, Crime, Thriller<br>Year=%{x}<br>Rating=%{y}<extra></extra>",
         "legendgroup": "Biography, Crime, Thriller",
         "line": {
          "color": "#FFA15A",
          "dash": "solid"
         },
         "marker": {
          "symbol": "circle"
         },
         "mode": "lines",
         "name": "Biography, Crime, Thriller",
         "showlegend": true,
         "type": "scattergl",
         "x": {
          "bdata": "3Qc=",
          "dtype": "i2"
         },
         "xaxis": "x",
         "y": {
          "bdata": "mpmZmZmZG0A=",
          "dtype": "f8"
         },
         "yaxis": "y"
        },
        {
         "hovertemplate": "Genre=Biography, Drama, Sport<br>Year=%{x}<br>Rating=%{y}<extra></extra>",
         "legendgroup": "Biography, Drama, Sport",
         "line": {
          "color": "#19d3f3",
          "dash": "solid"
         },
         "marker": {
          "symbol": "circle"
         },
         "mode": "lines",
         "name": "Biography, Drama, Sport",
         "showlegend": true,
         "type": "scattergl",
         "x": {
          "bdata": "3QfgB+IH5Qc=",
          "dtype": "i2"
         },
         "xaxis": "x",
         "y": {
          "bdata": "ZmZmZmZmIEBEREREREQcQJqZmZmZmR1AzczMzMzMEEA=",
          "dtype": "f8"
         },
         "yaxis": "y"
        },
        {
         "hovertemplate": "Genre=Comedy, War<br>Year=%{x}<br>Rating=%{y}<extra></extra>",
         "legendgroup": "Comedy, War",
         "line": {
          "color": "#FF6692",
          "dash": "solid"
         },
         "marker": {
          "symbol": "circle"
         },
         "mode": "lines",
         "name": "Comedy, War",
         "showlegend": true,
         "type": "scattergl",
         "x": {
          "bdata": "3QffBw==",
          "dtype": "i2"
         },
         "xaxis": "x",
         "y": {
          "bdata": "mpmZmZmZFUDNzMzMzMwUQA==",
          "dtype": "f8"
         },
         "yaxis": "y"
        },
        {
         "hovertemplate": "Genre=Documentary, Biography, Drama<br>Year=%{x}<br>Rating=%{y}<extra></extra>",
         "legendgroup": "Documentary, Biography, Drama",
         "line": {
          "color": "#B6E880",
          "dash": "solid"
         },
         "marker": {
          "symbol": "circle"
         },
         "mode": "lines",
         "name": "Documentary, Biography, Drama",
         "showlegend": true,
         "type": "scattergl",
         "x": {
          "bdata": "3QfeBw==",
          "dtype": "i2"
         },
         "xaxis": "x",
         "y": {
          "bdata": "zMzMzMzMGkAzMzMzMzMbQA==",
          "dtype": "f8"
         },
         "yaxis": "y"
        },
        {
         "hovertemplate": "Genre=Drama, Fantasy, War<br>Year=%{x}<br>Rating=%{y}<extra></extra>",
         "legendgroup": "Drama, Fantasy, War",
         "line": {
          "color": "#FF97FF",
          "dash": "solid"
         },
         "marker": {
          "symbol": "circle"
         },
         "mode": "lines",
         "name": "Drama, Fantasy, War",
         "showlegend": true,
         "type": "scattergl",
         "x": {
          "bdata": "3Qc=",
          "dtype": "i2"
         },
         "xaxis": "x",
         "y": {
          "bdata": "MzMzMzMzG0A=",
          "dtype": "f8"
         },
         "yaxis": "y"
        },
        {
         "hovertemplate": "Genre=Horror, Sci-Fi, Thriller<br>Year=%{x}<br>Rating=%{y}<extra></extra>",
         "legendgroup": "Horror, Sci-Fi, Thriller",
         "line": {
          "color": "#FECB52",
          "dash": "solid"
         },
         "marker": {
          "symbol": "circle"
         },
         "mode": "lines",
         "name": "Horror, Sci-Fi, Thriller",
         "showlegend": true,
         "type": "scattergl",
         "x": {
          "bdata": "3Qc=",
          "dtype": "i2"
         },
         "xaxis": "x",
         "y": {
          "bdata": "zczMzMzMDEA=",
          "dtype": "f8"
         },
         "yaxis": "y"
        },
        {
         "hovertemplate": "Genre=Sci-Fi, Thriller<br>Year=%{x}<br>Rating=%{y}<extra></extra>",
         "legendgroup": "Sci-Fi, Thriller",
         "line": {
          "color": "#636efa",
          "dash": "solid"
         },
         "marker": {
          "symbol": "circle"
         },
         "mode": "lines",
         "name": "Sci-Fi, Thriller",
         "showlegend": true,
         "type": "scattergl",
         "x": {
          "bdata": "3Qc=",
          "dtype": "i2"
         },
         "xaxis": "x",
         "y": {
          "bdata": "MzMzMzMzGUA=",
          "dtype": "f8"
         },
         "yaxis": "y"
        },
        {
         "hovertemplate": "Genre=Action, Horror, Sci-Fi<br>Year=%{x}<br>Rating=%{y}<extra></extra>",
         "legendgroup": "Action, Horror, Sci-Fi",
         "line": {
          "color": "#EF553B",
          "dash": "solid"
         },
         "marker": {
          "symbol": "circle"
         },
         "mode": "lines",
         "name": "Action, Horror, Sci-Fi",
         "showlegend": true,
         "type": "scattergl",
         "x": {
          "bdata": "3gfjBw==",
          "dtype": "i2"
         },
         "xaxis": "x",
         "y": {
          "bdata": "zczMzMzMCEAAAAAAAAAaQA==",
          "dtype": "f8"
         },
         "yaxis": "y"
        },
        {
         "hovertemplate": "Genre=Adventure, Drama, Mystery<br>Year=%{x}<br>Rating=%{y}<extra></extra>",
         "legendgroup": "Adventure, Drama, Mystery",
         "line": {
          "color": "#00cc96",
          "dash": "solid"
         },
         "marker": {
          "symbol": "circle"
         },
         "mode": "lines",
         "name": "Adventure, Drama, Mystery",
         "showlegend": true,
         "type": "scattergl",
         "x": {
          "bdata": "3gfgB+UH",
          "dtype": "i2"
         },
         "xaxis": "x",
         "y": {
          "bdata": "mpmZmZmZH0CamZmZmZkZQGZmZmZmZhpA",
          "dtype": "f8"
         },
         "yaxis": "y"
        },
        {
         "hovertemplate": "Genre=Comedy, Drama, Sci-Fi<br>Year=%{x}<br>Rating=%{y}<extra></extra>",
         "legendgroup": "Comedy, Drama, Sci-Fi",
         "line": {
          "color": "#ab63fa",
          "dash": "solid"
         },
         "marker": {
          "symbol": "circle"
         },
         "mode": "lines",
         "name": "Comedy, Drama, Sci-Fi",
         "showlegend": true,
         "type": "scattergl",
         "x": {
          "bdata": "3gc=",
          "dtype": "i2"
         },
         "xaxis": "x",
         "y": {
          "bdata": "mpmZmZmZF0A=",
          "dtype": "f8"
         },
         "yaxis": "y"
        },
        {
         "hovertemplate": "Genre=Crime, Musical, Thriller<br>Year=%{x}<br>Rating=%{y}<extra></extra>",
         "legendgroup": "Crime, Musical, Thriller",
         "line": {
          "color": "#FFA15A",
          "dash": "solid"
         },
         "marker": {
          "symbol": "circle"
         },
         "mode": "lines",
         "name": "Crime, Musical, Thriller",
         "showlegend": true,
         "type": "scattergl",
         "x": {
          "bdata": "3gc=",
          "dtype": "i2"
         },
         "xaxis": "x",
         "y": {
          "bdata": "ZmZmZmZmGkA=",
          "dtype": "f8"
         },
         "yaxis": "y"
        },
        {
         "hovertemplate": "Genre=Drama, Romance, Sport<br>Year=%{x}<br>Rating=%{y}<extra></extra>",
         "legendgroup": "Drama, Romance, Sport",
         "line": {
          "color": "#19d3f3",
          "dash": "solid"
         },
         "marker": {
          "symbol": "circle"
         },
         "mode": "lines",
         "name": "Drama, Romance, Sport",
         "showlegend": true,
         "type": "scattergl",
         "x": {
          "bdata": "3gfkBw==",
          "dtype": "i2"
         },
         "xaxis": "x",
         "y": {
          "bdata": "AAAAAAAAFkAzMzMzMzMdQA==",
          "dtype": "f8"
         },
         "yaxis": "y"
        },
        {
         "hovertemplate": "Genre=Action, Comedy, War<br>Year=%{x}<br>Rating=%{y}<extra></extra>",
         "legendgroup": "Action, Comedy, War",
         "line": {
          "color": "#FF6692",
          "dash": "solid"
         },
         "marker": {
          "symbol": "circle"
         },
         "mode": "lines",
         "name": "Action, Comedy, War",
         "showlegend": true,
         "type": "scattergl",
         "x": {
          "bdata": "3wc=",
          "dtype": "i2"
         },
         "xaxis": "x",
         "y": {
          "bdata": "MzMzMzMzEUA=",
          "dtype": "f8"
         },
         "yaxis": "y"
        },
        {
         "hovertemplate": "Genre=Adventure, Biography, Drama<br>Year=%{x}<br>Rating=%{y}<extra></extra>",
         "legendgroup": "Adventure, Biography, Drama",
         "line": {
          "color": "#B6E880",
          "dash": "solid"
         },
         "marker": {
          "symbol": "circle"
         },
         "mode": "lines",
         "name": "Adventure, Biography, Drama",
         "showlegend": true,
         "type": "scattergl",
         "x": {
          "bdata": "3wfjBw==",
          "dtype": "i2"
         },
         "xaxis": "x",
         "y": {
          "bdata": "AAAAAAAAIEBmZmZmZmYcQA==",
          "dtype": "f8"
         },
         "yaxis": "y"
        },
        {
         "hovertemplate": "Genre=Comedy, Crime, Family<br>Year=%{x}<br>Rating=%{y}<extra></extra>",
         "legendgroup": "Comedy, Crime, Family",
         "line": {
          "color": "#FF97FF",
          "dash": "solid"
         },
         "marker": {
          "symbol": "circle"
         },
         "mode": "lines",
         "name": "Comedy, Crime, Family",
         "showlegend": true,
         "type": "scattergl",
         "x": {
          "bdata": "3wc=",
          "dtype": "i2"
         },
         "xaxis": "x",
         "y": {
          "bdata": "mpmZmZmZFUA=",
          "dtype": "f8"
         },
         "yaxis": "y"
        },
        {
         "hovertemplate": "Genre=Comedy, Drama, Mystery<br>Year=%{x}<br>Rating=%{y}<extra></extra>",
         "legendgroup": "Comedy, Drama, Mystery",
         "line": {
          "color": "#FECB52",
          "dash": "solid"
         },
         "marker": {
          "symbol": "circle"
         },
         "mode": "lines",
         "name": "Comedy, Drama, Mystery",
         "showlegend": true,
         "type": "scattergl",
         "x": {
          "bdata": "3wfjBw==",
          "dtype": "i2"
         },
         "xaxis": "x",
         "y": {
          "bdata": "mpmZmZmZE0CamZmZmZkXQA==",
          "dtype": "f8"
         },
         "yaxis": "y"
        },
        {
         "hovertemplate": "Genre=Crime, Fantasy, Mystery<br>Year=%{x}<br>Rating=%{y}<extra></extra>",
         "legendgroup": "Crime, Fantasy, Mystery",
         "line": {
          "color": "#636efa",
          "dash": "solid"
         },
         "marker": {
          "symbol": "circle"
         },
         "mode": "lines",
         "name": "Crime, Fantasy, Mystery",
         "showlegend": true,
         "type": "scattergl",
         "x": {
          "bdata": "3wc=",
          "dtype": "i2"
         },
         "xaxis": "x",
         "y": {
          "bdata": "zczMzMzMGkA=",
          "dtype": "f8"
         },
         "yaxis": "y"
        },
        {
         "hovertemplate": "Genre=Documentary, Biography, Crime<br>Year=%{x}<br>Rating=%{y}<extra></extra>",
         "legendgroup": "Documentary, Biography, Crime",
         "line": {
          "color": "#EF553B",
          "dash": "solid"
         },
         "marker": {
          "symbol": "circle"
         },
         "mode": "lines",
         "name": "Documentary, Biography, Crime",
         "showlegend": true,
         "type": "scattergl",
         "x": {
          "bdata": "3wflBw==",
          "dtype": "i2"
         },
         "xaxis": "x",
         "y": {
          "bdata": "ZmZmZmZmIEBmZmZmZmYQQA==",
          "dtype": "f8"
         },
         "yaxis": "y"
        },
        {
         "hovertemplate": "Genre=Documentary, Crime, History<br>Year=%{x}<br>Rating=%{y}<extra></extra>",
         "legendgroup": "Documentary, Crime, History",
         "line": {
          "color": "#00cc96",
          "dash": "solid"
         },
         "marker": {
          "symbol": "circle"
         },
         "mode": "lines",
         "name": "Documentary, Crime, History",
         "showlegend": true,
         "type": "scattergl",
         "x": {
          "bdata": "3wc=",
          "dtype": "i2"
         },
         "xaxis": "x",
         "y": {
          "bdata": "MzMzMzMzGUA=",
          "dtype": "f8"
         },
         "yaxis": "y"
        },
        {
         "hovertemplate": "Genre=Comedy, Sport<br>Year=%{x}<br>Rating=%{y}<extra></extra>",
         "legendgroup": "Comedy, Sport",
         "line": {
          "color": "#ab63fa",
          "dash": "solid"
         },
         "marker": {
          "symbol": "circle"
         },
         "mode": "lines",
         "name": "Comedy, Sport",
         "showlegend": true,
         "type": "scattergl",
         "x": {
          "bdata": "4Ac=",
          "dtype": "i2"
         },
         "xaxis": "x",
         "y": {
          "bdata": "mpmZmZmZE0A=",
          "dtype": "f8"
         },
         "yaxis": "y"
        },
        {
         "hovertemplate": "Genre=Documentary, Thriller<br>Year=%{x}<br>Rating=%{y}<extra></extra>",
         "legendgroup": "Documentary, Thriller",
         "line": {
          "color": "#FFA15A",
          "dash": "solid"
         },
         "marker": {
          "symbol": "circle"
         },
         "mode": "lines",
         "name": "Documentary, Thriller",
         "showlegend": true,
         "type": "scattergl",
         "x": {
          "bdata": "4Ac=",
          "dtype": "i2"
         },
         "xaxis": "x",
         "y": {
          "bdata": "ZmZmZmZmIUA=",
          "dtype": "f8"
         },
         "yaxis": "y"
        },
        {
         "hovertemplate": "Genre=Mystery, Sci-Fi, Thriller<br>Year=%{x}<br>Rating=%{y}<extra></extra>",
         "legendgroup": "Mystery, Sci-Fi, Thriller",
         "line": {
          "color": "#19d3f3",
          "dash": "solid"
         },
         "marker": {
          "symbol": "circle"
         },
         "mode": "lines",
         "name": "Mystery, Sci-Fi, Thriller",
         "showlegend": true,
         "type": "scattergl",
         "x": {
          "bdata": "4Ac=",
          "dtype": "i2"
         },
         "xaxis": "x",
         "y": {
          "bdata": "MzMzMzMzHUA=",
          "dtype": "f8"
         },
         "yaxis": "y"
        },
        {
         "hovertemplate": "Genre=Action, Adventure, Biography<br>Year=%{x}<br>Rating=%{y}<extra></extra>",
         "legendgroup": "Action, Adventure, Biography",
         "line": {
          "color": "#FF6692",
          "dash": "solid"
         },
         "marker": {
          "symbol": "circle"
         },
         "mode": "lines",
         "name": "Action, Adventure, Biography",
         "showlegend": true,
         "type": "scattergl",
         "x": {
          "bdata": "4Qc=",
          "dtype": "i2"
         },
         "xaxis": "x",
         "y": {
          "bdata": "MzMzMzMzH0A=",
          "dtype": "f8"
         },
         "yaxis": "y"
        },
        {
         "hovertemplate": "Genre=Action, Thriller, War<br>Year=%{x}<br>Rating=%{y}<extra></extra>",
         "legendgroup": "Action, Thriller, War",
         "line": {
          "color": "#B6E880",
          "dash": "solid"
         },
         "marker": {
          "symbol": "circle"
         },
         "mode": "lines",
         "name": "Action, Thriller, War",
         "showlegend": true,
         "type": "scattergl",
         "x": {
          "bdata": "4Qc=",
          "dtype": "i2"
         },
         "xaxis": "x",
         "y": {
          "bdata": "ZmZmZmZmHkA=",
          "dtype": "f8"
         },
         "yaxis": "y"
        },
        {
         "hovertemplate": "Genre=Comedy, Crime, Horror<br>Year=%{x}<br>Rating=%{y}<extra></extra>",
         "legendgroup": "Comedy, Crime, Horror",
         "line": {
          "color": "#FF97FF",
          "dash": "solid"
         },
         "marker": {
          "symbol": "circle"
         },
         "mode": "lines",
         "name": "Comedy, Crime, Horror",
         "showlegend": true,
         "type": "scattergl",
         "x": {
          "bdata": "4Qc=",
          "dtype": "i2"
         },
         "xaxis": "x",
         "y": {
          "bdata": "ZmZmZmZmFEA=",
          "dtype": "f8"
         },
         "yaxis": "y"
        },
        {
         "hovertemplate": "Genre=Documentary, Sport<br>Year=%{x}<br>Rating=%{y}<extra></extra>",
         "legendgroup": "Documentary, Sport",
         "line": {
          "color": "#FECB52",
          "dash": "solid"
         },
         "marker": {
          "symbol": "circle"
         },
         "mode": "lines",
         "name": "Documentary, Sport",
         "showlegend": true,
         "type": "scattergl",
         "x": {
          "bdata": "4Qc=",
          "dtype": "i2"
         },
         "xaxis": "x",
         "y": {
          "bdata": "MzMzMzMzIUA=",
          "dtype": "f8"
         },
         "yaxis": "y"
        },
        {
         "hovertemplate": "Genre=Drama, Family, Horror<br>Year=%{x}<br>Rating=%{y}<extra></extra>",
         "legendgroup": "Drama, Family, Horror",
         "line": {
          "color": "#636efa",
          "dash": "solid"
         },
         "marker": {
          "symbol": "circle"
         },
         "mode": "lines",
         "name": "Drama, Family, Horror",
         "showlegend": true,
         "type": "scattergl",
         "x": {
          "bdata": "4Qc=",
          "dtype": "i2"
         },
         "xaxis": "x",
         "y": {
          "bdata": "ZmZmZmZmCkA=",
          "dtype": "f8"
         },
         "yaxis": "y"
        },
        {
         "hovertemplate": "Genre=Documentary, Family<br>Year=%{x}<br>Rating=%{y}<extra></extra>",
         "legendgroup": "Documentary, Family",
         "line": {
          "color": "#EF553B",
          "dash": "solid"
         },
         "marker": {
          "symbol": "circle"
         },
         "mode": "lines",
         "name": "Documentary, Family",
         "showlegend": true,
         "type": "scattergl",
         "x": {
          "bdata": "4gc=",
          "dtype": "i2"
         },
         "xaxis": "x",
         "y": {
          "bdata": "zczMzMzMGEA=",
          "dtype": "f8"
         },
         "yaxis": "y"
        },
        {
         "hovertemplate": "Genre=Drama, History, Sport<br>Year=%{x}<br>Rating=%{y}<extra></extra>",
         "legendgroup": "Drama, History, Sport",
         "line": {
          "color": "#00cc96",
          "dash": "solid"
         },
         "marker": {
          "symbol": "circle"
         },
         "mode": "lines",
         "name": "Drama, History, Sport",
         "showlegend": true,
         "type": "scattergl",
         "x": {
          "bdata": "4gc=",
          "dtype": "i2"
         },
         "xaxis": "x",
         "y": {
          "bdata": "MzMzMzMzHUA=",
          "dtype": "f8"
         },
         "yaxis": "y"
        },
        {
         "hovertemplate": "Genre=Fantasy, Horror, Mystery<br>Year=%{x}<br>Rating=%{y}<extra></extra>",
         "legendgroup": "Fantasy, Horror, Mystery",
         "line": {
          "color": "#ab63fa",
          "dash": "solid"
         },
         "marker": {
          "symbol": "circle"
         },
         "mode": "lines",
         "name": "Fantasy, Horror, Mystery",
         "showlegend": true,
         "type": "scattergl",
         "x": {
          "bdata": "4gc=",
          "dtype": "i2"
         },
         "xaxis": "x",
         "y": {
          "bdata": "ZmZmZmZmGkA=",
          "dtype": "f8"
         },
         "yaxis": "y"
        },
        {
         "hovertemplate": "Genre=Mystery, Sci-Fi<br>Year=%{x}<br>Rating=%{y}<extra></extra>",
         "legendgroup": "Mystery, Sci-Fi",
         "line": {
          "color": "#FFA15A",
          "dash": "solid"
         },
         "marker": {
          "symbol": "circle"
         },
         "mode": "lines",
         "name": "Mystery, Sci-Fi",
         "showlegend": true,
         "type": "scattergl",
         "x": {
          "bdata": "4gc=",
          "dtype": "i2"
         },
         "xaxis": "x",
         "y": {
          "bdata": "ZmZmZmZmFEA=",
          "dtype": "f8"
         },
         "yaxis": "y"
        },
        {
         "hovertemplate": "Genre=Animation, Drama, Romance<br>Year=%{x}<br>Rating=%{y}<extra></extra>",
         "legendgroup": "Animation, Drama, Romance",
         "line": {
          "color": "#19d3f3",
          "dash": "solid"
         },
         "marker": {
          "symbol": "circle"
         },
         "mode": "lines",
         "name": "Animation, Drama, Romance",
         "showlegend": true,
         "type": "scattergl",
         "x": {
          "bdata": "4wc=",
          "dtype": "i2"
         },
         "xaxis": "x",
         "y": {
          "bdata": "AAAAAAAAGEA=",
          "dtype": "f8"
         },
         "yaxis": "y"
        },
        {
         "hovertemplate": "Genre=Biography, Family<br>Year=%{x}<br>Rating=%{y}<extra></extra>",
         "legendgroup": "Biography, Family",
         "line": {
          "color": "#FF6692",
          "dash": "solid"
         },
         "marker": {
          "symbol": "circle"
         },
         "mode": "lines",
         "name": "Biography, Family",
         "showlegend": true,
         "type": "scattergl",
         "x": {
          "bdata": "4wc=",
          "dtype": "i2"
         },
         "xaxis": "x",
         "y": {
          "bdata": "mpmZmZmZIEA=",
          "dtype": "f8"
         },
         "yaxis": "y"
        },
        {
         "hovertemplate": "Genre=Documentary, Family, History<br>Year=%{x}<br>Rating=%{y}<extra></extra>",
         "legendgroup": "Documentary, Family, History",
         "line": {
          "color": "#B6E880",
          "dash": "solid"
         },
         "marker": {
          "symbol": "circle"
         },
         "mode": "lines",
         "name": "Documentary, Family, History",
         "showlegend": true,
         "type": "scattergl",
         "x": {
          "bdata": "4wc=",
          "dtype": "i2"
         },
         "xaxis": "x",
         "y": {
          "bdata": "mpmZmZmZIkA=",
          "dtype": "f8"
         },
         "yaxis": "y"
        },
        {
         "hovertemplate": "Genre=Drama, Fantasy, Sci-Fi<br>Year=%{x}<br>Rating=%{y}<extra></extra>",
         "legendgroup": "Drama, Fantasy, Sci-Fi",
         "line": {
          "color": "#FF97FF",
          "dash": "solid"
         },
         "marker": {
          "symbol": "circle"
         },
         "mode": "lines",
         "name": "Drama, Fantasy, Sci-Fi",
         "showlegend": true,
         "type": "scattergl",
         "x": {
          "bdata": "4wc=",
          "dtype": "i2"
         },
         "xaxis": "x",
         "y": {
          "bdata": "zczMzMzMFkA=",
          "dtype": "f8"
         },
         "yaxis": "y"
        },
        {
         "hovertemplate": "Genre=Drama, Musical, Thriller<br>Year=%{x}<br>Rating=%{y}<extra></extra>",
         "legendgroup": "Drama, Musical, Thriller",
         "line": {
          "color": "#FECB52",
          "dash": "solid"
         },
         "marker": {
          "symbol": "circle"
         },
         "mode": "lines",
         "name": "Drama, Musical, Thriller",
         "showlegend": true,
         "type": "scattergl",
         "x": {
          "bdata": "4wc=",
          "dtype": "i2"
         },
         "xaxis": "x",
         "y": {
          "bdata": "MzMzMzMzC0A=",
          "dtype": "f8"
         },
         "yaxis": "y"
        },
        {
         "hovertemplate": "Genre=History, Romance<br>Year=%{x}<br>Rating=%{y}<extra></extra>",
         "legendgroup": "History, Romance",
         "line": {
          "color": "#636efa",
          "dash": "solid"
         },
         "marker": {
          "symbol": "circle"
         },
         "mode": "lines",
         "name": "History, Romance",
         "showlegend": true,
         "type": "scattergl",
         "x": {
          "bdata": "4wc=",
          "dtype": "i2"
         },
         "xaxis": "x",
         "y": {
          "bdata": "zczMzMzMIkA=",
          "dtype": "f8"
         },
         "yaxis": "y"
        },
        {
         "hovertemplate": "Genre=Sport<br>Year=%{x}<br>Rating=%{y}<extra></extra>",
         "legendgroup": "Sport",
         "line": {
          "color": "#EF553B",
          "dash": "solid"
         },
         "marker": {
          "symbol": "circle"
         },
         "mode": "lines",
         "name": "Sport",
         "showlegend": true,
         "type": "scattergl",
         "x": {
          "bdata": "4wc=",
          "dtype": "i2"
         },
         "xaxis": "x",
         "y": {
          "bdata": "MzMzMzMzF0A=",
          "dtype": "f8"
         },
         "yaxis": "y"
        },
        {
         "hovertemplate": "Genre=Action, Comedy, Horror<br>Year=%{x}<br>Rating=%{y}<extra></extra>",
         "legendgroup": "Action, Comedy, Horror",
         "line": {
          "color": "#00cc96",
          "dash": "solid"
         },
         "marker": {
          "symbol": "circle"
         },
         "mode": "lines",
         "name": "Action, Comedy, Horror",
         "showlegend": true,
         "type": "scattergl",
         "x": {
          "bdata": "5Ac=",
          "dtype": "i2"
         },
         "xaxis": "x",
         "y": {
          "bdata": "MzMzMzMzA0A=",
          "dtype": "f8"
         },
         "yaxis": "y"
        },
        {
         "hovertemplate": "Genre=Animation, Action<br>Year=%{x}<br>Rating=%{y}<extra></extra>",
         "legendgroup": "Animation, Action",
         "line": {
          "color": "#ab63fa",
          "dash": "solid"
         },
         "marker": {
          "symbol": "circle"
         },
         "mode": "lines",
         "name": "Animation, Action",
         "showlegend": true,
         "type": "scattergl",
         "x": {
          "bdata": "5Ac=",
          "dtype": "i2"
         },
         "xaxis": "x",
         "y": {
          "bdata": "ZmZmZmZmGEA=",
          "dtype": "f8"
         },
         "yaxis": "y"
        },
        {
         "hovertemplate": "Genre=Animation, Comedy, Family<br>Year=%{x}<br>Rating=%{y}<extra></extra>",
         "legendgroup": "Animation, Comedy, Family",
         "line": {
          "color": "#FFA15A",
          "dash": "solid"
         },
         "marker": {
          "symbol": "circle"
         },
         "mode": "lines",
         "name": "Animation, Comedy, Family",
         "showlegend": true,
         "type": "scattergl",
         "x": {
          "bdata": "5Ac=",
          "dtype": "i2"
         },
         "xaxis": "x",
         "y": {
          "bdata": "mpmZmZmZIEA=",
          "dtype": "f8"
         },
         "yaxis": "y"
        },
        {
         "hovertemplate": "Genre=Crime, Horror, Romance<br>Year=%{x}<br>Rating=%{y}<extra></extra>",
         "legendgroup": "Crime, Horror, Romance",
         "line": {
          "color": "#19d3f3",
          "dash": "solid"
         },
         "marker": {
          "symbol": "circle"
         },
         "mode": "lines",
         "name": "Crime, Horror, Romance",
         "showlegend": true,
         "type": "scattergl",
         "x": {
          "bdata": "5Qc=",
          "dtype": "i2"
         },
         "xaxis": "x",
         "y": {
          "bdata": "AAAAAAAAEkA=",
          "dtype": "f8"
         },
         "yaxis": "y"
        }
       ],
       "layout": {
        "legend": {
         "title": {
          "text": "Genre"
         },
         "tracegroupgap": 0
        },
        "margin": {
         "t": 60
        },
        "template": {
         "data": {
          "bar": [
           {
            "error_x": {
             "color": "#2a3f5f"
            },
            "error_y": {
             "color": "#2a3f5f"
            },
            "marker": {
             "line": {
              "color": "#E5ECF6",
              "width": 0.5
             },
             "pattern": {
              "fillmode": "overlay",
              "size": 10,
              "solidity": 0.2
             }
            },
            "type": "bar"
           }
          ],
          "barpolar": [
           {
            "marker": {
             "line": {
              "color": "#E5ECF6",
              "width": 0.5
             },
             "pattern": {
              "fillmode": "overlay",
              "size": 10,
              "solidity": 0.2
             }
            },
            "type": "barpolar"
           }
          ],
          "carpet": [
           {
            "aaxis": {
             "endlinecolor": "#2a3f5f",
             "gridcolor": "white",
             "linecolor": "white",
             "minorgridcolor": "white",
             "startlinecolor": "#2a3f5f"
            },
            "baxis": {
             "endlinecolor": "#2a3f5f",
             "gridcolor": "white",
             "linecolor": "white",
             "minorgridcolor": "white",
             "startlinecolor": "#2a3f5f"
            },
            "type": "carpet"
           }
          ],
          "choropleth": [
           {
            "colorbar": {
             "outlinewidth": 0,
             "ticks": ""
            },
            "type": "choropleth"
           }
          ],
          "contour": [
           {
            "colorbar": {
             "outlinewidth": 0,
             "ticks": ""
            },
            "colorscale": [
             [
              0,
              "#0d0887"
             ],
             [
              0.1111111111111111,
              "#46039f"
             ],
             [
              0.2222222222222222,
              "#7201a8"
             ],
             [
              0.3333333333333333,
              "#9c179e"
             ],
             [
              0.4444444444444444,
              "#bd3786"
             ],
             [
              0.5555555555555556,
              "#d8576b"
             ],
             [
              0.6666666666666666,
              "#ed7953"
             ],
             [
              0.7777777777777778,
              "#fb9f3a"
             ],
             [
              0.8888888888888888,
              "#fdca26"
             ],
             [
              1,
              "#f0f921"
             ]
            ],
            "type": "contour"
           }
          ],
          "contourcarpet": [
           {
            "colorbar": {
             "outlinewidth": 0,
             "ticks": ""
            },
            "type": "contourcarpet"
           }
          ],
          "heatmap": [
           {
            "colorbar": {
             "outlinewidth": 0,
             "ticks": ""
            },
            "colorscale": [
             [
              0,
              "#0d0887"
             ],
             [
              0.1111111111111111,
              "#46039f"
             ],
             [
              0.2222222222222222,
              "#7201a8"
             ],
             [
              0.3333333333333333,
              "#9c179e"
             ],
             [
              0.4444444444444444,
              "#bd3786"
             ],
             [
              0.5555555555555556,
              "#d8576b"
             ],
             [
              0.6666666666666666,
              "#ed7953"
             ],
             [
              0.7777777777777778,
              "#fb9f3a"
             ],
             [
              0.8888888888888888,
              "#fdca26"
             ],
             [
              1,
              "#f0f921"
             ]
            ],
            "type": "heatmap"
           }
          ],
          "histogram": [
           {
            "marker": {
             "pattern": {
              "fillmode": "overlay",
              "size": 10,
              "solidity": 0.2
             }
            },
            "type": "histogram"
           }
          ],
          "histogram2d": [
           {
            "colorbar": {
             "outlinewidth": 0,
             "ticks": ""
            },
            "colorscale": [
             [
              0,
              "#0d0887"
             ],
             [
              0.1111111111111111,
              "#46039f"
             ],
             [
              0.2222222222222222,
              "#7201a8"
             ],
             [
              0.3333333333333333,
              "#9c179e"
             ],
             [
              0.4444444444444444,
              "#bd3786"
             ],
             [
              0.5555555555555556,
              "#d8576b"
             ],
             [
              0.6666666666666666,
              "#ed7953"
             ],
             [
              0.7777777777777778,
              "#fb9f3a"
             ],
             [
              0.8888888888888888,
              "#fdca26"
             ],
             [
              1,
              "#f0f921"
             ]
            ],
            "type": "histogram2d"
           }
          ],
          "histogram2dcontour": [
           {
            "colorbar": {
             "outlinewidth": 0,
             "ticks": ""
            },
            "colorscale": [
             [
              0,
              "#0d0887"
             ],
             [
              0.1111111111111111,
              "#46039f"
             ],
             [
              0.2222222222222222,
              "#7201a8"
             ],
             [
              0.3333333333333333,
              "#9c179e"
             ],
             [
              0.4444444444444444,
              "#bd3786"
             ],
             [
              0.5555555555555556,
              "#d8576b"
             ],
             [
              0.6666666666666666,
              "#ed7953"
             ],
             [
              0.7777777777777778,
              "#fb9f3a"
             ],
             [
              0.8888888888888888,
              "#fdca26"
             ],
             [
              1,
              "#f0f921"
             ]
            ],
            "type": "histogram2dcontour"
           }
          ],
          "mesh3d": [
           {
            "colorbar": {
             "outlinewidth": 0,
             "ticks": ""
            },
            "type": "mesh3d"
           }
          ],
          "parcoords": [
           {
            "line": {
             "colorbar": {
              "outlinewidth": 0,
              "ticks": ""
             }
            },
            "type": "parcoords"
           }
          ],
          "pie": [
           {
            "automargin": true,
            "type": "pie"
           }
          ],
          "scatter": [
           {
            "fillpattern": {
             "fillmode": "overlay",
             "size": 10,
             "solidity": 0.2
            },
            "type": "scatter"
           }
          ],
          "scatter3d": [
           {
            "line": {
             "colorbar": {
              "outlinewidth": 0,
              "ticks": ""
             }
            },
            "marker": {
             "colorbar": {
              "outlinewidth": 0,
              "ticks": ""
             }
            },
            "type": "scatter3d"
           }
          ],
          "scattercarpet": [
           {
            "marker": {
             "colorbar": {
              "outlinewidth": 0,
              "ticks": ""
             }
            },
            "type": "scattercarpet"
           }
          ],
          "scattergeo": [
           {
            "marker": {
             "colorbar": {
              "outlinewidth": 0,
              "ticks": ""
             }
            },
            "type": "scattergeo"
           }
          ],
          "scattergl": [
           {
            "marker": {
             "colorbar": {
              "outlinewidth": 0,
              "ticks": ""
             }
            },
            "type": "scattergl"
           }
          ],
          "scattermap": [
           {
            "marker": {
             "colorbar": {
              "outlinewidth": 0,
              "ticks": ""
             }
            },
            "type": "scattermap"
           }
          ],
          "scattermapbox": [
           {
            "marker": {
             "colorbar": {
              "outlinewidth": 0,
              "ticks": ""
             }
            },
            "type": "scattermapbox"
           }
          ],
          "scatterpolar": [
           {
            "marker": {
             "colorbar": {
              "outlinewidth": 0,
              "ticks": ""
             }
            },
            "type": "scatterpolar"
           }
          ],
          "scatterpolargl": [
           {
            "marker": {
             "colorbar": {
              "outlinewidth": 0,
              "ticks": ""
             }
            },
            "type": "scatterpolargl"
           }
          ],
          "scatterternary": [
           {
            "marker": {
             "colorbar": {
              "outlinewidth": 0,
              "ticks": ""
             }
            },
            "type": "scatterternary"
           }
          ],
          "surface": [
           {
            "colorbar": {
             "outlinewidth": 0,
             "ticks": ""
            },
            "colorscale": [
             [
              0,
              "#0d0887"
             ],
             [
              0.1111111111111111,
              "#46039f"
             ],
             [
              0.2222222222222222,
              "#7201a8"
             ],
             [
              0.3333333333333333,
              "#9c179e"
             ],
             [
              0.4444444444444444,
              "#bd3786"
             ],
             [
              0.5555555555555556,
              "#d8576b"
             ],
             [
              0.6666666666666666,
              "#ed7953"
             ],
             [
              0.7777777777777778,
              "#fb9f3a"
             ],
             [
              0.8888888888888888,
              "#fdca26"
             ],
             [
              1,
              "#f0f921"
             ]
            ],
            "type": "surface"
           }
          ],
          "table": [
           {
            "cells": {
             "fill": {
              "color": "#EBF0F8"
             },
             "line": {
              "color": "white"
             }
            },
            "header": {
             "fill": {
              "color": "#C8D4E3"
             },
             "line": {
              "color": "white"
             }
            },
            "type": "table"
           }
          ]
         },
         "layout": {
          "annotationdefaults": {
           "arrowcolor": "#2a3f5f",
           "arrowhead": 0,
           "arrowwidth": 1
          },
          "autotypenumbers": "strict",
          "coloraxis": {
           "colorbar": {
            "outlinewidth": 0,
            "ticks": ""
           }
          },
          "colorscale": {
           "diverging": [
            [
             0,
             "#8e0152"
            ],
            [
             0.1,
             "#c51b7d"
            ],
            [
             0.2,
             "#de77ae"
            ],
            [
             0.3,
             "#f1b6da"
            ],
            [
             0.4,
             "#fde0ef"
            ],
            [
             0.5,
             "#f7f7f7"
            ],
            [
             0.6,
             "#e6f5d0"
            ],
            [
             0.7,
             "#b8e186"
            ],
            [
             0.8,
             "#7fbc41"
            ],
            [
             0.9,
             "#4d9221"
            ],
            [
             1,
             "#276419"
            ]
           ],
           "sequential": [
            [
             0,
             "#0d0887"
            ],
            [
             0.1111111111111111,
             "#46039f"
            ],
            [
             0.2222222222222222,
             "#7201a8"
            ],
            [
             0.3333333333333333,
             "#9c179e"
            ],
            [
             0.4444444444444444,
             "#bd3786"
            ],
            [
             0.5555555555555556,
             "#d8576b"
            ],
            [
             0.6666666666666666,
             "#ed7953"
            ],
            [
             0.7777777777777778,
             "#fb9f3a"
            ],
            [
             0.8888888888888888,
             "#fdca26"
            ],
            [
             1,
             "#f0f921"
            ]
           ],
           "sequentialminus": [
            [
             0,
             "#0d0887"
            ],
            [
             0.1111111111111111,
             "#46039f"
            ],
            [
             0.2222222222222222,
             "#7201a8"
            ],
            [
             0.3333333333333333,
             "#9c179e"
            ],
            [
             0.4444444444444444,
             "#bd3786"
            ],
            [
             0.5555555555555556,
             "#d8576b"
            ],
            [
             0.6666666666666666,
             "#ed7953"
            ],
            [
             0.7777777777777778,
             "#fb9f3a"
            ],
            [
             0.8888888888888888,
             "#fdca26"
            ],
            [
             1,
             "#f0f921"
            ]
           ]
          },
          "colorway": [
           "#636efa",
           "#EF553B",
           "#00cc96",
           "#ab63fa",
           "#FFA15A",
           "#19d3f3",
           "#FF6692",
           "#B6E880",
           "#FF97FF",
           "#FECB52"
          ],
          "font": {
           "color": "#2a3f5f"
          },
          "geo": {
           "bgcolor": "white",
           "lakecolor": "white",
           "landcolor": "#E5ECF6",
           "showlakes": true,
           "showland": true,
           "subunitcolor": "white"
          },
          "hoverlabel": {
           "align": "left"
          },
          "hovermode": "closest",
          "mapbox": {
           "style": "light"
          },
          "paper_bgcolor": "white",
          "plot_bgcolor": "#E5ECF6",
          "polar": {
           "angularaxis": {
            "gridcolor": "white",
            "linecolor": "white",
            "ticks": ""
           },
           "bgcolor": "#E5ECF6",
           "radialaxis": {
            "gridcolor": "white",
            "linecolor": "white",
            "ticks": ""
           }
          },
          "scene": {
           "xaxis": {
            "backgroundcolor": "#E5ECF6",
            "gridcolor": "white",
            "gridwidth": 2,
            "linecolor": "white",
            "showbackground": true,
            "ticks": "",
            "zerolinecolor": "white"
           },
           "yaxis": {
            "backgroundcolor": "#E5ECF6",
            "gridcolor": "white",
            "gridwidth": 2,
            "linecolor": "white",
            "showbackground": true,
            "ticks": "",
            "zerolinecolor": "white"
           },
           "zaxis": {
            "backgroundcolor": "#E5ECF6",
            "gridcolor": "white",
            "gridwidth": 2,
            "linecolor": "white",
            "showbackground": true,
            "ticks": "",
            "zerolinecolor": "white"
           }
          },
          "shapedefaults": {
           "line": {
            "color": "#2a3f5f"
           }
          },
          "ternary": {
           "aaxis": {
            "gridcolor": "white",
            "linecolor": "white",
            "ticks": ""
           },
           "baxis": {
            "gridcolor": "white",
            "linecolor": "white",
            "ticks": ""
           },
           "bgcolor": "#E5ECF6",
           "caxis": {
            "gridcolor": "white",
            "linecolor": "white",
            "ticks": ""
           }
          },
          "title": {
           "x": 0.05
          },
          "xaxis": {
           "automargin": true,
           "gridcolor": "white",
           "linecolor": "white",
           "ticks": "",
           "title": {
            "standoff": 15
           },
           "zerolinecolor": "white",
           "zerolinewidth": 2
          },
          "yaxis": {
           "automargin": true,
           "gridcolor": "white",
           "linecolor": "white",
           "ticks": "",
           "title": {
            "standoff": 15
           },
           "zerolinecolor": "white",
           "zerolinewidth": 2
          }
         }
        },
        "title": {
         "text": "Avrage Rating by Year for top Genres"
        },
        "xaxis": {
         "anchor": "y",
         "domain": [
          0,
          1
         ],
         "title": {
          "text": "Year"
         }
        },
        "yaxis": {
         "anchor": "x",
         "domain": [
          0,
          1
         ],
         "title": {
          "text": "Average Rating"
         }
        }
       }
      },
      "image/png": "[encoded data removed]"
     },
     "metadata": {},
     "output_type": "display_data"
    }
   ],
   "source": [
    "fig = px.line(avg_rating_by_year, x='Year', y='Rating', color=\"Genre\")\n",
    "fig.update_layout(title='Avrage Rating by Year for top Genres', xaxis_title='Year', yaxis_title='Average Rating')\n",
    "fig.show()"
   ]
  },
  {
   "cell_type": "code",
   "execution_count": 77,
   "id": "32e053ab-5e89-410f-9cb7-c5558bc2b43b",
   "metadata": {},
   "outputs": [
    {
     "data": {
      "text/html": [
       "<div>\n",
       "<style scoped>\n",
       "    .dataframe tbody tr th:only-of-type {\n",
       "        vertical-align: middle;\n",
       "    }\n",
       "\n",
       "    .dataframe tbody tr th {\n",
       "        vertical-align: top;\n",
       "    }\n",
       "\n",
       "    .dataframe thead th {\n",
       "        text-align: right;\n",
       "    }\n",
       "</style>\n",
       "<table border=\"1\" class=\"dataframe\">\n",
       "  <thead>\n",
       "    <tr style=\"text-align: right;\">\n",
       "      <th></th>\n",
       "      <th>Name</th>\n",
       "      <th>Year</th>\n",
       "      <th>Duration</th>\n",
       "      <th>Genre</th>\n",
       "      <th>Rating</th>\n",
       "      <th>Votes</th>\n",
       "      <th>Director</th>\n",
       "      <th>Actor 1</th>\n",
       "      <th>Actor 2</th>\n",
       "      <th>Actor 3</th>\n",
       "    </tr>\n",
       "  </thead>\n",
       "  <tbody>\n",
       "    <tr>\n",
       "      <th>1</th>\n",
       "      <td>#Gadhvi (He thought he was Gandhi)</td>\n",
       "      <td>2019</td>\n",
       "      <td>109.0</td>\n",
       "      <td>Drama</td>\n",
       "      <td>7.0</td>\n",
       "      <td>8</td>\n",
       "      <td>Gaurav Bakshi</td>\n",
       "      <td>Rasika Dugal</td>\n",
       "      <td>Vivek Ghamande</td>\n",
       "      <td>Arvind Jangid</td>\n",
       "    </tr>\n",
       "    <tr>\n",
       "      <th>3</th>\n",
       "      <td>#Yaaram</td>\n",
       "      <td>2019</td>\n",
       "      <td>110.0</td>\n",
       "      <td>Comedy, Romance</td>\n",
       "      <td>4.4</td>\n",
       "      <td>35</td>\n",
       "      <td>Ovais Khan</td>\n",
       "      <td>Prateik</td>\n",
       "      <td>Ishita Raj</td>\n",
       "      <td>Siddhant Kapoor</td>\n",
       "    </tr>\n",
       "    <tr>\n",
       "      <th>5</th>\n",
       "      <td>...Aur Pyaar Ho Gaya</td>\n",
       "      <td>1997</td>\n",
       "      <td>147.0</td>\n",
       "      <td>Comedy, Drama, Musical</td>\n",
       "      <td>4.7</td>\n",
       "      <td>827</td>\n",
       "      <td>Rahul Rawail</td>\n",
       "      <td>Bobby Deol</td>\n",
       "      <td>Aishwarya Rai Bachchan</td>\n",
       "      <td>Shammi Kapoor</td>\n",
       "    </tr>\n",
       "    <tr>\n",
       "      <th>6</th>\n",
       "      <td>...Yahaan</td>\n",
       "      <td>2005</td>\n",
       "      <td>142.0</td>\n",
       "      <td>Drama, Romance, War</td>\n",
       "      <td>7.4</td>\n",
       "      <td>1086</td>\n",
       "      <td>Shoojit Sircar</td>\n",
       "      <td>Jimmy Sheirgill</td>\n",
       "      <td>Minissha Lamba</td>\n",
       "      <td>Yashpal Sharma</td>\n",
       "    </tr>\n",
       "    <tr>\n",
       "      <th>8</th>\n",
       "      <td>?: A Question Mark</td>\n",
       "      <td>2012</td>\n",
       "      <td>82.0</td>\n",
       "      <td>Horror, Mystery, Thriller</td>\n",
       "      <td>5.6</td>\n",
       "      <td>326</td>\n",
       "      <td>Allyson Patel</td>\n",
       "      <td>Yash Dave</td>\n",
       "      <td>Muntazir Ahmad</td>\n",
       "      <td>Kiran Bhatia</td>\n",
       "    </tr>\n",
       "  </tbody>\n",
       "</table>\n",
       "</div>"
      ],
      "text/plain": [
       "                                 Name  Year  Duration  \\\n",
       "1  #Gadhvi (He thought he was Gandhi)  2019     109.0   \n",
       "3                             #Yaaram  2019     110.0   \n",
       "5                ...Aur Pyaar Ho Gaya  1997     147.0   \n",
       "6                           ...Yahaan  2005     142.0   \n",
       "8                  ?: A Question Mark  2012      82.0   \n",
       "\n",
       "                       Genre  Rating  Votes        Director          Actor 1  \\\n",
       "1                      Drama     7.0      8   Gaurav Bakshi     Rasika Dugal   \n",
       "3            Comedy, Romance     4.4     35      Ovais Khan          Prateik   \n",
       "5     Comedy, Drama, Musical     4.7    827    Rahul Rawail       Bobby Deol   \n",
       "6        Drama, Romance, War     7.4   1086  Shoojit Sircar  Jimmy Sheirgill   \n",
       "8  Horror, Mystery, Thriller     5.6    326   Allyson Patel        Yash Dave   \n",
       "\n",
       "                  Actor 2          Actor 3  \n",
       "1          Vivek Ghamande    Arvind Jangid  \n",
       "3              Ishita Raj  Siddhant Kapoor  \n",
       "5  Aishwarya Rai Bachchan    Shammi Kapoor  \n",
       "6          Minissha Lamba   Yashpal Sharma  \n",
       "8          Muntazir Ahmad     Kiran Bhatia  "
      ]
     },
     "execution_count": 77,
     "metadata": {},
     "output_type": "execute_result"
    }
   ],
   "source": [
    "movie_data.head()"
   ]
  },
  {
   "cell_type": "code",
   "execution_count": 78,
   "id": "ab789610-a1b1-4f53-b643-bb3217d24de1",
   "metadata": {},
   "outputs": [
    {
     "data": {
      "text/plain": [
       "1    7.0\n",
       "3    4.4\n",
       "5    4.7\n",
       "6    7.4\n",
       "8    5.6\n",
       "Name: Rating, dtype: float64"
      ]
     },
     "execution_count": 78,
     "metadata": {},
     "output_type": "execute_result"
    }
   ],
   "source": [
    "input=movie_data.drop(['Rating','Director','Votes','Genre'], axis=1)\n",
    "target=movie_data['Rating']\n",
    "target.head()"
   ]
  },
  {
   "cell_type": "code",
   "execution_count": 79,
   "id": "c22f01c0-097d-4f1a-9c3c-d57328a2220b",
   "metadata": {},
   "outputs": [
    {
     "data": {
      "text/html": [
       "<div>\n",
       "<style scoped>\n",
       "    .dataframe tbody tr th:only-of-type {\n",
       "        vertical-align: middle;\n",
       "    }\n",
       "\n",
       "    .dataframe tbody tr th {\n",
       "        vertical-align: top;\n",
       "    }\n",
       "\n",
       "    .dataframe thead th {\n",
       "        text-align: right;\n",
       "    }\n",
       "</style>\n",
       "<table border=\"1\" class=\"dataframe\">\n",
       "  <thead>\n",
       "    <tr style=\"text-align: right;\">\n",
       "      <th></th>\n",
       "      <th>Name</th>\n",
       "      <th>Year</th>\n",
       "      <th>Duration</th>\n",
       "      <th>Actor 1</th>\n",
       "      <th>Actor 2</th>\n",
       "      <th>Actor 3</th>\n",
       "    </tr>\n",
       "  </thead>\n",
       "  <tbody>\n",
       "    <tr>\n",
       "      <th>1</th>\n",
       "      <td>#Gadhvi (He thought he was Gandhi)</td>\n",
       "      <td>2019</td>\n",
       "      <td>109.0</td>\n",
       "      <td>Rasika Dugal</td>\n",
       "      <td>Vivek Ghamande</td>\n",
       "      <td>Arvind Jangid</td>\n",
       "    </tr>\n",
       "    <tr>\n",
       "      <th>3</th>\n",
       "      <td>#Yaaram</td>\n",
       "      <td>2019</td>\n",
       "      <td>110.0</td>\n",
       "      <td>Prateik</td>\n",
       "      <td>Ishita Raj</td>\n",
       "      <td>Siddhant Kapoor</td>\n",
       "    </tr>\n",
       "    <tr>\n",
       "      <th>5</th>\n",
       "      <td>...Aur Pyaar Ho Gaya</td>\n",
       "      <td>1997</td>\n",
       "      <td>147.0</td>\n",
       "      <td>Bobby Deol</td>\n",
       "      <td>Aishwarya Rai Bachchan</td>\n",
       "      <td>Shammi Kapoor</td>\n",
       "    </tr>\n",
       "    <tr>\n",
       "      <th>6</th>\n",
       "      <td>...Yahaan</td>\n",
       "      <td>2005</td>\n",
       "      <td>142.0</td>\n",
       "      <td>Jimmy Sheirgill</td>\n",
       "      <td>Minissha Lamba</td>\n",
       "      <td>Yashpal Sharma</td>\n",
       "    </tr>\n",
       "    <tr>\n",
       "      <th>8</th>\n",
       "      <td>?: A Question Mark</td>\n",
       "      <td>2012</td>\n",
       "      <td>82.0</td>\n",
       "      <td>Yash Dave</td>\n",
       "      <td>Muntazir Ahmad</td>\n",
       "      <td>Kiran Bhatia</td>\n",
       "    </tr>\n",
       "  </tbody>\n",
       "</table>\n",
       "</div>"
      ],
      "text/plain": [
       "                                 Name  Year  Duration          Actor 1  \\\n",
       "1  #Gadhvi (He thought he was Gandhi)  2019     109.0     Rasika Dugal   \n",
       "3                             #Yaaram  2019     110.0          Prateik   \n",
       "5                ...Aur Pyaar Ho Gaya  1997     147.0       Bobby Deol   \n",
       "6                           ...Yahaan  2005     142.0  Jimmy Sheirgill   \n",
       "8                  ?: A Question Mark  2012      82.0        Yash Dave   \n",
       "\n",
       "                  Actor 2          Actor 3  \n",
       "1          Vivek Ghamande    Arvind Jangid  \n",
       "3              Ishita Raj  Siddhant Kapoor  \n",
       "5  Aishwarya Rai Bachchan    Shammi Kapoor  \n",
       "6          Minissha Lamba   Yashpal Sharma  \n",
       "8          Muntazir Ahmad     Kiran Bhatia  "
      ]
     },
     "execution_count": 79,
     "metadata": {},
     "output_type": "execute_result"
    }
   ],
   "source": [
    "input.head()"
   ]
  },
  {
   "cell_type": "code",
   "execution_count": 105,
   "id": "577057db-292c-44d4-9d2a-e0e79a3866f2",
   "metadata": {},
   "outputs": [
    {
     "data": {
      "text/html": [
       "<div>\n",
       "<style scoped>\n",
       "    .dataframe tbody tr th:only-of-type {\n",
       "        vertical-align: middle;\n",
       "    }\n",
       "\n",
       "    .dataframe tbody tr th {\n",
       "        vertical-align: top;\n",
       "    }\n",
       "\n",
       "    .dataframe thead th {\n",
       "        text-align: right;\n",
       "    }\n",
       "</style>\n",
       "<table border=\"1\" class=\"dataframe\">\n",
       "  <thead>\n",
       "    <tr style=\"text-align: right;\">\n",
       "      <th></th>\n",
       "      <th>Year</th>\n",
       "      <th>Duration</th>\n",
       "    </tr>\n",
       "  </thead>\n",
       "  <tbody>\n",
       "    <tr>\n",
       "      <th>0</th>\n",
       "      <td>0.980769</td>\n",
       "      <td>0.293333</td>\n",
       "    </tr>\n",
       "    <tr>\n",
       "      <th>1</th>\n",
       "      <td>0.980769</td>\n",
       "      <td>0.296667</td>\n",
       "    </tr>\n",
       "    <tr>\n",
       "      <th>2</th>\n",
       "      <td>0.769231</td>\n",
       "      <td>0.420000</td>\n",
       "    </tr>\n",
       "    <tr>\n",
       "      <th>3</th>\n",
       "      <td>0.846154</td>\n",
       "      <td>0.403333</td>\n",
       "    </tr>\n",
       "    <tr>\n",
       "      <th>4</th>\n",
       "      <td>0.913462</td>\n",
       "      <td>0.203333</td>\n",
       "    </tr>\n",
       "  </tbody>\n",
       "</table>\n",
       "</div>"
      ],
      "text/plain": [
       "       Year  Duration\n",
       "0  0.980769  0.293333\n",
       "1  0.980769  0.296667\n",
       "2  0.769231  0.420000\n",
       "3  0.846154  0.403333\n",
       "4  0.913462  0.203333"
      ]
     },
     "execution_count": 105,
     "metadata": {},
     "output_type": "execute_result"
    }
   ],
   "source": [
    "#training the model using logisticregression\n",
    "from sklearn.preprocessing import MinMaxScaler\n",
    "from sklearn.linear_model import LogisticRegression\n",
    "from sklearn.model_selection import train_test_split\n",
    "\n",
    "numeric_data = input.select_dtypes(include=['number'])  # Only numeric columns\n",
    "scaler = MinMaxScaler()\n",
    "scaled_data = scaler.fit_transform(numeric_data)\n",
    "scaled_df = pd.DataFrame(scaled_data, columns=numeric_data.columns)\n",
    "scaled_df.head()\n"
   ]
  },
  {
   "cell_type": "code",
   "execution_count": 106,
   "id": "c83d1c1d-c0f8-4aeb-a3d4-3e46746523d7",
   "metadata": {},
   "outputs": [
    {
     "name": "stdout",
     "output_type": "stream",
     "text": [
      "5057     6.9\n",
      "10268    5.0\n",
      "7306     4.0\n",
      "9182     3.8\n",
      "8064     3.5\n",
      "        ... \n",
      "11683    5.9\n",
      "11848    5.9\n",
      "3263     6.8\n",
      "9513     4.3\n",
      "3012     4.7\n",
      "Name: Rating, Length: 5290, dtype: float64\n"
     ]
    }
   ],
   "source": [
    "X_train, X_test, Y_train, Y_test = train_test_split(input,target,test_size=0.3)\n",
    "print(Y_train)"
   ]
  },
  {
   "cell_type": "code",
   "execution_count": 107,
   "id": "c3b16496-b288-4636-aa6d-222241f9cfe5",
   "metadata": {},
   "outputs": [
    {
     "name": "stdout",
     "output_type": "stream",
     "text": [
      "14729    2.3\n",
      "4657     4.6\n",
      "15303    4.6\n",
      "12942    7.2\n",
      "4501     7.3\n",
      "        ... \n",
      "4697     5.5\n",
      "149      6.3\n",
      "2744     6.4\n",
      "4134     7.0\n",
      "12080    4.1\n",
      "Name: Rating, Length: 2268, dtype: float64\n"
     ]
    }
   ],
   "source": [
    "print(Y_test)"
   ]
  },
  {
   "cell_type": "code",
   "execution_count": 113,
   "id": "847519d3-7fa6-42e1-bd78-7695b114149d",
   "metadata": {},
   "outputs": [
    {
     "name": "stderr",
     "output_type": "stream",
     "text": [
      "C:\\Users\\user\\AppData\\Local\\Programs\\Python\\Python311\\Lib\\site-packages\\sklearn\\linear_model\\_logistic.py:465: ConvergenceWarning:\n",
      "\n",
      "lbfgs failed to converge (status=1):\n",
      "STOP: TOTAL NO. OF ITERATIONS REACHED LIMIT.\n",
      "\n",
      "Increase the number of iterations (max_iter) or scale the data as shown in:\n",
      "    https://scikit-learn.org/stable/modules/preprocessing.html\n",
      "Please also refer to the documentation for alternative solver options:\n",
      "    https://scikit-learn.org/stable/modules/linear_model.html#logistic-regression\n",
      "\n"
     ]
    },
    {
     "data": {
      "text/html": [
       "<style>#sk-container-id-2 {\n",
       "  /* Definition of color scheme common for light and dark mode */\n",
       "  --sklearn-color-text: #000;\n",
       "  --sklearn-color-text-muted: #666;\n",
       "  --sklearn-color-line: gray;\n",
       "  /* Definition of color scheme for unfitted estimators */\n",
       "  --sklearn-color-unfitted-level-0: #fff5e6;\n",
       "  --sklearn-color-unfitted-level-1: #f6e4d2;\n",
       "  --sklearn-color-unfitted-level-2: #ffe0b3;\n",
       "  --sklearn-color-unfitted-level-3: chocolate;\n",
       "  /* Definition of color scheme for fitted estimators */\n",
       "  --sklearn-color-fitted-level-0: #f0f8ff;\n",
       "  --sklearn-color-fitted-level-1: #d4ebff;\n",
       "  --sklearn-color-fitted-level-2: #b3dbfd;\n",
       "  --sklearn-color-fitted-level-3: cornflowerblue;\n",
       "\n",
       "  /* Specific color for light theme */\n",
       "  --sklearn-color-text-on-default-background: var(--sg-text-color, var(--theme-code-foreground, var(--jp-content-font-color1, black)));\n",
       "  --sklearn-color-background: var(--sg-background-color, var(--theme-background, var(--jp-layout-color0, white)));\n",
       "  --sklearn-color-border-box: var(--sg-text-color, var(--theme-code-foreground, var(--jp-content-font-color1, black)));\n",
       "  --sklearn-color-icon: #696969;\n",
       "\n",
       "  @media (prefers-color-scheme: dark) {\n",
       "    /* Redefinition of color scheme for dark theme */\n",
       "    --sklearn-color-text-on-default-background: var(--sg-text-color, var(--theme-code-foreground, var(--jp-content-font-color1, white)));\n",
       "    --sklearn-color-background: var(--sg-background-color, var(--theme-background, var(--jp-layout-color0, #111)));\n",
       "    --sklearn-color-border-box: var(--sg-text-color, var(--theme-code-foreground, var(--jp-content-font-color1, white)));\n",
       "    --sklearn-color-icon: #878787;\n",
       "  }\n",
       "}\n",
       "\n",
       "#sk-container-id-2 {\n",
       "  color: var(--sklearn-color-text);\n",
       "}\n",
       "\n",
       "#sk-container-id-2 pre {\n",
       "  padding: 0;\n",
       "}\n",
       "\n",
       "#sk-container-id-2 input.sk-hidden--visually {\n",
       "  border: 0;\n",
       "  clip: rect(1px 1px 1px 1px);\n",
       "  clip: rect(1px, 1px, 1px, 1px);\n",
       "  height: 1px;\n",
       "  margin: -1px;\n",
       "  overflow: hidden;\n",
       "  padding: 0;\n",
       "  position: absolute;\n",
       "  width: 1px;\n",
       "}\n",
       "\n",
       "#sk-container-id-2 div.sk-dashed-wrapped {\n",
       "  border: 1px dashed var(--sklearn-color-line);\n",
       "  margin: 0 0.4em 0.5em 0.4em;\n",
       "  box-sizing: border-box;\n",
       "  padding-bottom: 0.4em;\n",
       "  background-color: var(--sklearn-color-background);\n",
       "}\n",
       "\n",
       "#sk-container-id-2 div.sk-container {\n",
       "  /* jupyter's `normalize.less` sets `[hidden] { display: none; }`\n",
       "     but bootstrap.min.css set `[hidden] { display: none !important; }`\n",
       "     so we also need the `!important` here to be able to override the\n",
       "     default hidden behavior on the sphinx rendered scikit-learn.org.\n",
       "     See: https://github.com/scikit-learn/scikit-learn/issues/21755 */\n",
       "  display: inline-block !important;\n",
       "  position: relative;\n",
       "}\n",
       "\n",
       "#sk-container-id-2 div.sk-text-repr-fallback {\n",
       "  display: none;\n",
       "}\n",
       "\n",
       "div.sk-parallel-item,\n",
       "div.sk-serial,\n",
       "div.sk-item {\n",
       "  /* draw centered vertical line to link estimators */\n",
       "  background-image: linear-gradient(var(--sklearn-color-text-on-default-background), var(--sklearn-color-text-on-default-background));\n",
       "  background-size: 2px 100%;\n",
       "  background-repeat: no-repeat;\n",
       "  background-position: center center;\n",
       "}\n",
       "\n",
       "/* Parallel-specific style estimator block */\n",
       "\n",
       "#sk-container-id-2 div.sk-parallel-item::after {\n",
       "  content: \"\";\n",
       "  width: 100%;\n",
       "  border-bottom: 2px solid var(--sklearn-color-text-on-default-background);\n",
       "  flex-grow: 1;\n",
       "}\n",
       "\n",
       "#sk-container-id-2 div.sk-parallel {\n",
       "  display: flex;\n",
       "  align-items: stretch;\n",
       "  justify-content: center;\n",
       "  background-color: var(--sklearn-color-background);\n",
       "  position: relative;\n",
       "}\n",
       "\n",
       "#sk-container-id-2 div.sk-parallel-item {\n",
       "  display: flex;\n",
       "  flex-direction: column;\n",
       "}\n",
       "\n",
       "#sk-container-id-2 div.sk-parallel-item:first-child::after {\n",
       "  align-self: flex-end;\n",
       "  width: 50%;\n",
       "}\n",
       "\n",
       "#sk-container-id-2 div.sk-parallel-item:last-child::after {\n",
       "  align-self: flex-start;\n",
       "  width: 50%;\n",
       "}\n",
       "\n",
       "#sk-container-id-2 div.sk-parallel-item:only-child::after {\n",
       "  width: 0;\n",
       "}\n",
       "\n",
       "/* Serial-specific style estimator block */\n",
       "\n",
       "#sk-container-id-2 div.sk-serial {\n",
       "  display: flex;\n",
       "  flex-direction: column;\n",
       "  align-items: center;\n",
       "  background-color: var(--sklearn-color-background);\n",
       "  padding-right: 1em;\n",
       "  padding-left: 1em;\n",
       "}\n",
       "\n",
       "\n",
       "/* Toggleable style: style used for estimator/Pipeline/ColumnTransformer box that is\n",
       "clickable and can be expanded/collapsed.\n",
       "- Pipeline and ColumnTransformer use this feature and define the default style\n",
       "- Estimators will overwrite some part of the style using the `sk-estimator` class\n",
       "*/\n",
       "\n",
       "/* Pipeline and ColumnTransformer style (default) */\n",
       "\n",
       "#sk-container-id-2 div.sk-toggleable {\n",
       "  /* Default theme specific background. It is overwritten whether we have a\n",
       "  specific estimator or a Pipeline/ColumnTransformer */\n",
       "  background-color: var(--sklearn-color-background);\n",
       "}\n",
       "\n",
       "/* Toggleable label */\n",
       "#sk-container-id-2 label.sk-toggleable__label {\n",
       "  cursor: pointer;\n",
       "  display: flex;\n",
       "  width: 100%;\n",
       "  margin-bottom: 0;\n",
       "  padding: 0.5em;\n",
       "  box-sizing: border-box;\n",
       "  text-align: center;\n",
       "  align-items: start;\n",
       "  justify-content: space-between;\n",
       "  gap: 0.5em;\n",
       "}\n",
       "\n",
       "#sk-container-id-2 label.sk-toggleable__label .caption {\n",
       "  font-size: 0.6rem;\n",
       "  font-weight: lighter;\n",
       "  color: var(--sklearn-color-text-muted);\n",
       "}\n",
       "\n",
       "#sk-container-id-2 label.sk-toggleable__label-arrow:before {\n",
       "  /* Arrow on the left of the label */\n",
       "  content: \"▸\";\n",
       "  float: left;\n",
       "  margin-right: 0.25em;\n",
       "  color: var(--sklearn-color-icon);\n",
       "}\n",
       "\n",
       "#sk-container-id-2 label.sk-toggleable__label-arrow:hover:before {\n",
       "  color: var(--sklearn-color-text);\n",
       "}\n",
       "\n",
       "/* Toggleable content - dropdown */\n",
       "\n",
       "#sk-container-id-2 div.sk-toggleable__content {\n",
       "  max-height: 0;\n",
       "  max-width: 0;\n",
       "  overflow: hidden;\n",
       "  text-align: left;\n",
       "  /* unfitted */\n",
       "  background-color: var(--sklearn-color-unfitted-level-0);\n",
       "}\n",
       "\n",
       "#sk-container-id-2 div.sk-toggleable__content.fitted {\n",
       "  /* fitted */\n",
       "  background-color: var(--sklearn-color-fitted-level-0);\n",
       "}\n",
       "\n",
       "#sk-container-id-2 div.sk-toggleable__content pre {\n",
       "  margin: 0.2em;\n",
       "  border-radius: 0.25em;\n",
       "  color: var(--sklearn-color-text);\n",
       "  /* unfitted */\n",
       "  background-color: var(--sklearn-color-unfitted-level-0);\n",
       "}\n",
       "\n",
       "#sk-container-id-2 div.sk-toggleable__content.fitted pre {\n",
       "  /* unfitted */\n",
       "  background-color: var(--sklearn-color-fitted-level-0);\n",
       "}\n",
       "\n",
       "#sk-container-id-2 input.sk-toggleable__control:checked~div.sk-toggleable__content {\n",
       "  /* Expand drop-down */\n",
       "  max-height: 200px;\n",
       "  max-width: 100%;\n",
       "  overflow: auto;\n",
       "}\n",
       "\n",
       "#sk-container-id-2 input.sk-toggleable__control:checked~label.sk-toggleable__label-arrow:before {\n",
       "  content: \"▾\";\n",
       "}\n",
       "\n",
       "/* Pipeline/ColumnTransformer-specific style */\n",
       "\n",
       "#sk-container-id-2 div.sk-label input.sk-toggleable__control:checked~label.sk-toggleable__label {\n",
       "  color: var(--sklearn-color-text);\n",
       "  background-color: var(--sklearn-color-unfitted-level-2);\n",
       "}\n",
       "\n",
       "#sk-container-id-2 div.sk-label.fitted input.sk-toggleable__control:checked~label.sk-toggleable__label {\n",
       "  background-color: var(--sklearn-color-fitted-level-2);\n",
       "}\n",
       "\n",
       "/* Estimator-specific style */\n",
       "\n",
       "/* Colorize estimator box */\n",
       "#sk-container-id-2 div.sk-estimator input.sk-toggleable__control:checked~label.sk-toggleable__label {\n",
       "  /* unfitted */\n",
       "  background-color: var(--sklearn-color-unfitted-level-2);\n",
       "}\n",
       "\n",
       "#sk-container-id-2 div.sk-estimator.fitted input.sk-toggleable__control:checked~label.sk-toggleable__label {\n",
       "  /* fitted */\n",
       "  background-color: var(--sklearn-color-fitted-level-2);\n",
       "}\n",
       "\n",
       "#sk-container-id-2 div.sk-label label.sk-toggleable__label,\n",
       "#sk-container-id-2 div.sk-label label {\n",
       "  /* The background is the default theme color */\n",
       "  color: var(--sklearn-color-text-on-default-background);\n",
       "}\n",
       "\n",
       "/* On hover, darken the color of the background */\n",
       "#sk-container-id-2 div.sk-label:hover label.sk-toggleable__label {\n",
       "  color: var(--sklearn-color-text);\n",
       "  background-color: var(--sklearn-color-unfitted-level-2);\n",
       "}\n",
       "\n",
       "/* Label box, darken color on hover, fitted */\n",
       "#sk-container-id-2 div.sk-label.fitted:hover label.sk-toggleable__label.fitted {\n",
       "  color: var(--sklearn-color-text);\n",
       "  background-color: var(--sklearn-color-fitted-level-2);\n",
       "}\n",
       "\n",
       "/* Estimator label */\n",
       "\n",
       "#sk-container-id-2 div.sk-label label {\n",
       "  font-family: monospace;\n",
       "  font-weight: bold;\n",
       "  display: inline-block;\n",
       "  line-height: 1.2em;\n",
       "}\n",
       "\n",
       "#sk-container-id-2 div.sk-label-container {\n",
       "  text-align: center;\n",
       "}\n",
       "\n",
       "/* Estimator-specific */\n",
       "#sk-container-id-2 div.sk-estimator {\n",
       "  font-family: monospace;\n",
       "  border: 1px dotted var(--sklearn-color-border-box);\n",
       "  border-radius: 0.25em;\n",
       "  box-sizing: border-box;\n",
       "  margin-bottom: 0.5em;\n",
       "  /* unfitted */\n",
       "  background-color: var(--sklearn-color-unfitted-level-0);\n",
       "}\n",
       "\n",
       "#sk-container-id-2 div.sk-estimator.fitted {\n",
       "  /* fitted */\n",
       "  background-color: var(--sklearn-color-fitted-level-0);\n",
       "}\n",
       "\n",
       "/* on hover */\n",
       "#sk-container-id-2 div.sk-estimator:hover {\n",
       "  /* unfitted */\n",
       "  background-color: var(--sklearn-color-unfitted-level-2);\n",
       "}\n",
       "\n",
       "#sk-container-id-2 div.sk-estimator.fitted:hover {\n",
       "  /* fitted */\n",
       "  background-color: var(--sklearn-color-fitted-level-2);\n",
       "}\n",
       "\n",
       "/* Specification for estimator info (e.g. \"i\" and \"?\") */\n",
       "\n",
       "/* Common style for \"i\" and \"?\" */\n",
       "\n",
       ".sk-estimator-doc-link,\n",
       "a:link.sk-estimator-doc-link,\n",
       "a:visited.sk-estimator-doc-link {\n",
       "  float: right;\n",
       "  font-size: smaller;\n",
       "  line-height: 1em;\n",
       "  font-family: monospace;\n",
       "  background-color: var(--sklearn-color-background);\n",
       "  border-radius: 1em;\n",
       "  height: 1em;\n",
       "  width: 1em;\n",
       "  text-decoration: none !important;\n",
       "  margin-left: 0.5em;\n",
       "  text-align: center;\n",
       "  /* unfitted */\n",
       "  border: var(--sklearn-color-unfitted-level-1) 1pt solid;\n",
       "  color: var(--sklearn-color-unfitted-level-1);\n",
       "}\n",
       "\n",
       ".sk-estimator-doc-link.fitted,\n",
       "a:link.sk-estimator-doc-link.fitted,\n",
       "a:visited.sk-estimator-doc-link.fitted {\n",
       "  /* fitted */\n",
       "  border: var(--sklearn-color-fitted-level-1) 1pt solid;\n",
       "  color: var(--sklearn-color-fitted-level-1);\n",
       "}\n",
       "\n",
       "/* On hover */\n",
       "div.sk-estimator:hover .sk-estimator-doc-link:hover,\n",
       ".sk-estimator-doc-link:hover,\n",
       "div.sk-label-container:hover .sk-estimator-doc-link:hover,\n",
       ".sk-estimator-doc-link:hover {\n",
       "  /* unfitted */\n",
       "  background-color: var(--sklearn-color-unfitted-level-3);\n",
       "  color: var(--sklearn-color-background);\n",
       "  text-decoration: none;\n",
       "}\n",
       "\n",
       "div.sk-estimator.fitted:hover .sk-estimator-doc-link.fitted:hover,\n",
       ".sk-estimator-doc-link.fitted:hover,\n",
       "div.sk-label-container:hover .sk-estimator-doc-link.fitted:hover,\n",
       ".sk-estimator-doc-link.fitted:hover {\n",
       "  /* fitted */\n",
       "  background-color: var(--sklearn-color-fitted-level-3);\n",
       "  color: var(--sklearn-color-background);\n",
       "  text-decoration: none;\n",
       "}\n",
       "\n",
       "/* Span, style for the box shown on hovering the info icon */\n",
       ".sk-estimator-doc-link span {\n",
       "  display: none;\n",
       "  z-index: 9999;\n",
       "  position: relative;\n",
       "  font-weight: normal;\n",
       "  right: .2ex;\n",
       "  padding: .5ex;\n",
       "  margin: .5ex;\n",
       "  width: min-content;\n",
       "  min-width: 20ex;\n",
       "  max-width: 50ex;\n",
       "  color: var(--sklearn-color-text);\n",
       "  box-shadow: 2pt 2pt 4pt #999;\n",
       "  /* unfitted */\n",
       "  background: var(--sklearn-color-unfitted-level-0);\n",
       "  border: .5pt solid var(--sklearn-color-unfitted-level-3);\n",
       "}\n",
       "\n",
       ".sk-estimator-doc-link.fitted span {\n",
       "  /* fitted */\n",
       "  background: var(--sklearn-color-fitted-level-0);\n",
       "  border: var(--sklearn-color-fitted-level-3);\n",
       "}\n",
       "\n",
       ".sk-estimator-doc-link:hover span {\n",
       "  display: block;\n",
       "}\n",
       "\n",
       "/* \"?\"-specific style due to the `<a>` HTML tag */\n",
       "\n",
       "#sk-container-id-2 a.estimator_doc_link {\n",
       "  float: right;\n",
       "  font-size: 1rem;\n",
       "  line-height: 1em;\n",
       "  font-family: monospace;\n",
       "  background-color: var(--sklearn-color-background);\n",
       "  border-radius: 1rem;\n",
       "  height: 1rem;\n",
       "  width: 1rem;\n",
       "  text-decoration: none;\n",
       "  /* unfitted */\n",
       "  color: var(--sklearn-color-unfitted-level-1);\n",
       "  border: var(--sklearn-color-unfitted-level-1) 1pt solid;\n",
       "}\n",
       "\n",
       "#sk-container-id-2 a.estimator_doc_link.fitted {\n",
       "  /* fitted */\n",
       "  border: var(--sklearn-color-fitted-level-1) 1pt solid;\n",
       "  color: var(--sklearn-color-fitted-level-1);\n",
       "}\n",
       "\n",
       "/* On hover */\n",
       "#sk-container-id-2 a.estimator_doc_link:hover {\n",
       "  /* unfitted */\n",
       "  background-color: var(--sklearn-color-unfitted-level-3);\n",
       "  color: var(--sklearn-color-background);\n",
       "  text-decoration: none;\n",
       "}\n",
       "\n",
       "#sk-container-id-2 a.estimator_doc_link.fitted:hover {\n",
       "  /* fitted */\n",
       "  background-color: var(--sklearn-color-fitted-level-3);\n",
       "}\n",
       "</style><div id=\"sk-container-id-2\" class=\"sk-top-container\"><div class=\"sk-text-repr-fallback\"><pre>LogisticRegression()</pre><b>In a Jupyter environment, please rerun this cell to show the HTML representation or trust the notebook. <br />On GitHub, the HTML representation is unable to render, please try loading this page with nbviewer.org.</b></div><div class=\"sk-container\" hidden><div class=\"sk-item\"><div class=\"sk-estimator fitted sk-toggleable\"><input class=\"sk-toggleable__control sk-hidden--visually\" id=\"sk-estimator-id-2\" type=\"checkbox\" checked><label for=\"sk-estimator-id-2\" class=\"sk-toggleable__label fitted sk-toggleable__label-arrow\"><div><div>LogisticRegression</div></div><div><a class=\"sk-estimator-doc-link fitted\" rel=\"noreferrer\" target=\"_blank\" href=\"https://scikit-learn.org/1.6/modules/generated/sklearn.linear_model.LogisticRegression.html\">?<span>Documentation for LogisticRegression</span></a><span class=\"sk-estimator-doc-link fitted\">i<span>Fitted</span></span></div></label><div class=\"sk-toggleable__content fitted\"><pre>LogisticRegression()</pre></div> </div></div></div></div>"
      ],
      "text/plain": [
       "LogisticRegression()"
      ]
     },
     "execution_count": 113,
     "metadata": {},
     "output_type": "execute_result"
    }
   ],
   "source": [
    "X_train = pd.get_dummies(X_train) \n",
    "X_test = pd.get_dummies(X_test)  \n",
    "\n",
    "model = LogisticRegression()\n",
    "model.fit(X_train, Y_train)\n"
   ]
  },
  {
   "cell_type": "code",
   "execution_count": 114,
   "id": "500fde98-0ae4-447e-81eb-2dc3b3f9bda7",
   "metadata": {},
   "outputs": [],
   "source": [
    "X_test = np.array(X_test)"
   ]
  },
  {
   "cell_type": "code",
   "execution_count": 123,
   "id": "e5fc4fd0-271d-4e28-9b24-b028b52488ca",
   "metadata": {},
   "outputs": [
    {
     "data": {
      "text/plain": [
       "array([1, 0, 0, ..., 0, 0, 0], shape=(5290,))"
      ]
     },
     "execution_count": 123,
     "metadata": {},
     "output_type": "execute_result"
    }
   ],
   "source": [
    "#model prediction\n",
    "model.predict(X_train) "
   ]
  },
  {
   "cell_type": "code",
   "execution_count": null,
   "id": "bad00c48-1499-4489-b4f5-76aed9fd83cd",
   "metadata": {},
   "outputs": [],
   "source": []
  },
  {
   "cell_type": "code",
   "execution_count": null,
   "id": "ebdbcd77-509f-4b0f-ae1d-b4e49ad0ea91",
   "metadata": {},
   "outputs": [],
   "source": []
  }
 ],
 "metadata": {
  "kernelspec": {
   "display_name": "Python 3 (ipykernel)",
   "language": "python",
   "name": "python3"
  },
  "language_info": {
   "codemirror_mode": {
    "name": "ipython",
    "version": 3
   },
   "file_extension": ".py",
   "mimetype": "text/x-python",
   "name": "python",
   "nbconvert_exporter": "python",
   "pygments_lexer": "ipython3",
   "version": "3.11.4"
  },
  "widgets": {
   "application/vnd.jupyter.widget-state+json": {
    "state": {},
    "version_major": 2,
    "version_minor": 0
   }
  }
 },
 "nbformat": 4,
 "nbformat_minor": 5
}
